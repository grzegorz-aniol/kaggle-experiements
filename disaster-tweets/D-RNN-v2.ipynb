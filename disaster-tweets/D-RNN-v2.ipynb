{
 "cells": [
  {
   "cell_type": "markdown",
   "metadata": {},
   "source": [
    "# Tweets sentiment analysis with RNN"
   ]
  },
  {
   "cell_type": "markdown",
   "metadata": {},
   "source": [
    "Multi input architecture:\n",
    "1) keyword embedding\n",
    "2) tweet cleaned text embedding + RNN + dense layer\n"
   ]
  },
  {
   "cell_type": "code",
   "execution_count": 199,
   "metadata": {},
   "outputs": [],
   "source": [
    "import numpy as np\n",
    "import tensorflow as tf\n",
    "import pandas as pd\n",
    "from sklearn.metrics import confusion_matrix, accuracy_score, precision_score, recall_score, f1_score\n",
    "from sklearn.model_selection import train_test_split\n",
    "import matplotlib.pyplot as plt\n",
    "import seaborn as sns\n",
    "FILE_ID='D-RNN-v2'"
   ]
  },
  {
   "cell_type": "code",
   "execution_count": 200,
   "metadata": {},
   "outputs": [
    {
     "name": "stdout",
     "output_type": "stream",
     "text": [
      "(6851,) (6851,) (6851,) (762,) (762,) (762,)\n"
     ]
    },
    {
     "data": {
      "text/plain": [
       "array(['rip the world its burning',\n",
       "       'strengthening partnerships afterhaiyan haiyan yolandaph philippines livelihood disasterrecovery disaster',\n",
       "       'dudes will thoroughly express how stupid black ppl r for burning buildings in response to brutality but nvr mention them being mistreated'],\n",
       "      dtype=object)"
      ]
     },
     "execution_count": 200,
     "metadata": {},
     "output_type": "execute_result"
    }
   ],
   "source": [
    "df = pd.read_csv('./train_enriched.csv')\n",
    "X = df['clean_text'].fillna('').to_numpy()\n",
    "Y = df['target'].to_numpy()\n",
    "X2 = df['keyword'].fillna('').to_numpy()\n",
    "\n",
    "# df_train = pd.read_csv('./train-dataset.csv')\n",
    "# df_dev = pd.read_csv('./dev-dataset.csv')\n",
    "\n",
    "X_train, X_dev, Y_train, Y_dev, X2_train, X2_dev = train_test_split(X, Y, X2, test_size=0.1, shuffle=True)\n",
    "# X_train = df_train['text'].to_numpy()\n",
    "# Y_train = df_train['target'].to_numpy()\n",
    "# X_dev = df_dev['text'].to_numpy()\n",
    "# Y_dev = df_dev['target'].to_numpy()\n",
    "\n",
    "print(X_train.shape, X2_train.shape, Y_train.shape, X_dev.shape, X2_dev.shape, Y_dev.shape)\n",
    "X_train[:3]"
   ]
  },
  {
   "cell_type": "code",
   "execution_count": 201,
   "metadata": {},
   "outputs": [],
   "source": [
    "VOCABULARY_SIZE = 10000\n",
    "MAX_SEQ_LEN = 100\n",
    "EMBEDDING_DIM = 1024\n",
    "LSTM_HIDDEN_STATES = 8\n",
    "DENSE_HIDDEN_STATES = 32"
   ]
  },
  {
   "cell_type": "code",
   "execution_count": 202,
   "metadata": {},
   "outputs": [],
   "source": [
    "encoder = tf.keras.layers.TextVectorization(max_tokens=VOCABULARY_SIZE, output_sequence_length=MAX_SEQ_LEN)\n",
    "encoder.adapt(X_train)\n",
    "\n",
    "keyword_encoder = tf.keras.layers.TextVectorization(max_tokens=1000, output_sequence_length=2)\n",
    "keyword_encoder.adapt(X2_train)"
   ]
  },
  {
   "cell_type": "code",
   "execution_count": 203,
   "metadata": {},
   "outputs": [
    {
     "name": "stdout",
     "output_type": "stream",
     "text": [
      "Vocabulary size: 10000\n"
     ]
    }
   ],
   "source": [
    "vocabulary = encoder.get_vocabulary()\n",
    "print('Vocabulary size:', VOCABULARY_SIZE)"
   ]
  },
  {
   "cell_type": "code",
   "execution_count": 204,
   "metadata": {},
   "outputs": [
    {
     "name": "stdout",
     "output_type": "stream",
     "text": [
      "Example: top insurer blasts lack of australian govt action on disaster mitigation via\n",
      "Decoded: top insurer blasts lack of australian govt action on disaster mitigation via                                                                                        \n"
     ]
    }
   ],
   "source": [
    "example = X_train[11]\n",
    "encoded = encoder(example)\n",
    "print('Example:', example)\n",
    "words = [vocabulary[e] for e in encoded]\n",
    "decoded = ' '.join(words)\n",
    "print('Decoded:', decoded)\n"
   ]
  },
  {
   "cell_type": "code",
   "execution_count": 205,
   "metadata": {},
   "outputs": [
    {
     "name": "stdout",
     "output_type": "stream",
     "text": [
      "embedded_1 (None, 100, 1024)\n",
      "keyword_vocabulary_size 223\n",
      "embedded_2 (None, 2, 16)\n",
      "dropout_1 (None, 16)\n",
      "flat_embedded_2 (None, 32)\n",
      "concat (None, 48)\n"
     ]
    }
   ],
   "source": [
    "def get_1_RNN_model(X, X2, Y):    \n",
    "    input_1 = tf.keras.layers.Input(shape=(1,), dtype=tf.string)\n",
    "    encoded_layer = encoder(input_1)\n",
    "    embedded_1 = tf.keras.layers.Embedding(input_dim=VOCABULARY_SIZE+1, output_dim=EMBEDDING_DIM, mask_zero=True)(encoded_layer)\n",
    "    print('embedded_1',embedded_1.shape)\n",
    "    bidirectional_1 = tf.keras.layers.Bidirectional(tf.keras.layers.LSTM(LSTM_HIDDEN_STATES))(embedded_1)\n",
    "    dropout_1 = tf.keras.layers.Dropout(0.5)(bidirectional_1)\n",
    "\n",
    "    keyword_vocabulary_size = len(keyword_encoder.get_vocabulary())\n",
    "    print('keyword_vocabulary_size',keyword_vocabulary_size)\n",
    "    input_2 = tf.keras.layers.Input(shape=(1,), dtype=tf.string)\n",
    "    encoded_layer_2 = keyword_encoder(input_2)\n",
    "    embedded_2 = tf.keras.layers.Embedding(input_dim=keyword_vocabulary_size+1, output_dim=16, mask_zero=True)(encoded_layer_2)\n",
    "    print('embedded_2', embedded_2.shape)\n",
    "    flat_embedded_2 = tf.keras.layers.Flatten()(embedded_2)\n",
    "\n",
    "    print('dropout_1', dropout_1.shape)\n",
    "    print('flat_embedded_2', flat_embedded_2.shape)\n",
    "    concat = tf.keras.layers.Concatenate()([dropout_1, flat_embedded_2])\n",
    "    print('concat', concat.shape)\n",
    "    dense_1 = tf.keras.layers.Dense(DENSE_HIDDEN_STATES, activation='relu')(concat)\n",
    "    dropout_2 = tf.keras.layers.Dropout(0.5)(dense_1)\n",
    "    dense_2 = tf.keras.layers.Dense(1, activation='sigmoid')(dropout_2)\n",
    "    return tf.keras.Model(inputs=[input_1, input_2], outputs=[dense_2])\n",
    "\n",
    "\n",
    "model = get_1_RNN_model(X_train, X2_train, Y_train)\n",
    "optimizer = tf.keras.optimizers.Adam(learning_rate=1e-3)\n",
    "model.compile(optimizer=optimizer, loss='binary_crossentropy', metrics=['accuracy'])\n"
   ]
  },
  {
   "cell_type": "code",
   "execution_count": 206,
   "metadata": {},
   "outputs": [
    {
     "name": "stdout",
     "output_type": "stream",
     "text": [
      "Model: \"model_12\"\n",
      "__________________________________________________________________________________________________\n",
      " Layer (type)                   Output Shape         Param #     Connected to                     \n",
      "==================================================================================================\n",
      " input_68 (InputLayer)          [(None, 1)]          0           []                               \n",
      "                                                                                                  \n",
      " text_vectorization_22 (TextVec  (None, 100)         0           ['input_68[0][0]']               \n",
      " torization)                                                                                      \n",
      "                                                                                                  \n",
      " input_69 (InputLayer)          [(None, 1)]          0           []                               \n",
      "                                                                                                  \n",
      " embedding_59 (Embedding)       (None, 100, 1024)    10241024    ['text_vectorization_22[0][0]']  \n",
      "                                                                                                  \n",
      " text_vectorization_23 (TextVec  (None, 2)           0           ['input_69[0][0]']               \n",
      " torization)                                                                                      \n",
      "                                                                                                  \n",
      " bidirectional_30 (Bidirectiona  (None, 16)          66112       ['embedding_59[0][0]']           \n",
      " l)                                                                                               \n",
      "                                                                                                  \n",
      " embedding_60 (Embedding)       (None, 2, 16)        3584        ['text_vectorization_23[0][0]']  \n",
      "                                                                                                  \n",
      " dropout_41 (Dropout)           (None, 16)           0           ['bidirectional_30[0][0]']       \n",
      "                                                                                                  \n",
      " flatten_25 (Flatten)           (None, 32)           0           ['embedding_60[0][0]']           \n",
      "                                                                                                  \n",
      " concatenate_26 (Concatenate)   (None, 48)           0           ['dropout_41[0][0]',             \n",
      "                                                                  'flatten_25[0][0]']             \n",
      "                                                                                                  \n",
      " dense_37 (Dense)               (None, 32)           1568        ['concatenate_26[0][0]']         \n",
      "                                                                                                  \n",
      " dropout_42 (Dropout)           (None, 32)           0           ['dense_37[0][0]']               \n",
      "                                                                                                  \n",
      " dense_38 (Dense)               (None, 1)            33          ['dropout_42[0][0]']             \n",
      "                                                                                                  \n",
      "==================================================================================================\n",
      "Total params: 10,312,321\n",
      "Trainable params: 10,312,321\n",
      "Non-trainable params: 0\n",
      "__________________________________________________________________________________________________\n",
      "None\n"
     ]
    }
   ],
   "source": [
    "print(model.summary())"
   ]
  },
  {
   "cell_type": "code",
   "execution_count": 207,
   "metadata": {},
   "outputs": [
    {
     "name": "stdout",
     "output_type": "stream",
     "text": [
      "Epoch 1/3\n"
     ]
    },
    {
     "name": "stderr",
     "output_type": "stream",
     "text": [
      "2024-05-01 22:07:37.521292: I tensorflow/core/common_runtime/executor.cc:1197] [/device:CPU:0] (DEBUG INFO) Executor start aborting (this does not indicate an error and you can ignore this message): INVALID_ARGUMENT: You must feed a value for placeholder tensor 'gradients/ReverseV2_grad/ReverseV2/ReverseV2/axis' with dtype int32 and shape [1]\n",
      "\t [[{{node gradients/ReverseV2_grad/ReverseV2/ReverseV2/axis}}]]\n",
      "2024-05-01 22:07:39.102864: I tensorflow/core/common_runtime/executor.cc:1197] [/device:CPU:0] (DEBUG INFO) Executor start aborting (this does not indicate an error and you can ignore this message): INVALID_ARGUMENT: You must feed a value for placeholder tensor 'gradients/ReverseV2_grad/ReverseV2/ReverseV2/axis' with dtype int32 and shape [1]\n",
      "\t [[{{node gradients/ReverseV2_grad/ReverseV2/ReverseV2/axis}}]]\n"
     ]
    },
    {
     "name": "stdout",
     "output_type": "stream",
     "text": [
      "215/215 [==============================] - ETA: 0s - loss: 0.5632 - accuracy: 0.7233\n",
      "Epoch 1: val_loss improved from inf to 0.45314, saving model to D-RNN-v2-best_model\n",
      "215/215 [==============================] - 29s 118ms/step - loss: 0.5632 - accuracy: 0.7233 - val_loss: 0.4531 - val_accuracy: 0.7940\n",
      "Epoch 2/3\n",
      "215/215 [==============================] - ETA: 0s - loss: 0.3647 - accuracy: 0.8647\n",
      "Epoch 2: val_loss did not improve from 0.45314\n",
      "215/215 [==============================] - 23s 107ms/step - loss: 0.3647 - accuracy: 0.8647 - val_loss: 0.4595 - val_accuracy: 0.7966\n",
      "Epoch 3/3\n",
      "215/215 [==============================] - ETA: 0s - loss: 0.2355 - accuracy: 0.9180\n",
      "Epoch 3: val_loss did not improve from 0.45314\n",
      "215/215 [==============================] - 24s 111ms/step - loss: 0.2355 - accuracy: 0.9180 - val_loss: 0.5647 - val_accuracy: 0.7874\n"
     ]
    },
    {
     "data": {
      "text/plain": [
       "<keras.callbacks.History at 0x7f06f718be10>"
      ]
     },
     "execution_count": 207,
     "metadata": {},
     "output_type": "execute_result"
    }
   ],
   "source": [
    "checkpoint_path = f\"{FILE_ID}-best_model\"  # Path where the model will be saved\n",
    "checkpoint = tf.keras.callbacks.ModelCheckpoint(checkpoint_path, monitor='val_loss', verbose=1, save_best_only=True, \n",
    "                                                mode='min', save_weights_only=True)\n",
    "\n",
    "model.fit([X_train, X2_train], Y_train, validation_data=((X_dev, X2_dev), Y_dev), epochs=3, callbacks=[checkpoint])"
   ]
  },
  {
   "cell_type": "code",
   "execution_count": 208,
   "metadata": {},
   "outputs": [
    {
     "name": "stdout",
     "output_type": "stream",
     "text": [
      "24/24 [==============================] - 2s 13ms/step\n"
     ]
    }
   ],
   "source": [
    "model.load_weights(checkpoint_path)\n",
    "Y_dev_pred = model.predict([X_dev, X2_dev])"
   ]
  },
  {
   "cell_type": "code",
   "execution_count": 209,
   "metadata": {},
   "outputs": [],
   "source": [
    "Y_dev_pred = (Y_dev_pred > .5).astype(np.int8)\n"
   ]
  },
  {
   "cell_type": "code",
   "execution_count": 210,
   "metadata": {},
   "outputs": [
    {
     "data": {
      "text/plain": [
       "'ok severe thunderstorm warning issued august at 829pm cdt until august at 915pm cdt by nws okwx'"
      ]
     },
     "execution_count": 210,
     "metadata": {},
     "output_type": "execute_result"
    }
   ],
   "source": [
    "X_dev[0]"
   ]
  },
  {
   "cell_type": "code",
   "execution_count": 211,
   "metadata": {},
   "outputs": [
    {
     "name": "stdout",
     "output_type": "stream",
     "text": [
      "[UNK] [UNK] [UNK] [UNK] in [UNK] several persons were [UNK] injured on wednesday when men o rt                                                                                   \n",
      "ogun smugglers engage customs in shootout several persons were allegedly injured on wednesday when men o rt\n"
     ]
    },
    {
     "data": {
      "text/html": [
       "<div>\n",
       "<style scoped>\n",
       "    .dataframe tbody tr th:only-of-type {\n",
       "        vertical-align: middle;\n",
       "    }\n",
       "\n",
       "    .dataframe tbody tr th {\n",
       "        vertical-align: top;\n",
       "    }\n",
       "\n",
       "    .dataframe thead th {\n",
       "        text-align: right;\n",
       "    }\n",
       "</style>\n",
       "<table border=\"1\" class=\"dataframe\">\n",
       "  <thead>\n",
       "    <tr style=\"text-align: right;\">\n",
       "      <th></th>\n",
       "      <th>0</th>\n",
       "      <th>y</th>\n",
       "      <th>yp</th>\n",
       "      <th>decoded</th>\n",
       "    </tr>\n",
       "  </thead>\n",
       "  <tbody>\n",
       "    <tr>\n",
       "      <th>0</th>\n",
       "      <td>ok severe thunderstorm warning issued august at 829pm cdt until august at 915pm cdt by nws okwx</td>\n",
       "      <td>1</td>\n",
       "      <td>1</td>\n",
       "      <td>ok severe thunderstorm warning issued august at [UNK] cdt until august at [UNK] cdt by nws okwx</td>\n",
       "    </tr>\n",
       "    <tr>\n",
       "      <th>1</th>\n",
       "      <td>ogun smugglers engage customs in shootout several persons were allegedly injured on wednesday when men o rt</td>\n",
       "      <td>1</td>\n",
       "      <td>1</td>\n",
       "      <td>[UNK] [UNK] [UNK] [UNK] in [UNK] several persons were [UNK] injured on wednesday when men o rt</td>\n",
       "    </tr>\n",
       "    <tr>\n",
       "      <th>2</th>\n",
       "      <td>sb57 new deepwater horizon oil spill distribution of funds from bp settlement road and bridge projects in bal</td>\n",
       "      <td>1</td>\n",
       "      <td>1</td>\n",
       "      <td>[UNK] new [UNK] [UNK] oil spill [UNK] of funds from bp settlement road and bridge projects in [UNK]</td>\n",
       "    </tr>\n",
       "    <tr>\n",
       "      <th>3</th>\n",
       "      <td>heat wave is relentless 91f feels like humidity relentless drought too now dominicana i know is worse in other places</td>\n",
       "      <td>1</td>\n",
       "      <td>1</td>\n",
       "      <td>heat wave is [UNK] [UNK] feels like humidity [UNK] drought too now [UNK] i know is worse in other places</td>\n",
       "    </tr>\n",
       "    <tr>\n",
       "      <th>4</th>\n",
       "      <td>i should bloody hope so she said folding her arms sitting back in her chair</td>\n",
       "      <td>0</td>\n",
       "      <td>0</td>\n",
       "      <td>i should bloody hope so she said [UNK] her arms sitting back in her [UNK]</td>\n",
       "    </tr>\n",
       "    <tr>\n",
       "      <th>...</th>\n",
       "      <td>...</td>\n",
       "      <td>...</td>\n",
       "      <td>...</td>\n",
       "      <td>...</td>\n",
       "    </tr>\n",
       "    <tr>\n",
       "      <th>757</th>\n",
       "      <td>it wouldnt turn into a sandstorm if riot gave a good answer instead they gave dumb excuses at least new client is there</td>\n",
       "      <td>0</td>\n",
       "      <td>0</td>\n",
       "      <td>it wouldnt turn into a sandstorm if riot gave a good answer instead they gave [UNK] [UNK] at least new client is there</td>\n",
       "    </tr>\n",
       "    <tr>\n",
       "      <th>758</th>\n",
       "      <td>marquei como visto game of thrones 3x5 kissed by fire bancodeseries</td>\n",
       "      <td>0</td>\n",
       "      <td>0</td>\n",
       "      <td>marquei [UNK] visto game of thrones [UNK] [UNK] by fire [UNK]</td>\n",
       "    </tr>\n",
       "    <tr>\n",
       "      <th>759</th>\n",
       "      <td>crash test trailer paul scheer amp rob huebels comedy special recorded on a</td>\n",
       "      <td>0</td>\n",
       "      <td>0</td>\n",
       "      <td>crash test trailer paul [UNK] amp rob [UNK] comedy special recorded on a</td>\n",
       "    </tr>\n",
       "    <tr>\n",
       "      <th>760</th>\n",
       "      <td>italy three dead after landslide in the italian alps via</td>\n",
       "      <td>1</td>\n",
       "      <td>1</td>\n",
       "      <td>italy three dead after landslide in the italian alps via</td>\n",
       "    </tr>\n",
       "    <tr>\n",
       "      <th>761</th>\n",
       "      <td>i liked a video homeless dog living in a cardboard box gets rescued amp has a heartwarming</td>\n",
       "      <td>0</td>\n",
       "      <td>0</td>\n",
       "      <td>i liked a video homeless dog living in a [UNK] box gets rescued amp has a [UNK]</td>\n",
       "    </tr>\n",
       "  </tbody>\n",
       "</table>\n",
       "<p>762 rows × 4 columns</p>\n",
       "</div>"
      ],
      "text/plain": [
       "                                                                                                                           0  \\\n",
       "0                            ok severe thunderstorm warning issued august at 829pm cdt until august at 915pm cdt by nws okwx   \n",
       "1                ogun smugglers engage customs in shootout several persons were allegedly injured on wednesday when men o rt   \n",
       "2              sb57 new deepwater horizon oil spill distribution of funds from bp settlement road and bridge projects in bal   \n",
       "3      heat wave is relentless 91f feels like humidity relentless drought too now dominicana i know is worse in other places   \n",
       "4                                                i should bloody hope so she said folding her arms sitting back in her chair   \n",
       "..                                                                                                                       ...   \n",
       "757  it wouldnt turn into a sandstorm if riot gave a good answer instead they gave dumb excuses at least new client is there   \n",
       "758                                                      marquei como visto game of thrones 3x5 kissed by fire bancodeseries   \n",
       "759                                              crash test trailer paul scheer amp rob huebels comedy special recorded on a   \n",
       "760                                                                 italy three dead after landslide in the italian alps via   \n",
       "761                               i liked a video homeless dog living in a cardboard box gets rescued amp has a heartwarming   \n",
       "\n",
       "     y  yp  \\\n",
       "0    1   1   \n",
       "1    1   1   \n",
       "2    1   1   \n",
       "3    1   1   \n",
       "4    0   0   \n",
       "..  ..  ..   \n",
       "757  0   0   \n",
       "758  0   0   \n",
       "759  0   0   \n",
       "760  1   1   \n",
       "761  0   0   \n",
       "\n",
       "                                                                                                                                                                                decoded  \n",
       "0    ok severe thunderstorm warning issued august at [UNK] cdt until august at [UNK] cdt by nws okwx                                                                                     \n",
       "1     [UNK] [UNK] [UNK] [UNK] in [UNK] several persons were [UNK] injured on wednesday when men o rt                                                                                     \n",
       "2    [UNK] new [UNK] [UNK] oil spill [UNK] of funds from bp settlement road and bridge projects in [UNK]                                                                                 \n",
       "3    heat wave is [UNK] [UNK] feels like humidity [UNK] drought too now [UNK] i know is worse in other places                                                                            \n",
       "4                        i should bloody hope so she said [UNK] her arms sitting back in her [UNK]                                                                                       \n",
       "..                                                                                                                                                                                  ...  \n",
       "757  it wouldnt turn into a sandstorm if riot gave a good answer instead they gave [UNK] [UNK] at least new client is there                                                              \n",
       "758                              marquei [UNK] visto game of thrones [UNK] [UNK] by fire [UNK]                                                                                           \n",
       "759                     crash test trailer paul [UNK] amp rob [UNK] comedy special recorded on a                                                                                         \n",
       "760                                  italy three dead after landslide in the italian alps via                                                                                            \n",
       "761                  i liked a video homeless dog living in a [UNK] box gets rescued amp has a [UNK]                                                                                     \n",
       "\n",
       "[762 rows x 4 columns]"
      ]
     },
     "execution_count": 211,
     "metadata": {},
     "output_type": "execute_result"
    }
   ],
   "source": [
    "result = pd.DataFrame(X_dev)\n",
    "result['y'] = Y_dev\n",
    "result['yp'] = Y_dev_pred\n",
    "\n",
    "f_encode = lambda it: encoder(it)\n",
    "f_embedd = lambda it: ' '.join([vocabulary[e] for e in it])\n",
    "\n",
    "encoded = f_encode(X_dev)\n",
    "decoded = np.apply_along_axis(f_embedd, axis=1, arr=encoded)\n",
    "print(decoded[1])\n",
    "print(X_dev[1])\n",
    "\n",
    "result['decoded'] = decoded\n",
    "result"
   ]
  },
  {
   "cell_type": "code",
   "execution_count": 212,
   "metadata": {},
   "outputs": [
    {
     "data": {
      "text/html": [
       "<div>\n",
       "<style scoped>\n",
       "    .dataframe tbody tr th:only-of-type {\n",
       "        vertical-align: middle;\n",
       "    }\n",
       "\n",
       "    .dataframe tbody tr th {\n",
       "        vertical-align: top;\n",
       "    }\n",
       "\n",
       "    .dataframe thead th {\n",
       "        text-align: right;\n",
       "    }\n",
       "</style>\n",
       "<table border=\"1\" class=\"dataframe\">\n",
       "  <thead>\n",
       "    <tr style=\"text-align: right;\">\n",
       "      <th></th>\n",
       "      <th>0</th>\n",
       "      <th>y</th>\n",
       "      <th>yp</th>\n",
       "      <th>decoded</th>\n",
       "    </tr>\n",
       "  </thead>\n",
       "  <tbody>\n",
       "    <tr>\n",
       "      <th>297</th>\n",
       "      <td>ignition knock detonation sensorsenso standard ks94</td>\n",
       "      <td>1</td>\n",
       "      <td>0</td>\n",
       "      <td>ignition knock detonation sensorsenso standard [UNK]</td>\n",
       "    </tr>\n",
       "    <tr>\n",
       "      <th>682</th>\n",
       "      <td>i love gal deco to death even if its a bit trickier to be great with glad more weapons are getting splash wall</td>\n",
       "      <td>1</td>\n",
       "      <td>0</td>\n",
       "      <td>i love [UNK] [UNK] to death even if its a bit [UNK] to be great with glad more weapons are getting [UNK] wall</td>\n",
       "    </tr>\n",
       "    <tr>\n",
       "      <th>404</th>\n",
       "      <td>cascada evacuate the dancefloor official video via</td>\n",
       "      <td>0</td>\n",
       "      <td>1</td>\n",
       "      <td>[UNK] evacuate the [UNK] official video via</td>\n",
       "    </tr>\n",
       "    <tr>\n",
       "      <th>693</th>\n",
       "      <td>i was peacefully sitting in my room and i heard this loud bang of something falling</td>\n",
       "      <td>1</td>\n",
       "      <td>0</td>\n",
       "      <td>i was peacefully sitting in my room and i heard this loud bang of something falling</td>\n",
       "    </tr>\n",
       "    <tr>\n",
       "      <th>650</th>\n",
       "      <td>truth news bbc cnn islam truth god isis terrorism quran lies</td>\n",
       "      <td>0</td>\n",
       "      <td>1</td>\n",
       "      <td>truth news bbc cnn islam truth god isis terrorism quran lies</td>\n",
       "    </tr>\n",
       "    <tr>\n",
       "      <th>247</th>\n",
       "      <td>even staying up all night to he barrier for tp and then having to run through a dust storm and almost passing out</td>\n",
       "      <td>1</td>\n",
       "      <td>0</td>\n",
       "      <td>even [UNK] up all night to he [UNK] for [UNK] and then having to run through a dust storm and almost passing out</td>\n",
       "    </tr>\n",
       "    <tr>\n",
       "      <th>730</th>\n",
       "      <td>the fake of nanking massacre4 eyewitnesses english obama clinton bush gop abc cbs bbc cnn wsj wpo</td>\n",
       "      <td>1</td>\n",
       "      <td>0</td>\n",
       "      <td>the fake of [UNK] [UNK] [UNK] english obama clinton bush gop abc [UNK] bbc cnn [UNK] [UNK]</td>\n",
       "    </tr>\n",
       "    <tr>\n",
       "      <th>231</th>\n",
       "      <td>dont get on i77 south huge wreck and airlift and maybe some deaths interstate is completely blocked</td>\n",
       "      <td>1</td>\n",
       "      <td>0</td>\n",
       "      <td>dont get on i77 south huge wreck and [UNK] and maybe some deaths [UNK] is completely blocked</td>\n",
       "    </tr>\n",
       "    <tr>\n",
       "      <th>550</th>\n",
       "      <td>so you have a new weapon that can cause unimaginable destruction</td>\n",
       "      <td>1</td>\n",
       "      <td>0</td>\n",
       "      <td>so you have a new weapon that can cause [UNK] destruction</td>\n",
       "    </tr>\n",
       "    <tr>\n",
       "      <th>551</th>\n",
       "      <td>you happen to conveniently forget about how you zionists revere and honour mass murderer baruch goldstein</td>\n",
       "      <td>1</td>\n",
       "      <td>0</td>\n",
       "      <td>you happen to [UNK] forget about how you [UNK] [UNK] and [UNK] mass murderer [UNK] [UNK]</td>\n",
       "    </tr>\n",
       "  </tbody>\n",
       "</table>\n",
       "</div>"
      ],
      "text/plain": [
       "                                                                                                                     0  \\\n",
       "297                                                                ignition knock detonation sensorsenso standard ks94   \n",
       "682     i love gal deco to death even if its a bit trickier to be great with glad more weapons are getting splash wall   \n",
       "404                                                                 cascada evacuate the dancefloor official video via   \n",
       "693                                i was peacefully sitting in my room and i heard this loud bang of something falling   \n",
       "650                                                       truth news bbc cnn islam truth god isis terrorism quran lies   \n",
       "247  even staying up all night to he barrier for tp and then having to run through a dust storm and almost passing out   \n",
       "730                  the fake of nanking massacre4 eyewitnesses english obama clinton bush gop abc cbs bbc cnn wsj wpo   \n",
       "231                dont get on i77 south huge wreck and airlift and maybe some deaths interstate is completely blocked   \n",
       "550                                                   so you have a new weapon that can cause unimaginable destruction   \n",
       "551          you happen to conveniently forget about how you zionists revere and honour mass murderer baruch goldstein   \n",
       "\n",
       "     y  yp  \\\n",
       "297  1   0   \n",
       "682  1   0   \n",
       "404  0   1   \n",
       "693  1   0   \n",
       "650  0   1   \n",
       "247  1   0   \n",
       "730  1   0   \n",
       "231  1   0   \n",
       "550  1   0   \n",
       "551  1   0   \n",
       "\n",
       "                                                                                                                                                                                decoded  \n",
       "297                                  ignition knock detonation sensorsenso standard [UNK]                                                                                                \n",
       "682  i love [UNK] [UNK] to death even if its a bit [UNK] to be great with glad more weapons are getting [UNK] wall                                                                       \n",
       "404                                            [UNK] evacuate the [UNK] official video via                                                                                               \n",
       "693             i was peacefully sitting in my room and i heard this loud bang of something falling                                                                                      \n",
       "650                               truth news bbc cnn islam truth god isis terrorism quran lies                                                                                           \n",
       "247  even [UNK] up all night to he [UNK] for [UNK] and then having to run through a dust storm and almost passing out                                                                    \n",
       "730       the fake of [UNK] [UNK] [UNK] english obama clinton bush gop abc [UNK] bbc cnn [UNK] [UNK]                                                                                     \n",
       "231     dont get on i77 south huge wreck and [UNK] and maybe some deaths [UNK] is completely blocked                                                                                     \n",
       "550                                  so you have a new weapon that can cause [UNK] destruction                                                                                           \n",
       "551        you happen to [UNK] forget about how you [UNK] [UNK] and [UNK] mass murderer [UNK] [UNK]                                                                                      "
      ]
     },
     "execution_count": 212,
     "metadata": {},
     "output_type": "execute_result"
    }
   ],
   "source": [
    "pd.set_option('display.max_colwidth', None)\n",
    "result.query('y != yp').sample(n=10)"
   ]
  },
  {
   "cell_type": "code",
   "execution_count": 213,
   "metadata": {},
   "outputs": [
    {
     "name": "stdout",
     "output_type": "stream",
     "text": [
      "Accuracy: 0.7939632545931758\n",
      "Precision: 0.7993618749274858\n",
      "Recall: 0.7741160972293047\n",
      "F1 Score: 0.7804570554004877\n"
     ]
    },
    {
     "data": {
      "image/png": "[encoded data removed]",
      "text/plain": [
       "<Figure size 600x400 with 2 Axes>"
      ]
     },
     "metadata": {},
     "output_type": "display_data"
    }
   ],
   "source": [
    "# Compute the confusion matrix\n",
    "cm = confusion_matrix(Y_dev, Y_dev_pred)\n",
    "\n",
    "# Compute other metrics\n",
    "accuracy = accuracy_score(Y_dev, Y_dev_pred)\n",
    "precision = precision_score(Y_dev, Y_dev_pred, average='macro')\n",
    "recall = recall_score(Y_dev, Y_dev_pred, average='macro')\n",
    "f1 = f1_score(Y_dev, Y_dev_pred, average='macro')\n",
    "\n",
    "# Print the metrics\n",
    "print(f\"Accuracy: {accuracy}\")\n",
    "print(f\"Precision: {precision}\")\n",
    "print(f\"Recall: {recall}\")\n",
    "print(f\"F1 Score: {f1}\")\n",
    "\n",
    "# Plot the confusion matrix\n",
    "plt.figure(figsize=(6, 4))\n",
    "sns.heatmap(cm, annot=True, fmt='d', cmap='Blues')\n",
    "plt.xlabel('Predicted')\n",
    "plt.ylabel('True')\n",
    "plt.title('Confusion Matrix')\n",
    "plt.show()"
   ]
  },
  {
   "cell_type": "code",
   "execution_count": 214,
   "metadata": {},
   "outputs": [],
   "source": [
    "def generate_submission(model):\n",
    "    df_test = pd.read_csv('./test_enriched.csv', index_col='id')\n",
    "    df_test.fillna({'clean_text': '', 'keyword': '', 'location': '', 'country': '', 'state': '', 'city': '', 'url_domains': ''}, inplace=True)\n",
    "    X_test = df_test['clean_text'].to_numpy()\n",
    "\n",
    "    Y_test_predict = model(X_test)\n",
    "    Y_test_predict = tf.cast(Y_test_predict > .5, tf.int32)\n",
    "\n",
    "    df_example = pd.read_csv('./sample_submission.csv')\n",
    "    df_example['target'] = Y_test_predict\n",
    "\n",
    "    df_example.to_csv(f'./{FILE_ID}-submission.csv', index=False)\n"
   ]
  },
  {
   "cell_type": "code",
   "execution_count": 215,
   "metadata": {},
   "outputs": [],
   "source": [
    "# generate_submission(model)"
   ]
  },
  {
   "cell_type": "code",
   "execution_count": null,
   "metadata": {},
   "outputs": [],
   "source": []
  }
 ],
 "metadata": {
  "kernelspec": {
   "display_name": "machine-learning-1",
   "language": "python",
   "name": "python3"
  },
  "language_info": {
   "codemirror_mode": {
    "name": "ipython",
    "version": 3
   },
   "file_extension": ".py",
   "mimetype": "text/x-python",
   "name": "python",
   "nbconvert_exporter": "python",
   "pygments_lexer": "ipython3",
   "version": "3.11.6"
  }
 },
 "nbformat": 4,
 "nbformat_minor": 2
}
