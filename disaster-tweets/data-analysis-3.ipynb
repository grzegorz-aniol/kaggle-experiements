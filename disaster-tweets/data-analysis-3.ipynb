{
 "cells": [
  {
   "cell_type": "markdown",
   "metadata": {},
   "source": [
    "# Disaster Tweets data analysis"
   ]
  },
  {
   "cell_type": "code",
   "execution_count": 7,
   "metadata": {},
   "outputs": [],
   "source": [
    "import numpy as np\n",
    "import pandas as pd\n",
    "import scipy as sp\n",
    "import matplotlib.pyplot as plt\n",
    "import seaborn as sns\n",
    "from sklearn import feature_extraction, ensemble, model_selection, pipeline, compose, preprocessing\n",
    "from keyword_transformer import KeywordTransformer\n",
    "from location_transformer import LocationTransformer\n",
    "from text_stats_transformer import TextStatsTransformer\n",
    "# spacy.cli.download('en_core_web_sm')\n"
   ]
  },
  {
   "cell_type": "code",
   "execution_count": 8,
   "metadata": {},
   "outputs": [
    {
     "name": "stdout",
     "output_type": "stream",
     "text": [
      "<class 'pandas.core.frame.DataFrame'>\n",
      "Index: 7613 entries, 1 to 10873\n",
      "Data columns (total 4 columns):\n",
      " #   Column    Non-Null Count  Dtype \n",
      "---  ------    --------------  ----- \n",
      " 0   keyword   7552 non-null   object\n",
      " 1   location  5080 non-null   object\n",
      " 2   text      7613 non-null   object\n",
      " 3   target    7613 non-null   int64 \n",
      "dtypes: int64(1), object(3)\n",
      "memory usage: 297.4+ KB\n"
     ]
    }
   ],
   "source": [
    "df_train = pd.read_csv('./train.csv', index_col='id')\n",
    "df_test = pd.read_csv('./test.csv', index_col='id')\n",
    "df_train.info()"
   ]
  },
  {
   "cell_type": "code",
   "execution_count": 9,
   "metadata": {},
   "outputs": [
    {
     "data": {
      "text/html": [
       "<div>\n",
       "<style scoped>\n",
       "    .dataframe tbody tr th:only-of-type {\n",
       "        vertical-align: middle;\n",
       "    }\n",
       "\n",
       "    .dataframe tbody tr th {\n",
       "        vertical-align: top;\n",
       "    }\n",
       "\n",
       "    .dataframe thead th {\n",
       "        text-align: right;\n",
       "    }\n",
       "</style>\n",
       "<table border=\"1\" class=\"dataframe\">\n",
       "  <thead>\n",
       "    <tr style=\"text-align: right;\">\n",
       "      <th></th>\n",
       "      <th>keyword</th>\n",
       "      <th>location</th>\n",
       "      <th>text</th>\n",
       "      <th>target</th>\n",
       "    </tr>\n",
       "    <tr>\n",
       "      <th>id</th>\n",
       "      <th></th>\n",
       "      <th></th>\n",
       "      <th></th>\n",
       "      <th></th>\n",
       "    </tr>\n",
       "  </thead>\n",
       "  <tbody>\n",
       "    <tr>\n",
       "      <th>1312</th>\n",
       "      <td>bloody</td>\n",
       "      <td>Singapore</td>\n",
       "      <td>Eh hello cover your bloody thighs your bloody ...</td>\n",
       "      <td>0</td>\n",
       "    </tr>\n",
       "    <tr>\n",
       "      <th>9051</th>\n",
       "      <td>structural%20failure</td>\n",
       "      <td>NaN</td>\n",
       "      <td>VIDEO: Virgin Galactic crash: Brakes blamed: I...</td>\n",
       "      <td>1</td>\n",
       "    </tr>\n",
       "    <tr>\n",
       "      <th>248</th>\n",
       "      <td>ambulance</td>\n",
       "      <td>New York / Worldwide</td>\n",
       "      <td>Two air ambulances on scene of serious crash b...</td>\n",
       "      <td>1</td>\n",
       "    </tr>\n",
       "    <tr>\n",
       "      <th>6115</th>\n",
       "      <td>hellfire</td>\n",
       "      <td>570 Vanderbilt; Brooklyn, NY</td>\n",
       "      <td>New cocktail on the list! El Diablo Mas Verde:...</td>\n",
       "      <td>0</td>\n",
       "    </tr>\n",
       "    <tr>\n",
       "      <th>2970</th>\n",
       "      <td>dead</td>\n",
       "      <td>Glasgow</td>\n",
       "      <td>@soapscoop i need you to confirm that ross is ...</td>\n",
       "      <td>0</td>\n",
       "    </tr>\n",
       "    <tr>\n",
       "      <th>3812</th>\n",
       "      <td>detonate</td>\n",
       "      <td>Broomfield, CO</td>\n",
       "      <td>#Boulder deputies are waiting for the bomb squ...</td>\n",
       "      <td>1</td>\n",
       "    </tr>\n",
       "    <tr>\n",
       "      <th>1383</th>\n",
       "      <td>body%20bag</td>\n",
       "      <td>NaN</td>\n",
       "      <td># handbags Genuine Mulberry Antony Cross Body ...</td>\n",
       "      <td>0</td>\n",
       "    </tr>\n",
       "    <tr>\n",
       "      <th>4534</th>\n",
       "      <td>emergency</td>\n",
       "      <td>Melbourne, Australia</td>\n",
       "      <td>From @LeanDOTorg: Lean Thinking for Quicker Po...</td>\n",
       "      <td>0</td>\n",
       "    </tr>\n",
       "    <tr>\n",
       "      <th>4975</th>\n",
       "      <td>explosion</td>\n",
       "      <td>S.F. Bay area</td>\n",
       "      <td>MORE--&amp;gt;OSHA officers on siteinvestigating N...</td>\n",
       "      <td>1</td>\n",
       "    </tr>\n",
       "    <tr>\n",
       "      <th>2123</th>\n",
       "      <td>catastrophe</td>\n",
       "      <td>City of Angels, CA</td>\n",
       "      <td>@MaatMHI Slightly diff catastrophe &amp;amp; Barry...</td>\n",
       "      <td>0</td>\n",
       "    </tr>\n",
       "  </tbody>\n",
       "</table>\n",
       "</div>"
      ],
      "text/plain": [
       "                   keyword                      location  \\\n",
       "id                                                         \n",
       "1312                bloody                     Singapore   \n",
       "9051  structural%20failure                           NaN   \n",
       "248              ambulance          New York / Worldwide   \n",
       "6115              hellfire  570 Vanderbilt; Brooklyn, NY   \n",
       "2970                  dead                       Glasgow   \n",
       "3812              detonate                Broomfield, CO   \n",
       "1383            body%20bag                           NaN   \n",
       "4534             emergency          Melbourne, Australia   \n",
       "4975             explosion                 S.F. Bay area   \n",
       "2123           catastrophe            City of Angels, CA   \n",
       "\n",
       "                                                   text  target  \n",
       "id                                                               \n",
       "1312  Eh hello cover your bloody thighs your bloody ...       0  \n",
       "9051  VIDEO: Virgin Galactic crash: Brakes blamed: I...       1  \n",
       "248   Two air ambulances on scene of serious crash b...       1  \n",
       "6115  New cocktail on the list! El Diablo Mas Verde:...       0  \n",
       "2970  @soapscoop i need you to confirm that ross is ...       0  \n",
       "3812  #Boulder deputies are waiting for the bomb squ...       1  \n",
       "1383  # handbags Genuine Mulberry Antony Cross Body ...       0  \n",
       "4534  From @LeanDOTorg: Lean Thinking for Quicker Po...       0  \n",
       "4975  MORE--&gt;OSHA officers on siteinvestigating N...       1  \n",
       "2123  @MaatMHI Slightly diff catastrophe &amp; Barry...       0  "
      ]
     },
     "execution_count": 9,
     "metadata": {},
     "output_type": "execute_result"
    }
   ],
   "source": [
    "df_train.sample(n=10)"
   ]
  },
  {
   "cell_type": "code",
   "execution_count": 10,
   "metadata": {},
   "outputs": [
    {
     "data": {
      "text/html": [
       "<div>\n",
       "<style scoped>\n",
       "    .dataframe tbody tr th:only-of-type {\n",
       "        vertical-align: middle;\n",
       "    }\n",
       "\n",
       "    .dataframe tbody tr th {\n",
       "        vertical-align: top;\n",
       "    }\n",
       "\n",
       "    .dataframe thead th {\n",
       "        text-align: right;\n",
       "    }\n",
       "</style>\n",
       "<table border=\"1\" class=\"dataframe\">\n",
       "  <thead>\n",
       "    <tr style=\"text-align: right;\">\n",
       "      <th></th>\n",
       "      <th>keyword</th>\n",
       "      <th>location</th>\n",
       "      <th>text</th>\n",
       "      <th>target</th>\n",
       "    </tr>\n",
       "    <tr>\n",
       "      <th>id</th>\n",
       "      <th></th>\n",
       "      <th></th>\n",
       "      <th></th>\n",
       "      <th></th>\n",
       "    </tr>\n",
       "  </thead>\n",
       "  <tbody>\n",
       "    <tr>\n",
       "      <th>657</th>\n",
       "      <td>attack</td>\n",
       "      <td>Freeport IL. USA</td>\n",
       "      <td>Horrific attack on wife by muslim in Italy htt...</td>\n",
       "      <td>1</td>\n",
       "    </tr>\n",
       "    <tr>\n",
       "      <th>2936</th>\n",
       "      <td>danger</td>\n",
       "      <td>Atlanta Georgia</td>\n",
       "      <td>@nuggets #FETTILOOTCH IS #SLANGLUCCI OPPRESSIO...</td>\n",
       "      <td>0</td>\n",
       "    </tr>\n",
       "    <tr>\n",
       "      <th>8608</th>\n",
       "      <td>seismic</td>\n",
       "      <td>Somalia</td>\n",
       "      <td>Exploration takes seismic shift in Gabon to So...</td>\n",
       "      <td>0</td>\n",
       "    </tr>\n",
       "    <tr>\n",
       "      <th>9319</th>\n",
       "      <td>survive</td>\n",
       "      <td>ava</td>\n",
       "      <td>In a dream you saw a way to survive and you we...</td>\n",
       "      <td>0</td>\n",
       "    </tr>\n",
       "    <tr>\n",
       "      <th>8035</th>\n",
       "      <td>refugees</td>\n",
       "      <td></td>\n",
       "      <td>...//..// whao.. 12000 Nigerian refugees repat...</td>\n",
       "      <td>1</td>\n",
       "    </tr>\n",
       "    <tr>\n",
       "      <th>3459</th>\n",
       "      <td>derailed</td>\n",
       "      <td>Washington, DC</td>\n",
       "      <td>Happy no one was hurt when #wmata train derail...</td>\n",
       "      <td>1</td>\n",
       "    </tr>\n",
       "    <tr>\n",
       "      <th>10763</th>\n",
       "      <td>wreckage</td>\n",
       "      <td></td>\n",
       "      <td>The first piece of wreckage from the first-eve...</td>\n",
       "      <td>1</td>\n",
       "    </tr>\n",
       "    <tr>\n",
       "      <th>4303</th>\n",
       "      <td>dust%20storm</td>\n",
       "      <td>qosqo</td>\n",
       "      <td>Totoooooo! Totoooooooooo!\\n'@Historicalmages: ...</td>\n",
       "      <td>1</td>\n",
       "    </tr>\n",
       "    <tr>\n",
       "      <th>9116</th>\n",
       "      <td>suicide%20bomb</td>\n",
       "      <td></td>\n",
       "      <td>//./../.. Pic of 16yr old PKK suicide bomber w...</td>\n",
       "      <td>1</td>\n",
       "    </tr>\n",
       "    <tr>\n",
       "      <th>7604</th>\n",
       "      <td>pandemonium</td>\n",
       "      <td>Everett, WA</td>\n",
       "      <td>@BlizzHeroes Would love to see a Diablo map th...</td>\n",
       "      <td>0</td>\n",
       "    </tr>\n",
       "  </tbody>\n",
       "</table>\n",
       "</div>"
      ],
      "text/plain": [
       "              keyword          location  \\\n",
       "id                                        \n",
       "657            attack  Freeport IL. USA   \n",
       "2936           danger  Atlanta Georgia    \n",
       "8608          seismic           Somalia   \n",
       "9319          survive               ava   \n",
       "8035         refugees                     \n",
       "3459         derailed    Washington, DC   \n",
       "10763        wreckage                     \n",
       "4303     dust%20storm             qosqo   \n",
       "9116   suicide%20bomb                     \n",
       "7604      pandemonium       Everett, WA   \n",
       "\n",
       "                                                    text  target  \n",
       "id                                                                \n",
       "657    Horrific attack on wife by muslim in Italy htt...       1  \n",
       "2936   @nuggets #FETTILOOTCH IS #SLANGLUCCI OPPRESSIO...       0  \n",
       "8608   Exploration takes seismic shift in Gabon to So...       0  \n",
       "9319   In a dream you saw a way to survive and you we...       0  \n",
       "8035   ...//..// whao.. 12000 Nigerian refugees repat...       1  \n",
       "3459   Happy no one was hurt when #wmata train derail...       1  \n",
       "10763  The first piece of wreckage from the first-eve...       1  \n",
       "4303   Totoooooo! Totoooooooooo!\\n'@Historicalmages: ...       1  \n",
       "9116   //./../.. Pic of 16yr old PKK suicide bomber w...       1  \n",
       "7604   @BlizzHeroes Would love to see a Diablo map th...       0  "
      ]
     },
     "execution_count": 10,
     "metadata": {},
     "output_type": "execute_result"
    }
   ],
   "source": [
    "df_train.fillna(value={'keyword': '', 'location': ''}, inplace=True)\n",
    "df_train.sample(n=10)"
   ]
  },
  {
   "cell_type": "markdown",
   "metadata": {},
   "source": [
    "## Enrich datasets"
   ]
  },
  {
   "cell_type": "code",
   "execution_count": 11,
   "metadata": {},
   "outputs": [],
   "source": [
    "transformer = compose.ColumnTransformer(transformers=[\n",
    "    ('keywords', KeywordTransformer(keyword_file_name='./keywords_stats.csv'), ['keyword']),\n",
    "    ('location', LocationTransformer(), ['location']),\n",
    "    ('text-features', TextStatsTransformer(), ['text'])\n",
    "], remainder='passthrough', verbose_feature_names_out=False, verbose=True)"
   ]
  },
  {
   "cell_type": "code",
   "execution_count": 12,
   "metadata": {},
   "outputs": [
    {
     "name": "stdout",
     "output_type": "stream",
     "text": [
      "[ColumnTransformer] ...... (1 of 4) Processing keywords, total=   0.0s\n",
      "[ColumnTransformer] ...... (2 of 4) Processing location, total=  40.3s\n",
      "[ColumnTransformer] . (3 of 4) Processing text-features, total=   7.7s\n",
      "[ColumnTransformer] ..... (4 of 4) Processing remainder, total=   0.0s\n"
     ]
    }
   ],
   "source": [
    "train_enriched = transformer.fit_transform(df_train)"
   ]
  },
  {
   "cell_type": "code",
   "execution_count": 13,
   "metadata": {},
   "outputs": [],
   "source": [
    "df_train_enriched = pd.DataFrame(data = train_enriched, columns=transformer.get_feature_names_out())"
   ]
  },
  {
   "cell_type": "code",
   "execution_count": 14,
   "metadata": {},
   "outputs": [
    {
     "data": {
      "text/plain": [
       "array(['keyword', 'positive_factor', 'location', 'country', 'state',\n",
       "       'city', 'missing_location', 'text', 'clean_text', 'text_length',\n",
       "       'upper_text_factor', 'tags_count', 'punct_factor', 'ann_count',\n",
       "       'urls_count', 'tokens_count', 'stop_words_factor',\n",
       "       'clean_tokens_factor', 'target'], dtype=object)"
      ]
     },
     "execution_count": 14,
     "metadata": {},
     "output_type": "execute_result"
    }
   ],
   "source": [
    "transformer.get_feature_names_out()"
   ]
  },
  {
   "cell_type": "code",
   "execution_count": 17,
   "metadata": {},
   "outputs": [],
   "source": [
    "df_train_enriched.to_csv('./train_enriched.csv', index_label='id')"
   ]
  },
  {
   "cell_type": "code",
   "execution_count": 18,
   "metadata": {},
   "outputs": [
    {
     "name": "stdout",
     "output_type": "stream",
     "text": [
      "[ColumnTransformer] ...... (1 of 3) Processing keywords, total=   0.0s\n",
      "[ColumnTransformer] ...... (2 of 3) Processing location, total=  15.8s\n",
      "[ColumnTransformer] . (3 of 3) Processing text-features, total=   3.1s\n"
     ]
    }
   ],
   "source": [
    "test_enriched = transformer.fit_transform(df_test)\n",
    "df_test_enriched = pd.DataFrame(data = test_enriched, columns=transformer.get_feature_names_out())\n",
    "df_test_enriched.to_csv('./test_enriched.csv', index_label='id')"
   ]
  },
  {
   "cell_type": "markdown",
   "metadata": {},
   "source": [
    "## Features selection"
   ]
  },
  {
   "cell_type": "code",
   "execution_count": 21,
   "metadata": {},
   "outputs": [
    {
     "data": {
      "image/png": "[encoded data removed]",
      "text/plain": [
       "<Figure size 800x800 with 2 Axes>"
      ]
     },
     "metadata": {},
     "output_type": "display_data"
    }
   ],
   "source": [
    "selected_features = ['text_length', 'upper_text_factor', 'tags_count', 'punct_factor', 'ann_count', 'urls_count',\n",
    "                     'tokens_count', 'stop_words_factor', 'clean_tokens_factor', 'positive_factor',\n",
    "                     'missing_location',\n",
    "                     'target']\n",
    "df_corr = df_train_enriched[selected_features].corr()\n",
    "\n",
    "plt.figure(figsize=(9, 8))\n",
    "sns.heatmap(df_corr, annot=True, fmt=\".2f\", cmap='coolwarm', \n",
    "            xticklabels=df_corr.columns, yticklabels=df_corr.columns)\n",
    "plt.show()"
   ]
  },
  {
   "cell_type": "code",
   "execution_count": null,
   "metadata": {},
   "outputs": [],
   "source": []
  }
 ],
 "metadata": {
  "kernelspec": {
   "display_name": "ml-experiments",
   "language": "python",
   "name": "python3"
  },
  "language_info": {
   "codemirror_mode": {
    "name": "ipython",
    "version": 3
   },
   "file_extension": ".py",
   "mimetype": "text/x-python",
   "name": "python",
   "nbconvert_exporter": "python",
   "pygments_lexer": "ipython3",
   "version": "3.12.2"
  }
 },
 "nbformat": 4,
 "nbformat_minor": 2
}
