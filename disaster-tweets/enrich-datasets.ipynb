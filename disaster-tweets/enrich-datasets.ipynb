{
 "cells": [
  {
   "cell_type": "markdown",
   "metadata": {},
   "source": [
    "# Enrich test and training datasets"
   ]
  },
  {
   "cell_type": "code",
   "execution_count": 1,
   "metadata": {},
   "outputs": [],
   "source": [
    "import numpy as np\n",
    "import pandas as pd\n",
    "import scipy as sp\n",
    "import matplotlib.pyplot as plt\n",
    "import seaborn as sns\n",
    "from sklearn import feature_extraction, ensemble, model_selection, pipeline, compose, preprocessing\n",
    "from keyword_transformer import KeywordTransformer\n",
    "from location_transformer import LocationTransformer\n",
    "from text_stats_transformer import TextStatsTransformer\n"
   ]
  },
  {
   "cell_type": "code",
   "execution_count": 3,
   "metadata": {},
   "outputs": [],
   "source": [
    "df_train = pd.read_csv('./train.csv', index_col='id')\n",
    "df_test = pd.read_csv('./test.csv', index_col='id')\n"
   ]
  },
  {
   "cell_type": "code",
   "execution_count": 4,
   "metadata": {},
   "outputs": [],
   "source": [
    "transformer = compose.ColumnTransformer(transformers=[\n",
    "    ('keywords', KeywordTransformer(keyword_file_name='./keywords_stats.csv'), ['keyword']),\n",
    "    ('location', LocationTransformer(), ['location']),\n",
    "    ('text-features', TextStatsTransformer(), ['text'])\n",
    "], remainder='passthrough', verbose_feature_names_out=False, verbose=True)"
   ]
  },
  {
   "cell_type": "code",
   "execution_count": 5,
   "metadata": {},
   "outputs": [
    {
     "name": "stdout",
     "output_type": "stream",
     "text": [
      "[ColumnTransformer] ...... (1 of 4) Processing keywords, total=   0.0s\n",
      "[ColumnTransformer] ...... (2 of 4) Processing location, total=  41.1s\n",
      "[ColumnTransformer] . (3 of 4) Processing text-features, total=   9.4s\n",
      "[ColumnTransformer] ..... (4 of 4) Processing remainder, total=   0.0s\n"
     ]
    }
   ],
   "source": [
    "train_enriched = transformer.fit_transform(df_train)"
   ]
  },
  {
   "cell_type": "code",
   "execution_count": null,
   "metadata": {},
   "outputs": [],
   "source": [
    "df_train_enriched = pd.DataFrame(data = train_enriched, columns=transformer.get_feature_names_out())"
   ]
  },
  {
   "cell_type": "code",
   "execution_count": null,
   "metadata": {},
   "outputs": [],
   "source": [
    "transformer.get_feature_names_out()"
   ]
  },
  {
   "cell_type": "code",
   "execution_count": null,
   "metadata": {},
   "outputs": [],
   "source": [
    "df_train_enriched.to_csv('./train_enriched.csv', index_label='id')"
   ]
  },
  {
   "cell_type": "code",
   "execution_count": null,
   "metadata": {},
   "outputs": [],
   "source": [
    "test_enriched = transformer.fit_transform(df_test)\n",
    "df_test_enriched = pd.DataFrame(data = test_enriched, columns=transformer.get_feature_names_out())\n",
    "df_test_enriched.to_csv('./test_enriched.csv', index_label='id')"
   ]
  }
 ],
 "metadata": {
  "kernelspec": {
   "display_name": "machine-learning-1",
   "language": "python",
   "name": "python3"
  },
  "language_info": {
   "codemirror_mode": {
    "name": "ipython",
    "version": 3
   },
   "file_extension": ".py",
   "mimetype": "text/x-python",
   "name": "python",
   "nbconvert_exporter": "python",
   "pygments_lexer": "ipython3",
   "version": "3.11.6"
  }
 },
 "nbformat": 4,
 "nbformat_minor": 2
}
