{
 "cells": [
  {
   "cell_type": "code",
   "execution_count": 19,
   "metadata": {},
   "outputs": [],
   "source": [
    "import pickle\n",
    "import numpy as np\n",
    "import pandas as pd\n",
    "from sklearn import base, feature_extraction, ensemble, model_selection, pipeline, compose, preprocessing, metrics\n",
    "from sklearn.experimental import enable_halving_search_cv\n",
    "import tensorflow as tf\n",
    "from embedding_transformer import Doc2VecTransformer\n",
    "from scikeras.wrappers import KerasClassifier\n",
    "import optuna\n",
    "import plotly\n",
    "import pprint\n",
    "import nbformat\n",
    "from keyword_transformer import KeywordTransformer\n",
    "from location_transformer import LocationTransformer\n",
    "from text_stats_transformer import TextStatsTransformer\n",
    "\n",
    "SCRIPT_NAME='DL-08'"
   ]
  },
  {
   "cell_type": "code",
   "execution_count": 2,
   "metadata": {},
   "outputs": [],
   "source": [
    "# df_dataset = pd.read_csv('./train.csv', index_col='id')\n",
    "# df_dataset.shape\n",
    "# df_train, df_dev = model_selection.train_test_split(df_dataset, test_size=0.1)\n",
    "# df_train.shape, df_dev.shape\n",
    "# df_train.to_csv('./train-dataset.csv', index=True)\n",
    "# df_dev.to_csv('./dev-dataset.csv', index=True)"
   ]
  },
  {
   "cell_type": "code",
   "execution_count": 3,
   "metadata": {},
   "outputs": [
    {
     "data": {
      "text/plain": [
       "((6851, 4), (762, 4))"
      ]
     },
     "execution_count": 3,
     "metadata": {},
     "output_type": "execute_result"
    }
   ],
   "source": [
    "df_train = pd.read_csv('./train-dataset.csv', index_col='id')\n",
    "df_dev = pd.read_csv('./dev-dataset.csv', index_col='id')\n",
    "df_train.shape, df_dev.shape"
   ]
  },
  {
   "cell_type": "code",
   "execution_count": 4,
   "metadata": {},
   "outputs": [
    {
     "data": {
      "text/plain": [
       "((6851, 3), (6851,), (762, 3), (762,))"
      ]
     },
     "execution_count": 4,
     "metadata": {},
     "output_type": "execute_result"
    }
   ],
   "source": [
    "X_train = df_train.drop('target', axis=1)\n",
    "Y_train = df_train['target']\n",
    "X_dev = df_dev.drop('target', axis=1)\n",
    "Y_dev = df_dev['target']\n",
    "X_train.shape, Y_train.shape, X_dev.shape, Y_dev.shape"
   ]
  },
  {
   "cell_type": "code",
   "execution_count": 5,
   "metadata": {},
   "outputs": [],
   "source": [
    "class ArrayToDataFrameTransformer(base.BaseEstimator, base.TransformerMixin):\n",
    "    def __init__(self, column_names_func):\n",
    "        self.column_names_func = column_names_func\n",
    "    \n",
    "    def fit(self, X, y=None):\n",
    "        return self  # Nothing to do\n",
    "    \n",
    "    def transform(self, X):\n",
    "        return pd.DataFrame(X, columns=self.column_names_func())"
   ]
  },
  {
   "cell_type": "code",
   "execution_count": 6,
   "metadata": {},
   "outputs": [],
   "source": [
    "enricher = compose.ColumnTransformer(transformers=[\n",
    "    ('keywords', KeywordTransformer(keyword_file_name='./keywords_stats.csv'), ['keyword']),\n",
    "    # ('location', LocationTransformer(), ['location']),\n",
    "    ('text-features', TextStatsTransformer(), ['text'])\n",
    "], remainder='passthrough', verbose_feature_names_out=False, verbose=True)\n",
    "\n",
    "text_vec = feature_extraction.text.TfidfVectorizer(max_features=2000)\n",
    "\n",
    "categorical_features = [\n",
    "    'country',\n",
    "    'state',\n",
    "]\n",
    "numerical_features = [\n",
    "    'text_length', \n",
    "    'positive_factor',\n",
    "    'token_sentiment_2'\n",
    "]\n",
    "\n",
    "column_transformer = compose.ColumnTransformer(transformers=[\n",
    "    ('text_vec', text_vec, 'clean_text'),\n",
    "    # ('one_hot', preprocessing.OneHotEncoder(handle_unknown='ignore', sparse_output=False), categorical_features),\n",
    "    ('numerical', preprocessing.StandardScaler(), numerical_features)\n",
    "], remainder='drop')\n",
    "\n",
    "transformer = pipeline.Pipeline([\n",
    "    ('enricher', enricher),\n",
    "    ('pandas_mapper', ArrayToDataFrameTransformer(column_names_func=lambda : enricher.get_feature_names_out())),\n",
    "    ('columns', column_transformer)\n",
    "])\n"
   ]
  },
  {
   "cell_type": "code",
   "execution_count": 7,
   "metadata": {},
   "outputs": [
    {
     "name": "stdout",
     "output_type": "stream",
     "text": [
      "[ColumnTransformer] ...... (1 of 3) Processing keywords, total=   0.0s\n",
      "[ColumnTransformer] . (2 of 3) Processing text-features, total=   3.0s\n",
      "[ColumnTransformer] ..... (3 of 3) Processing remainder, total=   0.0s\n"
     ]
    },
    {
     "data": {
      "text/plain": [
       "((6851, 2003), (762, 2003))"
      ]
     },
     "execution_count": 7,
     "metadata": {},
     "output_type": "execute_result"
    }
   ],
   "source": [
    "X_train_scaled = transformer.fit_transform(X_train).todense()\n",
    "X_dev_scaled = transformer.transform(X_dev).todense()\n",
    "X_train_scaled.shape, X_dev_scaled.shape"
   ]
  },
  {
   "cell_type": "code",
   "execution_count": 8,
   "metadata": {},
   "outputs": [],
   "source": [
    "INPUT_SIZE = X_train_scaled.shape[1]\n",
    "OUTPUT_SIZE = 1\n",
    "NN_SHAPE = [INPUT_SIZE, 32, 32, 16, 1]\n",
    "BATCH_SIZE= X_train_scaled.shape[0]\n",
    "MAX_EPOCHS = 40\n",
    "\n",
    "\n",
    "def sigmoid(x):\n",
    "    return tf.cast(tf.greater(tf.nn.sigmoid(x), .5), tf.int32)\n",
    "\n",
    "\n",
    "def build_model(layer_dims=NN_SHAPE, use_dropout=False, dropout_rate_1=0.3, dropout_rate_2=0.1,\n",
    "                learning_rate=1e-3, \n",
    "                use_emma=False, emma_momentum=0.99, \n",
    "                use_regularizer=False, regularizer=0.01,\n",
    "                initializer='glorot_normal',\n",
    "                activation='relu'\n",
    "                ):\n",
    "    n_layers = len(layer_dims)\n",
    "    layers = []\n",
    "\n",
    "    for l in range(1, n_layers-1):\n",
    "        layer_kws = {}\n",
    "\n",
    "        if use_regularizer:\n",
    "            layer_kws['kernel_regularizer'] = tf.keras.regularizers.l2(regularizer)\n",
    "        if initializer:\n",
    "            layer_kws['kernel_initializer'] = initializer\n",
    "        \n",
    "        hidden_layer= tf.keras.layers.Dense(layer_dims[l], input_shape=(layer_dims[l-1],), activation=activation, **layer_kws)\n",
    "        \n",
    "        layers.append(hidden_layer)\n",
    "        \n",
    "        if use_dropout:\n",
    "            if l==1:\n",
    "                rate = dropout_rate_1\n",
    "            elif l==2 and n_layers > 3:\n",
    "                rate = dropout_rate_2\n",
    "            else:\n",
    "                rate = 0.0\n",
    "            if rate > .0:\n",
    "                layers.append(tf.keras.layers.Dropout(rate=rate))\n",
    "    layers.append(tf.keras.layers.Dense(layer_dims[n_layers-1], activation='linear'))\n",
    "    model = tf.keras.Sequential(layers)\n",
    "    model.compile(optimizer=tf.keras.optimizers.Adam(learning_rate=learning_rate, use_ema=use_emma, ema_momentum=emma_momentum),                 \n",
    "                  loss=tf.keras.losses.BinaryCrossentropy(from_logits=True), metrics='accuracy')\n",
    "    return model\n"
   ]
  },
  {
   "cell_type": "code",
   "execution_count": 9,
   "metadata": {},
   "outputs": [],
   "source": [
    "def train(X_train, Y_train, X_dev, Y_dev, model, batch_size=512):\n",
    "    early_stopping = tf.keras.callbacks.EarlyStopping(patience=2, restore_best_weights=True)\n",
    "    \n",
    "    model.fit(X_train, Y_train, batch_size=batch_size, epochs=MAX_EPOCHS, \n",
    "            validation_data=(X_dev, Y_dev),\n",
    "            callbacks=[early_stopping],\n",
    "            verbose=0)\n",
    "\n",
    "    Y_predict = sigmoid(model.predict(X_dev))\n",
    "    f1_score = metrics.f1_score(Y_dev, Y_predict)\n",
    "    print(f\"Validation F1 score: {f1_score}\")\n",
    "\n",
    "    return f1_score"
   ]
  },
  {
   "cell_type": "code",
   "execution_count": 10,
   "metadata": {},
   "outputs": [],
   "source": [
    "model = build_model(use_regularizer=True, regularizer=1e-4)"
   ]
  },
  {
   "cell_type": "code",
   "execution_count": 11,
   "metadata": {},
   "outputs": [
    {
     "name": "stdout",
     "output_type": "stream",
     "text": [
      "24/24 [==============================] - 0s 629us/step\n",
      "Validation F1 score: 0.7515527950310559\n"
     ]
    },
    {
     "data": {
      "text/plain": [
       "0.7515527950310559"
      ]
     },
     "execution_count": 11,
     "metadata": {},
     "output_type": "execute_result"
    }
   ],
   "source": [
    "train(X_train_scaled, Y_train, X_dev_scaled, Y_dev, model)"
   ]
  },
  {
   "cell_type": "code",
   "execution_count": 12,
   "metadata": {},
   "outputs": [],
   "source": [
    "def create_objective_1(layer_dims):\n",
    "    def objective1(trial):\n",
    "        learning_rate = trial.suggest_float('learning_rate', 1e-5, 1e-3, log=True)\n",
    "        batch_size = trial.suggest_categorical('batch_size', [BATCH_SIZE, BATCH_SIZE//2 + 1, BATCH_SIZE//4 + 1])\n",
    "        regularizer = trial.suggest_float('regularizer', 1e-6, 1e-2, log=True)\n",
    "        initializer = trial.suggest_categorical('initializer', ['glorot_normal', 'he_normal'])\n",
    "        activation = trial.suggest_categorical('activation', ['relu', 'gelu', 'leaky_relu'])\n",
    "\n",
    "        model = build_model(layer_dims=layer_dims, learning_rate=learning_rate, \n",
    "                            use_regularizer=True, regularizer=regularizer, \n",
    "                            initializer=initializer, activation=activation)\n",
    "        f1_score = train(X_train_scaled, Y_train, X_dev_scaled, Y_dev, model, \n",
    "                        batch_size=batch_size)\n",
    "        \n",
    "        return f1_score\n",
    "    return objective1"
   ]
  },
  {
   "cell_type": "code",
   "execution_count": 13,
   "metadata": {},
   "outputs": [],
   "source": [
    "def objective2(trial):\n",
    "    n1scale = trial.suggest_int('n1scale', 3, 10)\n",
    "    n2scale = trial.suggest_int('n2scale', 3, 10)\n",
    "    n3scale = trial.suggest_int('n3scale', 3, 10)\n",
    "    n4scale = trial.suggest_int('n4scale', 3, 10)\n",
    "    layer_dims = [INPUT_SIZE, int(2**n1scale), int(2**n2scale), int(2**n3scale), int(2**n4scale), OUTPUT_SIZE]\n",
    "\n",
    "    print('Testing network shape', layer_dims)\n",
    "\n",
    "    study = optuna.create_study(study_name='network_pickup', direction='maximize')\n",
    "    study.optimize(create_objective_1(layer_dims), n_trials=10, show_progress_bar=False)\n",
    "\n",
    "    trial = study.best_trial\n",
    "    trial.set_user_attr('layer_dims', layer_dims)\n",
    "    print(f'-> Best score: {trial.value}')\n",
    "    print(f'-> Optimal hyperparameters: ')\n",
    "    pprint.pprint(trial.params)\n",
    "\n",
    "    return trial.value"
   ]
  },
  {
   "cell_type": "code",
   "execution_count": 14,
   "metadata": {},
   "outputs": [
    {
     "name": "stderr",
     "output_type": "stream",
     "text": [
      "[I 2024-04-14 14:12:05,056] A new study created in memory with name: dl8\n",
      "                                      "
     ]
    },
    {
     "name": "stdout",
     "output_type": "stream",
     "text": [
      "Testing network shape [2003, 64, 8, 32, 8, 1]\n",
      "Testing network shape [2003, 1024, 256, 16, 512, 1]\n",
      "[I 2024-04-14 14:12:05,059] A new study created in memory with name: network_pickup\n"
     ]
    },
    {
     "name": "stderr",
     "output_type": "stream",
     "text": [
      "  0%|          | 0/10 [00:00<?, ?it/s]"
     ]
    },
    {
     "name": "stdout",
     "output_type": "stream",
     "text": [
      "[I 2024-04-14 14:12:05,060] A new study created in memory with name: network_pickup\n",
      "24/24 [==============================] - 0s 2ms/step\n"
     ]
    },
    {
     "name": "stderr",
     "output_type": "stream",
     "text": [
      "  0%|          | 0/10 [00:15<?, ?it/s]"
     ]
    },
    {
     "name": "stdout",
     "output_type": "stream",
     "text": [
      "Validation F1 score: 0.0\n",
      "[I 2024-04-14 14:12:20,268] Trial 0 finished with value: 0.0 and parameters: {'learning_rate': 0.0001435426168377387, 'batch_size': 3426, 'regularizer': 0.008366826118298126, 'initializer': 'he_normal', 'activation': 'gelu'}. Best is trial 0 with value: 0.0.\n",
      "24/24 [==============================] - 0s 4ms/step\n"
     ]
    },
    {
     "name": "stderr",
     "output_type": "stream",
     "text": [
      "  0%|          | 0/10 [00:28<?, ?it/s]"
     ]
    },
    {
     "name": "stdout",
     "output_type": "stream",
     "text": [
      "Validation F1 score: 0.6516853932584269\n",
      "[I 2024-04-14 14:12:33,471] Trial 0 finished with value: 0.6516853932584269 and parameters: {'learning_rate': 5.618204730828491e-05, 'batch_size': 6851, 'regularizer': 0.003478017021604502, 'initializer': 'glorot_normal', 'activation': 'leaky_relu'}. Best is trial 0 with value: 0.6516853932584269.\n",
      "24/24 [==============================] - 0s 1ms/step\n"
     ]
    },
    {
     "name": "stderr",
     "output_type": "stream",
     "text": [
      "  0%|          | 0/10 [00:29<?, ?it/s]"
     ]
    },
    {
     "name": "stdout",
     "output_type": "stream",
     "text": [
      "Validation F1 score: 0.3689320388349514\n",
      "[I 2024-04-14 14:12:34,986] Trial 1 finished with value: 0.3689320388349514 and parameters: {'learning_rate': 3.309120844055052e-05, 'batch_size': 1713, 'regularizer': 4.811724695274149e-06, 'initializer': 'glorot_normal', 'activation': 'gelu'}. Best is trial 1 with value: 0.3689320388349514.\n",
      "24/24 [==============================] - 0s 2ms/step\n"
     ]
    },
    {
     "name": "stderr",
     "output_type": "stream",
     "text": [
      "  0%|          | 0/10 [00:44<?, ?it/s]"
     ]
    },
    {
     "name": "stdout",
     "output_type": "stream",
     "text": [
      "Validation F1 score: 0.22933333333333333\n",
      "[I 2024-04-14 14:12:49,137] Trial 2 finished with value: 0.22933333333333333 and parameters: {'learning_rate': 9.072597258872652e-05, 'batch_size': 6851, 'regularizer': 0.0002679843688112885, 'initializer': 'glorot_normal', 'activation': 'gelu'}. Best is trial 1 with value: 0.3689320388349514.\n",
      "24/24 [==============================] - 0s 4ms/step\n"
     ]
    },
    {
     "name": "stderr",
     "output_type": "stream",
     "text": [
      "  0%|          | 0/10 [00:53<?, ?it/s]"
     ]
    },
    {
     "name": "stdout",
     "output_type": "stream",
     "text": [
      "Validation F1 score: 0.7260504201680673\n",
      "[I 2024-04-14 14:12:58,720] Trial 1 finished with value: 0.7260504201680673 and parameters: {'learning_rate': 9.234502183998795e-05, 'batch_size': 6851, 'regularizer': 0.00011430390965206929, 'initializer': 'he_normal', 'activation': 'relu'}. Best is trial 1 with value: 0.7260504201680673.\n",
      "24/24 [==============================] - 0s 2ms/step\n"
     ]
    },
    {
     "name": "stderr",
     "output_type": "stream",
     "text": [
      "  0%|          | 0/10 [00:55<?, ?it/s]"
     ]
    },
    {
     "name": "stdout",
     "output_type": "stream",
     "text": [
      "Validation F1 score: 0.0\n",
      "[I 2024-04-14 14:13:00,072] Trial 3 finished with value: 0.0 and parameters: {'learning_rate': 2.9376974137351765e-05, 'batch_size': 6851, 'regularizer': 1.6509631943233854e-05, 'initializer': 'glorot_normal', 'activation': 'gelu'}. Best is trial 1 with value: 0.3689320388349514.\n",
      "24/24 [==============================] - 0s 2ms/step\n"
     ]
    },
    {
     "name": "stderr",
     "output_type": "stream",
     "text": [
      "  0%|          | 0/10 [01:06<?, ?it/s]"
     ]
    },
    {
     "name": "stdout",
     "output_type": "stream",
     "text": [
      "Validation F1 score: 0.0\n",
      "[I 2024-04-14 14:13:11,261] Trial 4 finished with value: 0.0 and parameters: {'learning_rate': 0.00036247827419790945, 'batch_size': 3426, 'regularizer': 1.127625958496298e-06, 'initializer': 'glorot_normal', 'activation': 'relu'}. Best is trial 1 with value: 0.3689320388349514.\n",
      "24/24 [==============================] - 0s 2ms/step\n"
     ]
    },
    {
     "name": "stderr",
     "output_type": "stream",
     "text": [
      "  0%|          | 0/10 [01:19<?, ?it/s]"
     ]
    },
    {
     "name": "stdout",
     "output_type": "stream",
     "text": [
      "Validation F1 score: 0.5906313645621181\n",
      "[I 2024-04-14 14:13:24,198] Trial 5 finished with value: 0.5906313645621181 and parameters: {'learning_rate': 0.00034823255668061076, 'batch_size': 6851, 'regularizer': 6.31686807790496e-06, 'initializer': 'glorot_normal', 'activation': 'leaky_relu'}. Best is trial 5 with value: 0.5906313645621181.\n",
      "24/24 [==============================] - 0s 4ms/step\n"
     ]
    },
    {
     "name": "stderr",
     "output_type": "stream",
     "text": [
      "  0%|          | 0/10 [01:22<?, ?it/s]"
     ]
    },
    {
     "name": "stdout",
     "output_type": "stream",
     "text": [
      "Validation F1 score: 0.650190114068441\n",
      "[I 2024-04-14 14:13:27,058] Trial 2 finished with value: 0.650190114068441 and parameters: {'learning_rate': 4.2174054841013796e-05, 'batch_size': 3426, 'regularizer': 0.00493683138127689, 'initializer': 'glorot_normal', 'activation': 'leaky_relu'}. Best is trial 1 with value: 0.7260504201680673.\n",
      "24/24 [==============================] - 0s 4ms/step\n"
     ]
    },
    {
     "name": "stderr",
     "output_type": "stream",
     "text": [
      "  0%|          | 0/10 [01:27<?, ?it/s]"
     ]
    },
    {
     "name": "stdout",
     "output_type": "stream",
     "text": [
      "Validation F1 score: 0.18484288354898337\n",
      "[I 2024-04-14 14:13:32,253] Trial 6 finished with value: 0.18484288354898337 and parameters: {'learning_rate': 1.3005520989813341e-05, 'batch_size': 6851, 'regularizer': 1.087350746859211e-06, 'initializer': 'glorot_normal', 'activation': 'gelu'}. Best is trial 5 with value: 0.5906313645621181.\n",
      "24/24 [==============================] - 0s 3ms/step\n"
     ]
    },
    {
     "name": "stderr",
     "output_type": "stream",
     "text": [
      "  0%|          | 0/10 [01:37<?, ?it/s]"
     ]
    },
    {
     "name": "stdout",
     "output_type": "stream",
     "text": [
      "Validation F1 score: 0.7588152327221439\n",
      "[I 2024-04-14 14:13:42,293] Trial 7 finished with value: 0.7588152327221439 and parameters: {'learning_rate': 0.0007744984476244473, 'batch_size': 6851, 'regularizer': 0.002074620507709296, 'initializer': 'he_normal', 'activation': 'leaky_relu'}. Best is trial 7 with value: 0.7588152327221439.\n",
      "24/24 [==============================] - 0s 2ms/step\n"
     ]
    },
    {
     "name": "stderr",
     "output_type": "stream",
     "text": [
      "  0%|          | 0/10 [01:47<?, ?it/s]"
     ]
    },
    {
     "name": "stdout",
     "output_type": "stream",
     "text": [
      "Validation F1 score: 0.7634252539912917\n",
      "[I 2024-04-14 14:13:52,970] Trial 8 finished with value: 0.7634252539912917 and parameters: {'learning_rate': 0.0007799829469061684, 'batch_size': 3426, 'regularizer': 0.0002632452980390596, 'initializer': 'glorot_normal', 'activation': 'relu'}. Best is trial 8 with value: 0.7634252539912917.\n",
      "24/24 [==============================] - 0s 4ms/step\n"
     ]
    },
    {
     "name": "stderr",
     "output_type": "stream",
     "text": [
      "  0%|          | 0/10 [01:53<?, ?it/s]"
     ]
    },
    {
     "name": "stdout",
     "output_type": "stream",
     "text": [
      "Validation F1 score: 0.7007751937984497\n",
      "[I 2024-04-14 14:13:58,806] Trial 3 finished with value: 0.7007751937984497 and parameters: {'learning_rate': 0.0004944644799644331, 'batch_size': 1713, 'regularizer': 0.00671052700808985, 'initializer': 'glorot_normal', 'activation': 'relu'}. Best is trial 1 with value: 0.7260504201680673.\n",
      "24/24 [==============================] - 0s 2ms/step\n"
     ]
    },
    {
     "name": "stderr",
     "output_type": "stream",
     "text": [
      "Best trial: 0. Best value: 0.763425:  10%|█         | 1/10 [02:00<18:06, 120.68s/it]"
     ]
    },
    {
     "name": "stdout",
     "output_type": "stream",
     "text": [
      "Validation F1 score: 0.7592592592592593\n",
      "[I 2024-04-14 14:14:05,730] Trial 9 finished with value: 0.7592592592592593 and parameters: {'learning_rate': 0.00019021272913242164, 'batch_size': 1713, 'regularizer': 3.5590262585363255e-06, 'initializer': 'he_normal', 'activation': 'relu'}. Best is trial 8 with value: 0.7634252539912917.\n",
      "-> Best score: 0.7634252539912917\n",
      "-> Optimal hyperparameters: \n",
      "{'activation': 'relu',\n",
      " 'batch_size': 3426,\n",
      " 'initializer': 'glorot_normal',\n",
      " 'learning_rate': 0.0007799829469061684,\n",
      " 'regularizer': 0.0002632452980390596}\n",
      "[I 2024-04-14 14:14:05,734] Trial 0 finished with value: 0.7634252539912917 and parameters: {'n1scale': 6, 'n2scale': 3, 'n3scale': 5, 'n4scale': 3}. Best is trial 0 with value: 0.7634252539912917.\n",
      "Testing network shape [2003, 16, 256, 32, 32, 1]\n",
      "[I 2024-04-14 14:14:05,743] A new study created in memory with name: network_pickup\n",
      "24/24 [==============================] - 0s 3ms/step\n"
     ]
    },
    {
     "name": "stderr",
     "output_type": "stream",
     "text": [
      "Best trial: 0. Best value: 0.763425:  10%|█         | 1/10 [02:18<18:06, 120.68s/it]"
     ]
    },
    {
     "name": "stdout",
     "output_type": "stream",
     "text": [
      "Validation F1 score: 0.7503875968992249\n",
      "[I 2024-04-14 14:14:23,380] Trial 4 finished with value: 0.7503875968992249 and parameters: {'learning_rate': 7.799541674202313e-05, 'batch_size': 6851, 'regularizer': 0.009145425162092647, 'initializer': 'he_normal', 'activation': 'leaky_relu'}. Best is trial 4 with value: 0.7503875968992249.\n",
      "24/24 [==============================] - 0s 3ms/step\n"
     ]
    },
    {
     "name": "stderr",
     "output_type": "stream",
     "text": [
      "Best trial: 0. Best value: 0.763425:  10%|█         | 1/10 [02:24<18:06, 120.68s/it]"
     ]
    },
    {
     "name": "stdout",
     "output_type": "stream",
     "text": [
      "Validation F1 score: 0.0\n",
      "[I 2024-04-14 14:14:29,352] Trial 0 finished with value: 0.0 and parameters: {'learning_rate': 6.002773324798653e-05, 'batch_size': 6851, 'regularizer': 0.0030549393781574416, 'initializer': 'glorot_normal', 'activation': 'gelu'}. Best is trial 0 with value: 0.0.\n",
      "24/24 [==============================] - 0s 3ms/step\n"
     ]
    },
    {
     "name": "stderr",
     "output_type": "stream",
     "text": [
      "Best trial: 0. Best value: 0.763425:  10%|█         | 1/10 [02:36<18:06, 120.68s/it]"
     ]
    },
    {
     "name": "stdout",
     "output_type": "stream",
     "text": [
      "Validation F1 score: 0.6830122591943958\n",
      "[I 2024-04-14 14:14:41,835] Trial 1 finished with value: 0.6830122591943958 and parameters: {'learning_rate': 3.484402303708517e-05, 'batch_size': 6851, 'regularizer': 7.355694515170049e-06, 'initializer': 'glorot_normal', 'activation': 'relu'}. Best is trial 1 with value: 0.6830122591943958.\n",
      "24/24 [==============================] - 0s 4ms/step\n"
     ]
    },
    {
     "name": "stderr",
     "output_type": "stream",
     "text": [
      "Best trial: 0. Best value: 0.763425:  10%|█         | 1/10 [02:42<18:06, 120.68s/it]"
     ]
    },
    {
     "name": "stdout",
     "output_type": "stream",
     "text": [
      "Validation F1 score: 0.7506925207756233\n",
      "[I 2024-04-14 14:14:47,471] Trial 5 finished with value: 0.7506925207756233 and parameters: {'learning_rate': 5.692771962760346e-05, 'batch_size': 6851, 'regularizer': 0.0007859150202315944, 'initializer': 'glorot_normal', 'activation': 'leaky_relu'}. Best is trial 5 with value: 0.7506925207756233.\n",
      "24/24 [==============================] - 0s 2ms/step\n"
     ]
    },
    {
     "name": "stderr",
     "output_type": "stream",
     "text": [
      "Best trial: 0. Best value: 0.763425:  10%|█         | 1/10 [02:43<18:06, 120.68s/it]"
     ]
    },
    {
     "name": "stdout",
     "output_type": "stream",
     "text": [
      "Validation F1 score: 0.7467948717948718\n",
      "[I 2024-04-14 14:14:48,633] Trial 2 finished with value: 0.7467948717948718 and parameters: {'learning_rate': 0.000595322727141521, 'batch_size': 1713, 'regularizer': 0.00035700118691276344, 'initializer': 'glorot_normal', 'activation': 'gelu'}. Best is trial 2 with value: 0.7467948717948718.\n",
      "24/24 [==============================] - 0s 2ms/step\n"
     ]
    },
    {
     "name": "stderr",
     "output_type": "stream",
     "text": [
      "Best trial: 0. Best value: 0.763425:  10%|█         | 1/10 [02:55<18:06, 120.68s/it]"
     ]
    },
    {
     "name": "stdout",
     "output_type": "stream",
     "text": [
      "Validation F1 score: 0.6518324607329843\n",
      "[I 2024-04-14 14:15:00,577] Trial 3 finished with value: 0.6518324607329843 and parameters: {'learning_rate': 1.563008872165784e-05, 'batch_size': 6851, 'regularizer': 0.0005961030210923101, 'initializer': 'he_normal', 'activation': 'leaky_relu'}. Best is trial 2 with value: 0.7467948717948718.\n",
      "24/24 [==============================] - 0s 4ms/step\n"
     ]
    },
    {
     "name": "stderr",
     "output_type": "stream",
     "text": [
      "Best trial: 0. Best value: 0.763425:  10%|█         | 1/10 [03:08<18:06, 120.68s/it]"
     ]
    },
    {
     "name": "stdout",
     "output_type": "stream",
     "text": [
      "Validation F1 score: 0.7129629629629628\n",
      "[I 2024-04-14 14:15:13,473] Trial 6 finished with value: 0.7129629629629628 and parameters: {'learning_rate': 0.0005384220940836826, 'batch_size': 6851, 'regularizer': 0.0008635296186829102, 'initializer': 'glorot_normal', 'activation': 'relu'}. Best is trial 5 with value: 0.7506925207756233.\n",
      "24/24 [==============================] - 0s 2ms/step\n"
     ]
    },
    {
     "name": "stderr",
     "output_type": "stream",
     "text": [
      "Best trial: 0. Best value: 0.763425:  10%|█         | 1/10 [03:08<18:06, 120.68s/it]"
     ]
    },
    {
     "name": "stdout",
     "output_type": "stream",
     "text": [
      "Validation F1 score: 0.0\n",
      "[I 2024-04-14 14:15:13,592] Trial 4 finished with value: 0.0 and parameters: {'learning_rate': 5.419752755310054e-05, 'batch_size': 6851, 'regularizer': 0.003319974919531728, 'initializer': 'glorot_normal', 'activation': 'gelu'}. Best is trial 2 with value: 0.7467948717948718.\n",
      "24/24 [==============================] - 0s 3ms/step\n"
     ]
    },
    {
     "name": "stderr",
     "output_type": "stream",
     "text": [
      "Best trial: 0. Best value: 0.763425:  10%|█         | 1/10 [03:16<18:06, 120.68s/it]"
     ]
    },
    {
     "name": "stdout",
     "output_type": "stream",
     "text": [
      "Validation F1 score: 0.6256860592755213\n",
      "[I 2024-04-14 14:15:21,121] Trial 5 finished with value: 0.6256860592755213 and parameters: {'learning_rate': 2.2054157595609905e-05, 'batch_size': 3426, 'regularizer': 0.0009668895574038443, 'initializer': 'he_normal', 'activation': 'relu'}. Best is trial 2 with value: 0.7467948717948718.\n",
      "24/24 [==============================] - 0s 2ms/step\n"
     ]
    },
    {
     "name": "stderr",
     "output_type": "stream",
     "text": [
      "Best trial: 0. Best value: 0.763425:  10%|█         | 1/10 [03:28<18:06, 120.68s/it]"
     ]
    },
    {
     "name": "stdout",
     "output_type": "stream",
     "text": [
      "Validation F1 score: 0.17297297297297298\n",
      "[I 2024-04-14 14:15:33,703] Trial 6 finished with value: 0.17297297297297298 and parameters: {'learning_rate': 2.4977115111776724e-05, 'batch_size': 6851, 'regularizer': 2.000894670113348e-05, 'initializer': 'glorot_normal', 'activation': 'leaky_relu'}. Best is trial 2 with value: 0.7467948717948718.\n",
      "24/24 [==============================] - 0s 3ms/step\n"
     ]
    },
    {
     "name": "stderr",
     "output_type": "stream",
     "text": [
      "Best trial: 0. Best value: 0.763425:  10%|█         | 1/10 [03:35<18:06, 120.68s/it]"
     ]
    },
    {
     "name": "stdout",
     "output_type": "stream",
     "text": [
      "Validation F1 score: 0.6965944272445821\n",
      "[I 2024-04-14 14:15:40,877] Trial 7 finished with value: 0.6965944272445821 and parameters: {'learning_rate': 0.0005136398522852859, 'batch_size': 1713, 'regularizer': 0.00177504488160186, 'initializer': 'he_normal', 'activation': 'relu'}. Best is trial 5 with value: 0.7506925207756233.\n",
      "24/24 [==============================] - 0s 1ms/step\n"
     ]
    },
    {
     "name": "stderr",
     "output_type": "stream",
     "text": [
      "Best trial: 0. Best value: 0.763425:  10%|█         | 1/10 [03:37<18:06, 120.68s/it]"
     ]
    },
    {
     "name": "stdout",
     "output_type": "stream",
     "text": [
      "Validation F1 score: 0.6690909090909091\n",
      "[I 2024-04-14 14:15:42,125] Trial 7 finished with value: 0.6690909090909091 and parameters: {'learning_rate': 3.7039488919809304e-05, 'batch_size': 1713, 'regularizer': 0.00034105357391100397, 'initializer': 'glorot_normal', 'activation': 'relu'}. Best is trial 2 with value: 0.7467948717948718.\n",
      "24/24 [==============================] - 0s 2ms/step\n"
     ]
    },
    {
     "name": "stderr",
     "output_type": "stream",
     "text": [
      "Best trial: 0. Best value: 0.763425:  10%|█         | 1/10 [03:50<18:06, 120.68s/it]"
     ]
    },
    {
     "name": "stdout",
     "output_type": "stream",
     "text": [
      "Validation F1 score: 0.7573415765069552\n",
      "[I 2024-04-14 14:15:55,673] Trial 8 finished with value: 0.7573415765069552 and parameters: {'learning_rate': 0.00017401924542530446, 'batch_size': 1713, 'regularizer': 0.0008383022017190204, 'initializer': 'glorot_normal', 'activation': 'leaky_relu'}. Best is trial 8 with value: 0.7573415765069552.\n",
      "24/24 [==============================] - 0s 5ms/step\n"
     ]
    },
    {
     "name": "stderr",
     "output_type": "stream",
     "text": [
      "Best trial: 0. Best value: 0.763425:  10%|█         | 1/10 [04:00<18:06, 120.68s/it]"
     ]
    },
    {
     "name": "stdout",
     "output_type": "stream",
     "text": [
      "Validation F1 score: 0.7611464968152866\n",
      "[I 2024-04-14 14:16:06,009] Trial 8 finished with value: 0.7611464968152866 and parameters: {'learning_rate': 0.00011664073323730802, 'batch_size': 6851, 'regularizer': 5.872318506686078e-06, 'initializer': 'he_normal', 'activation': 'leaky_relu'}. Best is trial 8 with value: 0.7611464968152866.\n",
      "24/24 [==============================] - 0s 2ms/step\n"
     ]
    },
    {
     "name": "stderr",
     "output_type": "stream",
     "text": [
      "Best trial: 0. Best value: 0.763425:  20%|██        | 2/10 [04:02<16:10, 121.28s/it]"
     ]
    },
    {
     "name": "stdout",
     "output_type": "stream",
     "text": [
      "Validation F1 score: 0.0\n",
      "[I 2024-04-14 14:16:07,423] Trial 9 finished with value: 0.0 and parameters: {'learning_rate': 1.556821952296944e-05, 'batch_size': 3426, 'regularizer': 0.0002814490512125822, 'initializer': 'glorot_normal', 'activation': 'gelu'}. Best is trial 8 with value: 0.7573415765069552.\n",
      "-> Best score: 0.7573415765069552\n",
      "-> Optimal hyperparameters: \n",
      "{'activation': 'leaky_relu',\n",
      " 'batch_size': 1713,\n",
      " 'initializer': 'glorot_normal',\n",
      " 'learning_rate': 0.00017401924542530446,\n",
      " 'regularizer': 0.0008383022017190204}\n",
      "[I 2024-04-14 14:16:07,429] Trial 2 finished with value: 0.7573415765069552 and parameters: {'n1scale': 4, 'n2scale': 8, 'n3scale': 5, 'n4scale': 5}. Best is trial 0 with value: 0.7634252539912917.\n",
      "Testing network shape [2003, 8, 256, 1024, 8, 1]\n",
      "[I 2024-04-14 14:16:07,439] A new study created in memory with name: network_pickup\n",
      "24/24 [==============================] - 0s 1ms/step\n"
     ]
    },
    {
     "name": "stderr",
     "output_type": "stream",
     "text": [
      "Best trial: 0. Best value: 0.763425:  20%|██        | 2/10 [04:20<16:10, 121.28s/it]"
     ]
    },
    {
     "name": "stdout",
     "output_type": "stream",
     "text": [
      "Validation F1 score: 0.6690391459074734\n",
      "[I 2024-04-14 14:16:25,256] Trial 0 finished with value: 0.6690391459074734 and parameters: {'learning_rate': 3.280250226137728e-05, 'batch_size': 1713, 'regularizer': 0.0031637955438389865, 'initializer': 'glorot_normal', 'activation': 'relu'}. Best is trial 0 with value: 0.6690391459074734.\n",
      "24/24 [==============================] - 0s 7ms/step\n"
     ]
    },
    {
     "name": "stderr",
     "output_type": "stream",
     "text": [
      "Best trial: 0. Best value: 0.763425:  30%|███       | 3/10 [04:23<08:49, 75.65s/it] "
     ]
    },
    {
     "name": "stdout",
     "output_type": "stream",
     "text": [
      "Validation F1 score: 0.7448494453248812\n",
      "[I 2024-04-14 14:16:28,772] Trial 9 finished with value: 0.7448494453248812 and parameters: {'learning_rate': 0.0003822077363247227, 'batch_size': 6851, 'regularizer': 1.4105093047623984e-05, 'initializer': 'he_normal', 'activation': 'gelu'}. Best is trial 8 with value: 0.7611464968152866.\n",
      "-> Best score: 0.7611464968152866\n",
      "-> Optimal hyperparameters: \n",
      "{'activation': 'leaky_relu',\n",
      " 'batch_size': 6851,\n",
      " 'initializer': 'he_normal',\n",
      " 'learning_rate': 0.00011664073323730802,\n",
      " 'regularizer': 5.872318506686078e-06}\n",
      "[I 2024-04-14 14:16:28,776] Trial 1 finished with value: 0.7611464968152866 and parameters: {'n1scale': 10, 'n2scale': 8, 'n3scale': 4, 'n4scale': 9}. Best is trial 0 with value: 0.7634252539912917.\n",
      "Testing network shape [2003, 1024, 128, 128, 1024, 1]\n",
      "[I 2024-04-14 14:16:28,787] A new study created in memory with name: network_pickup\n",
      "24/24 [==============================] - 0s 3ms/step\n"
     ]
    },
    {
     "name": "stderr",
     "output_type": "stream",
     "text": [
      "Best trial: 0. Best value: 0.763425:  30%|███       | 3/10 [04:27<08:49, 75.65s/it]"
     ]
    },
    {
     "name": "stdout",
     "output_type": "stream",
     "text": [
      "Validation F1 score: 0.7382550335570471\n",
      "[I 2024-04-14 14:16:32,535] Trial 1 finished with value: 0.7382550335570471 and parameters: {'learning_rate': 0.0002489514303720567, 'batch_size': 1713, 'regularizer': 7.206782123904582e-05, 'initializer': 'glorot_normal', 'activation': 'gelu'}. Best is trial 1 with value: 0.7382550335570471.\n",
      "24/24 [==============================] - 0s 4ms/step\n"
     ]
    },
    {
     "name": "stderr",
     "output_type": "stream",
     "text": [
      "Best trial: 0. Best value: 0.763425:  30%|███       | 3/10 [04:36<08:49, 75.65s/it]"
     ]
    },
    {
     "name": "stdout",
     "output_type": "stream",
     "text": [
      "Validation F1 score: 0.735202492211838\n",
      "[I 2024-04-14 14:16:41,098] Trial 2 finished with value: 0.735202492211838 and parameters: {'learning_rate': 0.0008292634201472954, 'batch_size': 3426, 'regularizer': 1.732465844613249e-06, 'initializer': 'glorot_normal', 'activation': 'leaky_relu'}. Best is trial 1 with value: 0.7382550335570471.\n",
      "24/24 [==============================] - 0s 7ms/step\n"
     ]
    },
    {
     "name": "stderr",
     "output_type": "stream",
     "text": [
      "Best trial: 0. Best value: 0.763425:  30%|███       | 3/10 [04:57<08:49, 75.65s/it]"
     ]
    },
    {
     "name": "stdout",
     "output_type": "stream",
     "text": [
      "Validation F1 score: 0.5161290322580645\n",
      "[I 2024-04-14 14:17:02,648] Trial 0 finished with value: 0.5161290322580645 and parameters: {'learning_rate': 1.158498116646329e-05, 'batch_size': 6851, 'regularizer': 0.00033388061185077577, 'initializer': 'glorot_normal', 'activation': 'gelu'}. Best is trial 0 with value: 0.5161290322580645.\n",
      "24/24 [==============================] - 0s 2ms/step\n"
     ]
    },
    {
     "name": "stderr",
     "output_type": "stream",
     "text": [
      "Best trial: 0. Best value: 0.763425:  30%|███       | 3/10 [05:01<08:49, 75.65s/it]"
     ]
    },
    {
     "name": "stdout",
     "output_type": "stream",
     "text": [
      "Validation F1 score: 0.7378640776699028\n",
      "[I 2024-04-14 14:17:06,553] Trial 3 finished with value: 0.7378640776699028 and parameters: {'learning_rate': 4.7789742844268024e-05, 'batch_size': 1713, 'regularizer': 0.0018426917399818408, 'initializer': 'he_normal', 'activation': 'gelu'}. Best is trial 1 with value: 0.7382550335570471.\n",
      "24/24 [==============================] - 0s 7ms/step\n",
      "Validation F1 score: 0.0\n"
     ]
    },
    {
     "name": "stderr",
     "output_type": "stream",
     "text": [
      "Best trial: 0. Best value: 0.763425:  30%|███       | 3/10 [05:25<08:49, 75.65s/it]"
     ]
    },
    {
     "name": "stdout",
     "output_type": "stream",
     "text": [
      "[I 2024-04-14 14:17:30,116] Trial 4 finished with value: 0.0 and parameters: {'learning_rate': 4.294238003504748e-05, 'batch_size': 6851, 'regularizer': 6.93711028296316e-05, 'initializer': 'glorot_normal', 'activation': 'gelu'}. Best is trial 1 with value: 0.7382550335570471.\n",
      "24/24 [==============================] - 0s 3ms/step\n"
     ]
    },
    {
     "name": "stderr",
     "output_type": "stream",
     "text": [
      "Best trial: 0. Best value: 0.763425:  30%|███       | 3/10 [05:38<08:49, 75.65s/it]"
     ]
    },
    {
     "name": "stdout",
     "output_type": "stream",
     "text": [
      "Validation F1 score: 0.7253086419753086\n",
      "[I 2024-04-14 14:17:43,847] Trial 5 finished with value: 0.7253086419753086 and parameters: {'learning_rate': 5.446572921433292e-05, 'batch_size': 6851, 'regularizer': 0.006918929740041902, 'initializer': 'he_normal', 'activation': 'leaky_relu'}. Best is trial 1 with value: 0.7382550335570471.\n",
      "24/24 [==============================] - 0s 2ms/step\n"
     ]
    },
    {
     "name": "stderr",
     "output_type": "stream",
     "text": [
      "Best trial: 0. Best value: 0.763425:  30%|███       | 3/10 [05:47<08:49, 75.65s/it]"
     ]
    },
    {
     "name": "stdout",
     "output_type": "stream",
     "text": [
      "Validation F1 score: 0.7336377473363774\n",
      "[I 2024-04-14 14:17:52,606] Trial 6 finished with value: 0.7336377473363774 and parameters: {'learning_rate': 3.531861848050957e-05, 'batch_size': 1713, 'regularizer': 1.8759374018886633e-05, 'initializer': 'glorot_normal', 'activation': 'leaky_relu'}. Best is trial 1 with value: 0.7382550335570471.\n",
      "24/24 [==============================] - 0s 1ms/step\n"
     ]
    },
    {
     "name": "stderr",
     "output_type": "stream",
     "text": [
      "Best trial: 0. Best value: 0.763425:  30%|███       | 3/10 [05:50<08:49, 75.65s/it]"
     ]
    },
    {
     "name": "stdout",
     "output_type": "stream",
     "text": [
      "Validation F1 score: 0.7578616352201258\n",
      "[I 2024-04-14 14:17:56,010] Trial 7 finished with value: 0.7578616352201258 and parameters: {'learning_rate': 0.0005563881236415957, 'batch_size': 3426, 'regularizer': 0.0002996219678021009, 'initializer': 'glorot_normal', 'activation': 'leaky_relu'}. Best is trial 7 with value: 0.7578616352201258.\n",
      "24/24 [==============================] - 0s 1ms/step\n"
     ]
    },
    {
     "name": "stderr",
     "output_type": "stream",
     "text": [
      "Best trial: 0. Best value: 0.763425:  30%|███       | 3/10 [05:58<08:49, 75.65s/it]"
     ]
    },
    {
     "name": "stdout",
     "output_type": "stream",
     "text": [
      "Validation F1 score: 0.5611222444889781\n",
      "[I 2024-04-14 14:18:03,152] Trial 8 finished with value: 0.5611222444889781 and parameters: {'learning_rate': 2.4289464016218855e-05, 'batch_size': 3426, 'regularizer': 0.0005599257362345532, 'initializer': 'he_normal', 'activation': 'relu'}. Best is trial 7 with value: 0.7578616352201258.\n",
      "24/24 [==============================] - 0s 2ms/step\n"
     ]
    },
    {
     "name": "stderr",
     "output_type": "stream",
     "text": [
      "Best trial: 0. Best value: 0.763425:  40%|████      | 4/10 [06:04<08:33, 85.61s/it]"
     ]
    },
    {
     "name": "stdout",
     "output_type": "stream",
     "text": [
      "Validation F1 score: 0.7378640776699028\n",
      "[I 2024-04-14 14:18:09,654] Trial 9 finished with value: 0.7378640776699028 and parameters: {'learning_rate': 0.0003694890552918979, 'batch_size': 6851, 'regularizer': 0.0016401653072228909, 'initializer': 'he_normal', 'activation': 'relu'}. Best is trial 7 with value: 0.7578616352201258.\n",
      "-> Best score: 0.7578616352201258\n",
      "-> Optimal hyperparameters: \n",
      "{'activation': 'leaky_relu',\n",
      " 'batch_size': 3426,\n",
      " 'initializer': 'glorot_normal',\n",
      " 'learning_rate': 0.0005563881236415957,\n",
      " 'regularizer': 0.0002996219678021009}\n",
      "[I 2024-04-14 14:18:09,658] Trial 3 finished with value: 0.7578616352201258 and parameters: {'n1scale': 3, 'n2scale': 8, 'n3scale': 10, 'n4scale': 3}. Best is trial 0 with value: 0.7634252539912917.\n",
      "Testing network shape [2003, 32, 32, 8, 512, 1]\n",
      "[I 2024-04-14 14:18:09,664] A new study created in memory with name: network_pickup\n",
      "24/24 [==============================] - 0s 1ms/step\n"
     ]
    },
    {
     "name": "stderr",
     "output_type": "stream",
     "text": [
      "Best trial: 0. Best value: 0.763425:  40%|████      | 4/10 [06:08<08:33, 85.61s/it]"
     ]
    },
    {
     "name": "stdout",
     "output_type": "stream",
     "text": [
      "Validation F1 score: 0.707641196013289\n",
      "[I 2024-04-14 14:18:13,965] Trial 0 finished with value: 0.707641196013289 and parameters: {'learning_rate': 6.581662986006931e-05, 'batch_size': 6851, 'regularizer': 1.546397495630297e-05, 'initializer': 'he_normal', 'activation': 'leaky_relu'}. Best is trial 0 with value: 0.707641196013289.\n",
      "24/24 [==============================] - 0s 1ms/step\n"
     ]
    },
    {
     "name": "stderr",
     "output_type": "stream",
     "text": [
      "Best trial: 0. Best value: 0.763425:  40%|████      | 4/10 [06:12<08:33, 85.61s/it]"
     ]
    },
    {
     "name": "stdout",
     "output_type": "stream",
     "text": [
      "Validation F1 score: 0.7419847328244275\n",
      "[I 2024-04-14 14:18:17,499] Trial 1 finished with value: 0.7419847328244275 and parameters: {'learning_rate': 0.0006041598378829182, 'batch_size': 3426, 'regularizer': 0.0017527101584776526, 'initializer': 'he_normal', 'activation': 'relu'}. Best is trial 1 with value: 0.7419847328244275.\n",
      "24/24 [==============================] - 0s 942us/step\n"
     ]
    },
    {
     "name": "stderr",
     "output_type": "stream",
     "text": [
      "Best trial: 0. Best value: 0.763425:  40%|████      | 4/10 [06:15<08:33, 85.61s/it]"
     ]
    },
    {
     "name": "stdout",
     "output_type": "stream",
     "text": [
      "Validation F1 score: 0.5989304812834225\n",
      "[I 2024-04-14 14:18:20,806] Trial 2 finished with value: 0.5989304812834225 and parameters: {'learning_rate': 1.71172437389003e-05, 'batch_size': 6851, 'regularizer': 1.4948604730317342e-06, 'initializer': 'glorot_normal', 'activation': 'relu'}. Best is trial 1 with value: 0.7419847328244275.\n",
      "24/24 [==============================] - 0s 979us/step\n"
     ]
    },
    {
     "name": "stderr",
     "output_type": "stream",
     "text": [
      "Best trial: 0. Best value: 0.763425:  40%|████      | 4/10 [06:19<08:33, 85.61s/it]"
     ]
    },
    {
     "name": "stdout",
     "output_type": "stream",
     "text": [
      "Validation F1 score: 0.6590476190476191\n",
      "[I 2024-04-14 14:18:24,090] Trial 3 finished with value: 0.6590476190476191 and parameters: {'learning_rate': 0.00011893699931531244, 'batch_size': 6851, 'regularizer': 2.046424435594434e-05, 'initializer': 'glorot_normal', 'activation': 'leaky_relu'}. Best is trial 1 with value: 0.7419847328244275.\n",
      "24/24 [==============================] - 0s 4ms/step\n"
     ]
    },
    {
     "name": "stderr",
     "output_type": "stream",
     "text": [
      "Best trial: 0. Best value: 0.763425:  40%|████      | 4/10 [06:22<08:33, 85.61s/it]"
     ]
    },
    {
     "name": "stdout",
     "output_type": "stream",
     "text": [
      "Validation F1 score: 0.720257234726688\n",
      "[I 2024-04-14 14:18:27,498] Trial 1 finished with value: 0.720257234726688 and parameters: {'learning_rate': 0.00011543458334247587, 'batch_size': 1713, 'regularizer': 0.0018888480472503985, 'initializer': 'he_normal', 'activation': 'gelu'}. Best is trial 1 with value: 0.720257234726688.\n",
      "24/24 [==============================] - 0s 2ms/step\n"
     ]
    },
    {
     "name": "stderr",
     "output_type": "stream",
     "text": [
      "Best trial: 0. Best value: 0.763425:  40%|████      | 4/10 [06:23<08:33, 85.61s/it]"
     ]
    },
    {
     "name": "stdout",
     "output_type": "stream",
     "text": [
      "Validation F1 score: 0.05232558139534883\n",
      "[I 2024-04-14 14:18:28,402] Trial 4 finished with value: 0.05232558139534883 and parameters: {'learning_rate': 1.4340406944188447e-05, 'batch_size': 3426, 'regularizer': 3.512827728000349e-05, 'initializer': 'glorot_normal', 'activation': 'leaky_relu'}. Best is trial 1 with value: 0.7419847328244275.\n",
      "24/24 [==============================] - 0s 3ms/step\n"
     ]
    },
    {
     "name": "stderr",
     "output_type": "stream",
     "text": [
      "Best trial: 0. Best value: 0.763425:  40%|████      | 4/10 [06:36<08:33, 85.61s/it]"
     ]
    },
    {
     "name": "stdout",
     "output_type": "stream",
     "text": [
      "Validation F1 score: 0.7432216905901115\n",
      "[I 2024-04-14 14:18:41,375] Trial 5 finished with value: 0.7432216905901115 and parameters: {'learning_rate': 0.00022394753424933683, 'batch_size': 3426, 'regularizer': 9.509835820822945e-05, 'initializer': 'he_normal', 'activation': 'leaky_relu'}. Best is trial 5 with value: 0.7432216905901115.\n",
      "24/24 [==============================] - 0s 2ms/step\n"
     ]
    },
    {
     "name": "stderr",
     "output_type": "stream",
     "text": [
      "Best trial: 0. Best value: 0.763425:  40%|████      | 4/10 [06:45<08:33, 85.61s/it]"
     ]
    },
    {
     "name": "stdout",
     "output_type": "stream",
     "text": [
      "Validation F1 score: 0.7464566929133859\n",
      "[I 2024-04-14 14:18:50,991] Trial 6 finished with value: 0.7464566929133859 and parameters: {'learning_rate': 0.00031948130804064924, 'batch_size': 1713, 'regularizer': 2.4714956959114894e-05, 'initializer': 'glorot_normal', 'activation': 'leaky_relu'}. Best is trial 6 with value: 0.7464566929133859.\n",
      "24/24 [==============================] - 0s 4ms/step\n"
     ]
    },
    {
     "name": "stderr",
     "output_type": "stream",
     "text": [
      "Best trial: 0. Best value: 0.763425:  40%|████      | 4/10 [06:55<08:33, 85.61s/it]"
     ]
    },
    {
     "name": "stdout",
     "output_type": "stream",
     "text": [
      "Validation F1 score: 0.7350993377483444\n",
      "[I 2024-04-14 14:19:00,854] Trial 2 finished with value: 0.7350993377483444 and parameters: {'learning_rate': 9.08227335652255e-05, 'batch_size': 3426, 'regularizer': 3.124191622275227e-06, 'initializer': 'glorot_normal', 'activation': 'gelu'}. Best is trial 2 with value: 0.7350993377483444.\n",
      "24/24 [==============================] - 0s 2ms/step\n"
     ]
    },
    {
     "name": "stderr",
     "output_type": "stream",
     "text": [
      "Best trial: 0. Best value: 0.763425:  40%|████      | 4/10 [06:56<08:33, 85.61s/it]"
     ]
    },
    {
     "name": "stdout",
     "output_type": "stream",
     "text": [
      "Validation F1 score: 0.7492163009404389\n",
      "[I 2024-04-14 14:19:01,986] Trial 7 finished with value: 0.7492163009404389 and parameters: {'learning_rate': 9.515166247845183e-05, 'batch_size': 1713, 'regularizer': 1.461157975422263e-05, 'initializer': 'he_normal', 'activation': 'leaky_relu'}. Best is trial 7 with value: 0.7492163009404389.\n",
      "24/24 [==============================] - 0s 5ms/step\n"
     ]
    },
    {
     "name": "stderr",
     "output_type": "stream",
     "text": [
      "Best trial: 0. Best value: 0.763425:  40%|████      | 4/10 [07:05<08:33, 85.61s/it]"
     ]
    },
    {
     "name": "stdout",
     "output_type": "stream",
     "text": [
      "Validation F1 score: 0.7257240204429302\n",
      "[I 2024-04-14 14:19:10,068] Trial 3 finished with value: 0.7257240204429302 and parameters: {'learning_rate': 0.0005877905913031557, 'batch_size': 3426, 'regularizer': 2.655873559566997e-05, 'initializer': 'glorot_normal', 'activation': 'gelu'}. Best is trial 2 with value: 0.7350993377483444.\n",
      "24/24 [==============================] - 0s 3ms/step\n"
     ]
    },
    {
     "name": "stderr",
     "output_type": "stream",
     "text": [
      "Best trial: 0. Best value: 0.763425:  40%|████      | 4/10 [07:07<08:33, 85.61s/it]"
     ]
    },
    {
     "name": "stdout",
     "output_type": "stream",
     "text": [
      "Validation F1 score: 0.01791044776119403\n",
      "[I 2024-04-14 14:19:12,471] Trial 8 finished with value: 0.01791044776119403 and parameters: {'learning_rate': 6.789257866832584e-05, 'batch_size': 1713, 'regularizer': 0.006090274615797921, 'initializer': 'he_normal', 'activation': 'gelu'}. Best is trial 7 with value: 0.7492163009404389.\n",
      "24/24 [==============================] - 0s 2ms/step\n"
     ]
    },
    {
     "name": "stderr",
     "output_type": "stream",
     "text": [
      "Best trial: 0. Best value: 0.763425:  50%|█████     | 5/10 [07:17<06:44, 80.99s/it]"
     ]
    },
    {
     "name": "stdout",
     "output_type": "stream",
     "text": [
      "Validation F1 score: 0.18461538461538463\n",
      "[I 2024-04-14 14:19:22,458] Trial 9 finished with value: 0.18461538461538463 and parameters: {'learning_rate': 1.1006882432732054e-05, 'batch_size': 3426, 'regularizer': 8.378126306013229e-06, 'initializer': 'he_normal', 'activation': 'leaky_relu'}. Best is trial 7 with value: 0.7492163009404389.\n",
      "-> Best score: 0.7492163009404389\n",
      "-> Optimal hyperparameters: \n",
      "{'activation': 'leaky_relu',\n",
      " 'batch_size': 1713,\n",
      " 'initializer': 'he_normal',\n",
      " 'learning_rate': 9.515166247845183e-05,\n",
      " 'regularizer': 1.461157975422263e-05}\n",
      "[I 2024-04-14 14:19:22,464] Trial 5 finished with value: 0.7492163009404389 and parameters: {'n1scale': 5, 'n2scale': 5, 'n3scale': 3, 'n4scale': 9}. Best is trial 0 with value: 0.7634252539912917.\n",
      "Testing network shape [2003, 8, 64, 512, 64, 1]\n",
      "[I 2024-04-14 14:19:22,481] A new study created in memory with name: network_pickup\n",
      "24/24 [==============================] - 0s 4ms/step\n"
     ]
    },
    {
     "name": "stderr",
     "output_type": "stream",
     "text": [
      "Best trial: 0. Best value: 0.763425:  50%|█████     | 5/10 [07:27<06:44, 80.99s/it]"
     ]
    },
    {
     "name": "stdout",
     "output_type": "stream",
     "text": [
      "Validation F1 score: 0.6947368421052632\n",
      "[I 2024-04-14 14:19:32,056] Trial 0 finished with value: 0.6947368421052632 and parameters: {'learning_rate': 8.070905122602729e-05, 'batch_size': 6851, 'regularizer': 8.401522968366255e-05, 'initializer': 'glorot_normal', 'activation': 'relu'}. Best is trial 0 with value: 0.6947368421052632.\n",
      "24/24 [==============================] - 0s 5ms/step\n"
     ]
    },
    {
     "name": "stderr",
     "output_type": "stream",
     "text": [
      "Best trial: 0. Best value: 0.763425:  50%|█████     | 5/10 [07:37<06:44, 80.99s/it]"
     ]
    },
    {
     "name": "stdout",
     "output_type": "stream",
     "text": [
      "Validation F1 score: 0.706766917293233\n",
      "[I 2024-04-14 14:19:42,202] Trial 4 finished with value: 0.706766917293233 and parameters: {'learning_rate': 0.0008681686671574715, 'batch_size': 1713, 'regularizer': 0.003914385183540285, 'initializer': 'he_normal', 'activation': 'relu'}. Best is trial 2 with value: 0.7350993377483444.\n",
      "24/24 [==============================] - 0s 2ms/step\n"
     ]
    },
    {
     "name": "stderr",
     "output_type": "stream",
     "text": [
      "Best trial: 0. Best value: 0.763425:  50%|█████     | 5/10 [07:37<06:44, 80.99s/it]"
     ]
    },
    {
     "name": "stdout",
     "output_type": "stream",
     "text": [
      "Validation F1 score: 0.33497536945812806\n",
      "[I 2024-04-14 14:19:42,713] Trial 1 finished with value: 0.33497536945812806 and parameters: {'learning_rate': 2.196112436541033e-05, 'batch_size': 3426, 'regularizer': 0.0024486911644769293, 'initializer': 'glorot_normal', 'activation': 'relu'}. Best is trial 0 with value: 0.6947368421052632.\n",
      "24/24 [==============================] - 0s 4ms/step\n"
     ]
    },
    {
     "name": "stderr",
     "output_type": "stream",
     "text": [
      "Best trial: 0. Best value: 0.763425:  50%|█████     | 5/10 [07:52<06:44, 80.99s/it]"
     ]
    },
    {
     "name": "stdout",
     "output_type": "stream",
     "text": [
      "Validation F1 score: 0.7500000000000001\n",
      "[I 2024-04-14 14:19:57,964] Trial 5 finished with value: 0.7500000000000001 and parameters: {'learning_rate': 0.00019141828810052863, 'batch_size': 6851, 'regularizer': 2.360197565008376e-06, 'initializer': 'he_normal', 'activation': 'leaky_relu'}. Best is trial 5 with value: 0.7500000000000001.\n",
      "24/24 [==============================] - 0s 2ms/step\n"
     ]
    },
    {
     "name": "stderr",
     "output_type": "stream",
     "text": [
      "Best trial: 0. Best value: 0.763425:  50%|█████     | 5/10 [07:54<06:44, 80.99s/it]"
     ]
    },
    {
     "name": "stdout",
     "output_type": "stream",
     "text": [
      "Validation F1 score: 0.0\n",
      "[I 2024-04-14 14:19:59,424] Trial 2 finished with value: 0.0 and parameters: {'learning_rate': 1.3299980257777154e-05, 'batch_size': 3426, 'regularizer': 0.000501385362172871, 'initializer': 'glorot_normal', 'activation': 'gelu'}. Best is trial 0 with value: 0.6947368421052632.\n",
      "24/24 [==============================] - 0s 4ms/step\n"
     ]
    },
    {
     "name": "stderr",
     "output_type": "stream",
     "text": [
      "Best trial: 0. Best value: 0.763425:  50%|█████     | 5/10 [08:16<06:44, 80.99s/it]"
     ]
    },
    {
     "name": "stdout",
     "output_type": "stream",
     "text": [
      "Validation F1 score: 0.733044733044733\n",
      "[I 2024-04-14 14:20:21,731] Trial 3 finished with value: 0.733044733044733 and parameters: {'learning_rate': 4.7145796876920065e-05, 'batch_size': 6851, 'regularizer': 0.0005447214452403327, 'initializer': 'he_normal', 'activation': 'leaky_relu'}. Best is trial 3 with value: 0.733044733044733.\n",
      "24/24 [==============================] - 0s 7ms/step\n"
     ]
    },
    {
     "name": "stderr",
     "output_type": "stream",
     "text": [
      "Best trial: 0. Best value: 0.763425:  50%|█████     | 5/10 [08:27<06:44, 80.99s/it]"
     ]
    },
    {
     "name": "stdout",
     "output_type": "stream",
     "text": [
      "Validation F1 score: 0.5446808510638298\n",
      "[I 2024-04-14 14:20:32,612] Trial 6 finished with value: 0.5446808510638298 and parameters: {'learning_rate': 2.02210228417469e-05, 'batch_size': 6851, 'regularizer': 0.00036964752559740064, 'initializer': 'glorot_normal', 'activation': 'gelu'}. Best is trial 5 with value: 0.7500000000000001.\n",
      "24/24 [==============================] - 0s 3ms/step\n"
     ]
    },
    {
     "name": "stderr",
     "output_type": "stream",
     "text": [
      "Best trial: 0. Best value: 0.763425:  50%|█████     | 5/10 [08:29<06:44, 80.99s/it]"
     ]
    },
    {
     "name": "stdout",
     "output_type": "stream",
     "text": [
      "Validation F1 score: 0.7608346709470305\n",
      "[I 2024-04-14 14:20:34,606] Trial 4 finished with value: 0.7608346709470305 and parameters: {'learning_rate': 0.00023618883715610607, 'batch_size': 3426, 'regularizer': 0.0002994004532469155, 'initializer': 'glorot_normal', 'activation': 'relu'}. Best is trial 4 with value: 0.7608346709470305.\n",
      "24/24 [==============================] - 0s 5ms/step\n"
     ]
    },
    {
     "name": "stderr",
     "output_type": "stream",
     "text": [
      "Best trial: 0. Best value: 0.763425:  50%|█████     | 5/10 [08:47<06:44, 80.99s/it]"
     ]
    },
    {
     "name": "stdout",
     "output_type": "stream",
     "text": [
      "Validation F1 score: 0.5631469979296067\n",
      "[I 2024-04-14 14:20:52,878] Trial 5 finished with value: 0.5631469979296067 and parameters: {'learning_rate': 2.339672488325484e-05, 'batch_size': 1713, 'regularizer': 0.002944344429945326, 'initializer': 'he_normal', 'activation': 'gelu'}. Best is trial 4 with value: 0.7608346709470305.\n",
      "24/24 [==============================] - 0s 7ms/step\n"
     ]
    },
    {
     "name": "stderr",
     "output_type": "stream",
     "text": [
      "Best trial: 0. Best value: 0.763425:  50%|█████     | 5/10 [08:53<06:44, 80.99s/it]"
     ]
    },
    {
     "name": "stdout",
     "output_type": "stream",
     "text": [
      "Validation F1 score: 0.7020280811232449\n",
      "[I 2024-04-14 14:20:58,996] Trial 7 finished with value: 0.7020280811232449 and parameters: {'learning_rate': 0.0006885714189789352, 'batch_size': 1713, 'regularizer': 0.0003987124281643697, 'initializer': 'he_normal', 'activation': 'gelu'}. Best is trial 5 with value: 0.7500000000000001.\n",
      "24/24 [==============================] - 0s 5ms/step\n"
     ]
    },
    {
     "name": "stderr",
     "output_type": "stream",
     "text": [
      "Best trial: 0. Best value: 0.763425:  50%|█████     | 5/10 [09:01<06:44, 80.99s/it]"
     ]
    },
    {
     "name": "stdout",
     "output_type": "stream",
     "text": [
      "Validation F1 score: 0.7389312977099237\n",
      "[I 2024-04-14 14:21:06,466] Trial 6 finished with value: 0.7389312977099237 and parameters: {'learning_rate': 8.020088155107892e-05, 'batch_size': 1713, 'regularizer': 0.0009525443550331359, 'initializer': 'he_normal', 'activation': 'leaky_relu'}. Best is trial 4 with value: 0.7608346709470305.\n",
      "24/24 [==============================] - 0s 4ms/step\n"
     ]
    },
    {
     "name": "stderr",
     "output_type": "stream",
     "text": [
      "Best trial: 0. Best value: 0.763425:  50%|█████     | 5/10 [09:13<06:44, 80.99s/it]"
     ]
    },
    {
     "name": "stdout",
     "output_type": "stream",
     "text": [
      "Validation F1 score: 0.05780346820809248\n",
      "[I 2024-04-14 14:21:18,791] Trial 7 finished with value: 0.05780346820809248 and parameters: {'learning_rate': 1.1848125597541342e-05, 'batch_size': 6851, 'regularizer': 1.316807047915355e-06, 'initializer': 'he_normal', 'activation': 'relu'}. Best is trial 4 with value: 0.7608346709470305.\n",
      "24/24 [==============================] - 0s 3ms/step\n"
     ]
    },
    {
     "name": "stderr",
     "output_type": "stream",
     "text": [
      "                                                                                   \r"
     ]
    },
    {
     "name": "stdout",
     "output_type": "stream",
     "text": [
      "Validation F1 score: 0.7147335423197492\n",
      "24/24 [==============================] - ETA: 0s[I 2024-04-14 14:21:32,690] Trial 8 finished with value: 0.7147335423197492 and parameters: {'learning_rate': 7.138471572654611e-05, 'batch_size': 3426, 'regularizer': 0.0027531356633332528, 'initializer': 'he_normal', 'activation': 'leaky_relu'}. Best is trial 4 with value: 0.7608346709470305.\n"
     ]
    },
    {
     "name": "stderr",
     "output_type": "stream",
     "text": [
      "Best trial: 0. Best value: 0.763425:  50%|█████     | 5/10 [09:27<06:44, 80.99s/it]"
     ]
    },
    {
     "name": "stdout",
     "output_type": "stream",
     "text": [
      "24/24 [==============================] - 0s 5ms/step\n",
      "Validation F1 score: 0.7099697885196374\n"
     ]
    },
    {
     "name": "stderr",
     "output_type": "stream",
     "text": [
      "Best trial: 0. Best value: 0.763425:  50%|█████     | 5/10 [09:27<06:44, 80.99s/it]"
     ]
    },
    {
     "name": "stdout",
     "output_type": "stream",
     "text": [
      "[I 2024-04-14 14:21:32,898] Trial 8 finished with value: 0.7099697885196374 and parameters: {'learning_rate': 0.0003006566666347455, 'batch_size': 3426, 'regularizer': 0.0007748058861970709, 'initializer': 'glorot_normal', 'activation': 'relu'}. Best is trial 5 with value: 0.7500000000000001.\n",
      "24/24 [==============================] - 0s 5ms/step\n"
     ]
    },
    {
     "name": "stderr",
     "output_type": "stream",
     "text": [
      "Best trial: 0. Best value: 0.763425:  60%|██████    | 6/10 [09:32<06:37, 99.46s/it]"
     ]
    },
    {
     "name": "stdout",
     "output_type": "stream",
     "text": [
      "Validation F1 score: 0.7247278382581648\n",
      "[I 2024-04-14 14:21:37,761] Trial 9 finished with value: 0.7247278382581648 and parameters: {'learning_rate': 0.0007220735462640903, 'batch_size': 1713, 'regularizer': 0.00026178951011248926, 'initializer': 'he_normal', 'activation': 'relu'}. Best is trial 4 with value: 0.7608346709470305.\n",
      "-> Best score: 0.7608346709470305\n",
      "-> Optimal hyperparameters: \n",
      "{'activation': 'relu',\n",
      " 'batch_size': 3426,\n",
      " 'initializer': 'glorot_normal',\n",
      " 'learning_rate': 0.00023618883715610607,\n",
      " 'regularizer': 0.0002994004532469155}\n",
      "[I 2024-04-14 14:21:37,768] Trial 6 finished with value: 0.7608346709470305 and parameters: {'n1scale': 3, 'n2scale': 6, 'n3scale': 9, 'n4scale': 6}. Best is trial 0 with value: 0.7634252539912917.\n",
      "Testing network shape [2003, 32, 512, 1024, 256, 1]\n",
      "[I 2024-04-14 14:21:37,792] A new study created in memory with name: network_pickup\n",
      "24/24 [==============================] - 1s 14ms/step\n"
     ]
    },
    {
     "name": "stderr",
     "output_type": "stream",
     "text": [
      "Best trial: 0. Best value: 0.763425:  60%|██████    | 6/10 [09:58<06:37, 99.46s/it]"
     ]
    },
    {
     "name": "stdout",
     "output_type": "stream",
     "text": [
      "Validation F1 score: 0.7138047138047139\n",
      "[I 2024-04-14 14:22:03,083] Trial 0 finished with value: 0.7138047138047139 and parameters: {'learning_rate': 0.0005774954561473745, 'batch_size': 3426, 'regularizer': 0.0002060502259572292, 'initializer': 'glorot_normal', 'activation': 'gelu'}. Best is trial 0 with value: 0.7138047138047139.\n",
      "24/24 [==============================] - 0s 5ms/step\n"
     ]
    },
    {
     "name": "stderr",
     "output_type": "stream",
     "text": [
      "Best trial: 0. Best value: 0.763425:  70%|███████   | 7/10 [10:00<03:48, 76.05s/it]"
     ]
    },
    {
     "name": "stdout",
     "output_type": "stream",
     "text": [
      "Validation F1 score: 0.7376543209876543\n",
      "[I 2024-04-14 14:22:05,615] Trial 9 finished with value: 0.7376543209876543 and parameters: {'learning_rate': 0.00011106737901683934, 'batch_size': 3426, 'regularizer': 0.0005377612717564136, 'initializer': 'glorot_normal', 'activation': 'relu'}. Best is trial 5 with value: 0.7500000000000001.\n",
      "-> Best score: 0.7500000000000001\n",
      "-> Optimal hyperparameters: \n",
      "{'activation': 'leaky_relu',\n",
      " 'batch_size': 6851,\n",
      " 'initializer': 'he_normal',\n",
      " 'learning_rate': 0.00019141828810052863,\n",
      " 'regularizer': 2.360197565008376e-06}\n",
      "[I 2024-04-14 14:22:05,620] Trial 4 finished with value: 0.7500000000000001 and parameters: {'n1scale': 10, 'n2scale': 7, 'n3scale': 7, 'n4scale': 10}. Best is trial 0 with value: 0.7634252539912917.\n",
      "Testing network shape [2003, 32, 32, 128, 8, 1]\n",
      "[I 2024-04-14 14:22:05,630] A new study created in memory with name: network_pickup\n",
      "24/24 [==============================] - 0s 4ms/step\n"
     ]
    },
    {
     "name": "stderr",
     "output_type": "stream",
     "text": [
      "Best trial: 0. Best value: 0.763425:  70%|███████   | 7/10 [10:18<03:48, 76.05s/it]"
     ]
    },
    {
     "name": "stdout",
     "output_type": "stream",
     "text": [
      "Validation F1 score: 0.5819672131147541\n",
      "[I 2024-04-14 14:22:23,279] Trial 1 finished with value: 0.5819672131147541 and parameters: {'learning_rate': 6.345982214519259e-05, 'batch_size': 6851, 'regularizer': 0.0007253553204010905, 'initializer': 'glorot_normal', 'activation': 'relu'}. Best is trial 0 with value: 0.7138047138047139.\n",
      "24/24 [==============================] - 0s 4ms/step\n"
     ]
    },
    {
     "name": "stderr",
     "output_type": "stream",
     "text": [
      "Best trial: 0. Best value: 0.763425:  70%|███████   | 7/10 [10:25<03:48, 76.05s/it]"
     ]
    },
    {
     "name": "stdout",
     "output_type": "stream",
     "text": [
      "Validation F1 score: 0.6897810218978102\n",
      "[I 2024-04-14 14:22:30,172] Trial 0 finished with value: 0.6897810218978102 and parameters: {'learning_rate': 0.00010161996589102614, 'batch_size': 1713, 'regularizer': 4.664700903521434e-06, 'initializer': 'he_normal', 'activation': 'gelu'}. Best is trial 0 with value: 0.6897810218978102.\n",
      "24/24 [==============================] - 0s 4ms/step\n"
     ]
    },
    {
     "name": "stderr",
     "output_type": "stream",
     "text": [
      "Best trial: 0. Best value: 0.763425:  70%|███████   | 7/10 [10:38<03:48, 76.05s/it]"
     ]
    },
    {
     "name": "stdout",
     "output_type": "stream",
     "text": [
      "Validation F1 score: 0.7523809523809524\n",
      "[I 2024-04-14 14:22:43,876] Trial 1 finished with value: 0.7523809523809524 and parameters: {'learning_rate': 0.0005393988992703117, 'batch_size': 3426, 'regularizer': 4.030210507394522e-06, 'initializer': 'he_normal', 'activation': 'leaky_relu'}. Best is trial 1 with value: 0.7523809523809524.\n",
      "24/24 [==============================] - 0s 6ms/step\n"
     ]
    },
    {
     "name": "stderr",
     "output_type": "stream",
     "text": [
      "Best trial: 0. Best value: 0.763425:  70%|███████   | 7/10 [10:40<03:48, 76.05s/it]"
     ]
    },
    {
     "name": "stdout",
     "output_type": "stream",
     "text": [
      "Validation F1 score: 0.6527514231499052\n",
      "[I 2024-04-14 14:22:45,617] Trial 2 finished with value: 0.6527514231499052 and parameters: {'learning_rate': 0.0002136881676315757, 'batch_size': 6851, 'regularizer': 0.004381377014416434, 'initializer': 'he_normal', 'activation': 'gelu'}. Best is trial 0 with value: 0.7138047138047139.\n",
      "24/24 [==============================] - 0s 4ms/step\n"
     ]
    },
    {
     "name": "stderr",
     "output_type": "stream",
     "text": [
      "Best trial: 0. Best value: 0.763425:  70%|███████   | 7/10 [10:48<03:48, 76.05s/it]"
     ]
    },
    {
     "name": "stdout",
     "output_type": "stream",
     "text": [
      "Validation F1 score: 0.602020202020202\n",
      "[I 2024-04-14 14:22:54,012] Trial 2 finished with value: 0.602020202020202 and parameters: {'learning_rate': 0.0005917995541733174, 'batch_size': 6851, 'regularizer': 3.388820649260796e-05, 'initializer': 'glorot_normal', 'activation': 'gelu'}. Best is trial 1 with value: 0.7523809523809524.\n",
      "24/24 [==============================] - 0s 3ms/step\n"
     ]
    },
    {
     "name": "stderr",
     "output_type": "stream",
     "text": [
      "Best trial: 0. Best value: 0.763425:  70%|███████   | 7/10 [11:00<03:48, 76.05s/it]"
     ]
    },
    {
     "name": "stdout",
     "output_type": "stream",
     "text": [
      "Validation F1 score: 0.7079934747145187\n",
      "[I 2024-04-14 14:23:05,561] Trial 3 finished with value: 0.7079934747145187 and parameters: {'learning_rate': 4.41287332750752e-05, 'batch_size': 3426, 'regularizer': 0.007450047035464836, 'initializer': 'he_normal', 'activation': 'relu'}. Best is trial 0 with value: 0.7138047138047139.\n",
      "24/24 [==============================] - 0s 2ms/step\n"
     ]
    },
    {
     "name": "stderr",
     "output_type": "stream",
     "text": [
      "Best trial: 0. Best value: 0.763425:  70%|███████   | 7/10 [11:02<03:48, 76.05s/it]"
     ]
    },
    {
     "name": "stdout",
     "output_type": "stream",
     "text": [
      "Validation F1 score: 0.0\n",
      "[I 2024-04-14 14:23:07,067] Trial 3 finished with value: 0.0 and parameters: {'learning_rate': 8.743218334306584e-05, 'batch_size': 1713, 'regularizer': 0.0013428717045518425, 'initializer': 'glorot_normal', 'activation': 'gelu'}. Best is trial 1 with value: 0.7523809523809524.\n",
      "24/24 [==============================] - 0s 11ms/step\n"
     ]
    },
    {
     "name": "stderr",
     "output_type": "stream",
     "text": [
      "Best trial: 0. Best value: 0.763425:  70%|███████   | 7/10 [11:13<03:48, 76.05s/it]"
     ]
    },
    {
     "name": "stdout",
     "output_type": "stream",
     "text": [
      "Validation F1 score: 0.7435549525101763\n",
      "[I 2024-04-14 14:23:18,780] Trial 4 finished with value: 0.7435549525101763 and parameters: {'learning_rate': 5.400176902161931e-05, 'batch_size': 1713, 'regularizer': 0.002508124173659938, 'initializer': 'he_normal', 'activation': 'relu'}. Best is trial 1 with value: 0.7523809523809524.\n",
      "24/24 [==============================] - 0s 4ms/step\n"
     ]
    },
    {
     "name": "stderr",
     "output_type": "stream",
     "text": [
      "Best trial: 0. Best value: 0.763425:  70%|███████   | 7/10 [11:21<03:48, 76.05s/it]"
     ]
    },
    {
     "name": "stdout",
     "output_type": "stream",
     "text": [
      "Validation F1 score: 0.6833631484794275\n",
      "[I 2024-04-14 14:23:26,800] Trial 4 finished with value: 0.6833631484794275 and parameters: {'learning_rate': 2.86727991838332e-05, 'batch_size': 6851, 'regularizer': 4.3381870952526315e-06, 'initializer': 'glorot_normal', 'activation': 'leaky_relu'}. Best is trial 0 with value: 0.7138047138047139.\n",
      "24/24 [==============================] - 0s 2ms/step\n"
     ]
    },
    {
     "name": "stderr",
     "output_type": "stream",
     "text": [
      "Best trial: 0. Best value: 0.763425:  70%|███████   | 7/10 [11:23<03:48, 76.05s/it]"
     ]
    },
    {
     "name": "stdout",
     "output_type": "stream",
     "text": [
      "Validation F1 score: 0.6931407942238267\n",
      "[I 2024-04-14 14:23:28,352] Trial 5 finished with value: 0.6931407942238267 and parameters: {'learning_rate': 0.0002053831795345736, 'batch_size': 3426, 'regularizer': 0.0029194142697473516, 'initializer': 'glorot_normal', 'activation': 'leaky_relu'}. Best is trial 1 with value: 0.7523809523809524.\n",
      "24/24 [==============================] - 0s 6ms/step\n"
     ]
    },
    {
     "name": "stderr",
     "output_type": "stream",
     "text": [
      "Best trial: 0. Best value: 0.763425:  70%|███████   | 7/10 [11:33<03:48, 76.05s/it]"
     ]
    },
    {
     "name": "stdout",
     "output_type": "stream",
     "text": [
      "Validation F1 score: 0.7513513513513514\n",
      "[I 2024-04-14 14:23:38,517] Trial 6 finished with value: 0.7513513513513514 and parameters: {'learning_rate': 0.0003989129924905539, 'batch_size': 3426, 'regularizer': 0.0020056274809907714, 'initializer': 'glorot_normal', 'activation': 'relu'}. Best is trial 1 with value: 0.7523809523809524.\n",
      "24/24 [==============================] - 0s 1ms/step\n"
     ]
    },
    {
     "name": "stderr",
     "output_type": "stream",
     "text": [
      "Best trial: 0. Best value: 0.763425:  70%|███████   | 7/10 [11:43<03:48, 76.05s/it]"
     ]
    },
    {
     "name": "stdout",
     "output_type": "stream",
     "text": [
      "Validation F1 score: 0.7531645569620252\n",
      "[I 2024-04-14 14:23:48,907] Trial 7 finished with value: 0.7531645569620252 and parameters: {'learning_rate': 0.00030764342427890457, 'batch_size': 1713, 'regularizer': 5.456141491672829e-06, 'initializer': 'glorot_normal', 'activation': 'gelu'}. Best is trial 7 with value: 0.7531645569620252.\n",
      "24/24 [==============================] - 0s 3ms/step\n"
     ]
    },
    {
     "name": "stderr",
     "output_type": "stream",
     "text": [
      "Best trial: 0. Best value: 0.763425:  70%|███████   | 7/10 [11:44<03:48, 76.05s/it]"
     ]
    },
    {
     "name": "stdout",
     "output_type": "stream",
     "text": [
      "Validation F1 score: 0.7606973058637084\n",
      "[I 2024-04-14 14:23:49,534] Trial 5 finished with value: 0.7606973058637084 and parameters: {'learning_rate': 4.622330573291873e-05, 'batch_size': 1713, 'regularizer': 0.002122554142079363, 'initializer': 'he_normal', 'activation': 'relu'}. Best is trial 5 with value: 0.7606973058637084.\n",
      "24/24 [==============================] - 0s 4ms/step\n"
     ]
    },
    {
     "name": "stderr",
     "output_type": "stream",
     "text": [
      "Best trial: 0. Best value: 0.763425:  70%|███████   | 7/10 [11:54<03:48, 76.05s/it]"
     ]
    },
    {
     "name": "stdout",
     "output_type": "stream",
     "text": [
      "Validation F1 score: 0.17079889807162532\n",
      "[I 2024-04-14 14:23:59,760] Trial 8 finished with value: 0.17079889807162532 and parameters: {'learning_rate': 1.753493900867059e-05, 'batch_size': 1713, 'regularizer': 1.1731788103931013e-05, 'initializer': 'glorot_normal', 'activation': 'gelu'}. Best is trial 7 with value: 0.7531645569620252.\n",
      "24/24 [==============================] - 0s 2ms/step\n"
     ]
    },
    {
     "name": "stderr",
     "output_type": "stream",
     "text": [
      "Best trial: 0. Best value: 0.763425:  80%|████████  | 8/10 [12:04<03:02, 91.20s/it]"
     ]
    },
    {
     "name": "stdout",
     "output_type": "stream",
     "text": [
      "Validation F1 score: 0.7476635514018692\n",
      "[I 2024-04-14 14:24:09,244] Trial 9 finished with value: 0.7476635514018692 and parameters: {'learning_rate': 6.777056091085258e-05, 'batch_size': 3426, 'regularizer': 0.00032321420161973024, 'initializer': 'glorot_normal', 'activation': 'leaky_relu'}. Best is trial 7 with value: 0.7531645569620252.\n",
      "-> Best score: 0.7531645569620252\n",
      "-> Optimal hyperparameters: \n",
      "{'activation': 'gelu',\n",
      " 'batch_size': 1713,\n",
      " 'initializer': 'glorot_normal',\n",
      " 'learning_rate': 0.00030764342427890457,\n",
      " 'regularizer': 5.456141491672829e-06}\n",
      "[I 2024-04-14 14:24:09,251] Trial 8 finished with value: 0.7531645569620252 and parameters: {'n1scale': 5, 'n2scale': 5, 'n3scale': 7, 'n4scale': 3}. Best is trial 0 with value: 0.7634252539912917.\n",
      "Testing network shape [2003, 8, 8, 16, 8, 1]\n",
      "[I 2024-04-14 14:24:09,273] A new study created in memory with name: network_pickup\n",
      "24/24 [==============================] - 0s 3ms/step\n"
     ]
    },
    {
     "name": "stderr",
     "output_type": "stream",
     "text": [
      "Best trial: 0. Best value: 0.763425:  80%|████████  | 8/10 [12:06<03:02, 91.20s/it]"
     ]
    },
    {
     "name": "stdout",
     "output_type": "stream",
     "text": [
      "Validation F1 score: 0.5678496868475992\n",
      "[I 2024-04-14 14:24:11,384] Trial 6 finished with value: 0.5678496868475992 and parameters: {'learning_rate': 5.798289334591411e-05, 'batch_size': 3426, 'regularizer': 0.00036971949990489343, 'initializer': 'glorot_normal', 'activation': 'gelu'}. Best is trial 5 with value: 0.7606973058637084.\n",
      "24/24 [==============================] - 0s 4ms/step\n"
     ]
    },
    {
     "name": "stderr",
     "output_type": "stream",
     "text": [
      "Best trial: 0. Best value: 0.763425:  80%|████████  | 8/10 [12:10<03:02, 91.20s/it]"
     ]
    },
    {
     "name": "stdout",
     "output_type": "stream",
     "text": [
      "Validation F1 score: 0.7183098591549295\n",
      "[I 2024-04-14 14:24:15,796] Trial 0 finished with value: 0.7183098591549295 and parameters: {'learning_rate': 0.00023991657384855189, 'batch_size': 1713, 'regularizer': 0.0003877583901757674, 'initializer': 'glorot_normal', 'activation': 'leaky_relu'}. Best is trial 0 with value: 0.7183098591549295.\n",
      "24/24 [==============================] - 0s 4ms/step\n"
     ]
    },
    {
     "name": "stderr",
     "output_type": "stream",
     "text": [
      "Best trial: 0. Best value: 0.763425:  80%|████████  | 8/10 [12:19<03:02, 91.20s/it]"
     ]
    },
    {
     "name": "stdout",
     "output_type": "stream",
     "text": [
      "Validation F1 score: 0.0\n",
      "[I 2024-04-14 14:24:24,153] Trial 1 finished with value: 0.0 and parameters: {'learning_rate': 0.0001663795255522292, 'batch_size': 6851, 'regularizer': 0.004028109770539681, 'initializer': 'glorot_normal', 'activation': 'gelu'}. Best is trial 0 with value: 0.7183098591549295.\n",
      "24/24 [==============================] - 0s 4ms/step\n"
     ]
    },
    {
     "name": "stderr",
     "output_type": "stream",
     "text": [
      "Best trial: 0. Best value: 0.763425:  80%|████████  | 8/10 [12:27<03:02, 91.20s/it]"
     ]
    },
    {
     "name": "stdout",
     "output_type": "stream",
     "text": [
      "Validation F1 score: 0.0\n",
      "[I 2024-04-14 14:24:32,644] Trial 2 finished with value: 0.0 and parameters: {'learning_rate': 0.00011180311264900266, 'batch_size': 3426, 'regularizer': 5.175010265856614e-06, 'initializer': 'glorot_normal', 'activation': 'gelu'}. Best is trial 0 with value: 0.7183098591549295.\n",
      "24/24 [==============================] - 0s 3ms/step\n"
     ]
    },
    {
     "name": "stderr",
     "output_type": "stream",
     "text": [
      "Best trial: 0. Best value: 0.763425:  80%|████████  | 8/10 [12:28<03:02, 91.20s/it]"
     ]
    },
    {
     "name": "stdout",
     "output_type": "stream",
     "text": [
      "Validation F1 score: 0.7171052631578947\n",
      "[I 2024-04-14 14:24:33,717] Trial 7 finished with value: 0.7171052631578947 and parameters: {'learning_rate': 1.0455896255616673e-05, 'batch_size': 1713, 'regularizer': 1.7297622258064038e-06, 'initializer': 'he_normal', 'activation': 'gelu'}. Best is trial 5 with value: 0.7606973058637084.\n",
      "24/24 [==============================] - 0s 3ms/step\n"
     ]
    },
    {
     "name": "stderr",
     "output_type": "stream",
     "text": [
      "Best trial: 0. Best value: 0.763425:  80%|████████  | 8/10 [12:35<03:02, 91.20s/it]"
     ]
    },
    {
     "name": "stdout",
     "output_type": "stream",
     "text": [
      "Validation F1 score: 0.7550077041602464\n",
      "[I 2024-04-14 14:24:40,203] Trial 3 finished with value: 0.7550077041602464 and parameters: {'learning_rate': 0.0009880487825502965, 'batch_size': 1713, 'regularizer': 2.9024184634812676e-05, 'initializer': 'he_normal', 'activation': 'leaky_relu'}. Best is trial 3 with value: 0.7550077041602464.\n",
      "24/24 [==============================] - 0s 2ms/step\n"
     ]
    },
    {
     "name": "stderr",
     "output_type": "stream",
     "text": [
      "Best trial: 0. Best value: 0.763425:  80%|████████  | 8/10 [12:45<03:02, 91.20s/it]"
     ]
    },
    {
     "name": "stdout",
     "output_type": "stream",
     "text": [
      "Validation F1 score: 0.0\n",
      "[I 2024-04-14 14:24:50,118] Trial 4 finished with value: 0.0 and parameters: {'learning_rate': 7.057183117054522e-05, 'batch_size': 1713, 'regularizer': 1.1286699572969573e-06, 'initializer': 'he_normal', 'activation': 'gelu'}. Best is trial 3 with value: 0.7550077041602464.\n",
      "24/24 [==============================] - 0s 4ms/step\n"
     ]
    },
    {
     "name": "stderr",
     "output_type": "stream",
     "text": [
      "Best trial: 0. Best value: 0.763425:  80%|████████  | 8/10 [12:45<03:02, 91.20s/it]"
     ]
    },
    {
     "name": "stdout",
     "output_type": "stream",
     "text": [
      "Validation F1 score: 0.7186009538950716\n",
      "[I 2024-04-14 14:24:50,835] Trial 8 finished with value: 0.7186009538950716 and parameters: {'learning_rate': 3.586116417885114e-05, 'batch_size': 3426, 'regularizer': 9.873718295051409e-05, 'initializer': 'he_normal', 'activation': 'relu'}. Best is trial 5 with value: 0.7606973058637084.\n",
      "24/24 [==============================] - 0s 3ms/step\n"
     ]
    },
    {
     "name": "stderr",
     "output_type": "stream",
     "text": [
      "Best trial: 0. Best value: 0.763425:  80%|████████  | 8/10 [12:52<03:02, 91.20s/it]"
     ]
    },
    {
     "name": "stdout",
     "output_type": "stream",
     "text": [
      "Validation F1 score: 0.7486187845303869\n",
      "[I 2024-04-14 14:24:57,211] Trial 5 finished with value: 0.7486187845303869 and parameters: {'learning_rate': 0.0008315400586337085, 'batch_size': 3426, 'regularizer': 0.0002463584459615573, 'initializer': 'glorot_normal', 'activation': 'relu'}. Best is trial 3 with value: 0.7550077041602464.\n",
      "24/24 [==============================] - 0s 3ms/step\n"
     ]
    },
    {
     "name": "stderr",
     "output_type": "stream",
     "text": [
      "Best trial: 0. Best value: 0.763425:  90%|█████████ | 9/10 [13:02<01:20, 80.83s/it]"
     ]
    },
    {
     "name": "stdout",
     "output_type": "stream",
     "text": [
      "Validation F1 score: 0.7134146341463414\n",
      "[I 2024-04-14 14:25:07,294] Trial 9 finished with value: 0.7134146341463414 and parameters: {'learning_rate': 0.0002697242031307525, 'batch_size': 6851, 'regularizer': 0.001336434377307655, 'initializer': 'he_normal', 'activation': 'leaky_relu'}. Best is trial 5 with value: 0.7606973058637084.\n",
      "-> Best score: 0.7606973058637084\n",
      "-> Optimal hyperparameters: \n",
      "{'activation': 'relu',\n",
      " 'batch_size': 1713,\n",
      " 'initializer': 'he_normal',\n",
      " 'learning_rate': 4.622330573291873e-05,\n",
      " 'regularizer': 0.002122554142079363}\n",
      "[I 2024-04-14 14:25:07,298] Trial 7 finished with value: 0.7606973058637084 and parameters: {'n1scale': 5, 'n2scale': 9, 'n3scale': 10, 'n4scale': 8}. Best is trial 0 with value: 0.7634252539912917.\n",
      "24/24 [==============================] - 0s 1ms/step\n"
     ]
    },
    {
     "name": "stderr",
     "output_type": "stream",
     "text": [
      "Best trial: 0. Best value: 0.763425:  90%|█████████ | 9/10 [13:02<01:20, 80.83s/it]"
     ]
    },
    {
     "name": "stdout",
     "output_type": "stream",
     "text": [
      "Validation F1 score: 0.24671916010498693\n",
      "[I 2024-04-14 14:25:07,543] Trial 6 finished with value: 0.24671916010498693 and parameters: {'learning_rate': 2.355214656946624e-05, 'batch_size': 1713, 'regularizer': 1.4343418285444538e-06, 'initializer': 'he_normal', 'activation': 'gelu'}. Best is trial 3 with value: 0.7550077041602464.\n",
      "24/24 [==============================] - 0s 724us/step\n"
     ]
    },
    {
     "name": "stderr",
     "output_type": "stream",
     "text": [
      "Best trial: 0. Best value: 0.763425:  90%|█████████ | 9/10 [13:05<01:20, 80.83s/it]"
     ]
    },
    {
     "name": "stdout",
     "output_type": "stream",
     "text": [
      "Validation F1 score: 0.006006006006006006\n",
      "[I 2024-04-14 14:25:10,157] Trial 7 finished with value: 0.006006006006006006 and parameters: {'learning_rate': 2.7811349144791358e-05, 'batch_size': 6851, 'regularizer': 0.00024092832826331479, 'initializer': 'he_normal', 'activation': 'leaky_relu'}. Best is trial 3 with value: 0.7550077041602464.\n",
      "24/24 [==============================] - 0s 779us/step\n"
     ]
    },
    {
     "name": "stderr",
     "output_type": "stream",
     "text": [
      "Best trial: 0. Best value: 0.763425:  90%|█████████ | 9/10 [13:07<01:20, 80.83s/it]"
     ]
    },
    {
     "name": "stdout",
     "output_type": "stream",
     "text": [
      "Validation F1 score: 0.005917159763313609\n",
      "[I 2024-04-14 14:25:12,862] Trial 8 finished with value: 0.005917159763313609 and parameters: {'learning_rate': 3.6776945294704684e-05, 'batch_size': 3426, 'regularizer': 0.002864680892605136, 'initializer': 'he_normal', 'activation': 'gelu'}. Best is trial 3 with value: 0.7550077041602464.\n",
      "24/24 [==============================] - 0s 806us/step\n"
     ]
    },
    {
     "name": "stderr",
     "output_type": "stream",
     "text": [
      "Best trial: 0. Best value: 0.763425: 100%|██████████| 10/10 [13:10<00:00, 79.03s/it]"
     ]
    },
    {
     "name": "stdout",
     "output_type": "stream",
     "text": [
      "Validation F1 score: 0.0\n",
      "[I 2024-04-14 14:25:15,393] Trial 9 finished with value: 0.0 and parameters: {'learning_rate': 1.2654931377826447e-05, 'batch_size': 1713, 'regularizer': 0.0032079396563949045, 'initializer': 'glorot_normal', 'activation': 'relu'}. Best is trial 3 with value: 0.7550077041602464.\n",
      "-> Best score: 0.7550077041602464\n",
      "-> Optimal hyperparameters: \n",
      "{'activation': 'leaky_relu',\n",
      " 'batch_size': 1713,\n",
      " 'initializer': 'he_normal',\n",
      " 'learning_rate': 0.0009880487825502965,\n",
      " 'regularizer': 2.9024184634812676e-05}\n",
      "[I 2024-04-14 14:25:15,395] Trial 9 finished with value: 0.7550077041602464 and parameters: {'n1scale': 3, 'n2scale': 3, 'n3scale': 4, 'n4scale': 3}. Best is trial 0 with value: 0.7634252539912917.\n",
      "-> Best score: 0.7634252539912917\n",
      "-> Optimal network parameters: \n",
      "{'n1scale': 6, 'n2scale': 3, 'n3scale': 5, 'n4scale': 3}\n",
      "-> Best learning parameters: \n",
      "{}\n"
     ]
    },
    {
     "name": "stderr",
     "output_type": "stream",
     "text": [
      "\n"
     ]
    }
   ],
   "source": [
    "from optuna.visualization import plot_optimization_history, plot_slice\n",
    "\n",
    "study = optuna.create_study(study_name='dl8', direction='maximize')\n",
    "study.optimize(objective2, n_jobs=2, n_trials=10, show_progress_bar=True)\n",
    "\n",
    "trial = study.best_trial\n",
    "print(f'-> Best score: {trial.value}')\n",
    "print(f'-> Optimal network parameters: ')\n",
    "pprint.pprint(trial.params)\n",
    "print(f'-> Best learning parameters: ')\n",
    "pprint.pprint(trial.user_attrs)\n"
   ]
  },
  {
   "cell_type": "code",
   "execution_count": 15,
   "metadata": {},
   "outputs": [
    {
     "name": "stdout",
     "output_type": "stream",
     "text": [
      "Optimal NN dimensions [2003, 64, 8, 32, 8, 1]\n"
     ]
    }
   ],
   "source": [
    "nn = trial.params\n",
    "nn_dims = [2**nn[f'n{l+1}scale'] for l in range(len(nn))]\n",
    "nn_dims.insert(0, INPUT_SIZE)\n",
    "nn_dims.append(OUTPUT_SIZE)\n",
    "print('Optimal NN dimensions', nn_dims)"
   ]
  },
  {
   "cell_type": "code",
   "execution_count": 20,
   "metadata": {},
   "outputs": [
    {
     "ename": "ValueError",
     "evalue": "Mime type rendering requires nbformat>=4.2.0 but it is not installed",
     "output_type": "error",
     "traceback": [
      "\u001b[0;31m---------------------------------------------------------------------------\u001b[0m",
      "\u001b[0;31mValueError\u001b[0m                                Traceback (most recent call last)",
      "File \u001b[0;32m~/anaconda3/envs/machine-learning-1/lib/python3.11/site-packages/IPython/core/formatters.py:922\u001b[0m, in \u001b[0;36mIPythonDisplayFormatter.__call__\u001b[0;34m(self, obj)\u001b[0m\n\u001b[1;32m    920\u001b[0m method \u001b[38;5;241m=\u001b[39m get_real_method(obj, \u001b[38;5;28mself\u001b[39m\u001b[38;5;241m.\u001b[39mprint_method)\n\u001b[1;32m    921\u001b[0m \u001b[38;5;28;01mif\u001b[39;00m method \u001b[38;5;129;01mis\u001b[39;00m \u001b[38;5;129;01mnot\u001b[39;00m \u001b[38;5;28;01mNone\u001b[39;00m:\n\u001b[0;32m--> 922\u001b[0m     method()\n\u001b[1;32m    923\u001b[0m     \u001b[38;5;28;01mreturn\u001b[39;00m \u001b[38;5;28;01mTrue\u001b[39;00m\n",
      "File \u001b[0;32m~/anaconda3/envs/machine-learning-1/lib/python3.11/site-packages/plotly/basedatatypes.py:832\u001b[0m, in \u001b[0;36mBaseFigure._ipython_display_\u001b[0;34m(self)\u001b[0m\n\u001b[1;32m    829\u001b[0m \u001b[38;5;28;01mimport\u001b[39;00m \u001b[38;5;21;01mplotly\u001b[39;00m\u001b[38;5;21;01m.\u001b[39;00m\u001b[38;5;21;01mio\u001b[39;00m \u001b[38;5;28;01mas\u001b[39;00m \u001b[38;5;21;01mpio\u001b[39;00m\n\u001b[1;32m    831\u001b[0m \u001b[38;5;28;01mif\u001b[39;00m pio\u001b[38;5;241m.\u001b[39mrenderers\u001b[38;5;241m.\u001b[39mrender_on_display \u001b[38;5;129;01mand\u001b[39;00m pio\u001b[38;5;241m.\u001b[39mrenderers\u001b[38;5;241m.\u001b[39mdefault:\n\u001b[0;32m--> 832\u001b[0m     pio\u001b[38;5;241m.\u001b[39mshow(\u001b[38;5;28mself\u001b[39m)\n\u001b[1;32m    833\u001b[0m \u001b[38;5;28;01melse\u001b[39;00m:\n\u001b[1;32m    834\u001b[0m     \u001b[38;5;28mprint\u001b[39m(\u001b[38;5;28mrepr\u001b[39m(\u001b[38;5;28mself\u001b[39m))\n",
      "File \u001b[0;32m~/anaconda3/envs/machine-learning-1/lib/python3.11/site-packages/plotly/io/_renderers.py:394\u001b[0m, in \u001b[0;36mshow\u001b[0;34m(fig, renderer, validate, **kwargs)\u001b[0m\n\u001b[1;32m    389\u001b[0m         \u001b[38;5;28;01mraise\u001b[39;00m \u001b[38;5;167;01mValueError\u001b[39;00m(\n\u001b[1;32m    390\u001b[0m             \u001b[38;5;124m\"\u001b[39m\u001b[38;5;124mMime type rendering requires ipython but it is not installed\u001b[39m\u001b[38;5;124m\"\u001b[39m\n\u001b[1;32m    391\u001b[0m         )\n\u001b[1;32m    393\u001b[0m     \u001b[38;5;28;01mif\u001b[39;00m \u001b[38;5;129;01mnot\u001b[39;00m nbformat \u001b[38;5;129;01mor\u001b[39;00m Version(nbformat\u001b[38;5;241m.\u001b[39m__version__) \u001b[38;5;241m<\u001b[39m Version(\u001b[38;5;124m\"\u001b[39m\u001b[38;5;124m4.2.0\u001b[39m\u001b[38;5;124m\"\u001b[39m):\n\u001b[0;32m--> 394\u001b[0m         \u001b[38;5;28;01mraise\u001b[39;00m \u001b[38;5;167;01mValueError\u001b[39;00m(\n\u001b[1;32m    395\u001b[0m             \u001b[38;5;124m\"\u001b[39m\u001b[38;5;124mMime type rendering requires nbformat>=4.2.0 but it is not installed\u001b[39m\u001b[38;5;124m\"\u001b[39m\n\u001b[1;32m    396\u001b[0m         )\n\u001b[1;32m    398\u001b[0m     ipython_display\u001b[38;5;241m.\u001b[39mdisplay(bundle, raw\u001b[38;5;241m=\u001b[39m\u001b[38;5;28;01mTrue\u001b[39;00m)\n\u001b[1;32m    400\u001b[0m \u001b[38;5;66;03m# external renderers\u001b[39;00m\n",
      "\u001b[0;31mValueError\u001b[0m: Mime type rendering requires nbformat>=4.2.0 but it is not installed"
     ]
    },
    {
     "data": {
      "application/vnd.plotly.v1+json": {
       "config": {
        "plotlyServerURL": "https://plot.ly"
       },
       "data": [
        {
         "mode": "markers",
         "name": "Objective Value",
         "type": "scatter",
         "x": [
          0,
          1,
          2,
          3,
          4,
          5,
          6,
          7,
          8,
          9
         ],
         "y": [
          0.7634252539912917,
          0.7611464968152866,
          0.7573415765069552,
          0.7578616352201258,
          0.7500000000000001,
          0.7492163009404389,
          0.7608346709470305,
          0.7606973058637084,
          0.7531645569620252,
          0.7550077041602464
         ]
        },
        {
         "mode": "lines",
         "name": "Best Value",
         "type": "scatter",
         "x": [
          0,
          1,
          2,
          3,
          4,
          5,
          6,
          7,
          8,
          9
         ],
         "y": [
          0.7634252539912917,
          0.7634252539912917,
          0.7634252539912917,
          0.7634252539912917,
          0.7634252539912917,
          0.7634252539912917,
          0.7634252539912917,
          0.7634252539912917,
          0.7634252539912917,
          0.7634252539912917
         ]
        },
        {
         "marker": {
          "color": "#cccccc"
         },
         "mode": "markers",
         "name": "Infeasible Trial",
         "showlegend": false,
         "type": "scatter",
         "x": [],
         "y": []
        }
       ],
       "layout": {
        "template": {
         "data": {
          "bar": [
           {
            "error_x": {
             "color": "#2a3f5f"
            },
            "error_y": {
             "color": "#2a3f5f"
            },
            "marker": {
             "line": {
              "color": "#E5ECF6",
              "width": 0.5
             },
             "pattern": {
              "fillmode": "overlay",
              "size": 10,
              "solidity": 0.2
             }
            },
            "type": "bar"
           }
          ],
          "barpolar": [
           {
            "marker": {
             "line": {
              "color": "#E5ECF6",
              "width": 0.5
             },
             "pattern": {
              "fillmode": "overlay",
              "size": 10,
              "solidity": 0.2
             }
            },
            "type": "barpolar"
           }
          ],
          "carpet": [
           {
            "aaxis": {
             "endlinecolor": "#2a3f5f",
             "gridcolor": "white",
             "linecolor": "white",
             "minorgridcolor": "white",
             "startlinecolor": "#2a3f5f"
            },
            "baxis": {
             "endlinecolor": "#2a3f5f",
             "gridcolor": "white",
             "linecolor": "white",
             "minorgridcolor": "white",
             "startlinecolor": "#2a3f5f"
            },
            "type": "carpet"
           }
          ],
          "choropleth": [
           {
            "colorbar": {
             "outlinewidth": 0,
             "ticks": ""
            },
            "type": "choropleth"
           }
          ],
          "contour": [
           {
            "colorbar": {
             "outlinewidth": 0,
             "ticks": ""
            },
            "colorscale": [
             [
              0,
              "#0d0887"
             ],
             [
              0.1111111111111111,
              "#46039f"
             ],
             [
              0.2222222222222222,
              "#7201a8"
             ],
             [
              0.3333333333333333,
              "#9c179e"
             ],
             [
              0.4444444444444444,
              "#bd3786"
             ],
             [
              0.5555555555555556,
              "#d8576b"
             ],
             [
              0.6666666666666666,
              "#ed7953"
             ],
             [
              0.7777777777777778,
              "#fb9f3a"
             ],
             [
              0.8888888888888888,
              "#fdca26"
             ],
             [
              1,
              "#f0f921"
             ]
            ],
            "type": "contour"
           }
          ],
          "contourcarpet": [
           {
            "colorbar": {
             "outlinewidth": 0,
             "ticks": ""
            },
            "type": "contourcarpet"
           }
          ],
          "heatmap": [
           {
            "colorbar": {
             "outlinewidth": 0,
             "ticks": ""
            },
            "colorscale": [
             [
              0,
              "#0d0887"
             ],
             [
              0.1111111111111111,
              "#46039f"
             ],
             [
              0.2222222222222222,
              "#7201a8"
             ],
             [
              0.3333333333333333,
              "#9c179e"
             ],
             [
              0.4444444444444444,
              "#bd3786"
             ],
             [
              0.5555555555555556,
              "#d8576b"
             ],
             [
              0.6666666666666666,
              "#ed7953"
             ],
             [
              0.7777777777777778,
              "#fb9f3a"
             ],
             [
              0.8888888888888888,
              "#fdca26"
             ],
             [
              1,
              "#f0f921"
             ]
            ],
            "type": "heatmap"
           }
          ],
          "heatmapgl": [
           {
            "colorbar": {
             "outlinewidth": 0,
             "ticks": ""
            },
            "colorscale": [
             [
              0,
              "#0d0887"
             ],
             [
              0.1111111111111111,
              "#46039f"
             ],
             [
              0.2222222222222222,
              "#7201a8"
             ],
             [
              0.3333333333333333,
              "#9c179e"
             ],
             [
              0.4444444444444444,
              "#bd3786"
             ],
             [
              0.5555555555555556,
              "#d8576b"
             ],
             [
              0.6666666666666666,
              "#ed7953"
             ],
             [
              0.7777777777777778,
              "#fb9f3a"
             ],
             [
              0.8888888888888888,
              "#fdca26"
             ],
             [
              1,
              "#f0f921"
             ]
            ],
            "type": "heatmapgl"
           }
          ],
          "histogram": [
           {
            "marker": {
             "pattern": {
              "fillmode": "overlay",
              "size": 10,
              "solidity": 0.2
             }
            },
            "type": "histogram"
           }
          ],
          "histogram2d": [
           {
            "colorbar": {
             "outlinewidth": 0,
             "ticks": ""
            },
            "colorscale": [
             [
              0,
              "#0d0887"
             ],
             [
              0.1111111111111111,
              "#46039f"
             ],
             [
              0.2222222222222222,
              "#7201a8"
             ],
             [
              0.3333333333333333,
              "#9c179e"
             ],
             [
              0.4444444444444444,
              "#bd3786"
             ],
             [
              0.5555555555555556,
              "#d8576b"
             ],
             [
              0.6666666666666666,
              "#ed7953"
             ],
             [
              0.7777777777777778,
              "#fb9f3a"
             ],
             [
              0.8888888888888888,
              "#fdca26"
             ],
             [
              1,
              "#f0f921"
             ]
            ],
            "type": "histogram2d"
           }
          ],
          "histogram2dcontour": [
           {
            "colorbar": {
             "outlinewidth": 0,
             "ticks": ""
            },
            "colorscale": [
             [
              0,
              "#0d0887"
             ],
             [
              0.1111111111111111,
              "#46039f"
             ],
             [
              0.2222222222222222,
              "#7201a8"
             ],
             [
              0.3333333333333333,
              "#9c179e"
             ],
             [
              0.4444444444444444,
              "#bd3786"
             ],
             [
              0.5555555555555556,
              "#d8576b"
             ],
             [
              0.6666666666666666,
              "#ed7953"
             ],
             [
              0.7777777777777778,
              "#fb9f3a"
             ],
             [
              0.8888888888888888,
              "#fdca26"
             ],
             [
              1,
              "#f0f921"
             ]
            ],
            "type": "histogram2dcontour"
           }
          ],
          "mesh3d": [
           {
            "colorbar": {
             "outlinewidth": 0,
             "ticks": ""
            },
            "type": "mesh3d"
           }
          ],
          "parcoords": [
           {
            "line": {
             "colorbar": {
              "outlinewidth": 0,
              "ticks": ""
             }
            },
            "type": "parcoords"
           }
          ],
          "pie": [
           {
            "automargin": true,
            "type": "pie"
           }
          ],
          "scatter": [
           {
            "fillpattern": {
             "fillmode": "overlay",
             "size": 10,
             "solidity": 0.2
            },
            "type": "scatter"
           }
          ],
          "scatter3d": [
           {
            "line": {
             "colorbar": {
              "outlinewidth": 0,
              "ticks": ""
             }
            },
            "marker": {
             "colorbar": {
              "outlinewidth": 0,
              "ticks": ""
             }
            },
            "type": "scatter3d"
           }
          ],
          "scattercarpet": [
           {
            "marker": {
             "colorbar": {
              "outlinewidth": 0,
              "ticks": ""
             }
            },
            "type": "scattercarpet"
           }
          ],
          "scattergeo": [
           {
            "marker": {
             "colorbar": {
              "outlinewidth": 0,
              "ticks": ""
             }
            },
            "type": "scattergeo"
           }
          ],
          "scattergl": [
           {
            "marker": {
             "colorbar": {
              "outlinewidth": 0,
              "ticks": ""
             }
            },
            "type": "scattergl"
           }
          ],
          "scattermapbox": [
           {
            "marker": {
             "colorbar": {
              "outlinewidth": 0,
              "ticks": ""
             }
            },
            "type": "scattermapbox"
           }
          ],
          "scatterpolar": [
           {
            "marker": {
             "colorbar": {
              "outlinewidth": 0,
              "ticks": ""
             }
            },
            "type": "scatterpolar"
           }
          ],
          "scatterpolargl": [
           {
            "marker": {
             "colorbar": {
              "outlinewidth": 0,
              "ticks": ""
             }
            },
            "type": "scatterpolargl"
           }
          ],
          "scatterternary": [
           {
            "marker": {
             "colorbar": {
              "outlinewidth": 0,
              "ticks": ""
             }
            },
            "type": "scatterternary"
           }
          ],
          "surface": [
           {
            "colorbar": {
             "outlinewidth": 0,
             "ticks": ""
            },
            "colorscale": [
             [
              0,
              "#0d0887"
             ],
             [
              0.1111111111111111,
              "#46039f"
             ],
             [
              0.2222222222222222,
              "#7201a8"
             ],
             [
              0.3333333333333333,
              "#9c179e"
             ],
             [
              0.4444444444444444,
              "#bd3786"
             ],
             [
              0.5555555555555556,
              "#d8576b"
             ],
             [
              0.6666666666666666,
              "#ed7953"
             ],
             [
              0.7777777777777778,
              "#fb9f3a"
             ],
             [
              0.8888888888888888,
              "#fdca26"
             ],
             [
              1,
              "#f0f921"
             ]
            ],
            "type": "surface"
           }
          ],
          "table": [
           {
            "cells": {
             "fill": {
              "color": "#EBF0F8"
             },
             "line": {
              "color": "white"
             }
            },
            "header": {
             "fill": {
              "color": "#C8D4E3"
             },
             "line": {
              "color": "white"
             }
            },
            "type": "table"
           }
          ]
         },
         "layout": {
          "annotationdefaults": {
           "arrowcolor": "#2a3f5f",
           "arrowhead": 0,
           "arrowwidth": 1
          },
          "autotypenumbers": "strict",
          "coloraxis": {
           "colorbar": {
            "outlinewidth": 0,
            "ticks": ""
           }
          },
          "colorscale": {
           "diverging": [
            [
             0,
             "#8e0152"
            ],
            [
             0.1,
             "#c51b7d"
            ],
            [
             0.2,
             "#de77ae"
            ],
            [
             0.3,
             "#f1b6da"
            ],
            [
             0.4,
             "#fde0ef"
            ],
            [
             0.5,
             "#f7f7f7"
            ],
            [
             0.6,
             "#e6f5d0"
            ],
            [
             0.7,
             "#b8e186"
            ],
            [
             0.8,
             "#7fbc41"
            ],
            [
             0.9,
             "#4d9221"
            ],
            [
             1,
             "#276419"
            ]
           ],
           "sequential": [
            [
             0,
             "#0d0887"
            ],
            [
             0.1111111111111111,
             "#46039f"
            ],
            [
             0.2222222222222222,
             "#7201a8"
            ],
            [
             0.3333333333333333,
             "#9c179e"
            ],
            [
             0.4444444444444444,
             "#bd3786"
            ],
            [
             0.5555555555555556,
             "#d8576b"
            ],
            [
             0.6666666666666666,
             "#ed7953"
            ],
            [
             0.7777777777777778,
             "#fb9f3a"
            ],
            [
             0.8888888888888888,
             "#fdca26"
            ],
            [
             1,
             "#f0f921"
            ]
           ],
           "sequentialminus": [
            [
             0,
             "#0d0887"
            ],
            [
             0.1111111111111111,
             "#46039f"
            ],
            [
             0.2222222222222222,
             "#7201a8"
            ],
            [
             0.3333333333333333,
             "#9c179e"
            ],
            [
             0.4444444444444444,
             "#bd3786"
            ],
            [
             0.5555555555555556,
             "#d8576b"
            ],
            [
             0.6666666666666666,
             "#ed7953"
            ],
            [
             0.7777777777777778,
             "#fb9f3a"
            ],
            [
             0.8888888888888888,
             "#fdca26"
            ],
            [
             1,
             "#f0f921"
            ]
           ]
          },
          "colorway": [
           "#636efa",
           "#EF553B",
           "#00cc96",
           "#ab63fa",
           "#FFA15A",
           "#19d3f3",
           "#FF6692",
           "#B6E880",
           "#FF97FF",
           "#FECB52"
          ],
          "font": {
           "color": "#2a3f5f"
          },
          "geo": {
           "bgcolor": "white",
           "lakecolor": "white",
           "landcolor": "#E5ECF6",
           "showlakes": true,
           "showland": true,
           "subunitcolor": "white"
          },
          "hoverlabel": {
           "align": "left"
          },
          "hovermode": "closest",
          "mapbox": {
           "style": "light"
          },
          "paper_bgcolor": "white",
          "plot_bgcolor": "#E5ECF6",
          "polar": {
           "angularaxis": {
            "gridcolor": "white",
            "linecolor": "white",
            "ticks": ""
           },
           "bgcolor": "#E5ECF6",
           "radialaxis": {
            "gridcolor": "white",
            "linecolor": "white",
            "ticks": ""
           }
          },
          "scene": {
           "xaxis": {
            "backgroundcolor": "#E5ECF6",
            "gridcolor": "white",
            "gridwidth": 2,
            "linecolor": "white",
            "showbackground": true,
            "ticks": "",
            "zerolinecolor": "white"
           },
           "yaxis": {
            "backgroundcolor": "#E5ECF6",
            "gridcolor": "white",
            "gridwidth": 2,
            "linecolor": "white",
            "showbackground": true,
            "ticks": "",
            "zerolinecolor": "white"
           },
           "zaxis": {
            "backgroundcolor": "#E5ECF6",
            "gridcolor": "white",
            "gridwidth": 2,
            "linecolor": "white",
            "showbackground": true,
            "ticks": "",
            "zerolinecolor": "white"
           }
          },
          "shapedefaults": {
           "line": {
            "color": "#2a3f5f"
           }
          },
          "ternary": {
           "aaxis": {
            "gridcolor": "white",
            "linecolor": "white",
            "ticks": ""
           },
           "baxis": {
            "gridcolor": "white",
            "linecolor": "white",
            "ticks": ""
           },
           "bgcolor": "#E5ECF6",
           "caxis": {
            "gridcolor": "white",
            "linecolor": "white",
            "ticks": ""
           }
          },
          "title": {
           "x": 0.05
          },
          "xaxis": {
           "automargin": true,
           "gridcolor": "white",
           "linecolor": "white",
           "ticks": "",
           "title": {
            "standoff": 15
           },
           "zerolinecolor": "white",
           "zerolinewidth": 2
          },
          "yaxis": {
           "automargin": true,
           "gridcolor": "white",
           "linecolor": "white",
           "ticks": "",
           "title": {
            "standoff": 15
           },
           "zerolinecolor": "white",
           "zerolinewidth": 2
          }
         }
        },
        "title": {
         "text": "Optimization History Plot"
        },
        "xaxis": {
         "title": {
          "text": "Trial"
         }
        },
        "yaxis": {
         "title": {
          "text": "Objective Value"
         }
        }
       }
      },
      "text/html": [
       "<div>                        <script type=\"text/javascript\">window.PlotlyConfig = {MathJaxConfig: 'local'};</script>\n",
       "        <script charset=\"utf-8\" src=\"https://cdn.plot.ly/plotly-2.29.1.min.js\"></script>                <div id=\"f8ef0deb-8d13-4b1c-b209-73ba0f87d3d9\" class=\"plotly-graph-div\" style=\"height:100%; width:100%;\"></div>            <script type=\"text/javascript\">                                    window.PLOTLYENV=window.PLOTLYENV || {};                                    if (document.getElementById(\"f8ef0deb-8d13-4b1c-b209-73ba0f87d3d9\")) {                    Plotly.newPlot(                        \"f8ef0deb-8d13-4b1c-b209-73ba0f87d3d9\",                        [{\"mode\":\"markers\",\"name\":\"Objective Value\",\"x\":[0,1,2,3,4,5,6,7,8,9],\"y\":[0.7634252539912917,0.7611464968152866,0.7573415765069552,0.7578616352201258,0.7500000000000001,0.7492163009404389,0.7608346709470305,0.7606973058637084,0.7531645569620252,0.7550077041602464],\"type\":\"scatter\"},{\"mode\":\"lines\",\"name\":\"Best Value\",\"x\":[0,1,2,3,4,5,6,7,8,9],\"y\":[0.7634252539912917,0.7634252539912917,0.7634252539912917,0.7634252539912917,0.7634252539912917,0.7634252539912917,0.7634252539912917,0.7634252539912917,0.7634252539912917,0.7634252539912917],\"type\":\"scatter\"},{\"marker\":{\"color\":\"#cccccc\"},\"mode\":\"markers\",\"name\":\"Infeasible Trial\",\"showlegend\":false,\"x\":[],\"y\":[],\"type\":\"scatter\"}],                        {\"title\":{\"text\":\"Optimization History Plot\"},\"xaxis\":{\"title\":{\"text\":\"Trial\"}},\"yaxis\":{\"title\":{\"text\":\"Objective Value\"}},\"template\":{\"data\":{\"histogram2dcontour\":[{\"type\":\"histogram2dcontour\",\"colorbar\":{\"outlinewidth\":0,\"ticks\":\"\"},\"colorscale\":[[0.0,\"#0d0887\"],[0.1111111111111111,\"#46039f\"],[0.2222222222222222,\"#7201a8\"],[0.3333333333333333,\"#9c179e\"],[0.4444444444444444,\"#bd3786\"],[0.5555555555555556,\"#d8576b\"],[0.6666666666666666,\"#ed7953\"],[0.7777777777777778,\"#fb9f3a\"],[0.8888888888888888,\"#fdca26\"],[1.0,\"#f0f921\"]]}],\"choropleth\":[{\"type\":\"choropleth\",\"colorbar\":{\"outlinewidth\":0,\"ticks\":\"\"}}],\"histogram2d\":[{\"type\":\"histogram2d\",\"colorbar\":{\"outlinewidth\":0,\"ticks\":\"\"},\"colorscale\":[[0.0,\"#0d0887\"],[0.1111111111111111,\"#46039f\"],[0.2222222222222222,\"#7201a8\"],[0.3333333333333333,\"#9c179e\"],[0.4444444444444444,\"#bd3786\"],[0.5555555555555556,\"#d8576b\"],[0.6666666666666666,\"#ed7953\"],[0.7777777777777778,\"#fb9f3a\"],[0.8888888888888888,\"#fdca26\"],[1.0,\"#f0f921\"]]}],\"heatmap\":[{\"type\":\"heatmap\",\"colorbar\":{\"outlinewidth\":0,\"ticks\":\"\"},\"colorscale\":[[0.0,\"#0d0887\"],[0.1111111111111111,\"#46039f\"],[0.2222222222222222,\"#7201a8\"],[0.3333333333333333,\"#9c179e\"],[0.4444444444444444,\"#bd3786\"],[0.5555555555555556,\"#d8576b\"],[0.6666666666666666,\"#ed7953\"],[0.7777777777777778,\"#fb9f3a\"],[0.8888888888888888,\"#fdca26\"],[1.0,\"#f0f921\"]]}],\"heatmapgl\":[{\"type\":\"heatmapgl\",\"colorbar\":{\"outlinewidth\":0,\"ticks\":\"\"},\"colorscale\":[[0.0,\"#0d0887\"],[0.1111111111111111,\"#46039f\"],[0.2222222222222222,\"#7201a8\"],[0.3333333333333333,\"#9c179e\"],[0.4444444444444444,\"#bd3786\"],[0.5555555555555556,\"#d8576b\"],[0.6666666666666666,\"#ed7953\"],[0.7777777777777778,\"#fb9f3a\"],[0.8888888888888888,\"#fdca26\"],[1.0,\"#f0f921\"]]}],\"contourcarpet\":[{\"type\":\"contourcarpet\",\"colorbar\":{\"outlinewidth\":0,\"ticks\":\"\"}}],\"contour\":[{\"type\":\"contour\",\"colorbar\":{\"outlinewidth\":0,\"ticks\":\"\"},\"colorscale\":[[0.0,\"#0d0887\"],[0.1111111111111111,\"#46039f\"],[0.2222222222222222,\"#7201a8\"],[0.3333333333333333,\"#9c179e\"],[0.4444444444444444,\"#bd3786\"],[0.5555555555555556,\"#d8576b\"],[0.6666666666666666,\"#ed7953\"],[0.7777777777777778,\"#fb9f3a\"],[0.8888888888888888,\"#fdca26\"],[1.0,\"#f0f921\"]]}],\"surface\":[{\"type\":\"surface\",\"colorbar\":{\"outlinewidth\":0,\"ticks\":\"\"},\"colorscale\":[[0.0,\"#0d0887\"],[0.1111111111111111,\"#46039f\"],[0.2222222222222222,\"#7201a8\"],[0.3333333333333333,\"#9c179e\"],[0.4444444444444444,\"#bd3786\"],[0.5555555555555556,\"#d8576b\"],[0.6666666666666666,\"#ed7953\"],[0.7777777777777778,\"#fb9f3a\"],[0.8888888888888888,\"#fdca26\"],[1.0,\"#f0f921\"]]}],\"mesh3d\":[{\"type\":\"mesh3d\",\"colorbar\":{\"outlinewidth\":0,\"ticks\":\"\"}}],\"scatter\":[{\"fillpattern\":{\"fillmode\":\"overlay\",\"size\":10,\"solidity\":0.2},\"type\":\"scatter\"}],\"parcoords\":[{\"type\":\"parcoords\",\"line\":{\"colorbar\":{\"outlinewidth\":0,\"ticks\":\"\"}}}],\"scatterpolargl\":[{\"type\":\"scatterpolargl\",\"marker\":{\"colorbar\":{\"outlinewidth\":0,\"ticks\":\"\"}}}],\"bar\":[{\"error_x\":{\"color\":\"#2a3f5f\"},\"error_y\":{\"color\":\"#2a3f5f\"},\"marker\":{\"line\":{\"color\":\"#E5ECF6\",\"width\":0.5},\"pattern\":{\"fillmode\":\"overlay\",\"size\":10,\"solidity\":0.2}},\"type\":\"bar\"}],\"scattergeo\":[{\"type\":\"scattergeo\",\"marker\":{\"colorbar\":{\"outlinewidth\":0,\"ticks\":\"\"}}}],\"scatterpolar\":[{\"type\":\"scatterpolar\",\"marker\":{\"colorbar\":{\"outlinewidth\":0,\"ticks\":\"\"}}}],\"histogram\":[{\"marker\":{\"pattern\":{\"fillmode\":\"overlay\",\"size\":10,\"solidity\":0.2}},\"type\":\"histogram\"}],\"scattergl\":[{\"type\":\"scattergl\",\"marker\":{\"colorbar\":{\"outlinewidth\":0,\"ticks\":\"\"}}}],\"scatter3d\":[{\"type\":\"scatter3d\",\"line\":{\"colorbar\":{\"outlinewidth\":0,\"ticks\":\"\"}},\"marker\":{\"colorbar\":{\"outlinewidth\":0,\"ticks\":\"\"}}}],\"scattermapbox\":[{\"type\":\"scattermapbox\",\"marker\":{\"colorbar\":{\"outlinewidth\":0,\"ticks\":\"\"}}}],\"scatterternary\":[{\"type\":\"scatterternary\",\"marker\":{\"colorbar\":{\"outlinewidth\":0,\"ticks\":\"\"}}}],\"scattercarpet\":[{\"type\":\"scattercarpet\",\"marker\":{\"colorbar\":{\"outlinewidth\":0,\"ticks\":\"\"}}}],\"carpet\":[{\"aaxis\":{\"endlinecolor\":\"#2a3f5f\",\"gridcolor\":\"white\",\"linecolor\":\"white\",\"minorgridcolor\":\"white\",\"startlinecolor\":\"#2a3f5f\"},\"baxis\":{\"endlinecolor\":\"#2a3f5f\",\"gridcolor\":\"white\",\"linecolor\":\"white\",\"minorgridcolor\":\"white\",\"startlinecolor\":\"#2a3f5f\"},\"type\":\"carpet\"}],\"table\":[{\"cells\":{\"fill\":{\"color\":\"#EBF0F8\"},\"line\":{\"color\":\"white\"}},\"header\":{\"fill\":{\"color\":\"#C8D4E3\"},\"line\":{\"color\":\"white\"}},\"type\":\"table\"}],\"barpolar\":[{\"marker\":{\"line\":{\"color\":\"#E5ECF6\",\"width\":0.5},\"pattern\":{\"fillmode\":\"overlay\",\"size\":10,\"solidity\":0.2}},\"type\":\"barpolar\"}],\"pie\":[{\"automargin\":true,\"type\":\"pie\"}]},\"layout\":{\"autotypenumbers\":\"strict\",\"colorway\":[\"#636efa\",\"#EF553B\",\"#00cc96\",\"#ab63fa\",\"#FFA15A\",\"#19d3f3\",\"#FF6692\",\"#B6E880\",\"#FF97FF\",\"#FECB52\"],\"font\":{\"color\":\"#2a3f5f\"},\"hovermode\":\"closest\",\"hoverlabel\":{\"align\":\"left\"},\"paper_bgcolor\":\"white\",\"plot_bgcolor\":\"#E5ECF6\",\"polar\":{\"bgcolor\":\"#E5ECF6\",\"angularaxis\":{\"gridcolor\":\"white\",\"linecolor\":\"white\",\"ticks\":\"\"},\"radialaxis\":{\"gridcolor\":\"white\",\"linecolor\":\"white\",\"ticks\":\"\"}},\"ternary\":{\"bgcolor\":\"#E5ECF6\",\"aaxis\":{\"gridcolor\":\"white\",\"linecolor\":\"white\",\"ticks\":\"\"},\"baxis\":{\"gridcolor\":\"white\",\"linecolor\":\"white\",\"ticks\":\"\"},\"caxis\":{\"gridcolor\":\"white\",\"linecolor\":\"white\",\"ticks\":\"\"}},\"coloraxis\":{\"colorbar\":{\"outlinewidth\":0,\"ticks\":\"\"}},\"colorscale\":{\"sequential\":[[0.0,\"#0d0887\"],[0.1111111111111111,\"#46039f\"],[0.2222222222222222,\"#7201a8\"],[0.3333333333333333,\"#9c179e\"],[0.4444444444444444,\"#bd3786\"],[0.5555555555555556,\"#d8576b\"],[0.6666666666666666,\"#ed7953\"],[0.7777777777777778,\"#fb9f3a\"],[0.8888888888888888,\"#fdca26\"],[1.0,\"#f0f921\"]],\"sequentialminus\":[[0.0,\"#0d0887\"],[0.1111111111111111,\"#46039f\"],[0.2222222222222222,\"#7201a8\"],[0.3333333333333333,\"#9c179e\"],[0.4444444444444444,\"#bd3786\"],[0.5555555555555556,\"#d8576b\"],[0.6666666666666666,\"#ed7953\"],[0.7777777777777778,\"#fb9f3a\"],[0.8888888888888888,\"#fdca26\"],[1.0,\"#f0f921\"]],\"diverging\":[[0,\"#8e0152\"],[0.1,\"#c51b7d\"],[0.2,\"#de77ae\"],[0.3,\"#f1b6da\"],[0.4,\"#fde0ef\"],[0.5,\"#f7f7f7\"],[0.6,\"#e6f5d0\"],[0.7,\"#b8e186\"],[0.8,\"#7fbc41\"],[0.9,\"#4d9221\"],[1,\"#276419\"]]},\"xaxis\":{\"gridcolor\":\"white\",\"linecolor\":\"white\",\"ticks\":\"\",\"title\":{\"standoff\":15},\"zerolinecolor\":\"white\",\"automargin\":true,\"zerolinewidth\":2},\"yaxis\":{\"gridcolor\":\"white\",\"linecolor\":\"white\",\"ticks\":\"\",\"title\":{\"standoff\":15},\"zerolinecolor\":\"white\",\"automargin\":true,\"zerolinewidth\":2},\"scene\":{\"xaxis\":{\"backgroundcolor\":\"#E5ECF6\",\"gridcolor\":\"white\",\"linecolor\":\"white\",\"showbackground\":true,\"ticks\":\"\",\"zerolinecolor\":\"white\",\"gridwidth\":2},\"yaxis\":{\"backgroundcolor\":\"#E5ECF6\",\"gridcolor\":\"white\",\"linecolor\":\"white\",\"showbackground\":true,\"ticks\":\"\",\"zerolinecolor\":\"white\",\"gridwidth\":2},\"zaxis\":{\"backgroundcolor\":\"#E5ECF6\",\"gridcolor\":\"white\",\"linecolor\":\"white\",\"showbackground\":true,\"ticks\":\"\",\"zerolinecolor\":\"white\",\"gridwidth\":2}},\"shapedefaults\":{\"line\":{\"color\":\"#2a3f5f\"}},\"annotationdefaults\":{\"arrowcolor\":\"#2a3f5f\",\"arrowhead\":0,\"arrowwidth\":1},\"geo\":{\"bgcolor\":\"white\",\"landcolor\":\"#E5ECF6\",\"subunitcolor\":\"white\",\"showland\":true,\"showlakes\":true,\"lakecolor\":\"white\"},\"title\":{\"x\":0.05},\"mapbox\":{\"style\":\"light\"}}}},                        {\"responsive\": true}                    )                };                            </script>        </div>"
      ],
      "text/plain": [
       "Figure({\n",
       "    'data': [{'mode': 'markers',\n",
       "              'name': 'Objective Value',\n",
       "              'type': 'scatter',\n",
       "              'x': [0, 1, 2, 3, 4, 5, 6, 7, 8, 9],\n",
       "              'y': [0.7634252539912917, 0.7611464968152866, 0.7573415765069552,\n",
       "                    0.7578616352201258, 0.7500000000000001, 0.7492163009404389,\n",
       "                    0.7608346709470305, 0.7606973058637084, 0.7531645569620252,\n",
       "                    0.7550077041602464]},\n",
       "             {'mode': 'lines',\n",
       "              'name': 'Best Value',\n",
       "              'type': 'scatter',\n",
       "              'x': [0, 1, 2, 3, 4, 5, 6, 7, 8, 9],\n",
       "              'y': [0.7634252539912917, 0.7634252539912917, 0.7634252539912917,\n",
       "                    0.7634252539912917, 0.7634252539912917, 0.7634252539912917,\n",
       "                    0.7634252539912917, 0.7634252539912917, 0.7634252539912917,\n",
       "                    0.7634252539912917]},\n",
       "             {'marker': {'color': '#cccccc'},\n",
       "              'mode': 'markers',\n",
       "              'name': 'Infeasible Trial',\n",
       "              'showlegend': False,\n",
       "              'type': 'scatter',\n",
       "              'x': [],\n",
       "              'y': []}],\n",
       "    'layout': {'template': '...',\n",
       "               'title': {'text': 'Optimization History Plot'},\n",
       "               'xaxis': {'title': {'text': 'Trial'}},\n",
       "               'yaxis': {'title': {'text': 'Objective Value'}}}\n",
       "})"
      ]
     },
     "execution_count": 20,
     "metadata": {},
     "output_type": "execute_result"
    }
   ],
   "source": [
    "plot_optimization_history(study)"
   ]
  },
  {
   "cell_type": "code",
   "execution_count": 21,
   "metadata": {},
   "outputs": [],
   "source": [
    "def objective_3(trial):\n",
    "    n1scale = trial.suggest_int('n1scale', 3, 10)\n",
    "    n2scale = trial.suggest_int('n2scale', 3, 10)\n",
    "    n3scale = trial.suggest_int('n3scale', 3, 10)\n",
    "    n4scale = trial.suggest_int('n4scale', 3, 10)\n",
    "    layer_dims = [INPUT_SIZE, int(2**n1scale), int(2**n2scale), int(2**n3scale), int(2**n4scale), OUTPUT_SIZE]\n",
    "    learning_rate = trial.suggest_float('learning_rate', 1e-5, 1e-3, log=True)\n",
    "    batch_size = trial.suggest_categorical('batch_size', [BATCH_SIZE, BATCH_SIZE//2 + 1, BATCH_SIZE//4 + 1])\n",
    "    regularizer = trial.suggest_float('regularizer', 1e-6, 1e-2, log=True)\n",
    "    initializer = trial.suggest_categorical('initializer', ['glorot_normal', 'he_normal'])\n",
    "    activation = trial.suggest_categorical('activation', ['relu', 'gelu', 'leaky_relu'])\n",
    "\n",
    "    model = build_model(layer_dims=layer_dims, learning_rate=learning_rate, \n",
    "                        use_regularizer=True, regularizer=regularizer, \n",
    "                        initializer=initializer, activation=activation)\n",
    "    f1_score = train(X_train_scaled, Y_train, X_dev_scaled, Y_dev, model, \n",
    "                    batch_size=batch_size)\n",
    "    return f1_score\n"
   ]
  },
  {
   "cell_type": "code",
   "execution_count": 22,
   "metadata": {},
   "outputs": [
    {
     "name": "stderr",
     "output_type": "stream",
     "text": [
      "[I 2024-04-14 14:55:51,149] A new study created in memory with name: dl8\n",
      "  0%|          | 0/30 [00:00<?, ?it/s]"
     ]
    },
    {
     "name": "stdout",
     "output_type": "stream",
     "text": [
      "24/24 [==============================] - 0s 5ms/step\n"
     ]
    },
    {
     "name": "stderr",
     "output_type": "stream",
     "text": [
      "Best trial: 1. Best value: 0.747287:   3%|▎         | 1/30 [00:20<10:01, 20.73s/it]"
     ]
    },
    {
     "name": "stdout",
     "output_type": "stream",
     "text": [
      "Validation F1 score: 0.7472868217054264\n",
      "[I 2024-04-14 14:56:11,872] Trial 1 finished with value: 0.7472868217054264 and parameters: {'n1scale': 7, 'n2scale': 8, 'n3scale': 9, 'n4scale': 3, 'learning_rate': 0.00019092486831908558, 'batch_size': 3426, 'regularizer': 0.00202148650457301, 'initializer': 'glorot_normal', 'activation': 'leaky_relu'}. Best is trial 1 with value: 0.7472868217054264.\n",
      "24/24 [==============================] - 0s 3ms/step\n"
     ]
    },
    {
     "name": "stderr",
     "output_type": "stream",
     "text": [
      "Best trial: 1. Best value: 0.747287:   7%|▋         | 2/30 [00:24<04:59, 10.69s/it]"
     ]
    },
    {
     "name": "stdout",
     "output_type": "stream",
     "text": [
      "Validation F1 score: 0.335\n",
      "[I 2024-04-14 14:56:15,532] Trial 0 finished with value: 0.335 and parameters: {'n1scale': 5, 'n2scale': 10, 'n3scale': 10, 'n4scale': 3, 'learning_rate': 0.0005606628900596067, 'batch_size': 6851, 'regularizer': 0.0032319406150676704, 'initializer': 'glorot_normal', 'activation': 'gelu'}. Best is trial 1 with value: 0.7472868217054264.\n",
      "24/24 [==============================] - 0s 3ms/step\n"
     ]
    },
    {
     "name": "stderr",
     "output_type": "stream",
     "text": [
      "Best trial: 1. Best value: 0.747287:  10%|█         | 3/30 [00:27<03:17,  7.32s/it]"
     ]
    },
    {
     "name": "stdout",
     "output_type": "stream",
     "text": [
      "Validation F1 score: 0.7377049180327869\n",
      "[I 2024-04-14 14:56:18,852] Trial 2 finished with value: 0.7377049180327869 and parameters: {'n1scale': 6, 'n2scale': 10, 'n3scale': 5, 'n4scale': 4, 'learning_rate': 0.0005418588156014164, 'batch_size': 1713, 'regularizer': 1.7833853896274811e-06, 'initializer': 'glorot_normal', 'activation': 'gelu'}. Best is trial 1 with value: 0.7472868217054264.\n",
      "24/24 [==============================] - 0s 2ms/step\n"
     ]
    },
    {
     "name": "stderr",
     "output_type": "stream",
     "text": [
      "Best trial: 4. Best value: 0.756058:  13%|█▎        | 4/30 [00:36<03:26,  7.93s/it]"
     ]
    },
    {
     "name": "stdout",
     "output_type": "stream",
     "text": [
      "Validation F1 score: 0.7560581583198709\n",
      "[I 2024-04-14 14:56:27,700] Trial 4 finished with value: 0.7560581583198709 and parameters: {'n1scale': 5, 'n2scale': 4, 'n3scale': 8, 'n4scale': 6, 'learning_rate': 0.0005031177432491711, 'batch_size': 3426, 'regularizer': 1.7780499389927155e-06, 'initializer': 'glorot_normal', 'activation': 'gelu'}. Best is trial 4 with value: 0.7560581583198709.\n",
      "24/24 [==============================] - 0s 3ms/step\n"
     ]
    },
    {
     "name": "stderr",
     "output_type": "stream",
     "text": [
      "Best trial: 3. Best value: 0.756996:  17%|█▋        | 5/30 [00:37<02:15,  5.42s/it]"
     ]
    },
    {
     "name": "stdout",
     "output_type": "stream",
     "text": [
      "Validation F1 score: 0.7569955817378498\n",
      "[I 2024-04-14 14:56:28,685] Trial 3 finished with value: 0.7569955817378498 and parameters: {'n1scale': 8, 'n2scale': 3, 'n3scale': 7, 'n4scale': 5, 'learning_rate': 0.0002845113941128408, 'batch_size': 3426, 'regularizer': 1.7671713089752737e-05, 'initializer': 'glorot_normal', 'activation': 'gelu'}. Best is trial 3 with value: 0.7569955817378498.\n",
      "24/24 [==============================] - 0s 3ms/step\n"
     ]
    },
    {
     "name": "stderr",
     "output_type": "stream",
     "text": [
      "Best trial: 3. Best value: 0.756996:  20%|██        | 6/30 [00:44<02:22,  5.93s/it]"
     ]
    },
    {
     "name": "stdout",
     "output_type": "stream",
     "text": [
      "Validation F1 score: 0.6303501945525292\n",
      "[I 2024-04-14 14:56:35,620] Trial 6 finished with value: 0.6303501945525292 and parameters: {'n1scale': 6, 'n2scale': 4, 'n3scale': 8, 'n4scale': 3, 'learning_rate': 2.9281013810019236e-05, 'batch_size': 1713, 'regularizer': 8.275835743110897e-06, 'initializer': 'he_normal', 'activation': 'relu'}. Best is trial 3 with value: 0.7569955817378498.\n",
      "24/24 [==============================] - 0s 3ms/step\n"
     ]
    },
    {
     "name": "stderr",
     "output_type": "stream",
     "text": [
      "Best trial: 3. Best value: 0.756996:  23%|██▎       | 7/30 [00:44<01:33,  4.07s/it]"
     ]
    },
    {
     "name": "stdout",
     "output_type": "stream",
     "text": [
      "Validation F1 score: 0.7477203647416413\n",
      "[I 2024-04-14 14:56:35,859] Trial 5 finished with value: 0.7477203647416413 and parameters: {'n1scale': 3, 'n2scale': 9, 'n3scale': 7, 'n4scale': 8, 'learning_rate': 2.4797226598479513e-05, 'batch_size': 1713, 'regularizer': 0.00020813833310132806, 'initializer': 'he_normal', 'activation': 'relu'}. Best is trial 3 with value: 0.7569955817378498.\n",
      "24/24 [==============================] - 0s 5ms/step\n"
     ]
    },
    {
     "name": "stderr",
     "output_type": "stream",
     "text": [
      "Best trial: 3. Best value: 0.756996:  23%|██▎       | 7/30 [00:59<01:33,  4.07s/it]"
     ]
    },
    {
     "name": "stdout",
     "output_type": "stream",
     "text": [
      "Validation F1 score: 0.6611053180396247\n",
      "[I 2024-04-14 14:56:50,549] Trial 8 finished with value: 0.6611053180396247 and parameters: {'n1scale': 8, 'n2scale': 7, 'n3scale': 3, 'n4scale': 3, 'learning_rate': 2.6637274548894743e-05, 'batch_size': 6851, 'regularizer': 0.0012734133830664249, 'initializer': 'glorot_normal', 'activation': 'relu'}. Best is trial 3 with value: 0.7569955817378498.\n"
     ]
    },
    {
     "name": "stderr",
     "output_type": "stream",
     "text": [
      "Best trial: 3. Best value: 0.756996:  27%|██▋       | 8/30 [00:59<02:44,  7.46s/it]"
     ]
    },
    {
     "name": "stdout",
     "output_type": "stream",
     "text": [
      "24/24 [==============================] - 0s 5ms/step\n"
     ]
    },
    {
     "name": "stderr",
     "output_type": "stream",
     "text": [
      "Best trial: 3. Best value: 0.756996:  30%|███       | 9/30 [01:07<02:42,  7.72s/it]"
     ]
    },
    {
     "name": "stdout",
     "output_type": "stream",
     "text": [
      "Validation F1 score: 0.6860254083484574\n",
      "[I 2024-04-14 14:56:58,862] Trial 7 finished with value: 0.6860254083484574 and parameters: {'n1scale': 9, 'n2scale': 9, 'n3scale': 3, 'n4scale': 5, 'learning_rate': 6.038051615683204e-05, 'batch_size': 3426, 'regularizer': 3.269346519366003e-05, 'initializer': 'he_normal', 'activation': 'relu'}. Best is trial 3 with value: 0.7569955817378498.\n",
      "24/24 [==============================] - 0s 2ms/step\n"
     ]
    },
    {
     "name": "stderr",
     "output_type": "stream",
     "text": [
      "Best trial: 3. Best value: 0.756996:  33%|███▎      | 10/30 [01:09<01:59,  6.00s/it]"
     ]
    },
    {
     "name": "stdout",
     "output_type": "stream",
     "text": [
      "Validation F1 score: 0.7363344051446946\n",
      "[I 2024-04-14 14:57:01,002] Trial 9 finished with value: 0.7363344051446946 and parameters: {'n1scale': 7, 'n2scale': 6, 'n3scale': 8, 'n4scale': 4, 'learning_rate': 0.00011168164170727712, 'batch_size': 6851, 'regularizer': 3.098945305877287e-06, 'initializer': 'he_normal', 'activation': 'relu'}. Best is trial 3 with value: 0.7569955817378498.\n",
      "24/24 [==============================] - 0s 10ms/step\n",
      "Validation F1 score: 0.6932849364791288\n"
     ]
    },
    {
     "name": "stderr",
     "output_type": "stream",
     "text": [
      "Best trial: 3. Best value: 0.756996:  37%|███▋      | 11/30 [01:25<02:51,  9.01s/it]"
     ]
    },
    {
     "name": "stdout",
     "output_type": "stream",
     "text": [
      "[I 2024-04-14 14:57:16,827] Trial 10 finished with value: 0.6932849364791288 and parameters: {'n1scale': 3, 'n2scale': 7, 'n3scale': 10, 'n4scale': 3, 'learning_rate': 0.00019243040120419717, 'batch_size': 3426, 'regularizer': 1.0171551637111905e-05, 'initializer': 'glorot_normal', 'activation': 'gelu'}. Best is trial 3 with value: 0.7569955817378498.\n",
      "24/24 [==============================] - 0s 3ms/step\n"
     ]
    },
    {
     "name": "stderr",
     "output_type": "stream",
     "text": [
      "Best trial: 3. Best value: 0.756996:  40%|████      | 12/30 [01:44<03:35, 11.96s/it]"
     ]
    },
    {
     "name": "stdout",
     "output_type": "stream",
     "text": [
      "Validation F1 score: 0.7519025875190258\n",
      "[I 2024-04-14 14:57:35,565] Trial 12 finished with value: 0.7519025875190258 and parameters: {'n1scale': 10, 'n2scale': 3, 'n3scale': 6, 'n4scale': 7, 'learning_rate': 0.0009321145967645101, 'batch_size': 3426, 'regularizer': 4.600793902946494e-05, 'initializer': 'glorot_normal', 'activation': 'gelu'}. Best is trial 3 with value: 0.7569955817378498.\n",
      "24/24 [==============================] - 0s 2ms/step\n"
     ]
    },
    {
     "name": "stderr",
     "output_type": "stream",
     "text": [
      "Best trial: 3. Best value: 0.756996:  43%|████▎     | 13/30 [01:51<02:57, 10.45s/it]"
     ]
    },
    {
     "name": "stdout",
     "output_type": "stream",
     "text": [
      "Validation F1 score: 0.7523510971786833\n",
      "[I 2024-04-14 14:57:42,542] Trial 13 finished with value: 0.7523510971786833 and parameters: {'n1scale': 5, 'n2scale': 5, 'n3scale': 6, 'n4scale': 10, 'learning_rate': 0.0003082300849972087, 'batch_size': 3426, 'regularizer': 1.459475411987643e-06, 'initializer': 'glorot_normal', 'activation': 'gelu'}. Best is trial 3 with value: 0.7569955817378498.\n",
      "24/24 [==============================] - 0s 3ms/step\n"
     ]
    },
    {
     "name": "stderr",
     "output_type": "stream",
     "text": [
      "Best trial: 3. Best value: 0.756996:  47%|████▋     | 14/30 [01:53<02:04,  7.79s/it]"
     ]
    },
    {
     "name": "stdout",
     "output_type": "stream",
     "text": [
      "Validation F1 score: 0.7547169811320756\n",
      "[I 2024-04-14 14:57:44,169] Trial 11 finished with value: 0.7547169811320756 and parameters: {'n1scale': 10, 'n2scale': 3, 'n3scale': 5, 'n4scale': 10, 'learning_rate': 0.0002194026240953075, 'batch_size': 3426, 'regularizer': 0.00010908508189239062, 'initializer': 'glorot_normal', 'activation': 'leaky_relu'}. Best is trial 3 with value: 0.7569955817378498.\n",
      "24/24 [==============================] - 0s 2ms/step\n"
     ]
    },
    {
     "name": "stderr",
     "output_type": "stream",
     "text": [
      "Best trial: 3. Best value: 0.756996:  50%|█████     | 15/30 [01:57<01:42,  6.86s/it]"
     ]
    },
    {
     "name": "stdout",
     "output_type": "stream",
     "text": [
      "Validation F1 score: 0.7562499999999999\n",
      "[I 2024-04-14 14:57:48,874] Trial 14 finished with value: 0.7562499999999999 and parameters: {'n1scale': 4, 'n2scale': 3, 'n3scale': 8, 'n4scale': 6, 'learning_rate': 0.00036731033696628385, 'batch_size': 3426, 'regularizer': 0.00028690733021454845, 'initializer': 'glorot_normal', 'activation': 'leaky_relu'}. Best is trial 3 with value: 0.7569955817378498.\n",
      "24/24 [==============================] - 0s 2ms/step\n"
     ]
    },
    {
     "name": "stderr",
     "output_type": "stream",
     "text": [
      "Best trial: 15. Best value: 0.757862:  53%|█████▎    | 16/30 [01:59<01:12,  5.19s/it]"
     ]
    },
    {
     "name": "stdout",
     "output_type": "stream",
     "text": [
      "Validation F1 score: 0.7578616352201258\n",
      "[I 2024-04-14 14:57:50,160] Trial 15 finished with value: 0.7578616352201258 and parameters: {'n1scale': 4, 'n2scale': 5, 'n3scale': 8, 'n4scale': 6, 'learning_rate': 0.00043572351744013946, 'batch_size': 3426, 'regularizer': 7.5959326184290255e-06, 'initializer': 'glorot_normal', 'activation': 'gelu'}. Best is trial 15 with value: 0.7578616352201258.\n",
      "24/24 [==============================] - 0s 3ms/step\n"
     ]
    },
    {
     "name": "stderr",
     "output_type": "stream",
     "text": [
      "Best trial: 15. Best value: 0.757862:  57%|█████▋    | 17/30 [02:03<01:03,  4.92s/it]"
     ]
    },
    {
     "name": "stdout",
     "output_type": "stream",
     "text": [
      "Validation F1 score: 0.48322147651006714\n",
      "[I 2024-04-14 14:57:54,474] Trial 16 finished with value: 0.48322147651006714 and parameters: {'n1scale': 4, 'n2scale': 5, 'n3scale': 7, 'n4scale': 6, 'learning_rate': 8.736972481615569e-05, 'batch_size': 3426, 'regularizer': 0.0002839843721023896, 'initializer': 'glorot_normal', 'activation': 'leaky_relu'}. Best is trial 15 with value: 0.7578616352201258.\n",
      "24/24 [==============================] - 0s 5ms/step\n"
     ]
    },
    {
     "name": "stderr",
     "output_type": "stream",
     "text": [
      "Best trial: 15. Best value: 0.757862:  60%|██████    | 18/30 [02:12<01:15,  6.32s/it]"
     ]
    },
    {
     "name": "stdout",
     "output_type": "stream",
     "text": [
      "Validation F1 score: 0.7359735973597359\n",
      "[I 2024-04-14 14:58:04,047] Trial 18 finished with value: 0.7359735973597359 and parameters: {'n1scale': 8, 'n2scale': 5, 'n3scale': 5, 'n4scale': 8, 'learning_rate': 0.0008974583394003192, 'batch_size': 3426, 'regularizer': 1.4669102013187299e-05, 'initializer': 'glorot_normal', 'activation': 'gelu'}. Best is trial 15 with value: 0.7578616352201258.\n",
      "24/24 [==============================] - 0s 2ms/step\n"
     ]
    },
    {
     "name": "stderr",
     "output_type": "stream",
     "text": [
      "Best trial: 15. Best value: 0.757862:  63%|██████▎   | 19/30 [02:21<01:17,  7.03s/it]"
     ]
    },
    {
     "name": "stdout",
     "output_type": "stream",
     "text": [
      "Validation F1 score: 0.6328125\n",
      "[I 2024-04-14 14:58:12,736] Trial 17 finished with value: 0.6328125 and parameters: {'n1scale': 8, 'n2scale': 5, 'n3scale': 7, 'n4scale': 8, 'learning_rate': 9.195284308125967e-05, 'batch_size': 3426, 'regularizer': 1.2518691188512891e-05, 'initializer': 'glorot_normal', 'activation': 'gelu'}. Best is trial 15 with value: 0.7578616352201258.\n",
      "24/24 [==============================] - 0s 2ms/step\n"
     ]
    },
    {
     "name": "stderr",
     "output_type": "stream",
     "text": [
      "Best trial: 15. Best value: 0.757862:  67%|██████▋   | 20/30 [02:22<00:53,  5.32s/it]"
     ]
    },
    {
     "name": "stdout",
     "output_type": "stream",
     "text": [
      "Validation F1 score: 0.6832740213523131\n",
      "[I 2024-04-14 14:58:14,080] Trial 19 finished with value: 0.6832740213523131 and parameters: {'n1scale': 8, 'n2scale': 4, 'n3scale': 9, 'n4scale': 5, 'learning_rate': 1.1366435220414982e-05, 'batch_size': 1713, 'regularizer': 5.876503371786809e-06, 'initializer': 'he_normal', 'activation': 'gelu'}. Best is trial 15 with value: 0.7578616352201258.\n",
      "24/24 [==============================] - 0s 5ms/step\n"
     ]
    },
    {
     "name": "stderr",
     "output_type": "stream",
     "text": [
      "Best trial: 15. Best value: 0.757862:  70%|███████   | 21/30 [02:29<00:52,  5.83s/it]"
     ]
    },
    {
     "name": "stdout",
     "output_type": "stream",
     "text": [
      "Validation F1 score: 0.7519747235387045\n",
      "[I 2024-04-14 14:58:21,079] Trial 20 finished with value: 0.7519747235387045 and parameters: {'n1scale': 7, 'n2scale': 4, 'n3scale': 9, 'n4scale': 5, 'learning_rate': 0.0003328190526923054, 'batch_size': 1713, 'regularizer': 6.031790824655116e-06, 'initializer': 'he_normal', 'activation': 'gelu'}. Best is trial 15 with value: 0.7578616352201258.\n",
      "24/24 [==============================] - 0s 4ms/step\n"
     ]
    },
    {
     "name": "stderr",
     "output_type": "stream",
     "text": [
      "Best trial: 15. Best value: 0.757862:  73%|███████▎  | 22/30 [02:43<01:04,  8.08s/it]"
     ]
    },
    {
     "name": "stdout",
     "output_type": "stream",
     "text": [
      "Validation F1 score: 0.7195945945945945\n",
      "[I 2024-04-14 14:58:34,430] Trial 22 finished with value: 0.7195945945945945 and parameters: {'n1scale': 4, 'n2scale': 3, 'n3scale': 8, 'n4scale': 7, 'learning_rate': 0.00033442015510302123, 'batch_size': 3426, 'regularizer': 0.00947146885403556, 'initializer': 'glorot_normal', 'activation': 'leaky_relu'}. Best is trial 15 with value: 0.7578616352201258.\n",
      "24/24 [==============================] - 0s 3ms/step\n"
     ]
    },
    {
     "name": "stderr",
     "output_type": "stream",
     "text": [
      "Best trial: 15. Best value: 0.757862:  77%|███████▋  | 23/30 [02:43<00:40,  5.83s/it]"
     ]
    },
    {
     "name": "stdout",
     "output_type": "stream",
     "text": [
      "Validation F1 score: 0.6847826086956522\n",
      "[I 2024-04-14 14:58:34,991] Trial 21 finished with value: 0.6847826086956522 and parameters: {'n1scale': 9, 'n2scale': 6, 'n3scale': 9, 'n4scale': 7, 'learning_rate': 0.00014920473622489862, 'batch_size': 6851, 'regularizer': 3.6115770057752673e-05, 'initializer': 'glorot_normal', 'activation': 'gelu'}. Best is trial 15 with value: 0.7578616352201258.\n",
      "24/24 [==============================] - 0s 1ms/step\n"
     ]
    },
    {
     "name": "stderr",
     "output_type": "stream",
     "text": [
      "Best trial: 15. Best value: 0.757862:  80%|████████  | 24/30 [02:48<00:33,  5.58s/it]"
     ]
    },
    {
     "name": "stdout",
     "output_type": "stream",
     "text": [
      "Validation F1 score: 0.7523510971786833\n",
      "[I 2024-04-14 14:58:40,015] Trial 24 finished with value: 0.7523510971786833 and parameters: {'n1scale': 4, 'n2scale': 3, 'n3scale': 6, 'n4scale': 6, 'learning_rate': 0.00039714864184733087, 'batch_size': 3426, 'regularizer': 0.0007256218549423316, 'initializer': 'glorot_normal', 'activation': 'leaky_relu'}. Best is trial 15 with value: 0.7578616352201258.\n",
      "24/24 [==============================] - 0s 1ms/step\n"
     ]
    },
    {
     "name": "stderr",
     "output_type": "stream",
     "text": [
      "Best trial: 15. Best value: 0.757862:  83%|████████▎ | 25/30 [02:50<00:22,  4.44s/it]"
     ]
    },
    {
     "name": "stdout",
     "output_type": "stream",
     "text": [
      "Validation F1 score: 0.7115044247787611\n",
      "[I 2024-04-14 14:58:41,774] Trial 23 finished with value: 0.7115044247787611 and parameters: {'n1scale': 4, 'n2scale': 3, 'n3scale': 6, 'n4scale': 6, 'learning_rate': 0.00014204699824238781, 'batch_size': 3426, 'regularizer': 0.0005823250344510052, 'initializer': 'glorot_normal', 'activation': 'leaky_relu'}. Best is trial 15 with value: 0.7578616352201258.\n",
      "24/24 [==============================] - 0s 2ms/step\n"
     ]
    },
    {
     "name": "stderr",
     "output_type": "stream",
     "text": [
      "Best trial: 15. Best value: 0.757862:  87%|████████▋ | 26/30 [02:52<00:14,  3.70s/it]"
     ]
    },
    {
     "name": "stdout",
     "output_type": "stream",
     "text": [
      "Validation F1 score: 0.7441130298273154\n",
      "[I 2024-04-14 14:58:43,750] Trial 25 finished with value: 0.7441130298273154 and parameters: {'n1scale': 3, 'n2scale': 4, 'n3scale': 7, 'n4scale': 5, 'learning_rate': 0.0007195886876666342, 'batch_size': 3426, 'regularizer': 8.119998114476047e-05, 'initializer': 'glorot_normal', 'activation': 'leaky_relu'}. Best is trial 15 with value: 0.7578616352201258.\n",
      "24/24 [==============================] - 0s 2ms/step\n"
     ]
    },
    {
     "name": "stderr",
     "output_type": "stream",
     "text": [
      "Best trial: 15. Best value: 0.757862:  90%|█████████ | 27/30 [02:55<00:10,  3.46s/it]"
     ]
    },
    {
     "name": "stdout",
     "output_type": "stream",
     "text": [
      "Validation F1 score: 0.5821205821205822\n",
      "[I 2024-04-14 14:58:46,656] Trial 26 finished with value: 0.5821205821205822 and parameters: {'n1scale': 3, 'n2scale': 4, 'n3scale': 7, 'n4scale': 5, 'learning_rate': 0.00025167714415994674, 'batch_size': 3426, 'regularizer': 7.263894957547957e-05, 'initializer': 'glorot_normal', 'activation': 'leaky_relu'}. Best is trial 15 with value: 0.7578616352201258.\n",
      "24/24 [==============================] - 0s 3ms/step\n"
     ]
    },
    {
     "name": "stderr",
     "output_type": "stream",
     "text": [
      "Best trial: 15. Best value: 0.757862:  93%|█████████▎| 28/30 [02:59<00:07,  3.62s/it]"
     ]
    },
    {
     "name": "stdout",
     "output_type": "stream",
     "text": [
      "Validation F1 score: 0.7539936102236422\n",
      "[I 2024-04-14 14:58:50,647] Trial 27 finished with value: 0.7539936102236422 and parameters: {'n1scale': 6, 'n2scale': 6, 'n3scale': 8, 'n4scale': 4, 'learning_rate': 0.00023593317450194392, 'batch_size': 3426, 'regularizer': 2.5178408676405703e-05, 'initializer': 'glorot_normal', 'activation': 'leaky_relu'}. Best is trial 15 with value: 0.7578616352201258.\n",
      "24/24 [==============================] - 0s 2ms/step\n"
     ]
    },
    {
     "name": "stderr",
     "output_type": "stream",
     "text": [
      "Best trial: 15. Best value: 0.757862:  97%|█████████▋| 29/30 [03:03<00:03,  3.74s/it]"
     ]
    },
    {
     "name": "stdout",
     "output_type": "stream",
     "text": [
      "Validation F1 score: 0.7492063492063491\n",
      "[I 2024-04-14 14:58:54,660] Trial 28 finished with value: 0.7492063492063491 and parameters: {'n1scale': 6, 'n2scale': 6, 'n3scale': 8, 'n4scale': 4, 'learning_rate': 0.00043743160082408597, 'batch_size': 3426, 'regularizer': 1.9604679386201076e-05, 'initializer': 'glorot_normal', 'activation': 'gelu'}. Best is trial 15 with value: 0.7578616352201258.\n",
      "24/24 [==============================] - 0s 2ms/step\n"
     ]
    },
    {
     "name": "stderr",
     "output_type": "stream",
     "text": [
      "Best trial: 15. Best value: 0.757862: 100%|██████████| 30/30 [03:12<00:00,  6.42s/it]"
     ]
    },
    {
     "name": "stdout",
     "output_type": "stream",
     "text": [
      "Validation F1 score: 0.7380191693290735\n",
      "[I 2024-04-14 14:59:03,716] Trial 29 finished with value: 0.7380191693290735 and parameters: {'n1scale': 9, 'n2scale': 3, 'n3scale': 4, 'n4scale': 9, 'learning_rate': 0.0004532934234041938, 'batch_size': 3426, 'regularizer': 0.00019815711008320502, 'initializer': 'glorot_normal', 'activation': 'gelu'}. Best is trial 15 with value: 0.7578616352201258.\n",
      "-> Best score: 0.7578616352201258\n",
      "-> Optimal network parameters: \n",
      "{'activation': 'gelu',\n",
      " 'batch_size': 3426,\n",
      " 'initializer': 'glorot_normal',\n",
      " 'learning_rate': 0.00043572351744013946,\n",
      " 'n1scale': 4,\n",
      " 'n2scale': 5,\n",
      " 'n3scale': 8,\n",
      " 'n4scale': 6,\n",
      " 'regularizer': 7.5959326184290255e-06}\n"
     ]
    },
    {
     "name": "stderr",
     "output_type": "stream",
     "text": [
      "\n"
     ]
    }
   ],
   "source": [
    "study_2 = optuna.create_study(study_name='dl8', direction='maximize')\n",
    "study_2.optimize(objective_3, n_jobs=2, n_trials=30, show_progress_bar=True)\n",
    "\n",
    "trial_2 = study_2.best_trial\n",
    "print(f'-> Best score: {trial_2.value}')\n",
    "print(f'-> Optimal network parameters: ')\n",
    "pprint.pprint(trial_2.params)\n"
   ]
  },
  {
   "cell_type": "code",
   "execution_count": 25,
   "metadata": {},
   "outputs": [
    {
     "ename": "ValueError",
     "evalue": "Mime type rendering requires nbformat>=4.2.0 but it is not installed",
     "output_type": "error",
     "traceback": [
      "\u001b[0;31m---------------------------------------------------------------------------\u001b[0m",
      "\u001b[0;31mValueError\u001b[0m                                Traceback (most recent call last)",
      "File \u001b[0;32m~/anaconda3/envs/machine-learning-1/lib/python3.11/site-packages/IPython/core/formatters.py:922\u001b[0m, in \u001b[0;36mIPythonDisplayFormatter.__call__\u001b[0;34m(self, obj)\u001b[0m\n\u001b[1;32m    920\u001b[0m method \u001b[38;5;241m=\u001b[39m get_real_method(obj, \u001b[38;5;28mself\u001b[39m\u001b[38;5;241m.\u001b[39mprint_method)\n\u001b[1;32m    921\u001b[0m \u001b[38;5;28;01mif\u001b[39;00m method \u001b[38;5;129;01mis\u001b[39;00m \u001b[38;5;129;01mnot\u001b[39;00m \u001b[38;5;28;01mNone\u001b[39;00m:\n\u001b[0;32m--> 922\u001b[0m     method()\n\u001b[1;32m    923\u001b[0m     \u001b[38;5;28;01mreturn\u001b[39;00m \u001b[38;5;28;01mTrue\u001b[39;00m\n",
      "File \u001b[0;32m~/anaconda3/envs/machine-learning-1/lib/python3.11/site-packages/plotly/basedatatypes.py:832\u001b[0m, in \u001b[0;36mBaseFigure._ipython_display_\u001b[0;34m(self)\u001b[0m\n\u001b[1;32m    829\u001b[0m \u001b[38;5;28;01mimport\u001b[39;00m \u001b[38;5;21;01mplotly\u001b[39;00m\u001b[38;5;21;01m.\u001b[39;00m\u001b[38;5;21;01mio\u001b[39;00m \u001b[38;5;28;01mas\u001b[39;00m \u001b[38;5;21;01mpio\u001b[39;00m\n\u001b[1;32m    831\u001b[0m \u001b[38;5;28;01mif\u001b[39;00m pio\u001b[38;5;241m.\u001b[39mrenderers\u001b[38;5;241m.\u001b[39mrender_on_display \u001b[38;5;129;01mand\u001b[39;00m pio\u001b[38;5;241m.\u001b[39mrenderers\u001b[38;5;241m.\u001b[39mdefault:\n\u001b[0;32m--> 832\u001b[0m     pio\u001b[38;5;241m.\u001b[39mshow(\u001b[38;5;28mself\u001b[39m)\n\u001b[1;32m    833\u001b[0m \u001b[38;5;28;01melse\u001b[39;00m:\n\u001b[1;32m    834\u001b[0m     \u001b[38;5;28mprint\u001b[39m(\u001b[38;5;28mrepr\u001b[39m(\u001b[38;5;28mself\u001b[39m))\n",
      "File \u001b[0;32m~/anaconda3/envs/machine-learning-1/lib/python3.11/site-packages/plotly/io/_renderers.py:394\u001b[0m, in \u001b[0;36mshow\u001b[0;34m(fig, renderer, validate, **kwargs)\u001b[0m\n\u001b[1;32m    389\u001b[0m         \u001b[38;5;28;01mraise\u001b[39;00m \u001b[38;5;167;01mValueError\u001b[39;00m(\n\u001b[1;32m    390\u001b[0m             \u001b[38;5;124m\"\u001b[39m\u001b[38;5;124mMime type rendering requires ipython but it is not installed\u001b[39m\u001b[38;5;124m\"\u001b[39m\n\u001b[1;32m    391\u001b[0m         )\n\u001b[1;32m    393\u001b[0m     \u001b[38;5;28;01mif\u001b[39;00m \u001b[38;5;129;01mnot\u001b[39;00m nbformat \u001b[38;5;129;01mor\u001b[39;00m Version(nbformat\u001b[38;5;241m.\u001b[39m__version__) \u001b[38;5;241m<\u001b[39m Version(\u001b[38;5;124m\"\u001b[39m\u001b[38;5;124m4.2.0\u001b[39m\u001b[38;5;124m\"\u001b[39m):\n\u001b[0;32m--> 394\u001b[0m         \u001b[38;5;28;01mraise\u001b[39;00m \u001b[38;5;167;01mValueError\u001b[39;00m(\n\u001b[1;32m    395\u001b[0m             \u001b[38;5;124m\"\u001b[39m\u001b[38;5;124mMime type rendering requires nbformat>=4.2.0 but it is not installed\u001b[39m\u001b[38;5;124m\"\u001b[39m\n\u001b[1;32m    396\u001b[0m         )\n\u001b[1;32m    398\u001b[0m     ipython_display\u001b[38;5;241m.\u001b[39mdisplay(bundle, raw\u001b[38;5;241m=\u001b[39m\u001b[38;5;28;01mTrue\u001b[39;00m)\n\u001b[1;32m    400\u001b[0m \u001b[38;5;66;03m# external renderers\u001b[39;00m\n",
      "\u001b[0;31mValueError\u001b[0m: Mime type rendering requires nbformat>=4.2.0 but it is not installed"
     ]
    },
    {
     "data": {
      "application/vnd.plotly.v1+json": {
       "config": {
        "plotlyServerURL": "https://plot.ly"
       },
       "data": [
        {
         "mode": "markers",
         "name": "Objective Value",
         "type": "scatter",
         "x": [
          0,
          1,
          2,
          3,
          4,
          5,
          6,
          7,
          8,
          9,
          10,
          11,
          12,
          13,
          14,
          15,
          16,
          17,
          18,
          19,
          20,
          21,
          22,
          23,
          24,
          25,
          26,
          27,
          28,
          29
         ],
         "y": [
          0.335,
          0.7472868217054264,
          0.7377049180327869,
          0.7569955817378498,
          0.7560581583198709,
          0.7477203647416413,
          0.6303501945525292,
          0.6860254083484574,
          0.6611053180396247,
          0.7363344051446946,
          0.6932849364791288,
          0.7547169811320756,
          0.7519025875190258,
          0.7523510971786833,
          0.7562499999999999,
          0.7578616352201258,
          0.48322147651006714,
          0.6328125,
          0.7359735973597359,
          0.6832740213523131,
          0.7519747235387045,
          0.6847826086956522,
          0.7195945945945945,
          0.7115044247787611,
          0.7523510971786833,
          0.7441130298273154,
          0.5821205821205822,
          0.7539936102236422,
          0.7492063492063491,
          0.7380191693290735
         ]
        },
        {
         "mode": "lines",
         "name": "Best Value",
         "type": "scatter",
         "x": [
          0,
          1,
          2,
          3,
          4,
          5,
          6,
          7,
          8,
          9,
          10,
          11,
          12,
          13,
          14,
          15,
          16,
          17,
          18,
          19,
          20,
          21,
          22,
          23,
          24,
          25,
          26,
          27,
          28,
          29
         ],
         "y": [
          0.335,
          0.7472868217054264,
          0.7472868217054264,
          0.7569955817378498,
          0.7569955817378498,
          0.7569955817378498,
          0.7569955817378498,
          0.7569955817378498,
          0.7569955817378498,
          0.7569955817378498,
          0.7569955817378498,
          0.7569955817378498,
          0.7569955817378498,
          0.7569955817378498,
          0.7569955817378498,
          0.7578616352201258,
          0.7578616352201258,
          0.7578616352201258,
          0.7578616352201258,
          0.7578616352201258,
          0.7578616352201258,
          0.7578616352201258,
          0.7578616352201258,
          0.7578616352201258,
          0.7578616352201258,
          0.7578616352201258,
          0.7578616352201258,
          0.7578616352201258,
          0.7578616352201258,
          0.7578616352201258
         ]
        },
        {
         "marker": {
          "color": "#cccccc"
         },
         "mode": "markers",
         "name": "Infeasible Trial",
         "showlegend": false,
         "type": "scatter",
         "x": [],
         "y": []
        }
       ],
       "layout": {
        "template": {
         "data": {
          "bar": [
           {
            "error_x": {
             "color": "#2a3f5f"
            },
            "error_y": {
             "color": "#2a3f5f"
            },
            "marker": {
             "line": {
              "color": "#E5ECF6",
              "width": 0.5
             },
             "pattern": {
              "fillmode": "overlay",
              "size": 10,
              "solidity": 0.2
             }
            },
            "type": "bar"
           }
          ],
          "barpolar": [
           {
            "marker": {
             "line": {
              "color": "#E5ECF6",
              "width": 0.5
             },
             "pattern": {
              "fillmode": "overlay",
              "size": 10,
              "solidity": 0.2
             }
            },
            "type": "barpolar"
           }
          ],
          "carpet": [
           {
            "aaxis": {
             "endlinecolor": "#2a3f5f",
             "gridcolor": "white",
             "linecolor": "white",
             "minorgridcolor": "white",
             "startlinecolor": "#2a3f5f"
            },
            "baxis": {
             "endlinecolor": "#2a3f5f",
             "gridcolor": "white",
             "linecolor": "white",
             "minorgridcolor": "white",
             "startlinecolor": "#2a3f5f"
            },
            "type": "carpet"
           }
          ],
          "choropleth": [
           {
            "colorbar": {
             "outlinewidth": 0,
             "ticks": ""
            },
            "type": "choropleth"
           }
          ],
          "contour": [
           {
            "colorbar": {
             "outlinewidth": 0,
             "ticks": ""
            },
            "colorscale": [
             [
              0,
              "#0d0887"
             ],
             [
              0.1111111111111111,
              "#46039f"
             ],
             [
              0.2222222222222222,
              "#7201a8"
             ],
             [
              0.3333333333333333,
              "#9c179e"
             ],
             [
              0.4444444444444444,
              "#bd3786"
             ],
             [
              0.5555555555555556,
              "#d8576b"
             ],
             [
              0.6666666666666666,
              "#ed7953"
             ],
             [
              0.7777777777777778,
              "#fb9f3a"
             ],
             [
              0.8888888888888888,
              "#fdca26"
             ],
             [
              1,
              "#f0f921"
             ]
            ],
            "type": "contour"
           }
          ],
          "contourcarpet": [
           {
            "colorbar": {
             "outlinewidth": 0,
             "ticks": ""
            },
            "type": "contourcarpet"
           }
          ],
          "heatmap": [
           {
            "colorbar": {
             "outlinewidth": 0,
             "ticks": ""
            },
            "colorscale": [
             [
              0,
              "#0d0887"
             ],
             [
              0.1111111111111111,
              "#46039f"
             ],
             [
              0.2222222222222222,
              "#7201a8"
             ],
             [
              0.3333333333333333,
              "#9c179e"
             ],
             [
              0.4444444444444444,
              "#bd3786"
             ],
             [
              0.5555555555555556,
              "#d8576b"
             ],
             [
              0.6666666666666666,
              "#ed7953"
             ],
             [
              0.7777777777777778,
              "#fb9f3a"
             ],
             [
              0.8888888888888888,
              "#fdca26"
             ],
             [
              1,
              "#f0f921"
             ]
            ],
            "type": "heatmap"
           }
          ],
          "heatmapgl": [
           {
            "colorbar": {
             "outlinewidth": 0,
             "ticks": ""
            },
            "colorscale": [
             [
              0,
              "#0d0887"
             ],
             [
              0.1111111111111111,
              "#46039f"
             ],
             [
              0.2222222222222222,
              "#7201a8"
             ],
             [
              0.3333333333333333,
              "#9c179e"
             ],
             [
              0.4444444444444444,
              "#bd3786"
             ],
             [
              0.5555555555555556,
              "#d8576b"
             ],
             [
              0.6666666666666666,
              "#ed7953"
             ],
             [
              0.7777777777777778,
              "#fb9f3a"
             ],
             [
              0.8888888888888888,
              "#fdca26"
             ],
             [
              1,
              "#f0f921"
             ]
            ],
            "type": "heatmapgl"
           }
          ],
          "histogram": [
           {
            "marker": {
             "pattern": {
              "fillmode": "overlay",
              "size": 10,
              "solidity": 0.2
             }
            },
            "type": "histogram"
           }
          ],
          "histogram2d": [
           {
            "colorbar": {
             "outlinewidth": 0,
             "ticks": ""
            },
            "colorscale": [
             [
              0,
              "#0d0887"
             ],
             [
              0.1111111111111111,
              "#46039f"
             ],
             [
              0.2222222222222222,
              "#7201a8"
             ],
             [
              0.3333333333333333,
              "#9c179e"
             ],
             [
              0.4444444444444444,
              "#bd3786"
             ],
             [
              0.5555555555555556,
              "#d8576b"
             ],
             [
              0.6666666666666666,
              "#ed7953"
             ],
             [
              0.7777777777777778,
              "#fb9f3a"
             ],
             [
              0.8888888888888888,
              "#fdca26"
             ],
             [
              1,
              "#f0f921"
             ]
            ],
            "type": "histogram2d"
           }
          ],
          "histogram2dcontour": [
           {
            "colorbar": {
             "outlinewidth": 0,
             "ticks": ""
            },
            "colorscale": [
             [
              0,
              "#0d0887"
             ],
             [
              0.1111111111111111,
              "#46039f"
             ],
             [
              0.2222222222222222,
              "#7201a8"
             ],
             [
              0.3333333333333333,
              "#9c179e"
             ],
             [
              0.4444444444444444,
              "#bd3786"
             ],
             [
              0.5555555555555556,
              "#d8576b"
             ],
             [
              0.6666666666666666,
              "#ed7953"
             ],
             [
              0.7777777777777778,
              "#fb9f3a"
             ],
             [
              0.8888888888888888,
              "#fdca26"
             ],
             [
              1,
              "#f0f921"
             ]
            ],
            "type": "histogram2dcontour"
           }
          ],
          "mesh3d": [
           {
            "colorbar": {
             "outlinewidth": 0,
             "ticks": ""
            },
            "type": "mesh3d"
           }
          ],
          "parcoords": [
           {
            "line": {
             "colorbar": {
              "outlinewidth": 0,
              "ticks": ""
             }
            },
            "type": "parcoords"
           }
          ],
          "pie": [
           {
            "automargin": true,
            "type": "pie"
           }
          ],
          "scatter": [
           {
            "fillpattern": {
             "fillmode": "overlay",
             "size": 10,
             "solidity": 0.2
            },
            "type": "scatter"
           }
          ],
          "scatter3d": [
           {
            "line": {
             "colorbar": {
              "outlinewidth": 0,
              "ticks": ""
             }
            },
            "marker": {
             "colorbar": {
              "outlinewidth": 0,
              "ticks": ""
             }
            },
            "type": "scatter3d"
           }
          ],
          "scattercarpet": [
           {
            "marker": {
             "colorbar": {
              "outlinewidth": 0,
              "ticks": ""
             }
            },
            "type": "scattercarpet"
           }
          ],
          "scattergeo": [
           {
            "marker": {
             "colorbar": {
              "outlinewidth": 0,
              "ticks": ""
             }
            },
            "type": "scattergeo"
           }
          ],
          "scattergl": [
           {
            "marker": {
             "colorbar": {
              "outlinewidth": 0,
              "ticks": ""
             }
            },
            "type": "scattergl"
           }
          ],
          "scattermapbox": [
           {
            "marker": {
             "colorbar": {
              "outlinewidth": 0,
              "ticks": ""
             }
            },
            "type": "scattermapbox"
           }
          ],
          "scatterpolar": [
           {
            "marker": {
             "colorbar": {
              "outlinewidth": 0,
              "ticks": ""
             }
            },
            "type": "scatterpolar"
           }
          ],
          "scatterpolargl": [
           {
            "marker": {
             "colorbar": {
              "outlinewidth": 0,
              "ticks": ""
             }
            },
            "type": "scatterpolargl"
           }
          ],
          "scatterternary": [
           {
            "marker": {
             "colorbar": {
              "outlinewidth": 0,
              "ticks": ""
             }
            },
            "type": "scatterternary"
           }
          ],
          "surface": [
           {
            "colorbar": {
             "outlinewidth": 0,
             "ticks": ""
            },
            "colorscale": [
             [
              0,
              "#0d0887"
             ],
             [
              0.1111111111111111,
              "#46039f"
             ],
             [
              0.2222222222222222,
              "#7201a8"
             ],
             [
              0.3333333333333333,
              "#9c179e"
             ],
             [
              0.4444444444444444,
              "#bd3786"
             ],
             [
              0.5555555555555556,
              "#d8576b"
             ],
             [
              0.6666666666666666,
              "#ed7953"
             ],
             [
              0.7777777777777778,
              "#fb9f3a"
             ],
             [
              0.8888888888888888,
              "#fdca26"
             ],
             [
              1,
              "#f0f921"
             ]
            ],
            "type": "surface"
           }
          ],
          "table": [
           {
            "cells": {
             "fill": {
              "color": "#EBF0F8"
             },
             "line": {
              "color": "white"
             }
            },
            "header": {
             "fill": {
              "color": "#C8D4E3"
             },
             "line": {
              "color": "white"
             }
            },
            "type": "table"
           }
          ]
         },
         "layout": {
          "annotationdefaults": {
           "arrowcolor": "#2a3f5f",
           "arrowhead": 0,
           "arrowwidth": 1
          },
          "autotypenumbers": "strict",
          "coloraxis": {
           "colorbar": {
            "outlinewidth": 0,
            "ticks": ""
           }
          },
          "colorscale": {
           "diverging": [
            [
             0,
             "#8e0152"
            ],
            [
             0.1,
             "#c51b7d"
            ],
            [
             0.2,
             "#de77ae"
            ],
            [
             0.3,
             "#f1b6da"
            ],
            [
             0.4,
             "#fde0ef"
            ],
            [
             0.5,
             "#f7f7f7"
            ],
            [
             0.6,
             "#e6f5d0"
            ],
            [
             0.7,
             "#b8e186"
            ],
            [
             0.8,
             "#7fbc41"
            ],
            [
             0.9,
             "#4d9221"
            ],
            [
             1,
             "#276419"
            ]
           ],
           "sequential": [
            [
             0,
             "#0d0887"
            ],
            [
             0.1111111111111111,
             "#46039f"
            ],
            [
             0.2222222222222222,
             "#7201a8"
            ],
            [
             0.3333333333333333,
             "#9c179e"
            ],
            [
             0.4444444444444444,
             "#bd3786"
            ],
            [
             0.5555555555555556,
             "#d8576b"
            ],
            [
             0.6666666666666666,
             "#ed7953"
            ],
            [
             0.7777777777777778,
             "#fb9f3a"
            ],
            [
             0.8888888888888888,
             "#fdca26"
            ],
            [
             1,
             "#f0f921"
            ]
           ],
           "sequentialminus": [
            [
             0,
             "#0d0887"
            ],
            [
             0.1111111111111111,
             "#46039f"
            ],
            [
             0.2222222222222222,
             "#7201a8"
            ],
            [
             0.3333333333333333,
             "#9c179e"
            ],
            [
             0.4444444444444444,
             "#bd3786"
            ],
            [
             0.5555555555555556,
             "#d8576b"
            ],
            [
             0.6666666666666666,
             "#ed7953"
            ],
            [
             0.7777777777777778,
             "#fb9f3a"
            ],
            [
             0.8888888888888888,
             "#fdca26"
            ],
            [
             1,
             "#f0f921"
            ]
           ]
          },
          "colorway": [
           "#636efa",
           "#EF553B",
           "#00cc96",
           "#ab63fa",
           "#FFA15A",
           "#19d3f3",
           "#FF6692",
           "#B6E880",
           "#FF97FF",
           "#FECB52"
          ],
          "font": {
           "color": "#2a3f5f"
          },
          "geo": {
           "bgcolor": "white",
           "lakecolor": "white",
           "landcolor": "#E5ECF6",
           "showlakes": true,
           "showland": true,
           "subunitcolor": "white"
          },
          "hoverlabel": {
           "align": "left"
          },
          "hovermode": "closest",
          "mapbox": {
           "style": "light"
          },
          "paper_bgcolor": "white",
          "plot_bgcolor": "#E5ECF6",
          "polar": {
           "angularaxis": {
            "gridcolor": "white",
            "linecolor": "white",
            "ticks": ""
           },
           "bgcolor": "#E5ECF6",
           "radialaxis": {
            "gridcolor": "white",
            "linecolor": "white",
            "ticks": ""
           }
          },
          "scene": {
           "xaxis": {
            "backgroundcolor": "#E5ECF6",
            "gridcolor": "white",
            "gridwidth": 2,
            "linecolor": "white",
            "showbackground": true,
            "ticks": "",
            "zerolinecolor": "white"
           },
           "yaxis": {
            "backgroundcolor": "#E5ECF6",
            "gridcolor": "white",
            "gridwidth": 2,
            "linecolor": "white",
            "showbackground": true,
            "ticks": "",
            "zerolinecolor": "white"
           },
           "zaxis": {
            "backgroundcolor": "#E5ECF6",
            "gridcolor": "white",
            "gridwidth": 2,
            "linecolor": "white",
            "showbackground": true,
            "ticks": "",
            "zerolinecolor": "white"
           }
          },
          "shapedefaults": {
           "line": {
            "color": "#2a3f5f"
           }
          },
          "ternary": {
           "aaxis": {
            "gridcolor": "white",
            "linecolor": "white",
            "ticks": ""
           },
           "baxis": {
            "gridcolor": "white",
            "linecolor": "white",
            "ticks": ""
           },
           "bgcolor": "#E5ECF6",
           "caxis": {
            "gridcolor": "white",
            "linecolor": "white",
            "ticks": ""
           }
          },
          "title": {
           "x": 0.05
          },
          "xaxis": {
           "automargin": true,
           "gridcolor": "white",
           "linecolor": "white",
           "ticks": "",
           "title": {
            "standoff": 15
           },
           "zerolinecolor": "white",
           "zerolinewidth": 2
          },
          "yaxis": {
           "automargin": true,
           "gridcolor": "white",
           "linecolor": "white",
           "ticks": "",
           "title": {
            "standoff": 15
           },
           "zerolinecolor": "white",
           "zerolinewidth": 2
          }
         }
        },
        "title": {
         "text": "Optimization History Plot"
        },
        "xaxis": {
         "title": {
          "text": "Trial"
         }
        },
        "yaxis": {
         "title": {
          "text": "Objective Value"
         }
        }
       }
      },
      "text/html": [
       "<div>                        <script type=\"text/javascript\">window.PlotlyConfig = {MathJaxConfig: 'local'};</script>\n",
       "        <script charset=\"utf-8\" src=\"https://cdn.plot.ly/plotly-2.29.1.min.js\"></script>                <div id=\"7f464118-a8b7-486a-99de-a8fd5fa24373\" class=\"plotly-graph-div\" style=\"height:100%; width:100%;\"></div>            <script type=\"text/javascript\">                                    window.PLOTLYENV=window.PLOTLYENV || {};                                    if (document.getElementById(\"7f464118-a8b7-486a-99de-a8fd5fa24373\")) {                    Plotly.newPlot(                        \"7f464118-a8b7-486a-99de-a8fd5fa24373\",                        [{\"mode\":\"markers\",\"name\":\"Objective Value\",\"x\":[0,1,2,3,4,5,6,7,8,9,10,11,12,13,14,15,16,17,18,19,20,21,22,23,24,25,26,27,28,29],\"y\":[0.335,0.7472868217054264,0.7377049180327869,0.7569955817378498,0.7560581583198709,0.7477203647416413,0.6303501945525292,0.6860254083484574,0.6611053180396247,0.7363344051446946,0.6932849364791288,0.7547169811320756,0.7519025875190258,0.7523510971786833,0.7562499999999999,0.7578616352201258,0.48322147651006714,0.6328125,0.7359735973597359,0.6832740213523131,0.7519747235387045,0.6847826086956522,0.7195945945945945,0.7115044247787611,0.7523510971786833,0.7441130298273154,0.5821205821205822,0.7539936102236422,0.7492063492063491,0.7380191693290735],\"type\":\"scatter\"},{\"mode\":\"lines\",\"name\":\"Best Value\",\"x\":[0,1,2,3,4,5,6,7,8,9,10,11,12,13,14,15,16,17,18,19,20,21,22,23,24,25,26,27,28,29],\"y\":[0.335,0.7472868217054264,0.7472868217054264,0.7569955817378498,0.7569955817378498,0.7569955817378498,0.7569955817378498,0.7569955817378498,0.7569955817378498,0.7569955817378498,0.7569955817378498,0.7569955817378498,0.7569955817378498,0.7569955817378498,0.7569955817378498,0.7578616352201258,0.7578616352201258,0.7578616352201258,0.7578616352201258,0.7578616352201258,0.7578616352201258,0.7578616352201258,0.7578616352201258,0.7578616352201258,0.7578616352201258,0.7578616352201258,0.7578616352201258,0.7578616352201258,0.7578616352201258,0.7578616352201258],\"type\":\"scatter\"},{\"marker\":{\"color\":\"#cccccc\"},\"mode\":\"markers\",\"name\":\"Infeasible Trial\",\"showlegend\":false,\"x\":[],\"y\":[],\"type\":\"scatter\"}],                        {\"title\":{\"text\":\"Optimization History Plot\"},\"xaxis\":{\"title\":{\"text\":\"Trial\"}},\"yaxis\":{\"title\":{\"text\":\"Objective Value\"}},\"template\":{\"data\":{\"histogram2dcontour\":[{\"type\":\"histogram2dcontour\",\"colorbar\":{\"outlinewidth\":0,\"ticks\":\"\"},\"colorscale\":[[0.0,\"#0d0887\"],[0.1111111111111111,\"#46039f\"],[0.2222222222222222,\"#7201a8\"],[0.3333333333333333,\"#9c179e\"],[0.4444444444444444,\"#bd3786\"],[0.5555555555555556,\"#d8576b\"],[0.6666666666666666,\"#ed7953\"],[0.7777777777777778,\"#fb9f3a\"],[0.8888888888888888,\"#fdca26\"],[1.0,\"#f0f921\"]]}],\"choropleth\":[{\"type\":\"choropleth\",\"colorbar\":{\"outlinewidth\":0,\"ticks\":\"\"}}],\"histogram2d\":[{\"type\":\"histogram2d\",\"colorbar\":{\"outlinewidth\":0,\"ticks\":\"\"},\"colorscale\":[[0.0,\"#0d0887\"],[0.1111111111111111,\"#46039f\"],[0.2222222222222222,\"#7201a8\"],[0.3333333333333333,\"#9c179e\"],[0.4444444444444444,\"#bd3786\"],[0.5555555555555556,\"#d8576b\"],[0.6666666666666666,\"#ed7953\"],[0.7777777777777778,\"#fb9f3a\"],[0.8888888888888888,\"#fdca26\"],[1.0,\"#f0f921\"]]}],\"heatmap\":[{\"type\":\"heatmap\",\"colorbar\":{\"outlinewidth\":0,\"ticks\":\"\"},\"colorscale\":[[0.0,\"#0d0887\"],[0.1111111111111111,\"#46039f\"],[0.2222222222222222,\"#7201a8\"],[0.3333333333333333,\"#9c179e\"],[0.4444444444444444,\"#bd3786\"],[0.5555555555555556,\"#d8576b\"],[0.6666666666666666,\"#ed7953\"],[0.7777777777777778,\"#fb9f3a\"],[0.8888888888888888,\"#fdca26\"],[1.0,\"#f0f921\"]]}],\"heatmapgl\":[{\"type\":\"heatmapgl\",\"colorbar\":{\"outlinewidth\":0,\"ticks\":\"\"},\"colorscale\":[[0.0,\"#0d0887\"],[0.1111111111111111,\"#46039f\"],[0.2222222222222222,\"#7201a8\"],[0.3333333333333333,\"#9c179e\"],[0.4444444444444444,\"#bd3786\"],[0.5555555555555556,\"#d8576b\"],[0.6666666666666666,\"#ed7953\"],[0.7777777777777778,\"#fb9f3a\"],[0.8888888888888888,\"#fdca26\"],[1.0,\"#f0f921\"]]}],\"contourcarpet\":[{\"type\":\"contourcarpet\",\"colorbar\":{\"outlinewidth\":0,\"ticks\":\"\"}}],\"contour\":[{\"type\":\"contour\",\"colorbar\":{\"outlinewidth\":0,\"ticks\":\"\"},\"colorscale\":[[0.0,\"#0d0887\"],[0.1111111111111111,\"#46039f\"],[0.2222222222222222,\"#7201a8\"],[0.3333333333333333,\"#9c179e\"],[0.4444444444444444,\"#bd3786\"],[0.5555555555555556,\"#d8576b\"],[0.6666666666666666,\"#ed7953\"],[0.7777777777777778,\"#fb9f3a\"],[0.8888888888888888,\"#fdca26\"],[1.0,\"#f0f921\"]]}],\"surface\":[{\"type\":\"surface\",\"colorbar\":{\"outlinewidth\":0,\"ticks\":\"\"},\"colorscale\":[[0.0,\"#0d0887\"],[0.1111111111111111,\"#46039f\"],[0.2222222222222222,\"#7201a8\"],[0.3333333333333333,\"#9c179e\"],[0.4444444444444444,\"#bd3786\"],[0.5555555555555556,\"#d8576b\"],[0.6666666666666666,\"#ed7953\"],[0.7777777777777778,\"#fb9f3a\"],[0.8888888888888888,\"#fdca26\"],[1.0,\"#f0f921\"]]}],\"mesh3d\":[{\"type\":\"mesh3d\",\"colorbar\":{\"outlinewidth\":0,\"ticks\":\"\"}}],\"scatter\":[{\"fillpattern\":{\"fillmode\":\"overlay\",\"size\":10,\"solidity\":0.2},\"type\":\"scatter\"}],\"parcoords\":[{\"type\":\"parcoords\",\"line\":{\"colorbar\":{\"outlinewidth\":0,\"ticks\":\"\"}}}],\"scatterpolargl\":[{\"type\":\"scatterpolargl\",\"marker\":{\"colorbar\":{\"outlinewidth\":0,\"ticks\":\"\"}}}],\"bar\":[{\"error_x\":{\"color\":\"#2a3f5f\"},\"error_y\":{\"color\":\"#2a3f5f\"},\"marker\":{\"line\":{\"color\":\"#E5ECF6\",\"width\":0.5},\"pattern\":{\"fillmode\":\"overlay\",\"size\":10,\"solidity\":0.2}},\"type\":\"bar\"}],\"scattergeo\":[{\"type\":\"scattergeo\",\"marker\":{\"colorbar\":{\"outlinewidth\":0,\"ticks\":\"\"}}}],\"scatterpolar\":[{\"type\":\"scatterpolar\",\"marker\":{\"colorbar\":{\"outlinewidth\":0,\"ticks\":\"\"}}}],\"histogram\":[{\"marker\":{\"pattern\":{\"fillmode\":\"overlay\",\"size\":10,\"solidity\":0.2}},\"type\":\"histogram\"}],\"scattergl\":[{\"type\":\"scattergl\",\"marker\":{\"colorbar\":{\"outlinewidth\":0,\"ticks\":\"\"}}}],\"scatter3d\":[{\"type\":\"scatter3d\",\"line\":{\"colorbar\":{\"outlinewidth\":0,\"ticks\":\"\"}},\"marker\":{\"colorbar\":{\"outlinewidth\":0,\"ticks\":\"\"}}}],\"scattermapbox\":[{\"type\":\"scattermapbox\",\"marker\":{\"colorbar\":{\"outlinewidth\":0,\"ticks\":\"\"}}}],\"scatterternary\":[{\"type\":\"scatterternary\",\"marker\":{\"colorbar\":{\"outlinewidth\":0,\"ticks\":\"\"}}}],\"scattercarpet\":[{\"type\":\"scattercarpet\",\"marker\":{\"colorbar\":{\"outlinewidth\":0,\"ticks\":\"\"}}}],\"carpet\":[{\"aaxis\":{\"endlinecolor\":\"#2a3f5f\",\"gridcolor\":\"white\",\"linecolor\":\"white\",\"minorgridcolor\":\"white\",\"startlinecolor\":\"#2a3f5f\"},\"baxis\":{\"endlinecolor\":\"#2a3f5f\",\"gridcolor\":\"white\",\"linecolor\":\"white\",\"minorgridcolor\":\"white\",\"startlinecolor\":\"#2a3f5f\"},\"type\":\"carpet\"}],\"table\":[{\"cells\":{\"fill\":{\"color\":\"#EBF0F8\"},\"line\":{\"color\":\"white\"}},\"header\":{\"fill\":{\"color\":\"#C8D4E3\"},\"line\":{\"color\":\"white\"}},\"type\":\"table\"}],\"barpolar\":[{\"marker\":{\"line\":{\"color\":\"#E5ECF6\",\"width\":0.5},\"pattern\":{\"fillmode\":\"overlay\",\"size\":10,\"solidity\":0.2}},\"type\":\"barpolar\"}],\"pie\":[{\"automargin\":true,\"type\":\"pie\"}]},\"layout\":{\"autotypenumbers\":\"strict\",\"colorway\":[\"#636efa\",\"#EF553B\",\"#00cc96\",\"#ab63fa\",\"#FFA15A\",\"#19d3f3\",\"#FF6692\",\"#B6E880\",\"#FF97FF\",\"#FECB52\"],\"font\":{\"color\":\"#2a3f5f\"},\"hovermode\":\"closest\",\"hoverlabel\":{\"align\":\"left\"},\"paper_bgcolor\":\"white\",\"plot_bgcolor\":\"#E5ECF6\",\"polar\":{\"bgcolor\":\"#E5ECF6\",\"angularaxis\":{\"gridcolor\":\"white\",\"linecolor\":\"white\",\"ticks\":\"\"},\"radialaxis\":{\"gridcolor\":\"white\",\"linecolor\":\"white\",\"ticks\":\"\"}},\"ternary\":{\"bgcolor\":\"#E5ECF6\",\"aaxis\":{\"gridcolor\":\"white\",\"linecolor\":\"white\",\"ticks\":\"\"},\"baxis\":{\"gridcolor\":\"white\",\"linecolor\":\"white\",\"ticks\":\"\"},\"caxis\":{\"gridcolor\":\"white\",\"linecolor\":\"white\",\"ticks\":\"\"}},\"coloraxis\":{\"colorbar\":{\"outlinewidth\":0,\"ticks\":\"\"}},\"colorscale\":{\"sequential\":[[0.0,\"#0d0887\"],[0.1111111111111111,\"#46039f\"],[0.2222222222222222,\"#7201a8\"],[0.3333333333333333,\"#9c179e\"],[0.4444444444444444,\"#bd3786\"],[0.5555555555555556,\"#d8576b\"],[0.6666666666666666,\"#ed7953\"],[0.7777777777777778,\"#fb9f3a\"],[0.8888888888888888,\"#fdca26\"],[1.0,\"#f0f921\"]],\"sequentialminus\":[[0.0,\"#0d0887\"],[0.1111111111111111,\"#46039f\"],[0.2222222222222222,\"#7201a8\"],[0.3333333333333333,\"#9c179e\"],[0.4444444444444444,\"#bd3786\"],[0.5555555555555556,\"#d8576b\"],[0.6666666666666666,\"#ed7953\"],[0.7777777777777778,\"#fb9f3a\"],[0.8888888888888888,\"#fdca26\"],[1.0,\"#f0f921\"]],\"diverging\":[[0,\"#8e0152\"],[0.1,\"#c51b7d\"],[0.2,\"#de77ae\"],[0.3,\"#f1b6da\"],[0.4,\"#fde0ef\"],[0.5,\"#f7f7f7\"],[0.6,\"#e6f5d0\"],[0.7,\"#b8e186\"],[0.8,\"#7fbc41\"],[0.9,\"#4d9221\"],[1,\"#276419\"]]},\"xaxis\":{\"gridcolor\":\"white\",\"linecolor\":\"white\",\"ticks\":\"\",\"title\":{\"standoff\":15},\"zerolinecolor\":\"white\",\"automargin\":true,\"zerolinewidth\":2},\"yaxis\":{\"gridcolor\":\"white\",\"linecolor\":\"white\",\"ticks\":\"\",\"title\":{\"standoff\":15},\"zerolinecolor\":\"white\",\"automargin\":true,\"zerolinewidth\":2},\"scene\":{\"xaxis\":{\"backgroundcolor\":\"#E5ECF6\",\"gridcolor\":\"white\",\"linecolor\":\"white\",\"showbackground\":true,\"ticks\":\"\",\"zerolinecolor\":\"white\",\"gridwidth\":2},\"yaxis\":{\"backgroundcolor\":\"#E5ECF6\",\"gridcolor\":\"white\",\"linecolor\":\"white\",\"showbackground\":true,\"ticks\":\"\",\"zerolinecolor\":\"white\",\"gridwidth\":2},\"zaxis\":{\"backgroundcolor\":\"#E5ECF6\",\"gridcolor\":\"white\",\"linecolor\":\"white\",\"showbackground\":true,\"ticks\":\"\",\"zerolinecolor\":\"white\",\"gridwidth\":2}},\"shapedefaults\":{\"line\":{\"color\":\"#2a3f5f\"}},\"annotationdefaults\":{\"arrowcolor\":\"#2a3f5f\",\"arrowhead\":0,\"arrowwidth\":1},\"geo\":{\"bgcolor\":\"white\",\"landcolor\":\"#E5ECF6\",\"subunitcolor\":\"white\",\"showland\":true,\"showlakes\":true,\"lakecolor\":\"white\"},\"title\":{\"x\":0.05},\"mapbox\":{\"style\":\"light\"}}}},                        {\"responsive\": true}                    )                };                            </script>        </div>"
      ],
      "text/plain": [
       "Figure({\n",
       "    'data': [{'mode': 'markers',\n",
       "              'name': 'Objective Value',\n",
       "              'type': 'scatter',\n",
       "              'x': [0, 1, 2, 3, 4, 5, 6, 7, 8, 9, 10, 11, 12, 13, 14, 15, 16, 17,\n",
       "                    18, 19, 20, 21, 22, 23, 24, 25, 26, 27, 28, 29],\n",
       "              'y': [0.335, 0.7472868217054264, 0.7377049180327869,\n",
       "                    0.7569955817378498, 0.7560581583198709, 0.7477203647416413,\n",
       "                    0.6303501945525292, 0.6860254083484574, 0.6611053180396247,\n",
       "                    0.7363344051446946, 0.6932849364791288, 0.7547169811320756,\n",
       "                    0.7519025875190258, 0.7523510971786833, 0.7562499999999999,\n",
       "                    0.7578616352201258, 0.48322147651006714, 0.6328125,\n",
       "                    0.7359735973597359, 0.6832740213523131, 0.7519747235387045,\n",
       "                    0.6847826086956522, 0.7195945945945945, 0.7115044247787611,\n",
       "                    0.7523510971786833, 0.7441130298273154, 0.5821205821205822,\n",
       "                    0.7539936102236422, 0.7492063492063491, 0.7380191693290735]},\n",
       "             {'mode': 'lines',\n",
       "              'name': 'Best Value',\n",
       "              'type': 'scatter',\n",
       "              'x': [0, 1, 2, 3, 4, 5, 6, 7, 8, 9, 10, 11, 12, 13, 14, 15, 16, 17,\n",
       "                    18, 19, 20, 21, 22, 23, 24, 25, 26, 27, 28, 29],\n",
       "              'y': [0.335, 0.7472868217054264, 0.7472868217054264,\n",
       "                    0.7569955817378498, 0.7569955817378498, 0.7569955817378498,\n",
       "                    0.7569955817378498, 0.7569955817378498, 0.7569955817378498,\n",
       "                    0.7569955817378498, 0.7569955817378498, 0.7569955817378498,\n",
       "                    0.7569955817378498, 0.7569955817378498, 0.7569955817378498,\n",
       "                    0.7578616352201258, 0.7578616352201258, 0.7578616352201258,\n",
       "                    0.7578616352201258, 0.7578616352201258, 0.7578616352201258,\n",
       "                    0.7578616352201258, 0.7578616352201258, 0.7578616352201258,\n",
       "                    0.7578616352201258, 0.7578616352201258, 0.7578616352201258,\n",
       "                    0.7578616352201258, 0.7578616352201258, 0.7578616352201258]},\n",
       "             {'marker': {'color': '#cccccc'},\n",
       "              'mode': 'markers',\n",
       "              'name': 'Infeasible Trial',\n",
       "              'showlegend': False,\n",
       "              'type': 'scatter',\n",
       "              'x': [],\n",
       "              'y': []}],\n",
       "    'layout': {'template': '...',\n",
       "               'title': {'text': 'Optimization History Plot'},\n",
       "               'xaxis': {'title': {'text': 'Trial'}},\n",
       "               'yaxis': {'title': {'text': 'Objective Value'}}}\n",
       "})"
      ]
     },
     "execution_count": 25,
     "metadata": {},
     "output_type": "execute_result"
    }
   ],
   "source": [
    "plot_optimization_history(study_2)"
   ]
  },
  {
   "cell_type": "code",
   "execution_count": null,
   "metadata": {},
   "outputs": [],
   "source": []
  }
 ],
 "metadata": {
  "kernelspec": {
   "display_name": "machine-learning-1",
   "language": "python",
   "name": "python3"
  },
  "language_info": {
   "codemirror_mode": {
    "name": "ipython",
    "version": 3
   },
   "file_extension": ".py",
   "mimetype": "text/x-python",
   "name": "python",
   "nbconvert_exporter": "python",
   "pygments_lexer": "ipython3",
   "version": "3.11.6"
  }
 },
 "nbformat": 4,
 "nbformat_minor": 2
}
