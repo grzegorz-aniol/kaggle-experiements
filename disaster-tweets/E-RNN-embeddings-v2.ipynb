{
 "cells": [
  {
   "cell_type": "markdown",
   "metadata": {},
   "source": [
    "# Tweets sentiment analysis with RNN"
   ]
  },
  {
   "cell_type": "markdown",
   "metadata": {},
   "source": [
    "Using GloVe for tweets word embedding and RNN for sentiment analysis"
   ]
  },
  {
   "cell_type": "code",
   "execution_count": 1,
   "metadata": {
    "metadata": {}
   },
   "outputs": [],
   "source": [
    "import os\n",
    "os.environ['TF_CPP_MIN_LOG_LEVEL'] = '2'\n",
    "\n",
    "import numpy as np\n",
    "import tensorflow as tf\n",
    "import itertools as it\n",
    "import pandas as pd\n",
    "from sklearn.metrics import confusion_matrix, accuracy_score, precision_score, recall_score, f1_score\n",
    "from sklearn.model_selection import train_test_split\n",
    "import optuna\n",
    "import pprint\n",
    "import matplotlib.pyplot as plt\n",
    "import seaborn as sns\n",
    "import nltk\n",
    "\n",
    "SCRIPT_NAME = 'E-RNN-embeddings-v2'"
   ]
  },
  {
   "cell_type": "code",
   "execution_count": 2,
   "metadata": {
    "metadata": {}
   },
   "outputs": [],
   "source": [
    "class GloveEmbeddings:\n",
    "    dict = None\n",
    "    vocabulary = None\n",
    "    word_index = None\n",
    "    vocabulary_size = None\n",
    "    embedding_dim = None\n",
    "    UNKNOWN_TOKEN_INDEX = -1\n",
    "    OUT_OF_VOCABULARY = '<OOV>'\n",
    "    \n",
    "    def __init__(self, dim=100, file_name='../glove.twitter.27B.100d.txt'):\n",
    "        self.embedding_dim = dim\n",
    "        self.dict = self.__load_glove_embeddings(file_name)\n",
    "        if len(self.dict) == 0:\n",
    "            raise Exception('Dictionary is empty')\n",
    "        self.vocabulary = list(self.dict.keys())\n",
    "        self.vocabulary_size = len(self.vocabulary)\n",
    "        self.word_index = {} \n",
    "        self.UNKNOWN_TOKEN_INDEX = self.vocabulary_size + 1\n",
    "        for index, word in enumerate(self.vocabulary):\n",
    "            self.word_index[word]=index\n",
    "\n",
    "    def word_to_token(self, word) -> int:\n",
    "        index = self.word_index.get(word)\n",
    "        if index == None:\n",
    "            return self.UNKNOWN_TOKEN_INDEX\n",
    "        return index + 1 # reserve value 0 for masking\n",
    "    \n",
    "    def token_to_word(self, token) -> str:\n",
    "        if token == 0:\n",
    "            return None\n",
    "        index = token - 1\n",
    "        word = self.vocabulary[index] if index < self.vocabulary_size else self.OUT_OF_VOCABULARY\n",
    "        return word\n",
    "    \n",
    "    def __getitem__(self, key):\n",
    "        return self.dict[key]\n",
    "\n",
    "    def __load_glove_embeddings(self, path):\n",
    "        embeddings_dict = {}\n",
    "        with open(path, 'r', encoding='utf-8') as f:\n",
    "            for line in f:\n",
    "                values = line.split()\n",
    "                word = values[0]\n",
    "                vector = np.asarray(values[1:], \"float32\")\n",
    "                if vector.shape[0] == self.embedding_dim:\n",
    "                    embeddings_dict[word] = vector\n",
    "        return embeddings_dict                \n"
   ]
  },
  {
   "cell_type": "code",
   "execution_count": 3,
   "metadata": {},
   "outputs": [],
   "source": [
    "glove = GloveEmbeddings()"
   ]
  },
  {
   "cell_type": "code",
   "execution_count": 4,
   "metadata": {
    "metadata": {}
   },
   "outputs": [
    {
     "name": "stdout",
     "output_type": "stream",
     "text": [
      "words ['dont', 'you', 'expect', 'this', '?', 'check', 'out', '123', 'page', 'at', 'http://simple.com/site/page.html', 'and', '#others', 'fyi', '@fellow']\n",
      "tokens [349, 16, 2338, 54, 15, 526, 100, 1738, 67, 27, 13054]\n",
      "words ['u', '.', 's', 'national', 'park', 'services', 'tonto', 'national', 'forest', ':', 'stop', 'the', 'annihilation', 'of', 'the', 'salt', 'river', 'wild', 'horse', '...', 'http://t.co/kpqk0c4g0m', 'via', '@change']\n",
      "tokens [52, 2, 138, 2584, 1691, 5694, 6543, 2584, 10051, 3, 362, 14, 223294, 40, 14, 9352, 3571, 2860, 4978, 202]\n"
     ]
    }
   ],
   "source": [
    "class Tokenizer:\n",
    "    tokenizer = nltk.tokenize.TweetTokenizer()\n",
    "    glove = None\n",
    "\n",
    "    def __init__(self, glove: GloveEmbeddings):\n",
    "        self.glove = glove\n",
    "\n",
    "    def tokenize(self, sentence, skip_oov=True):\n",
    "        \"\"\"Tokenize a sentence. Returns a tuple of words and tokens (numerical IDs)\"\"\"\n",
    "        words = self.tokenizer.tokenize(sentence.lower())\n",
    "        tokens = [glove.word_to_token(w) for w in words]\n",
    "        if skip_oov:\n",
    "            tokens = [token for token in tokens if token != glove.UNKNOWN_TOKEN_INDEX]\n",
    "        return words, tokens\n",
    "\n",
    "\n",
    "def tokenize_tweets_example(tokenizer: Tokenizer):\n",
    "    examples = [\n",
    "        'Don''t you expect this? Check out 123 page at http://simple.com/site/page.html and #others fyi @fellow',\n",
    "        'U.S National Park Services Tonto National Forest: Stop the Annihilation of the Salt River Wild Horse... http://t.co/KPQk0C4G0M via @Change',\n",
    "    ]\n",
    "    for sentence in examples:\n",
    "        words, tokens = tokenizer.tokenize(sentence)\n",
    "        print('words', words)\n",
    "        print('tokens', tokens)\n",
    "\n",
    "\n",
    "tokenizer = Tokenizer(glove)\n",
    "\n",
    "tokenize_tweets_example(tokenizer)\n",
    "\n"
   ]
  },
  {
   "cell_type": "code",
   "execution_count": 5,
   "metadata": {
    "metadata": {}
   },
   "outputs": [],
   "source": [
    "def build_glove_embedding_matrix(glove: GloveEmbeddings):\n",
    "    num_tokens = glove.vocabulary_size + 2  # Adding 2 for padding and out-of-vocabulary tokens\n",
    "    emb_dim = glove.embedding_dim\n",
    "    embedding_matrix = np.zeros((num_tokens, emb_dim), dtype=np.float32)\n",
    "    print('Matrix shape', embedding_matrix.shape)\n",
    "    for word in glove.vocabulary:\n",
    "        index = glove.word_to_token(word)\n",
    "        vector = glove[word]\n",
    "        embedding_matrix[index] = vector\n",
    "    return embedding_matrix"
   ]
  },
  {
   "cell_type": "code",
   "execution_count": 6,
   "metadata": {
    "metadata": {}
   },
   "outputs": [
    {
     "name": "stdout",
     "output_type": "stream",
     "text": [
      "Matrix shape (1193515, 100)\n"
     ]
    }
   ],
   "source": [
    "embedding_matrix = build_glove_embedding_matrix(glove)"
   ]
  },
  {
   "cell_type": "code",
   "execution_count": 7,
   "metadata": {
    "metadata": {}
   },
   "outputs": [
    {
     "name": "stdout",
     "output_type": "stream",
     "text": [
      "Word embedding vector dim 100\n",
      "Vocabulary size 1193513\n",
      "Max sequence len 50\n"
     ]
    }
   ],
   "source": [
    "EMBEDDING_DIM = glove.embedding_dim\n",
    "VOCABULARY_SIZE = glove.vocabulary_size\n",
    "MAX_SEQ_LEN = 50\n",
    "\n",
    "print('Word embedding vector dim', EMBEDDING_DIM)\n",
    "print('Vocabulary size', VOCABULARY_SIZE)\n",
    "print('Max sequence len', MAX_SEQ_LEN)"
   ]
  },
  {
   "cell_type": "markdown",
   "metadata": {},
   "source": [
    "### Load and prepare train/validation data and find embeddings"
   ]
  },
  {
   "cell_type": "code",
   "execution_count": 8,
   "metadata": {
    "metadata": {}
   },
   "outputs": [],
   "source": [
    "df = pd.read_csv('train.csv')\n",
    "X_raw = df['text'].fillna('')\n",
    "Y = df['target']"
   ]
  },
  {
   "cell_type": "code",
   "execution_count": 9,
   "metadata": {
    "metadata": {}
   },
   "outputs": [],
   "source": [
    "def tokenize_input(X, tokenizer: Tokenizer, skip_oov=True, max_seq_len=MAX_SEQ_LEN):\n",
    "    x_tokenized = np.zeros((X.size, max_seq_len), dtype=np.int32)\n",
    "\n",
    "    for i, sentence in enumerate(X):\n",
    "        _, tokens = tokenizer.tokenize(sentence, skip_oov=skip_oov)\n",
    "        for j, token in enumerate(tokens[:max_seq_len]):            \n",
    "            x_tokenized[i, j] = token\n",
    "\n",
    "    return x_tokenized\n",
    "\n",
    "def decode_tokens(tokens, glove: GloveEmbeddings) -> str:\n",
    "    words = [glove.token_to_word(t) for t in tokens if t > 0]\n",
    "    return ' '.join(words)"
   ]
  },
  {
   "cell_type": "code",
   "execution_count": 10,
   "metadata": {},
   "outputs": [
    {
     "name": "stdout",
     "output_type": "stream",
     "text": [
      "All tokens: 128539, known tokens: 109186, unknown tokens: 19353, know ratio: 0.849\n"
     ]
    }
   ],
   "source": [
    "X_all_tokens = tokenize_input(X_raw, tokenizer, skip_oov=False)\n",
    "\n",
    "# Check ratio of known tokens\n",
    "all_items = np.sum(X_all_tokens > 0)\n",
    "known_tokens = np.sum((X_all_tokens > 0) & (X_all_tokens < glove.UNKNOWN_TOKEN_INDEX))\n",
    "unknown_tokens = np.sum(X_all_tokens == glove.UNKNOWN_TOKEN_INDEX)\n",
    "print(f'All tokens: {all_items}, known tokens: {known_tokens}, unknown tokens: {unknown_tokens}, know ratio: {known_tokens/all_items:.3f}')"
   ]
  },
  {
   "cell_type": "code",
   "execution_count": 11,
   "metadata": {
    "metadata": {}
   },
   "outputs": [
    {
     "data": {
      "text/plain": [
       "array([  278, 33409,    71,    14,   947,    40,    54,   531,   695,\n",
       "        3837,   292,    76,     0,     0,     0,     0,     0,     0,\n",
       "           0,     0], dtype=int32)"
      ]
     },
     "execution_count": 11,
     "metadata": {},
     "output_type": "execute_result"
    }
   ],
   "source": [
    "X = tokenize_input(X_raw, tokenizer)\n",
    "\n",
    "X[0,:20]"
   ]
  },
  {
   "cell_type": "code",
   "execution_count": 12,
   "metadata": {},
   "outputs": [
    {
     "data": {
      "text/plain": [
       "47"
      ]
     },
     "execution_count": 12,
     "metadata": {},
     "output_type": "execute_result"
    }
   ],
   "source": [
    "# Max # of tokens for a sentence\n",
    "np.max(np.count_nonzero(X, axis=1))"
   ]
  },
  {
   "cell_type": "markdown",
   "metadata": {},
   "source": [
    "### Cleanup Glove dictionary"
   ]
  },
  {
   "cell_type": "code",
   "execution_count": 13,
   "metadata": {
    "metadata": {}
   },
   "outputs": [],
   "source": [
    "# import gc\n",
    "\n",
    "# del glove\n",
    "# gc.collect()"
   ]
  },
  {
   "cell_type": "markdown",
   "metadata": {},
   "source": [
    "### Split into train and validation data sets"
   ]
  },
  {
   "cell_type": "code",
   "execution_count": 14,
   "metadata": {
    "metadata": {}
   },
   "outputs": [
    {
     "name": "stdout",
     "output_type": "stream",
     "text": [
      "(6851, 50) (6851,) (762, 50) (762,)\n"
     ]
    }
   ],
   "source": [
    "indices = np.arange(X.shape[0])\n",
    "X_train, X_dev, Y_train, Y_dev, idx_train, idx_test = train_test_split(X, Y, indices, test_size=0.1, shuffle=True)\n",
    "X_raw_dev = X_dev.copy()\n",
    "print(X_train.shape, Y_train.shape, X_dev.shape, Y_dev.shape)\n"
   ]
  },
  {
   "cell_type": "markdown",
   "metadata": {},
   "source": [
    "### Define model"
   ]
  },
  {
   "cell_type": "code",
   "execution_count": 15,
   "metadata": {
    "metadata": {}
   },
   "outputs": [],
   "source": [
    "def create_model(use_batch_norm=False, lstm_size=8, dense_size=8, dropout_1=0.5, dropout_2=0.5,\n",
    "          learning_rate=1e-3):\n",
    "    model = tf.keras.Sequential()\n",
    "\n",
    "    model.add(tf.keras.layers.Embedding(input_dim=VOCABULARY_SIZE+2, output_dim=EMBEDDING_DIM, input_length=MAX_SEQ_LEN, \n",
    "                                      embeddings_initializer=tf.keras.initializers.Constant(embedding_matrix),\n",
    "                                      trainable=False, mask_zero=True))\n",
    "    \n",
    "    model.add(tf.keras.layers.Bidirectional(tf.keras.layers.LSTM(lstm_size, dropout=dropout_1)))\n",
    "    # model.add(tf.keras.layers.Bidirectional(tf.keras.layers.LSTM(lstm_size, dropout=dropout_2)))\n",
    "    \n",
    "    if use_batch_norm:\n",
    "      model.add(tf.keras.layers.BatchNormalization())\n",
    "    else:\n",
    "      model.add(tf.keras.layers.Dropout(dropout_1))   \n",
    "    \n",
    "    if use_batch_norm:\n",
    "      model.add(tf.keras.layers.Dense(dense_size))\n",
    "      model.add(tf.keras.layers.BatchNormalization())\n",
    "      model.add(tf.keras.layers.Activation('relu'))\n",
    "    else:\n",
    "      model.add(tf.keras.layers.Dense(dense_size, activation='relu'))\n",
    "      model.add(tf.keras.layers.Dropout(dropout_2))\n",
    "    \n",
    "    model.add(tf.keras.layers.Dense(1, activation='sigmoid'))\n",
    "    \n",
    "    optimizer = tf.keras.optimizers.Adam(learning_rate=learning_rate)    \n",
    "    model.compile(optimizer=optimizer, loss='binary_crossentropy', metrics=['accuracy'])\n",
    "    \n",
    "    return model"
   ]
  },
  {
   "cell_type": "code",
   "execution_count": 16,
   "metadata": {
    "metadata": {}
   },
   "outputs": [],
   "source": [
    "def evaluate(X, Y, model):\n",
    "    Y_predict = model.predict(X)\n",
    "    Y_predict = (Y_predict > .5).astype(np.int8)\n",
    "    f1_value = f1_score(Y, Y_predict)\n",
    "    return Y_predict, f1_value\n"
   ]
  },
  {
   "cell_type": "code",
   "execution_count": 17,
   "metadata": {
    "metadata": {}
   },
   "outputs": [],
   "source": [
    "def train(X_train, Y_train, X_dev, Y_dev, model, batch_size=32, max_epochs=4):\n",
    "    early_stopping = tf.keras.callbacks.EarlyStopping(patience=2, restore_best_weights=True)\n",
    "    \n",
    "    model.fit(X_train, Y_train, batch_size=batch_size, epochs=max_epochs, \n",
    "            validation_data=(X_dev, Y_dev),\n",
    "            callbacks=[early_stopping],\n",
    "            verbose=1)\n",
    "\n",
    "    _, f1_value = evaluate(X_dev, Y_dev, model)    \n",
    "\n",
    "    print(f\"Validation F1 score: {f1_value}\")\n",
    "\n",
    "    return f1_value"
   ]
  },
  {
   "cell_type": "markdown",
   "metadata": {},
   "source": [
    "### Check model"
   ]
  },
  {
   "cell_type": "code",
   "execution_count": 17,
   "metadata": {
    "metadata": {}
   },
   "outputs": [
    {
     "name": "stdout",
     "output_type": "stream",
     "text": [
      "Model: \"sequential\"\n",
      "_________________________________________________________________\n",
      " Layer (type)                Output Shape              Param #   \n",
      "=================================================================\n",
      " embedding (Embedding)       (None, 50, 100)           119351500 \n",
      "                                                                 \n",
      " bidirectional (Bidirectiona  (None, 16)               6976      \n",
      " l)                                                              \n",
      "                                                                 \n",
      " dropout (Dropout)           (None, 16)                0         \n",
      "                                                                 \n",
      " dense (Dense)               (None, 8)                 136       \n",
      "                                                                 \n",
      " dropout_1 (Dropout)         (None, 8)                 0         \n",
      "                                                                 \n",
      " dense_1 (Dense)             (None, 1)                 9         \n",
      "                                                                 \n",
      "=================================================================\n",
      "Total params: 119,358,621\n",
      "Trainable params: 7,121\n",
      "Non-trainable params: 119,351,500\n",
      "_________________________________________________________________\n"
     ]
    }
   ],
   "source": [
    "model = create_model(learning_rate=5e-3,lstm_size=8, dense_size=8)\n",
    "model.summary()"
   ]
  },
  {
   "cell_type": "code",
   "execution_count": 18,
   "metadata": {
    "metadata": {}
   },
   "outputs": [
    {
     "data": {
      "text/plain": [
       "((6851, 50), (7613,), (50, 100))"
      ]
     },
     "execution_count": 18,
     "metadata": {},
     "output_type": "execute_result"
    }
   ],
   "source": [
    "X_train.shape, Y.shape, (MAX_SEQ_LEN, EMBEDDING_DIM)"
   ]
  },
  {
   "cell_type": "code",
   "execution_count": 82,
   "metadata": {
    "metadata": {}
   },
   "outputs": [],
   "source": [
    "X_train = X_train.astype('int32')\n",
    "Y_train = Y_train.astype('int32')\n",
    "X_dev = X_dev.astype('int32')\n",
    "Y_dev = Y_dev.astype('int32')"
   ]
  },
  {
   "cell_type": "code",
   "execution_count": 20,
   "metadata": {
    "metadata": {}
   },
   "outputs": [
    {
     "name": "stdout",
     "output_type": "stream",
     "text": [
      "Epoch 1/5\n",
      "215/215 [==============================] - 15s 43ms/step - loss: 0.6331 - accuracy: 0.6342 - val_loss: 0.4985 - val_accuracy: 0.7848\n",
      "Epoch 2/5\n",
      "215/215 [==============================] - 7s 31ms/step - loss: 0.5403 - accuracy: 0.7449 - val_loss: 0.4708 - val_accuracy: 0.7979\n",
      "Epoch 3/5\n",
      "215/215 [==============================] - 7s 32ms/step - loss: 0.5283 - accuracy: 0.7485 - val_loss: 0.4686 - val_accuracy: 0.8005\n",
      "Epoch 4/5\n",
      "215/215 [==============================] - 7s 32ms/step - loss: 0.5180 - accuracy: 0.7545 - val_loss: 0.4676 - val_accuracy: 0.7953\n",
      "Epoch 5/5\n",
      "215/215 [==============================] - 7s 31ms/step - loss: 0.5064 - accuracy: 0.7584 - val_loss: 0.4796 - val_accuracy: 0.7992\n",
      "24/24 [==============================] - 2s 6ms/step\n",
      "Validation F1 score: 0.7713004484304933\n"
     ]
    },
    {
     "data": {
      "text/plain": [
       "0.7713004484304933"
      ]
     },
     "execution_count": 20,
     "metadata": {},
     "output_type": "execute_result"
    }
   ],
   "source": [
    "train(X_train, Y_train, X_dev, Y_dev, model, max_epochs=5)"
   ]
  },
  {
   "cell_type": "markdown",
   "metadata": {},
   "source": [
    "### Hyper-parameters tuning"
   ]
  },
  {
   "cell_type": "code",
   "execution_count": 21,
   "metadata": {
    "metadata": {}
   },
   "outputs": [],
   "source": [
    "def objective(trial):\n",
    "    print('Creating model')\n",
    "    decay_steps = 100\n",
    "    decay_rate = 0.9\n",
    "\n",
    "    initial_learning_rate = trial.suggest_float('initial_learning_rate', 1e-3, 5e-3, log=True)\n",
    "    batch_size = 32 # trial.suggest_categorical('batch_size', [32, 64, 128])\n",
    "    lstm_size = trial.suggest_categorical('lstm_size', [4, 8, 16, 32])\n",
    "    dense_size = trial.suggest_categorical('dense_size', [8, 16, 32, 64])\n",
    "    use_dropout_1 = trial.suggest_categorical('use_dropout_1', [False, True])\n",
    "    use_dropout_2 = trial.suggest_categorical('use_dropout_2', [False, True])\n",
    "    if use_dropout_1:\n",
    "        dropout_1 = trial.suggest_float('dropout_1', 0.1, 0.5)\n",
    "    else:\n",
    "        dropout_1 = 0\n",
    "    if use_dropout_2:\n",
    "        dropout_2 = trial.suggest_float('dropout_2', 0.1, 0.5)\n",
    "    else:\n",
    "        dropout_2 = 0\n",
    "\n",
    "    lr_schedule = tf.keras.optimizers.schedules.ExponentialDecay(initial_learning_rate=initial_learning_rate, \n",
    "                                                             decay_steps=decay_steps,\n",
    "                                                             decay_rate=decay_rate)\n",
    "    model = create_model(lstm_size=lstm_size, dense_size=dense_size,\n",
    "                  dropout_1=dropout_1, dropout_2=dropout_2, \n",
    "                  learning_rate=lr_schedule)\n",
    "    f1_score = train(X_train, Y_train, X_dev, Y_dev, model, \n",
    "                        batch_size=batch_size, max_epochs=10)\n",
    "    \n",
    "    print('train is done')\n",
    "    # trial.set_user_attr(\"model\", model)\n",
    "    print('just before objective end')\n",
    "    \n",
    "    return f1_score\n"
   ]
  },
  {
   "cell_type": "code",
   "execution_count": 23,
   "metadata": {
    "metadata": {}
   },
   "outputs": [
    {
     "name": "stderr",
     "output_type": "stream",
     "text": [
      "[I 2024-05-08 17:03:06,649] A new study created in memory with name: E-RNN-embeddings-v2\n"
     ]
    }
   ],
   "source": [
    "study = optuna.create_study(study_name=SCRIPT_NAME, direction='maximize')"
   ]
  },
  {
   "cell_type": "code",
   "execution_count": 24,
   "metadata": {
    "metadata": {}
   },
   "outputs": [
    {
     "data": {
      "application/vnd.jupyter.widget-view+json": {
       "model_id": "ba1dde3525d44a53a636c0e1155e2c34",
       "version_major": 2,
       "version_minor": 0
      },
      "text/plain": [
       "  0%|          | 0/10 [00:00<?, ?it/s]"
      ]
     },
     "metadata": {},
     "output_type": "display_data"
    },
    {
     "name": "stdout",
     "output_type": "stream",
     "text": [
      "Creating model\n",
      "Epoch 1/10\n",
      "215/215 [==============================] - 15s 42ms/step - loss: 0.6321 - accuracy: 0.6468 - val_loss: 0.5159 - val_accuracy: 0.7651\n",
      "Epoch 2/10\n",
      "215/215 [==============================] - 7s 32ms/step - loss: 0.5247 - accuracy: 0.7593 - val_loss: 0.4744 - val_accuracy: 0.7992\n",
      "Epoch 3/10\n",
      "215/215 [==============================] - 7s 31ms/step - loss: 0.5083 - accuracy: 0.7748 - val_loss: 0.4771 - val_accuracy: 0.8005\n",
      "Epoch 4/10\n",
      "215/215 [==============================] - 7s 33ms/step - loss: 0.4989 - accuracy: 0.7777 - val_loss: 0.4696 - val_accuracy: 0.7913\n",
      "Epoch 5/10\n",
      "215/215 [==============================] - 7s 33ms/step - loss: 0.4884 - accuracy: 0.7857 - val_loss: 0.4690 - val_accuracy: 0.7927\n",
      "Epoch 6/10\n",
      "215/215 [==============================] - 7s 33ms/step - loss: 0.4866 - accuracy: 0.7856 - val_loss: 0.4684 - val_accuracy: 0.7927\n",
      "Epoch 7/10\n",
      "215/215 [==============================] - 7s 33ms/step - loss: 0.4810 - accuracy: 0.7870 - val_loss: 0.4666 - val_accuracy: 0.7940\n",
      "Epoch 8/10\n",
      "215/215 [==============================] - 7s 32ms/step - loss: 0.4755 - accuracy: 0.7897 - val_loss: 0.4682 - val_accuracy: 0.7953\n",
      "Epoch 9/10\n",
      "215/215 [==============================] - 7s 34ms/step - loss: 0.4745 - accuracy: 0.7948 - val_loss: 0.4638 - val_accuracy: 0.7900\n",
      "Epoch 10/10\n",
      "215/215 [==============================] - 7s 33ms/step - loss: 0.4718 - accuracy: 0.7951 - val_loss: 0.4634 - val_accuracy: 0.7992\n",
      "24/24 [==============================] - 2s 4ms/step\n",
      "Validation F1 score: 0.7567567567567567\n",
      "train is done\n",
      "just before objective end\n",
      "[I 2024-05-08 17:04:28,190] Trial 0 finished with value: 0.7567567567567567 and parameters: {'initial_learning_rate': 0.001950327154787706, 'lstm_size': 8, 'dense_size': 8, 'use_dropout_1': True, 'use_dropout_2': True, 'dropout_1': 0.42147366232294114, 'dropout_2': 0.3241049327347657}. Best is trial 0 with value: 0.7567567567567567.\n",
      "Creating model\n",
      "Epoch 1/10\n",
      "215/215 [==============================] - 15s 43ms/step - loss: 0.5581 - accuracy: 0.7249 - val_loss: 0.5014 - val_accuracy: 0.7835\n",
      "Epoch 2/10\n",
      "215/215 [==============================] - 7s 33ms/step - loss: 0.4760 - accuracy: 0.7867 - val_loss: 0.4656 - val_accuracy: 0.7953\n",
      "Epoch 3/10\n",
      "215/215 [==============================] - 7s 33ms/step - loss: 0.4575 - accuracy: 0.8013 - val_loss: 0.4651 - val_accuracy: 0.8018\n",
      "Epoch 4/10\n",
      "215/215 [==============================] - 7s 33ms/step - loss: 0.4521 - accuracy: 0.8035 - val_loss: 0.4556 - val_accuracy: 0.8110\n",
      "Epoch 5/10\n",
      "215/215 [==============================] - 7s 33ms/step - loss: 0.4399 - accuracy: 0.8078 - val_loss: 0.4566 - val_accuracy: 0.7992\n",
      "Epoch 6/10\n",
      "215/215 [==============================] - 7s 33ms/step - loss: 0.4313 - accuracy: 0.8113 - val_loss: 0.4564 - val_accuracy: 0.8045\n",
      "24/24 [==============================] - 2s 4ms/step\n",
      "Validation F1 score: 0.763157894736842\n",
      "train is done\n",
      "just before objective end\n",
      "[I 2024-05-08 17:05:21,692] Trial 1 finished with value: 0.763157894736842 and parameters: {'initial_learning_rate': 0.003312722099212413, 'lstm_size': 8, 'dense_size': 16, 'use_dropout_1': True, 'use_dropout_2': True, 'dropout_1': 0.3657346307357521, 'dropout_2': 0.17567079759665966}. Best is trial 1 with value: 0.763157894736842.\n",
      "Creating model\n",
      "Epoch 1/10\n",
      "215/215 [==============================] - 14s 44ms/step - loss: 0.4919 - accuracy: 0.7667 - val_loss: 0.4664 - val_accuracy: 0.7808\n",
      "Epoch 2/10\n",
      "215/215 [==============================] - 7s 35ms/step - loss: 0.4155 - accuracy: 0.8126 - val_loss: 0.4646 - val_accuracy: 0.7874\n",
      "Epoch 3/10\n",
      "215/215 [==============================] - 8s 36ms/step - loss: 0.3866 - accuracy: 0.8267 - val_loss: 0.4608 - val_accuracy: 0.7927\n",
      "Epoch 4/10\n",
      "215/215 [==============================] - 7s 35ms/step - loss: 0.3605 - accuracy: 0.8428 - val_loss: 0.4695 - val_accuracy: 0.7887\n",
      "Epoch 5/10\n",
      "215/215 [==============================] - 8s 35ms/step - loss: 0.3378 - accuracy: 0.8578 - val_loss: 0.4797 - val_accuracy: 0.7953\n",
      "24/24 [==============================] - 2s 6ms/step\n",
      "Validation F1 score: 0.7484076433121019\n",
      "train is done\n",
      "just before objective end\n",
      "[I 2024-05-08 17:06:10,014] Trial 2 finished with value: 0.7484076433121019 and parameters: {'initial_learning_rate': 0.0015554610551235253, 'lstm_size': 32, 'dense_size': 32, 'use_dropout_1': False, 'use_dropout_2': False}. Best is trial 1 with value: 0.763157894736842.\n",
      "Creating model\n",
      "Epoch 1/10\n",
      "215/215 [==============================] - 15s 42ms/step - loss: 0.6333 - accuracy: 0.6402 - val_loss: 0.5323 - val_accuracy: 0.7612\n",
      "Epoch 2/10\n",
      "215/215 [==============================] - 7s 33ms/step - loss: 0.5224 - accuracy: 0.7545 - val_loss: 0.4754 - val_accuracy: 0.7913\n",
      "Epoch 3/10\n",
      "215/215 [==============================] - 7s 33ms/step - loss: 0.4821 - accuracy: 0.7828 - val_loss: 0.4720 - val_accuracy: 0.7887\n",
      "Epoch 4/10\n",
      "215/215 [==============================] - 7s 34ms/step - loss: 0.4654 - accuracy: 0.7908 - val_loss: 0.4702 - val_accuracy: 0.7848\n",
      "Epoch 5/10\n",
      "215/215 [==============================] - 7s 34ms/step - loss: 0.4536 - accuracy: 0.7939 - val_loss: 0.4640 - val_accuracy: 0.7927\n",
      "Epoch 6/10\n",
      "215/215 [==============================] - 7s 33ms/step - loss: 0.4506 - accuracy: 0.7980 - val_loss: 0.4600 - val_accuracy: 0.8005\n",
      "Epoch 7/10\n",
      "215/215 [==============================] - 7s 34ms/step - loss: 0.4482 - accuracy: 0.7999 - val_loss: 0.4571 - val_accuracy: 0.8071\n",
      "Epoch 8/10\n",
      "215/215 [==============================] - 7s 34ms/step - loss: 0.4451 - accuracy: 0.7994 - val_loss: 0.4568 - val_accuracy: 0.8058\n",
      "Epoch 9/10\n",
      "215/215 [==============================] - 7s 34ms/step - loss: 0.4418 - accuracy: 0.8019 - val_loss: 0.4561 - val_accuracy: 0.8110\n",
      "Epoch 10/10\n",
      "215/215 [==============================] - 7s 34ms/step - loss: 0.4373 - accuracy: 0.8070 - val_loss: 0.4556 - val_accuracy: 0.8163\n",
      "24/24 [==============================] - 2s 4ms/step\n",
      "Validation F1 score: 0.7805642633228839\n",
      "train is done\n",
      "just before objective end\n",
      "[I 2024-05-08 17:07:33,205] Trial 3 finished with value: 0.7805642633228839 and parameters: {'initial_learning_rate': 0.0010470517028874917, 'lstm_size': 8, 'dense_size': 8, 'use_dropout_1': True, 'use_dropout_2': False, 'dropout_1': 0.2530360774273983}. Best is trial 3 with value: 0.7805642633228839.\n",
      "Creating model\n",
      "Epoch 1/10\n",
      "215/215 [==============================] - 16s 47ms/step - loss: 0.5293 - accuracy: 0.7475 - val_loss: 0.4741 - val_accuracy: 0.7848\n",
      "Epoch 2/10\n",
      "215/215 [==============================] - 8s 37ms/step - loss: 0.4584 - accuracy: 0.7902 - val_loss: 0.4577 - val_accuracy: 0.8045\n",
      "Epoch 3/10\n",
      "215/215 [==============================] - 8s 36ms/step - loss: 0.4465 - accuracy: 0.7997 - val_loss: 0.4547 - val_accuracy: 0.8110\n",
      "Epoch 4/10\n",
      "215/215 [==============================] - 7s 31ms/step - loss: 0.4314 - accuracy: 0.8098 - val_loss: 0.4629 - val_accuracy: 0.8071\n",
      "Epoch 5/10\n",
      "215/215 [==============================] - 7s 31ms/step - loss: 0.4244 - accuracy: 0.8116 - val_loss: 0.4530 - val_accuracy: 0.7966\n",
      "Epoch 6/10\n",
      "215/215 [==============================] - 7s 31ms/step - loss: 0.4156 - accuracy: 0.8158 - val_loss: 0.4601 - val_accuracy: 0.8005\n",
      "Epoch 7/10\n",
      "215/215 [==============================] - 7s 30ms/step - loss: 0.4167 - accuracy: 0.8162 - val_loss: 0.4590 - val_accuracy: 0.8031\n",
      "24/24 [==============================] - 2s 4ms/step\n",
      "Validation F1 score: 0.7495961227786754\n",
      "train is done\n",
      "just before objective end\n",
      "[I 2024-05-08 17:08:35,515] Trial 4 finished with value: 0.7495961227786754 and parameters: {'initial_learning_rate': 0.004131122216436542, 'lstm_size': 16, 'dense_size': 64, 'use_dropout_1': True, 'use_dropout_2': True, 'dropout_1': 0.4109258738566074, 'dropout_2': 0.17383524624359298}. Best is trial 3 with value: 0.7805642633228839.\n",
      "Creating model\n",
      "Epoch 1/10\n",
      "215/215 [==============================] - 16s 49ms/step - loss: 0.5197 - accuracy: 0.7476 - val_loss: 0.4936 - val_accuracy: 0.7664\n",
      "Epoch 2/10\n",
      "215/215 [==============================] - 8s 38ms/step - loss: 0.4474 - accuracy: 0.7962 - val_loss: 0.4672 - val_accuracy: 0.7953\n",
      "Epoch 3/10\n",
      "215/215 [==============================] - 8s 38ms/step - loss: 0.4286 - accuracy: 0.8072 - val_loss: 0.4644 - val_accuracy: 0.7940\n",
      "Epoch 4/10\n",
      "215/215 [==============================] - 8s 38ms/step - loss: 0.4187 - accuracy: 0.8104 - val_loss: 0.4584 - val_accuracy: 0.7953\n",
      "Epoch 5/10\n",
      "215/215 [==============================] - 8s 38ms/step - loss: 0.4066 - accuracy: 0.8164 - val_loss: 0.4583 - val_accuracy: 0.7913\n",
      "Epoch 6/10\n",
      "215/215 [==============================] - 8s 37ms/step - loss: 0.4034 - accuracy: 0.8232 - val_loss: 0.4604 - val_accuracy: 0.7900\n",
      "Epoch 7/10\n",
      "215/215 [==============================] - 8s 38ms/step - loss: 0.3945 - accuracy: 0.8243 - val_loss: 0.4610 - val_accuracy: 0.7940\n",
      "24/24 [==============================] - 3s 6ms/step\n",
      "Validation F1 score: 0.7579908675799087\n",
      "train is done\n",
      "just before objective end\n",
      "[I 2024-05-08 17:09:44,688] Trial 5 finished with value: 0.7579908675799087 and parameters: {'initial_learning_rate': 0.00105465725506554, 'lstm_size': 32, 'dense_size': 16, 'use_dropout_1': True, 'use_dropout_2': False, 'dropout_1': 0.22111520072282187}. Best is trial 3 with value: 0.7805642633228839.\n",
      "Creating model\n",
      "Epoch 1/10\n",
      "215/215 [==============================] - 14s 43ms/step - loss: 0.5466 - accuracy: 0.7284 - val_loss: 0.4743 - val_accuracy: 0.7966\n",
      "Epoch 2/10\n",
      "215/215 [==============================] - 7s 33ms/step - loss: 0.4507 - accuracy: 0.7977 - val_loss: 0.4763 - val_accuracy: 0.7756\n",
      "Epoch 3/10\n",
      "215/215 [==============================] - 7s 34ms/step - loss: 0.4227 - accuracy: 0.8170 - val_loss: 0.4610 - val_accuracy: 0.7927\n",
      "Epoch 4/10\n",
      "215/215 [==============================] - 7s 33ms/step - loss: 0.4045 - accuracy: 0.8248 - val_loss: 0.4630 - val_accuracy: 0.7913\n",
      "Epoch 5/10\n",
      "215/215 [==============================] - 7s 34ms/step - loss: 0.3880 - accuracy: 0.8383 - val_loss: 0.4644 - val_accuracy: 0.7966\n",
      "24/24 [==============================] - 2s 5ms/step\n",
      "Validation F1 score: 0.7561728395061729\n",
      "train is done\n",
      "just before objective end\n",
      "[I 2024-05-08 17:10:31,270] Trial 6 finished with value: 0.7561728395061729 and parameters: {'initial_learning_rate': 0.0013869655861712463, 'lstm_size': 16, 'dense_size': 8, 'use_dropout_1': False, 'use_dropout_2': True, 'dropout_2': 0.17778060454300065}. Best is trial 3 with value: 0.7805642633228839.\n",
      "Creating model\n",
      "Epoch 1/10\n",
      "215/215 [==============================] - 16s 47ms/step - loss: 0.5238 - accuracy: 0.7466 - val_loss: 0.4985 - val_accuracy: 0.7861\n",
      "Epoch 2/10\n",
      "215/215 [==============================] - 8s 37ms/step - loss: 0.4635 - accuracy: 0.7892 - val_loss: 0.4639 - val_accuracy: 0.8084\n",
      "Epoch 3/10\n",
      "215/215 [==============================] - 8s 37ms/step - loss: 0.4462 - accuracy: 0.7965 - val_loss: 0.4747 - val_accuracy: 0.8058\n",
      "Epoch 4/10\n",
      "215/215 [==============================] - 8s 38ms/step - loss: 0.4311 - accuracy: 0.8048 - val_loss: 0.4799 - val_accuracy: 0.7940\n",
      "24/24 [==============================] - 2s 6ms/step\n",
      "Validation F1 score: 0.770440251572327\n",
      "train is done\n",
      "just before objective end\n",
      "[I 2024-05-08 17:11:14,995] Trial 7 finished with value: 0.770440251572327 and parameters: {'initial_learning_rate': 0.001434448650583901, 'lstm_size': 32, 'dense_size': 32, 'use_dropout_1': True, 'use_dropout_2': False, 'dropout_1': 0.39002135787386205}. Best is trial 3 with value: 0.7805642633228839.\n",
      "Creating model\n",
      "Epoch 1/10\n",
      "215/215 [==============================] - 15s 43ms/step - loss: 0.4961 - accuracy: 0.7686 - val_loss: 0.4707 - val_accuracy: 0.7874\n",
      "Epoch 2/10\n",
      "215/215 [==============================] - 7s 32ms/step - loss: 0.4122 - accuracy: 0.8210 - val_loss: 0.4762 - val_accuracy: 0.7822\n",
      "Epoch 3/10\n",
      "215/215 [==============================] - 7s 34ms/step - loss: 0.3871 - accuracy: 0.8336 - val_loss: 0.4596 - val_accuracy: 0.7953\n",
      "Epoch 4/10\n",
      "215/215 [==============================] - 7s 33ms/step - loss: 0.3652 - accuracy: 0.8470 - val_loss: 0.4682 - val_accuracy: 0.7966\n",
      "Epoch 5/10\n",
      "215/215 [==============================] - 7s 34ms/step - loss: 0.3475 - accuracy: 0.8558 - val_loss: 0.4767 - val_accuracy: 0.7835\n",
      "24/24 [==============================] - 2s 5ms/step\n",
      "Validation F1 score: 0.7475728155339806\n",
      "train is done\n",
      "just before objective end\n",
      "[I 2024-05-08 17:12:02,038] Trial 8 finished with value: 0.7475728155339806 and parameters: {'initial_learning_rate': 0.002028096564061628, 'lstm_size': 16, 'dense_size': 64, 'use_dropout_1': False, 'use_dropout_2': False}. Best is trial 3 with value: 0.7805642633228839.\n",
      "Creating model\n",
      "Epoch 1/10\n",
      "215/215 [==============================] - 16s 50ms/step - loss: 0.5666 - accuracy: 0.7273 - val_loss: 0.4769 - val_accuracy: 0.7887\n",
      "Epoch 2/10\n",
      "215/215 [==============================] - 8s 38ms/step - loss: 0.4936 - accuracy: 0.7789 - val_loss: 0.4732 - val_accuracy: 0.8084\n",
      "Epoch 3/10\n",
      "215/215 [==============================] - 8s 38ms/step - loss: 0.4827 - accuracy: 0.7854 - val_loss: 0.4640 - val_accuracy: 0.7927\n",
      "Epoch 4/10\n",
      "215/215 [==============================] - 7s 35ms/step - loss: 0.4665 - accuracy: 0.7964 - val_loss: 0.4992 - val_accuracy: 0.7900\n",
      "Epoch 5/10\n",
      "215/215 [==============================] - 8s 35ms/step - loss: 0.4521 - accuracy: 0.8019 - val_loss: 0.4694 - val_accuracy: 0.8005\n",
      "24/24 [==============================] - 2s 5ms/step\n",
      "Validation F1 score: 0.7459807073954985\n",
      "train is done\n",
      "just before objective end\n",
      "[I 2024-05-08 17:12:52,701] Trial 9 finished with value: 0.7459807073954985 and parameters: {'initial_learning_rate': 0.002740951049952777, 'lstm_size': 32, 'dense_size': 8, 'use_dropout_1': True, 'use_dropout_2': True, 'dropout_1': 0.41002476969915813, 'dropout_2': 0.47170773284215894}. Best is trial 3 with value: 0.7805642633228839.\n"
     ]
    }
   ],
   "source": [
    "study.optimize(objective, n_trials=10, show_progress_bar=True)"
   ]
  },
  {
   "cell_type": "code",
   "execution_count": 28,
   "metadata": {},
   "outputs": [
    {
     "name": "stdout",
     "output_type": "stream",
     "text": [
      "-> Best score: 0.7805642633228839\n",
      "-> Optimal network parameters: \n",
      "{'dense_size': 8,\n",
      " 'dropout_1': 0.2530360774273983,\n",
      " 'initial_learning_rate': 0.0010470517028874917,\n",
      " 'lstm_size': 8,\n",
      " 'use_dropout_1': True,\n",
      " 'use_dropout_2': False}\n",
      "-> Best learning parameters: \n",
      "{}\n"
     ]
    }
   ],
   "source": [
    "trial = study.best_trial\n",
    "print(f'-> Best score: {trial.value}')\n",
    "print(f'-> Optimal network parameters: ')\n",
    "pprint.pprint(trial.params)\n",
    "print(f'-> Best learning parameters: ')\n",
    "pprint.pprint(trial.user_attrs)\n"
   ]
  },
  {
   "cell_type": "markdown",
   "metadata": {},
   "source": [
    "### Training with optimal hyper parameters"
   ]
  },
  {
   "cell_type": "code",
   "execution_count": 18,
   "metadata": {},
   "outputs": [
    {
     "name": "stdout",
     "output_type": "stream",
     "text": [
      "Epoch 1/10\n",
      "215/215 [==============================] - 35s 115ms/step - loss: 0.5997 - accuracy: 0.6862 - val_loss: 0.4880 - val_accuracy: 0.7769\n",
      "Epoch 2/10\n",
      "215/215 [==============================] - 16s 73ms/step - loss: 0.4959 - accuracy: 0.7730 - val_loss: 0.4518 - val_accuracy: 0.7992\n",
      "Epoch 3/10\n",
      "215/215 [==============================] - 17s 77ms/step - loss: 0.4671 - accuracy: 0.7910 - val_loss: 0.4584 - val_accuracy: 0.7769\n",
      "Epoch 4/10\n",
      "215/215 [==============================] - 15s 67ms/step - loss: 0.4515 - accuracy: 0.7971 - val_loss: 0.4277 - val_accuracy: 0.8163\n",
      "Epoch 5/10\n",
      "215/215 [==============================] - 13s 59ms/step - loss: 0.4410 - accuracy: 0.8065 - val_loss: 0.4288 - val_accuracy: 0.8163\n",
      "Epoch 6/10\n",
      "215/215 [==============================] - 12s 56ms/step - loss: 0.4366 - accuracy: 0.8053 - val_loss: 0.4192 - val_accuracy: 0.8228\n",
      "Epoch 7/10\n",
      "215/215 [==============================] - 12s 57ms/step - loss: 0.4221 - accuracy: 0.8145 - val_loss: 0.4194 - val_accuracy: 0.8281\n",
      "Epoch 8/10\n",
      "215/215 [==============================] - 13s 61ms/step - loss: 0.4210 - accuracy: 0.8167 - val_loss: 0.4214 - val_accuracy: 0.8123\n",
      "24/24 [==============================] - 4s 8ms/step\n",
      "Validation F1 score: 0.7853736089030207\n"
     ]
    }
   ],
   "source": [
    "the_best_model = create_model(lstm_size=8, dense_size=8,\n",
    "                dropout_1=0.25, dropout_2=0, \n",
    "                learning_rate=1e-3)\n",
    "f1_value = train(X_train, Y_train, X_dev, Y_dev, the_best_model, batch_size=32, max_epochs=10)"
   ]
  },
  {
   "cell_type": "markdown",
   "metadata": {},
   "source": [
    "### Evaluate predication on validation data"
   ]
  },
  {
   "cell_type": "code",
   "execution_count": 19,
   "metadata": {},
   "outputs": [],
   "source": [
    "def evaluate_final_results(X, Y, Y_pred):\n",
    "    # Compute the confusion matrix\n",
    "    cm = confusion_matrix(Y, Y_pred)\n",
    "\n",
    "    # Compute other metrics\n",
    "    accuracy = accuracy_score(Y, Y_pred)\n",
    "    precision = precision_score(Y, Y_pred, average='macro')\n",
    "    recall = recall_score(Y, Y_pred, average='macro')\n",
    "    f1 = f1_score(Y, Y_pred, average='macro')\n",
    "\n",
    "    # Print the metrics\n",
    "    print(f\"Accuracy: {accuracy}\")\n",
    "    print(f\"Precision: {precision}\")\n",
    "    print(f\"Recall: {recall}\")\n",
    "    print(f\"F1 Score: {f1}\")\n",
    "\n",
    "    # Plot the confusion matrix\n",
    "    plt.figure(figsize=(6, 4))\n",
    "    sns.heatmap(cm, annot=True, fmt='d', cmap='Blues')\n",
    "    plt.xlabel('Predicted')\n",
    "    plt.ylabel('True')\n",
    "    plt.title('Confusion Matrix')\n",
    "    plt.show()    "
   ]
  },
  {
   "cell_type": "code",
   "execution_count": 20,
   "metadata": {},
   "outputs": [
    {
     "name": "stdout",
     "output_type": "stream",
     "text": [
      "24/24 [==============================] - 0s 3ms/step\n",
      "Accuracy: 0.8228346456692913\n",
      "Precision: 0.8229220779220779\n",
      "Recall: 0.8141790154221975\n",
      "F1 Score: 0.8172678100381026\n"
     ]
    },
    {
     "data": {
      "image/png": "[encoded data removed]",
      "text/plain": [
       "<Figure size 600x400 with 2 Axes>"
      ]
     },
     "metadata": {},
     "output_type": "display_data"
    }
   ],
   "source": [
    "Y_predict, f1_value = evaluate(X_dev, Y_dev, the_best_model)\n",
    "evaluate_final_results(X_dev, Y_dev, Y_predict)"
   ]
  },
  {
   "cell_type": "markdown",
   "metadata": {},
   "source": [
    "### Error analysis"
   ]
  },
  {
   "cell_type": "code",
   "execution_count": 21,
   "metadata": {},
   "outputs": [
    {
     "data": {
      "text/plain": [
       "(762, 50)"
      ]
     },
     "execution_count": 21,
     "metadata": {},
     "output_type": "execute_result"
    }
   ],
   "source": [
    "X_raw_dev.shape"
   ]
  },
  {
   "cell_type": "code",
   "execution_count": 28,
   "metadata": {},
   "outputs": [
    {
     "name": "stdout",
     "output_type": "stream",
     "text": [
      "[   194  23317     94     30  16465      2     80     59 197632    412\n",
      "     27 372151    398     12   3337     67 662820    235   9536     11\n",
      "    856 372151      2     89    665      0      0      0      0      0\n",
      "      0      0      0      0      0      0      0      0      0      0\n",
      "      0      0      0      0      0      0      0      0      0      0]\n",
      "oh gio was my backup . but with skc next and bwp getting a crack at nycfc + injury i went bwp . lol wrong\n",
      "@JJ_DIRTY @MLSTransfers @greggmair oh Gio was my backup. But with SKC next and BWP getting a crack at NYCFC + injury I went BWP. Lol wrong\n"
     ]
    }
   ],
   "source": [
    "print(X_raw_dev[0])\n",
    "print(decode_tokens(X_raw_dev[0], glove))\n",
    "print(X_raw.iloc[idx_test[0]])"
   ]
  },
  {
   "cell_type": "code",
   "execution_count": 34,
   "metadata": {},
   "outputs": [],
   "source": [
    "decoded_sentences = np.apply_along_axis(lambda tokens: decode_tokens(tokens, glove), axis=1, arr=X_raw_dev)\n",
    "original_sentences = np.apply_along_axis(lambda idx: X_raw.iloc[idx], axis=0, arr=idx_test)\n",
    "result = pd.DataFrame(np.column_stack((original_sentences, decoded_sentences, Y_dev, Y_predict)), columns=['text', 'decoded', 'y', 'y_pred'])\n",
    "result = result.query('y != y_pred')\n"
   ]
  },
  {
   "cell_type": "code",
   "execution_count": 38,
   "metadata": {},
   "outputs": [
    {
     "data": {
      "text/html": [
       "<div>\n",
       "<style scoped>\n",
       "    .dataframe tbody tr th:only-of-type {\n",
       "        vertical-align: middle;\n",
       "    }\n",
       "\n",
       "    .dataframe tbody tr th {\n",
       "        vertical-align: top;\n",
       "    }\n",
       "\n",
       "    .dataframe thead th {\n",
       "        text-align: right;\n",
       "    }\n",
       "</style>\n",
       "<table border=\"1\" class=\"dataframe\">\n",
       "  <thead>\n",
       "    <tr style=\"text-align: right;\">\n",
       "      <th></th>\n",
       "      <th>text</th>\n",
       "      <th>decoded</th>\n",
       "      <th>y</th>\n",
       "      <th>y_pred</th>\n",
       "    </tr>\n",
       "  </thead>\n",
       "  <tbody>\n",
       "    <tr>\n",
       "      <th>562</th>\n",
       "      <td>ChinaÛªs stock market crash this summer has sparked interest from bargain hunters and bulls betting on a rebound. DÛ_ http://t.co/1yggZziZ9o</td>\n",
       "      <td>china stock market crash this summer has sparked interest from bargain hunters and bulls betting on a reb</td>\n",
       "      <td>0</td>\n",
       "      <td>1</td>\n",
       "    </tr>\n",
       "    <tr>\n",
       "      <th>742</th>\n",
       "      <td>Who is bringing the tornadoes and floods. Who is bringing the climate change. God is after America He is plaguing her\\n \\n#FARRAKHAN #QUOTE</td>\n",
       "      <td>who is bringing the tornadoes and floods . who is bringing the climate change . god is after america he i</td>\n",
       "      <td>0</td>\n",
       "      <td>1</td>\n",
       "    </tr>\n",
       "    <tr>\n",
       "      <th>135</th>\n",
       "      <td>Offers : http://t.co/Gl3C1vc88P #8392 Deluxe Toilet Safety Support/Health/Home/Bathroom/Support/Elderly/Injured/SÛ_ http://t.co/vihdoKScCC</td>\n",
       "      <td>offers : deluxe toilet safety support / health / home / bathroom / support / elderly / injured / s</td>\n",
       "      <td>1</td>\n",
       "      <td>0</td>\n",
       "    </tr>\n",
       "    <tr>\n",
       "      <th>290</th>\n",
       "      <td>HereÛªs how media in Pakistan covered the capture of terrorist Mohammed Naved http://t.co/f7WqpCEkg2</td>\n",
       "      <td>here how media in pakistan covered the capture of terrorist mohammed</td>\n",
       "      <td>0</td>\n",
       "      <td>1</td>\n",
       "    </tr>\n",
       "    <tr>\n",
       "      <th>544</th>\n",
       "      <td>Swansea Û÷plot hijack transfer move for Southampton target Virgil van DijkÛª http://t.co/PVmr38LnvA</td>\n",
       "      <td>swansea û ÷ plot hijack transfer move for southampton target virgil van dijk</td>\n",
       "      <td>1</td>\n",
       "      <td>0</td>\n",
       "    </tr>\n",
       "    <tr>\n",
       "      <th>268</th>\n",
       "      <td>my dad said I look thinner than usual but really im over here like http://t.co/bnwyGx6luh</td>\n",
       "      <td>my dad said i look thinner than usual but really im over here like</td>\n",
       "      <td>1</td>\n",
       "      <td>0</td>\n",
       "    </tr>\n",
       "    <tr>\n",
       "      <th>760</th>\n",
       "      <td>'There was a small earthquake in LA but don't worry Emmy Rossum is fine'</td>\n",
       "      <td>' there was a small earthquake in la but worry emmy rossum is fine '</td>\n",
       "      <td>1</td>\n",
       "      <td>0</td>\n",
       "    </tr>\n",
       "    <tr>\n",
       "      <th>636</th>\n",
       "      <td>@YoungHeroesID LAVA BLAST dan POWER RED #PantherAttack @Mirmanda11 @evaaaSR</td>\n",
       "      <td>lava blast dan power red</td>\n",
       "      <td>1</td>\n",
       "      <td>0</td>\n",
       "    </tr>\n",
       "    <tr>\n",
       "      <th>264</th>\n",
       "      <td>I can't drown my demons they know how to swim</td>\n",
       "      <td>i drown my demons they know how to swim</td>\n",
       "      <td>1</td>\n",
       "      <td>0</td>\n",
       "    </tr>\n",
       "    <tr>\n",
       "      <th>592</th>\n",
       "      <td>'I came to kill Indians...for FUN': Video of smirking and remorseless Pakistani killer shows him boasting. http://t.co/FPjLwOXKlg</td>\n",
       "      <td>' i came to kill indians for fun ' : video of smirking and pakistani killer shows him boasting .</td>\n",
       "      <td>1</td>\n",
       "      <td>0</td>\n",
       "    </tr>\n",
       "  </tbody>\n",
       "</table>\n",
       "</div>"
      ],
      "text/plain": [
       "                                                                                                                                               text  \\\n",
       "562  ChinaÛªs stock market crash this summer has sparked interest from bargain hunters and bulls betting on a rebound. DÛ_ http://t.co/1yggZziZ9o   \n",
       "742     Who is bringing the tornadoes and floods. Who is bringing the climate change. God is after America He is plaguing her\\n \\n#FARRAKHAN #QUOTE   \n",
       "135     Offers : http://t.co/Gl3C1vc88P #8392 Deluxe Toilet Safety Support/Health/Home/Bathroom/Support/Elderly/Injured/SÛ_ http://t.co/vihdoKScCC   \n",
       "290                                           HereÛªs how media in Pakistan covered the capture of terrorist Mohammed Naved http://t.co/f7WqpCEkg2   \n",
       "544                                           Swansea Û÷plot hijack transfer move for Southampton target Virgil van DijkÛª http://t.co/PVmr38LnvA   \n",
       "268                                                       my dad said I look thinner than usual but really im over here like http://t.co/bnwyGx6luh   \n",
       "760                                                                        'There was a small earthquake in LA but don't worry Emmy Rossum is fine'   \n",
       "636                                                                     @YoungHeroesID LAVA BLAST dan POWER RED #PantherAttack @Mirmanda11 @evaaaSR   \n",
       "264                                                                                                   I can't drown my demons they know how to swim   \n",
       "592               'I came to kill Indians...for FUN': Video of smirking and remorseless Pakistani killer shows him boasting. http://t.co/FPjLwOXKlg   \n",
       "\n",
       "                                                                                                       decoded  \\\n",
       "562  china stock market crash this summer has sparked interest from bargain hunters and bulls betting on a reb   \n",
       "742  who is bringing the tornadoes and floods . who is bringing the climate change . god is after america he i   \n",
       "135         offers : deluxe toilet safety support / health / home / bathroom / support / elderly / injured / s   \n",
       "290                                       here how media in pakistan covered the capture of terrorist mohammed   \n",
       "544                               swansea û ÷ plot hijack transfer move for southampton target virgil van dijk   \n",
       "268                                         my dad said i look thinner than usual but really im over here like   \n",
       "760                                       ' there was a small earthquake in la but worry emmy rossum is fine '   \n",
       "636                                                                                   lava blast dan power red   \n",
       "264                                                                    i drown my demons they know how to swim   \n",
       "592           ' i came to kill indians for fun ' : video of smirking and pakistani killer shows him boasting .   \n",
       "\n",
       "     y y_pred  \n",
       "562  0      1  \n",
       "742  0      1  \n",
       "135  1      0  \n",
       "290  0      1  \n",
       "544  1      0  \n",
       "268  1      0  \n",
       "760  1      0  \n",
       "636  1      0  \n",
       "264  1      0  \n",
       "592  1      0  "
      ]
     },
     "execution_count": 38,
     "metadata": {},
     "output_type": "execute_result"
    }
   ],
   "source": [
    "pd.set_option('display.max_colwidth', 150)\n",
    "result.sample(n=10)"
   ]
  },
  {
   "cell_type": "markdown",
   "metadata": {},
   "source": [
    "### Generate submission"
   ]
  },
  {
   "cell_type": "code",
   "execution_count": 41,
   "metadata": {},
   "outputs": [],
   "source": [
    "def generate_submission(model):\n",
    "    df_test = pd.read_csv('./test.csv', index_col='id')\n",
    "    df_test.fillna({'text': '', 'keyword': '', 'location': ''}, inplace=True)\n",
    "    X_raw_test = df_test['text'].to_numpy()\n",
    "    X_test = tokenize_input(X_raw_test, tokenizer)\n",
    "\n",
    "    Y_test_predict = model(X_test)\n",
    "    Y_test_predict = tf.cast(Y_test_predict > .5, tf.int32)\n",
    "\n",
    "    df_example = pd.read_csv('./sample_submission.csv')\n",
    "    df_example['target'] = Y_test_predict\n",
    "\n",
    "    df_example.to_csv(f'./{SCRIPT_NAME}-submission.csv', index=False)\n"
   ]
  },
  {
   "cell_type": "code",
   "execution_count": 42,
   "metadata": {},
   "outputs": [],
   "source": [
    "generate_submission(the_best_model)"
   ]
  },
  {
   "cell_type": "code",
   "execution_count": null,
   "metadata": {},
   "outputs": [],
   "source": []
  }
 ],
 "metadata": {
  "kernelspec": {
   "display_name": "machine-learning-1",
   "language": "python",
   "name": "python3"
  },
  "language_info": {
   "codemirror_mode": {
    "name": "ipython",
    "version": 3
   },
   "file_extension": ".py",
   "mimetype": "text/x-python",
   "name": "python",
   "nbconvert_exporter": "python",
   "pygments_lexer": "ipython3",
   "version": "3.11.6"
  }
 },
 "nbformat": 4,
 "nbformat_minor": 2
}
