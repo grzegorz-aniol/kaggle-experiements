{
 "cells": [
  {
   "cell_type": "markdown",
   "metadata": {},
   "source": [
    "# Tweets sentiment analysis with RNN"
   ]
  },
  {
   "cell_type": "markdown",
   "metadata": {},
   "source": [
    "Using spacy tokenizer and embedding + LSTM for sentiment analysis"
   ]
  },
  {
   "cell_type": "code",
   "execution_count": 1,
   "metadata": {},
   "outputs": [],
   "source": [
    "import os\n",
    "os.environ['TF_CPP_MIN_LOG_LEVEL'] = '2'\n",
    "\n",
    "import numpy as np\n",
    "import tensorflow as tf\n",
    "import itertools as it\n",
    "import pandas as pd\n",
    "import spacy\n",
    "from sklearn.metrics import confusion_matrix, accuracy_score, precision_score, recall_score, f1_score\n",
    "from sklearn.model_selection import train_test_split\n",
    "import optuna\n",
    "import pprint\n",
    "import logging\n",
    "import matplotlib.pyplot as plt\n",
    "import seaborn as sns\n",
    "\n",
    "SCRIPT_NAME = 'E-RNN-embeddings-v1'"
   ]
  },
  {
   "cell_type": "code",
   "execution_count": 2,
   "metadata": {},
   "outputs": [],
   "source": [
    "spacy_lang = spacy.load(\"en_core_web_md\")"
   ]
  },
  {
   "cell_type": "code",
   "execution_count": 3,
   "metadata": {},
   "outputs": [
    {
     "name": "stdout",
     "output_type": "stream",
     "text": [
      "Vector embedding dim: 300\n",
      "Known ratio: 0.882\n"
     ]
    }
   ],
   "source": [
    "def spacy_tokenizer(sentence):\n",
    "    return [(w.text,w.has_vector) for w in spacy_lang(sentence)]\n",
    "\n",
    "def spacy_embedding(sentence, max_len=100):\n",
    "    \"\"\"Returns tuple (embedding, all tokens)\"\"\"\n",
    "    embeddings = []\n",
    "    tokens = spacy_lang(sentence)[:max_len]\n",
    "    for token in tokens:\n",
    "        if token.has_vector:\n",
    "            embeddings.append(token.vector / token.vector_norm)\n",
    "    return (embeddings, tokens)\n",
    "\n",
    "def spacy_example():\n",
    "    example2 = 'Don''t you expect this? Check out 123 page at http://simple.com/site/page.html and #others fyi @fellow'\n",
    "    embeddings, tokens = spacy_embedding(example2)\n",
    "    print(f'Known ratio: {len(embeddings)/len(tokens):.3f}')\n",
    "\n",
    "EMBEDDING_DIM = spacy_lang(\"word\")[0].vector.shape[0]\n",
    "MAX_SEQ_LEN = 100\n",
    "print(f'Vector embedding dim: {EMBEDDING_DIM}')\n",
    "spacy_example()"
   ]
  },
  {
   "cell_type": "markdown",
   "metadata": {},
   "source": [
    "### Load and prepare train/validation data and find embeddings"
   ]
  },
  {
   "cell_type": "code",
   "execution_count": 4,
   "metadata": {},
   "outputs": [],
   "source": [
    "df = pd.read_csv('train.csv')\n",
    "X = df['text'].fillna('')\n",
    "Y = df['target']"
   ]
  },
  {
   "cell_type": "code",
   "execution_count": 5,
   "metadata": {},
   "outputs": [],
   "source": [
    "def preprocess(X):\n",
    "    cnt_embeddings = 0\n",
    "    cnt_tokens = 0\n",
    "    x_embeddings = np.zeros((X.size, MAX_SEQ_LEN, EMBEDDING_DIM))\n",
    "\n",
    "    for i, sentence in enumerate(X):\n",
    "        embeddings, tokens = spacy_embedding(sentence, MAX_SEQ_LEN)\n",
    "        cnt_embeddings += len(embeddings)\n",
    "        cnt_tokens += len(tokens)\n",
    "        for j, vector in enumerate(embeddings):\n",
    "            x_embeddings[i, j] = vector\n",
    "\n",
    "    print(f'All tokens: {cnt_tokens}, found embeddings: {cnt_embeddings}. Known tokens ratio: {cnt_embeddings/cnt_tokens:.3f}')\n",
    "    print(f'Vector dim: {len(x_embeddings[0][0])}')\n",
    "\n",
    "    return x_embeddings"
   ]
  },
  {
   "cell_type": "code",
   "execution_count": 6,
   "metadata": {},
   "outputs": [
    {
     "name": "stdout",
     "output_type": "stream",
     "text": [
      "All tokens: 135383, found embeddings: 122020. Known tokens ratio: 0.901\n",
      "Vector dim: 300\n"
     ]
    }
   ],
   "source": [
    "X = preprocess(X)"
   ]
  },
  {
   "cell_type": "code",
   "execution_count": 18,
   "metadata": {},
   "outputs": [
    {
     "data": {
      "text/plain": [
       "array([[[ 0.03520362],\n",
       "        [-0.03125338],\n",
       "        [-0.08001059],\n",
       "        [-0.07057038],\n",
       "        [-0.04518668],\n",
       "        [-0.10477114],\n",
       "        [ 0.04174236],\n",
       "        [ 0.06828009],\n",
       "        [-0.01538143],\n",
       "        [-0.04672509],\n",
       "        [-0.00320503],\n",
       "        [ 0.08226046],\n",
       "        [ 0.03549374],\n",
       "        [-0.03070577],\n",
       "        [ 0.        ],\n",
       "        [ 0.        ],\n",
       "        [ 0.        ],\n",
       "        [ 0.        ],\n",
       "        [ 0.        ],\n",
       "        [ 0.        ]],\n",
       "\n",
       "       [[-0.10963316],\n",
       "        [-0.06716903],\n",
       "        [ 0.02251171],\n",
       "        [-0.01168874],\n",
       "        [-0.06093776],\n",
       "        [-0.08387914],\n",
       "        [-0.00127615],\n",
       "        [-0.0549563 ],\n",
       "        [ 0.        ],\n",
       "        [ 0.        ],\n",
       "        [ 0.        ],\n",
       "        [ 0.        ],\n",
       "        [ 0.        ],\n",
       "        [ 0.        ],\n",
       "        [ 0.        ],\n",
       "        [ 0.        ],\n",
       "        [ 0.        ],\n",
       "        [ 0.        ],\n",
       "        [ 0.        ],\n",
       "        [ 0.        ]],\n",
       "\n",
       "       [[-0.05145295],\n",
       "        [-0.04860586],\n",
       "        [ 0.02808128],\n",
       "        [-0.01317827],\n",
       "        [ 0.0212837 ],\n",
       "        [-0.02752947],\n",
       "        [-0.03420347],\n",
       "        [-0.01796459],\n",
       "        [ 0.0212837 ],\n",
       "        [-0.08001059],\n",
       "        [-0.07138264],\n",
       "        [-0.03955626],\n",
       "        [-0.09909867],\n",
       "        [-0.08383328],\n",
       "        [-0.00127615],\n",
       "        [ 0.03173411],\n",
       "        [-0.03453195],\n",
       "        [-0.0511818 ],\n",
       "        [-0.05046341],\n",
       "        [-0.02752947]],\n",
       "\n",
       "       [[-0.03707241],\n",
       "        [-0.04093011],\n",
       "        [-0.07459591],\n",
       "        [ 0.06828009],\n",
       "        [-0.05298262],\n",
       "        [-0.0511818 ],\n",
       "        [-0.01572358],\n",
       "        [-0.03420347],\n",
       "        [-0.05381953],\n",
       "        [ 0.        ],\n",
       "        [ 0.        ],\n",
       "        [ 0.        ],\n",
       "        [ 0.        ],\n",
       "        [ 0.        ],\n",
       "        [ 0.        ],\n",
       "        [ 0.        ],\n",
       "        [ 0.        ],\n",
       "        [ 0.        ],\n",
       "        [ 0.        ],\n",
       "        [ 0.        ]],\n",
       "\n",
       "       [[ 0.02258267],\n",
       "        [ 0.01779563],\n",
       "        [-0.04559045],\n",
       "        [ 0.04174236],\n",
       "        [ 0.02233114],\n",
       "        [ 0.0077553 ],\n",
       "        [-0.06274754],\n",
       "        [ 0.06828009],\n",
       "        [-0.01353751],\n",
       "        [-0.05570583],\n",
       "        [-0.00165237],\n",
       "        [ 0.0077553 ],\n",
       "        [ 0.06828009],\n",
       "        [-0.05298262],\n",
       "        [-0.03861878],\n",
       "        [ 0.0408465 ],\n",
       "        [-0.08286819],\n",
       "        [-0.01860768],\n",
       "        [ 0.        ],\n",
       "        [ 0.        ]]])"
      ]
     },
     "execution_count": 18,
     "metadata": {},
     "output_type": "execute_result"
    }
   ],
   "source": [
    "X[:5,:20,:1]"
   ]
  },
  {
   "cell_type": "markdown",
   "metadata": {},
   "source": [
    "### Split into train and validation data sets"
   ]
  },
  {
   "cell_type": "code",
   "execution_count": 8,
   "metadata": {},
   "outputs": [
    {
     "name": "stdout",
     "output_type": "stream",
     "text": [
      "(6851, 100, 300) (6851,) (762, 100, 300) (762,)\n"
     ]
    }
   ],
   "source": [
    "X_train, X_dev, Y_train, Y_dev = train_test_split(X, Y, test_size=0.1, shuffle=True)\n",
    "\n",
    "print(X_train.shape, Y_train.shape, X_dev.shape, Y_dev.shape)\n"
   ]
  },
  {
   "cell_type": "markdown",
   "metadata": {},
   "source": [
    "### Define model"
   ]
  },
  {
   "cell_type": "code",
   "execution_count": 19,
   "metadata": {},
   "outputs": [],
   "source": [
    "def create_model(input_size, lstm_size, dense_size, dropout_1=0.5, dropout_2=0.5,\n",
    "          learning_rate=1e-3):\n",
    "    model = tf.keras.Sequential([\n",
    "        # tf.keras.layers.Input(shape=(MAX_SEQ_LEN, input_size), dtype='float32'),\n",
    "        tf.keras.layers.Masking(mask_value=0, input_shape=(None, input_size)),\n",
    "        tf.keras.layers.Bidirectional(tf.keras.layers.LSTM(lstm_size, dropout=dropout_1)),\n",
    "        # tf.keras.layers.Bidirectional(tf.keras.layers.LSTM(lstm_size, dropout=dropout_2)),\n",
    "        tf.keras.layers.BatchNormalization(),\n",
    "        tf.keras.layers.Dense(dense_size),\n",
    "        tf.keras.layers.BatchNormalization(),\n",
    "        tf.keras.layers.Activation('relu'),\n",
    "        tf.keras.layers.Dense(1, activation='sigmoid')\n",
    "    ])\n",
    "    optimizer = tf.keras.optimizers.Adam(learning_rate=learning_rate)\n",
    "    model.compile(optimizer=optimizer, loss='binary_crossentropy', metrics=['accuracy'])\n",
    "    return model"
   ]
  },
  {
   "cell_type": "code",
   "execution_count": 20,
   "metadata": {},
   "outputs": [],
   "source": [
    "def evaluate(X, Y, model):\n",
    "    Y_predict = model.predict(X)\n",
    "    Y_predict = (Y_predict > .5).astype(np.int8)\n",
    "    f1_value = f1_score(Y, Y_predict)\n",
    "    return Y_predict, f1_value\n"
   ]
  },
  {
   "cell_type": "code",
   "execution_count": 21,
   "metadata": {},
   "outputs": [],
   "source": [
    "def train(X_train, Y_train, X_dev, Y, model, batch_size=32, max_epochs=4):\n",
    "    early_stopping = tf.keras.callbacks.EarlyStopping(patience=2, restore_best_weights=True)\n",
    "    \n",
    "    model.fit(X_train, Y_train, batch_size=batch_size, epochs=max_epochs, \n",
    "            validation_data=(X_dev, Y),\n",
    "            callbacks=[early_stopping],\n",
    "            verbose=1)\n",
    "\n",
    "    _, f1_value = evaluate(X_dev, Y, model)    \n",
    "\n",
    "    print(f\"Validation F1 score: {f1_value}\")\n",
    "\n",
    "    return f1_value"
   ]
  },
  {
   "cell_type": "markdown",
   "metadata": {},
   "source": [
    "### Check model"
   ]
  },
  {
   "cell_type": "code",
   "execution_count": 22,
   "metadata": {},
   "outputs": [
    {
     "name": "stdout",
     "output_type": "stream",
     "text": [
      "Model: \"sequential_1\"\n",
      "_________________________________________________________________\n",
      " Layer (type)                Output Shape              Param #   \n",
      "=================================================================\n",
      " masking_1 (Masking)         (None, None, 300)         0         \n",
      "                                                                 \n",
      " bidirectional_1 (Bidirectio  (None, 16)               19776     \n",
      " nal)                                                            \n",
      "                                                                 \n",
      " batch_normalization_2 (Batc  (None, 16)               64        \n",
      " hNormalization)                                                 \n",
      "                                                                 \n",
      " dense_2 (Dense)             (None, 8)                 136       \n",
      "                                                                 \n",
      " batch_normalization_3 (Batc  (None, 8)                32        \n",
      " hNormalization)                                                 \n",
      "                                                                 \n",
      " activation_1 (Activation)   (None, 8)                 0         \n",
      "                                                                 \n",
      " dense_3 (Dense)             (None, 1)                 9         \n",
      "                                                                 \n",
      "=================================================================\n",
      "Total params: 20,017\n",
      "Trainable params: 19,969\n",
      "Non-trainable params: 48\n",
      "_________________________________________________________________\n"
     ]
    }
   ],
   "source": [
    "model = create_model(EMBEDDING_DIM, lstm_size=8, dense_size=8)\n",
    "model.summary()"
   ]
  },
  {
   "cell_type": "code",
   "execution_count": 13,
   "metadata": {},
   "outputs": [
    {
     "data": {
      "text/plain": [
       "((6851, 100, 300), (7613,), (100, 300))"
      ]
     },
     "execution_count": 13,
     "metadata": {},
     "output_type": "execute_result"
    }
   ],
   "source": [
    "X_train.shape, Y.shape, (MAX_SEQ_LEN, EMBEDDING_DIM)"
   ]
  },
  {
   "cell_type": "code",
   "execution_count": 14,
   "metadata": {},
   "outputs": [],
   "source": [
    "X_train = X_train.astype('float32')\n",
    "Y_train = Y_train.astype('float32')\n",
    "X_dev = X_dev.astype('float32')\n",
    "Y_dev = Y_dev.astype('float32')"
   ]
  },
  {
   "cell_type": "code",
   "execution_count": 15,
   "metadata": {},
   "outputs": [
    {
     "name": "stdout",
     "output_type": "stream",
     "text": [
      "24/24 [==============================] - 2s 12ms/step\n",
      "Validation F1 score: 0.7216494845360825\n"
     ]
    },
    {
     "data": {
      "text/plain": [
       "0.7216494845360825"
      ]
     },
     "execution_count": 15,
     "metadata": {},
     "output_type": "execute_result"
    }
   ],
   "source": [
    "train(X_train, Y_train, X_dev, Y_dev, model, max_epochs=5)"
   ]
  },
  {
   "cell_type": "markdown",
   "metadata": {},
   "source": [
    "### Define objective function"
   ]
  },
  {
   "cell_type": "code",
   "execution_count": 23,
   "metadata": {},
   "outputs": [],
   "source": [
    "def objective(trial):\n",
    "    learning_rate = trial.suggest_float('learning_rate', 1e-4, 1e-3, log=True)\n",
    "    batch_size = trial.suggest_categorical('batch_size', [32, 64, 128])\n",
    "    lstm_size = trial.suggest_categorical('lstm_size', [4, 8, 16, 32, 64, 128])\n",
    "    dense_size = trial.suggest_categorical('dense_size', [8, 16, 32, 64, 128, 256])\n",
    "    use_dropout_1 = trial.suggest_categorical('use_dropout_1', [False, True])\n",
    "    use_dropout_2 = False # trial.suggest_categorical('use_dropout_2', [False, True])\n",
    "    if use_dropout_1:\n",
    "        dropout_1 = trial.suggest_float('dropout_1', 0.1, 0.7)\n",
    "    else:\n",
    "        dropout_1 = 0\n",
    "    if use_dropout_2:\n",
    "        dropout_2 = trial.suggest_float('dropout_2', 0.1, 0.7)\n",
    "    else:\n",
    "        dropout_2 = 0\n",
    "\n",
    "    model = create_model(input_size=EMBEDDING_DIM, lstm_size=lstm_size, dense_size=dense_size,\n",
    "                  dropout_1=dropout_1, dropout_2=dropout_2, \n",
    "                  learning_rate=learning_rate)\n",
    "    f1_score = train(X_train, Y_train, X_dev, Y_dev, model, \n",
    "                        batch_size=batch_size)\n",
    "    \n",
    "    trial.set_user_attr(\"model\", model)\n",
    "    \n",
    "    return f1_score\n"
   ]
  },
  {
   "cell_type": "code",
   "execution_count": 24,
   "metadata": {},
   "outputs": [],
   "source": [
    "def train_test():\n",
    "    # Dummy input\n",
    "    input_size = EMBEDDING_DIM  # Example feature size\n",
    "    lstm_size = 64\n",
    "    dense_size = 32\n",
    "    batch_size = 1  # Small batch size for testing\n",
    "\n",
    "    model = create_model(input_size, lstm_size, dense_size)\n",
    "    # dummy_input = np.random.rand(batch_size, MAX_SEQ_LEN, input_size).astype('float32')\n",
    "    # try:\n",
    "    #     model.predict(dummy_input)\n",
    "    #     print(\"Model accepted the input!\")\n",
    "    # except Exception as e:\n",
    "    #     print(\"Error during model prediction:\", e)\n",
    "\n",
    "# train_test()"
   ]
  },
  {
   "cell_type": "code",
   "execution_count": 25,
   "metadata": {},
   "outputs": [],
   "source": [
    "the_best_model = None\n",
    "\n",
    "def save_best_model(study, trial):\n",
    "    global the_best_model\n",
    "    if study.best_trial.number == trial.number:\n",
    "        # Save the model\n",
    "        the_best_model = trial.user_attrs['model']"
   ]
  },
  {
   "cell_type": "code",
   "execution_count": 26,
   "metadata": {},
   "outputs": [
    {
     "name": "stderr",
     "output_type": "stream",
     "text": [
      "[I 2024-05-07 09:50:04,810] A new study created in memory with name: E-RNN-embeddings-v1\n"
     ]
    }
   ],
   "source": [
    "from optuna.visualization import plot_optimization_history, plot_slice\n",
    "\n",
    "study = optuna.create_study(study_name=SCRIPT_NAME, direction='maximize')"
   ]
  },
  {
   "cell_type": "code",
   "execution_count": 27,
   "metadata": {},
   "outputs": [
    {
     "data": {
      "application/vnd.jupyter.widget-view+json": {
       "model_id": "17777da929f54708baa6d9379576e60e",
       "version_major": 2,
       "version_minor": 0
      },
      "text/plain": [
       "  0%|          | 0/10 [00:00<?, ?it/s]"
      ]
     },
     "metadata": {},
     "output_type": "display_data"
    },
    {
     "name": "stdout",
     "output_type": "stream",
     "text": [
      "Epoch 1/4\n",
      "215/215 [==============================] - 29s 116ms/step - loss: 0.5179 - accuracy: 0.7535 - val_loss: 0.6031 - val_accuracy: 0.7782\n",
      "Epoch 2/4\n",
      "215/215 [==============================] - 28s 131ms/step - loss: 0.4601 - accuracy: 0.7863 - val_loss: 0.5115 - val_accuracy: 0.7782\n",
      "Epoch 3/4\n",
      "215/215 [==============================] - 25s 116ms/step - loss: 0.4444 - accuracy: 0.7975 - val_loss: 0.4668 - val_accuracy: 0.7769\n",
      "Epoch 4/4\n",
      "215/215 [==============================] - 25s 114ms/step - loss: 0.4256 - accuracy: 0.8124 - val_loss: 0.4448 - val_accuracy: 0.8018\n",
      "24/24 [==============================] - 2s 28ms/step\n",
      "Validation F1 score: 0.747068676716918\n",
      "[I 2024-05-07 09:52:01,348] Trial 0 finished with value: 0.747068676716918 and parameters: {'learning_rate': 0.0004508413752731832, 'batch_size': 32, 'lstm_size': 128, 'dense_size': 128, 'use_dropout_1': True, 'dropout_1': 0.429306748919405}. Best is trial 0 with value: 0.747068676716918.\n",
      "Epoch 1/4\n",
      "429/429 [==============================] - 29s 58ms/step - loss: 0.5450 - accuracy: 0.7235 - val_loss: 0.5467 - val_accuracy: 0.7756\n",
      "Epoch 2/4\n",
      "429/429 [==============================] - 24s 55ms/step - loss: 0.4524 - accuracy: 0.7962 - val_loss: 0.4797 - val_accuracy: 0.7664\n",
      "Epoch 3/4\n",
      "429/429 [==============================] - 24s 55ms/step - loss: 0.4404 - accuracy: 0.7971 - val_loss: 0.4616 - val_accuracy: 0.7887\n",
      "Epoch 4/4\n",
      "429/429 [==============================] - 26s 60ms/step - loss: 0.4194 - accuracy: 0.8133 - val_loss: 0.4573 - val_accuracy: 0.7927\n",
      "24/24 [==============================] - 1s 11ms/step\n",
      "Validation F1 score: 0.740983606557377\n",
      "[I 2024-05-07 09:54:36,326] Trial 1 finished with value: 0.740983606557377 and parameters: {'learning_rate': 0.0001544661188499979, 'batch_size': 16, 'lstm_size': 64, 'dense_size': 32, 'use_dropout_1': False}. Best is trial 0 with value: 0.747068676716918.\n",
      "Epoch 1/4\n",
      "54/54 [==============================] - 7s 72ms/step - loss: 0.6269 - accuracy: 0.6627 - val_loss: 0.6864 - val_accuracy: 0.5039\n",
      "Epoch 2/4\n",
      "54/54 [==============================] - 4s 68ms/step - loss: 0.5210 - accuracy: 0.7520 - val_loss: 0.6731 - val_accuracy: 0.5472\n",
      "Epoch 3/4\n",
      "54/54 [==============================] - 4s 70ms/step - loss: 0.4717 - accuracy: 0.7875 - val_loss: 0.6488 - val_accuracy: 0.6378\n",
      "Epoch 4/4\n",
      "54/54 [==============================] - 4s 65ms/step - loss: 0.4472 - accuracy: 0.7992 - val_loss: 0.6095 - val_accuracy: 0.7349\n",
      "24/24 [==============================] - 2s 9ms/step\n",
      "Validation F1 score: 0.7335092348284961\n",
      "[I 2024-05-07 09:55:04,058] Trial 2 finished with value: 0.7335092348284961 and parameters: {'learning_rate': 0.0006634307602853868, 'batch_size': 128, 'lstm_size': 8, 'dense_size': 32, 'use_dropout_1': False}. Best is trial 0 with value: 0.747068676716918.\n",
      "Epoch 1/4\n",
      "429/429 [==============================] - 30s 59ms/step - loss: 0.5266 - accuracy: 0.7460 - val_loss: 0.5515 - val_accuracy: 0.7730\n",
      "Epoch 2/4\n",
      "429/429 [==============================] - 25s 58ms/step - loss: 0.4479 - accuracy: 0.7959 - val_loss: 0.4730 - val_accuracy: 0.7861\n",
      "Epoch 3/4\n",
      "429/429 [==============================] - 26s 61ms/step - loss: 0.4260 - accuracy: 0.8098 - val_loss: 0.4764 - val_accuracy: 0.7913\n",
      "Epoch 4/4\n",
      "429/429 [==============================] - 26s 61ms/step - loss: 0.4081 - accuracy: 0.8171 - val_loss: 0.4754 - val_accuracy: 0.7822\n",
      "24/24 [==============================] - 2s 17ms/step\n",
      "Validation F1 score: 0.7332242225859247\n",
      "[I 2024-05-07 09:57:01,876] Trial 3 finished with value: 0.7332242225859247 and parameters: {'learning_rate': 0.00022963374713784872, 'batch_size': 16, 'lstm_size': 64, 'dense_size': 64, 'use_dropout_1': False}. Best is trial 0 with value: 0.747068676716918.\n",
      "Epoch 1/4\n",
      "857/857 [==============================] - 42s 44ms/step - loss: 0.5218 - accuracy: 0.7489 - val_loss: 0.5085 - val_accuracy: 0.7612\n",
      "Epoch 2/4\n",
      "857/857 [==============================] - 36s 42ms/step - loss: 0.4700 - accuracy: 0.7876 - val_loss: 0.4584 - val_accuracy: 0.7979\n",
      "Epoch 3/4\n",
      "857/857 [==============================] - 36s 42ms/step - loss: 0.4574 - accuracy: 0.7862 - val_loss: 0.4888 - val_accuracy: 0.7625\n",
      "Epoch 4/4\n",
      "857/857 [==============================] - 36s 42ms/step - loss: 0.4469 - accuracy: 0.7993 - val_loss: 0.4901 - val_accuracy: 0.7782\n",
      "24/24 [==============================] - 2s 11ms/step\n",
      "Validation F1 score: 0.7483660130718954\n",
      "[I 2024-05-07 09:59:40,917] Trial 4 finished with value: 0.7483660130718954 and parameters: {'learning_rate': 0.0007811554698497768, 'batch_size': 8, 'lstm_size': 32, 'dense_size': 16, 'use_dropout_1': False}. Best is trial 4 with value: 0.7483660130718954.\n",
      "Epoch 1/4\n",
      "215/215 [==============================] - 15s 50ms/step - loss: 0.6179 - accuracy: 0.6690 - val_loss: 0.6447 - val_accuracy: 0.7454\n",
      "Epoch 2/4\n",
      "215/215 [==============================] - 9s 43ms/step - loss: 0.5126 - accuracy: 0.7615 - val_loss: 0.5402 - val_accuracy: 0.7756\n",
      "Epoch 3/4\n",
      "215/215 [==============================] - 9s 44ms/step - loss: 0.4731 - accuracy: 0.7831 - val_loss: 0.4836 - val_accuracy: 0.7900\n",
      "Epoch 4/4\n",
      "215/215 [==============================] - 9s 43ms/step - loss: 0.4555 - accuracy: 0.7895 - val_loss: 0.4733 - val_accuracy: 0.7848\n",
      "24/24 [==============================] - 2s 9ms/step\n",
      "Validation F1 score: 0.7337662337662337\n",
      "[I 2024-05-07 10:00:33,571] Trial 5 finished with value: 0.7337662337662337 and parameters: {'learning_rate': 0.0002340026514450834, 'batch_size': 32, 'lstm_size': 8, 'dense_size': 128, 'use_dropout_1': False}. Best is trial 4 with value: 0.7483660130718954.\n",
      "Epoch 1/4\n",
      "429/429 [==============================] - 24s 46ms/step - loss: 0.5990 - accuracy: 0.6834 - val_loss: 0.5994 - val_accuracy: 0.7388\n",
      "Epoch 2/4\n",
      "429/429 [==============================] - 18s 42ms/step - loss: 0.5138 - accuracy: 0.7603 - val_loss: 0.5022 - val_accuracy: 0.7651\n",
      "Epoch 3/4\n",
      "429/429 [==============================] - 18s 42ms/step - loss: 0.4850 - accuracy: 0.7812 - val_loss: 0.4792 - val_accuracy: 0.7612\n",
      "Epoch 4/4\n",
      "429/429 [==============================] - 18s 43ms/step - loss: 0.4716 - accuracy: 0.7866 - val_loss: 0.4647 - val_accuracy: 0.7730\n",
      "24/24 [==============================] - 2s 11ms/step\n",
      "Validation F1 score: 0.7326120556414221\n",
      "[I 2024-05-07 10:02:02,126] Trial 6 finished with value: 0.7326120556414221 and parameters: {'learning_rate': 0.00014971800257646185, 'batch_size': 16, 'lstm_size': 16, 'dense_size': 8, 'use_dropout_1': False}. Best is trial 4 with value: 0.7483660130718954.\n",
      "Epoch 1/4\n",
      "429/429 [==============================] - 38s 78ms/step - loss: 0.6987 - accuracy: 0.6650 - val_loss: 0.5790 - val_accuracy: 0.7664\n",
      "Epoch 2/4\n",
      "429/429 [==============================] - 32s 75ms/step - loss: 0.5241 - accuracy: 0.7786 - val_loss: 0.4824 - val_accuracy: 0.8031\n",
      "Epoch 3/4\n",
      "429/429 [==============================] - 32s 75ms/step - loss: 0.4693 - accuracy: 0.7939 - val_loss: 0.4445 - val_accuracy: 0.8058\n",
      "Epoch 4/4\n",
      "429/429 [==============================] - 32s 75ms/step - loss: 0.4505 - accuracy: 0.8003 - val_loss: 0.4724 - val_accuracy: 0.7717\n",
      "24/24 [==============================] - 2s 27ms/step\n",
      "Validation F1 score: 0.66793893129771\n",
      "[I 2024-05-07 10:04:26,260] Trial 7 finished with value: 0.66793893129771 and parameters: {'learning_rate': 0.00023775619437802433, 'batch_size': 16, 'lstm_size': 128, 'dense_size': 16, 'use_dropout_1': True, 'dropout_1': 0.22066529397264503}. Best is trial 4 with value: 0.7483660130718954.\n",
      "Epoch 1/4\n",
      "429/429 [==============================] - 38s 79ms/step - loss: 0.5431 - accuracy: 0.7332 - val_loss: 0.5394 - val_accuracy: 0.7848\n",
      "Epoch 2/4\n",
      "429/429 [==============================] - 34s 78ms/step - loss: 0.4988 - accuracy: 0.7659 - val_loss: 0.4606 - val_accuracy: 0.7835\n",
      "Epoch 3/4\n",
      "429/429 [==============================] - 32s 75ms/step - loss: 0.4840 - accuracy: 0.7743 - val_loss: 0.4628 - val_accuracy: 0.7822\n",
      "Epoch 4/4\n",
      "429/429 [==============================] - 32s 75ms/step - loss: 0.4811 - accuracy: 0.7754 - val_loss: 0.4547 - val_accuracy: 0.7874\n",
      "24/24 [==============================] - 2s 28ms/step\n",
      "Validation F1 score: 0.7403846153846154\n",
      "[I 2024-05-07 10:06:51,683] Trial 8 finished with value: 0.7403846153846154 and parameters: {'learning_rate': 0.0003466120558587099, 'batch_size': 16, 'lstm_size': 128, 'dense_size': 16, 'use_dropout_1': True, 'dropout_1': 0.6982475164013808}. Best is trial 4 with value: 0.7483660130718954.\n",
      "Epoch 1/4\n",
      "429/429 [==============================] - 28s 56ms/step - loss: 0.6207 - accuracy: 0.6849 - val_loss: 0.5348 - val_accuracy: 0.7690\n",
      "Epoch 2/4\n",
      "429/429 [==============================] - 23s 53ms/step - loss: 0.5052 - accuracy: 0.7651 - val_loss: 0.4718 - val_accuracy: 0.7703\n",
      "Epoch 3/4\n",
      "429/429 [==============================] - 23s 53ms/step - loss: 0.4796 - accuracy: 0.7768 - val_loss: 0.4531 - val_accuracy: 0.7913\n",
      "Epoch 4/4\n",
      "429/429 [==============================] - 23s 53ms/step - loss: 0.4766 - accuracy: 0.7773 - val_loss: 0.4568 - val_accuracy: 0.7808\n",
      "24/24 [==============================] - 2s 15ms/step\n",
      "Validation F1 score: 0.7065026362038664\n",
      "[I 2024-05-07 10:08:36,826] Trial 9 finished with value: 0.7065026362038664 and parameters: {'learning_rate': 0.0002880495070542235, 'batch_size': 16, 'lstm_size': 64, 'dense_size': 16, 'use_dropout_1': True, 'dropout_1': 0.6270035680665841}. Best is trial 4 with value: 0.7483660130718954.\n"
     ]
    }
   ],
   "source": [
    "study.optimize(objective, n_trials=10, callbacks=[save_best_model], show_progress_bar=True)"
   ]
  },
  {
   "cell_type": "code",
   "execution_count": 28,
   "metadata": {},
   "outputs": [
    {
     "name": "stdout",
     "output_type": "stream",
     "text": [
      "-> Best score: 0.7483660130718954\n",
      "-> Optimal network parameters: \n",
      "{'batch_size': 8,\n",
      " 'dense_size': 16,\n",
      " 'learning_rate': 0.0007811554698497768,\n",
      " 'lstm_size': 32,\n",
      " 'use_dropout_1': False}\n",
      "-> Best learning parameters: \n",
      "{'model': <keras.engine.sequential.Sequential object at 0x7f49d160cb90>}\n"
     ]
    }
   ],
   "source": [
    "trial = study.best_trial\n",
    "print(f'-> Best score: {trial.value}')\n",
    "print(f'-> Optimal network parameters: ')\n",
    "pprint.pprint(trial.params)\n",
    "print(f'-> Best learning parameters: ')\n",
    "pprint.pprint(trial.user_attrs)\n"
   ]
  },
  {
   "cell_type": "code",
   "execution_count": 29,
   "metadata": {},
   "outputs": [],
   "source": [
    "def evaluate_final_results(X, Y, Y_pred):\n",
    "    # Compute the confusion matrix\n",
    "    cm = confusion_matrix(Y, Y_pred)\n",
    "\n",
    "    # Compute other metrics\n",
    "    accuracy = accuracy_score(Y, Y_pred)\n",
    "    precision = precision_score(Y, Y_pred, average='macro')\n",
    "    recall = recall_score(Y, Y_pred, average='macro')\n",
    "    f1 = f1_score(Y, Y_pred, average='macro')\n",
    "\n",
    "    # Print the metrics\n",
    "    print(f\"Accuracy: {accuracy}\")\n",
    "    print(f\"Precision: {precision}\")\n",
    "    print(f\"Recall: {recall}\")\n",
    "    print(f\"F1 Score: {f1}\")\n",
    "\n",
    "    # Plot the confusion matrix\n",
    "    plt.figure(figsize=(6, 4))\n",
    "    sns.heatmap(cm, annot=True, fmt='d', cmap='Blues')\n",
    "    plt.xlabel('Predicted')\n",
    "    plt.ylabel('True')\n",
    "    plt.title('Confusion Matrix')\n",
    "    plt.show()    "
   ]
  },
  {
   "cell_type": "code",
   "execution_count": 30,
   "metadata": {},
   "outputs": [
    {
     "name": "stdout",
     "output_type": "stream",
     "text": [
      "24/24 [==============================] - 1s 9ms/step\n",
      "Accuracy: 0.7979002624671916\n",
      "Precision: 0.8014442035794349\n",
      "Recall: 0.7855966241649786\n",
      "F1 Score: 0.7897531819745442\n"
     ]
    },
    {
     "data": {
      "image/png": "[encoded data removed]",
      "text/plain": [
       "<Figure size 600x400 with 2 Axes>"
      ]
     },
     "metadata": {},
     "output_type": "display_data"
    }
   ],
   "source": [
    "Y_predict, f1_value = evaluate(X_dev, Y_dev, the_best_model)\n",
    "evaluate_final_results(X_dev, Y_dev, Y_predict)"
   ]
  },
  {
   "cell_type": "code",
   "execution_count": null,
   "metadata": {},
   "outputs": [],
   "source": []
  }
 ],
 "metadata": {
  "kernelspec": {
   "display_name": "machine-learning-1",
   "language": "python",
   "name": "python3"
  },
  "language_info": {
   "codemirror_mode": {
    "name": "ipython",
    "version": 3
   },
   "file_extension": ".py",
   "mimetype": "text/x-python",
   "name": "python",
   "nbconvert_exporter": "python",
   "pygments_lexer": "ipython3",
   "version": "3.11.6"
  }
 },
 "nbformat": 4,
 "nbformat_minor": 2
}
