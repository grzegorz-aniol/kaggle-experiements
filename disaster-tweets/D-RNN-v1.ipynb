{
 "cells": [
  {
   "cell_type": "markdown",
   "metadata": {},
   "source": [
    "# Tweets sentiment analysis with RNN"
   ]
  },
  {
   "cell_type": "markdown",
   "metadata": {},
   "source": [
    "Using tweet text embeddings and RNN following a dense layer"
   ]
  },
  {
   "cell_type": "code",
   "execution_count": 236,
   "metadata": {},
   "outputs": [],
   "source": [
    "import numpy as np\n",
    "import tensorflow as tf\n",
    "import pandas as pd\n",
    "from sklearn.metrics import confusion_matrix, accuracy_score, precision_score, recall_score, f1_score\n",
    "from sklearn.model_selection import train_test_split\n",
    "import matplotlib.pyplot as plt\n",
    "import seaborn as sns\n",
    "FILE_ID='D-RNN-v1'"
   ]
  },
  {
   "cell_type": "code",
   "execution_count": 237,
   "metadata": {},
   "outputs": [
    {
     "name": "stdout",
     "output_type": "stream",
     "text": [
      "(6851,) (6851,) (762,) (762,)\n"
     ]
    },
    {
     "data": {
      "text/plain": [
       "array(['episcopal priests on road trip with interracial family shares harrowing story of police harassment via',\n",
       "       'outdoor siren test 2pm the fgcu siren will be tested at 2pm today another message will be sent when the test is concluded',\n",
       "       'the mf life is a vocal and lyrical bomb saw her live this summer amazing vocalist rt melanie fiona is so slept on'],\n",
       "      dtype=object)"
      ]
     },
     "execution_count": 237,
     "metadata": {},
     "output_type": "execute_result"
    }
   ],
   "source": [
    "df = pd.read_csv('./train_enriched.csv')\n",
    "X = df['clean_text'].fillna('').to_numpy()\n",
    "Y = df['target'].to_numpy()\n",
    "\n",
    "X_train, X_dev, Y_train, Y_dev = train_test_split(X, Y, test_size=0.1, shuffle=True)\n",
    "\n",
    "print(X_train.shape, Y_train.shape, X_dev.shape, Y_dev.shape)\n",
    "X_train[:3]"
   ]
  },
  {
   "cell_type": "code",
   "execution_count": 238,
   "metadata": {},
   "outputs": [
    {
     "name": "stdout",
     "output_type": "stream",
     "text": [
      "29\n"
     ]
    }
   ],
   "source": [
    "print(df['clean_text'].isna().sum())"
   ]
  },
  {
   "cell_type": "code",
   "execution_count": 239,
   "metadata": {},
   "outputs": [],
   "source": [
    "VOCABULARY_SIZE = 10000\n",
    "MAX_SEQ_LEN = 100\n",
    "EMBEDDING_DIM = 256\n",
    "LSTM_HIDDEN_STATES = 16\n",
    "DENSE_HIDDEN_STATES = 16"
   ]
  },
  {
   "cell_type": "code",
   "execution_count": 240,
   "metadata": {},
   "outputs": [
    {
     "data": {
      "text/plain": [
       "[]"
      ]
     },
     "execution_count": 240,
     "metadata": {},
     "output_type": "execute_result"
    }
   ],
   "source": [
    "[x for x in X_train if 'float' in str(type(x))]"
   ]
  },
  {
   "cell_type": "code",
   "execution_count": 241,
   "metadata": {},
   "outputs": [],
   "source": [
    "encoder = tf.keras.layers.TextVectorization(max_tokens=VOCABULARY_SIZE, output_sequence_length=MAX_SEQ_LEN)\n",
    "encoder.adapt(X_train)"
   ]
  },
  {
   "cell_type": "code",
   "execution_count": 242,
   "metadata": {},
   "outputs": [
    {
     "name": "stdout",
     "output_type": "stream",
     "text": [
      "Vocabulary size: 10000\n"
     ]
    }
   ],
   "source": [
    "vocabulary = encoder.get_vocabulary()\n",
    "print('Vocabulary size:', VOCABULARY_SIZE)"
   ]
  },
  {
   "cell_type": "code",
   "execution_count": 243,
   "metadata": {},
   "outputs": [
    {
     "name": "stdout",
     "output_type": "stream",
     "text": [
      "Example: cruz iran deal leaves american hostages languishing in iran\n",
      "Decoded: cruz iran deal leaves american hostages languishing in iran                                                                                           \n"
     ]
    }
   ],
   "source": [
    "example = X_train[11]\n",
    "encoded = encoder(example)\n",
    "print('Example:', example)\n",
    "words = [vocabulary[e] for e in encoded]\n",
    "decoded = ' '.join(words)\n",
    "print('Decoded:', decoded)\n"
   ]
  },
  {
   "cell_type": "code",
   "execution_count": 244,
   "metadata": {},
   "outputs": [],
   "source": [
    "def get_1_RNN_model():    \n",
    "    return tf.keras.Sequential([\n",
    "        encoder, \n",
    "        tf.keras.layers.Embedding(input_dim=VOCABULARY_SIZE, output_dim=EMBEDDING_DIM, mask_zero=True),\n",
    "        tf.keras.layers.Bidirectional(tf.keras.layers.LSTM(LSTM_HIDDEN_STATES)),\n",
    "        tf.keras.layers.Dropout(0.5),\n",
    "        tf.keras.layers.Dense(DENSE_HIDDEN_STATES, activation='relu'),\n",
    "        tf.keras.layers.Dropout(0.5),\n",
    "        tf.keras.layers.Dense(1, activation='sigmoid')\n",
    "    ])\n",
    "\n",
    "model = get_1_RNN_model()\n",
    "optimizer = tf.keras.optimizers.Adam(learning_rate=1e-3)\n",
    "model.compile(optimizer=optimizer, loss='binary_crossentropy', metrics=['accuracy'])\n"
   ]
  },
  {
   "cell_type": "code",
   "execution_count": 245,
   "metadata": {},
   "outputs": [
    {
     "name": "stdout",
     "output_type": "stream",
     "text": [
      "Epoch 1/3\n"
     ]
    },
    {
     "name": "stderr",
     "output_type": "stream",
     "text": [
      "2024-05-01 14:00:18.221060: I tensorflow/core/common_runtime/executor.cc:1197] [/device:CPU:0] (DEBUG INFO) Executor start aborting (this does not indicate an error and you can ignore this message): INVALID_ARGUMENT: You must feed a value for placeholder tensor 'gradients/ReverseV2_grad/ReverseV2/ReverseV2/axis' with dtype int32 and shape [1]\n",
      "\t [[{{node gradients/ReverseV2_grad/ReverseV2/ReverseV2/axis}}]]\n",
      "2024-05-01 14:00:19.673405: I tensorflow/core/common_runtime/executor.cc:1197] [/device:CPU:0] (DEBUG INFO) Executor start aborting (this does not indicate an error and you can ignore this message): INVALID_ARGUMENT: You must feed a value for placeholder tensor 'gradients/ReverseV2_grad/ReverseV2/ReverseV2/axis' with dtype int32 and shape [1]\n",
      "\t [[{{node gradients/ReverseV2_grad/ReverseV2/ReverseV2/axis}}]]\n"
     ]
    },
    {
     "name": "stdout",
     "output_type": "stream",
     "text": [
      "215/215 [==============================] - ETA: 0s - loss: 0.5791 - accuracy: 0.7053\n",
      "Epoch 1: val_loss improved from inf to 0.46806, saving model to D-RNN-v1-best_model\n",
      "215/215 [==============================] - 23s 89ms/step - loss: 0.5791 - accuracy: 0.7053 - val_loss: 0.4681 - val_accuracy: 0.7861\n",
      "Epoch 2/3\n",
      "215/215 [==============================] - ETA: 0s - loss: 0.3719 - accuracy: 0.8558\n",
      "Epoch 2: val_loss did not improve from 0.46806\n",
      "215/215 [==============================] - 17s 80ms/step - loss: 0.3719 - accuracy: 0.8558 - val_loss: 0.4743 - val_accuracy: 0.7992\n",
      "Epoch 3/3\n",
      "215/215 [==============================] - ETA: 0s - loss: 0.2534 - accuracy: 0.9034\n",
      "Epoch 3: val_loss did not improve from 0.46806\n",
      "215/215 [==============================] - 17s 78ms/step - loss: 0.2534 - accuracy: 0.9034 - val_loss: 0.5874 - val_accuracy: 0.7992\n"
     ]
    },
    {
     "data": {
      "text/plain": [
       "<keras.callbacks.History at 0x7fc92e75be50>"
      ]
     },
     "execution_count": 245,
     "metadata": {},
     "output_type": "execute_result"
    }
   ],
   "source": [
    "checkpoint_path = f\"{FILE_ID}-best_model\"  # Path where the model will be saved\n",
    "checkpoint = tf.keras.callbacks.ModelCheckpoint(checkpoint_path, monitor='val_loss', verbose=1, save_best_only=True, \n",
    "                                                mode='min', save_weights_only=True)\n",
    "\n",
    "model.fit(X_train, Y_train, validation_data=(X_dev, Y_dev), epochs=3, callbacks=[checkpoint])"
   ]
  },
  {
   "cell_type": "code",
   "execution_count": 246,
   "metadata": {},
   "outputs": [],
   "source": [
    "def get_2_RNN_model():    \n",
    "    return tf.keras.Sequential([\n",
    "        encoder, \n",
    "        tf.keras.layers.Embedding(input_dim=VOCABULARY_SIZE, output_dim=EMBEDDING_DIM, mask_zero=True),\n",
    "        tf.keras.layers.Bidirectional(tf.keras.layers.LSTM(LSTM_HIDDEN_STATES, return_sequences=True)),\n",
    "        tf.keras.layers.Bidirectional(tf.keras.layers.LSTM(LSTM_HIDDEN_STATES//2)),\n",
    "        tf.keras.layers.Dense(DENSE_HIDDEN_STATES, activation='relu'),\n",
    "        tf.keras.layers.Dropout(0.5),\n",
    "        tf.keras.layers.Dense(1, activation='sigmoid')\n",
    "    ])\n",
    "\n",
    "# model2 = get_2_RNN_model()\n",
    "# optimizer = tf.keras.optimizers.Adam(learning_rate=1e-3)\n",
    "# model2.compile(optimizer=optimizer, loss='binary_crossentropy', metrics=['accuracy'])\n"
   ]
  },
  {
   "cell_type": "code",
   "execution_count": 247,
   "metadata": {},
   "outputs": [],
   "source": [
    "# model2.fit(X_train, Y_train, batch_size=128, validation_data=(X_dev, Y_dev), epochs=4)"
   ]
  },
  {
   "cell_type": "code",
   "execution_count": 248,
   "metadata": {},
   "outputs": [
    {
     "name": "stdout",
     "output_type": "stream",
     "text": [
      "24/24 [==============================] - 3s 10ms/step\n"
     ]
    }
   ],
   "source": [
    "model.load_weights(checkpoint_path)\n",
    "Y_dev_pred = model.predict(X_dev)"
   ]
  },
  {
   "cell_type": "code",
   "execution_count": 249,
   "metadata": {},
   "outputs": [],
   "source": [
    "Y_dev_pred = (Y_dev_pred > .5).astype(np.int8)\n"
   ]
  },
  {
   "cell_type": "code",
   "execution_count": 250,
   "metadata": {},
   "outputs": [
    {
     "data": {
      "text/plain": [
       "'ty for the follow go to brutally abuseddesolateamplost her lovely mum diesis it murder'"
      ]
     },
     "execution_count": 250,
     "metadata": {},
     "output_type": "execute_result"
    }
   ],
   "source": [
    "X_dev[0]"
   ]
  },
  {
   "cell_type": "code",
   "execution_count": 251,
   "metadata": {},
   "outputs": [
    {
     "name": "stdout",
     "output_type": "stream",
     "text": [
      "any new games coming soon                                                                                               \n",
      "any new games coming soon\n"
     ]
    },
    {
     "data": {
      "text/html": [
       "<div>\n",
       "<style scoped>\n",
       "    .dataframe tbody tr th:only-of-type {\n",
       "        vertical-align: middle;\n",
       "    }\n",
       "\n",
       "    .dataframe tbody tr th {\n",
       "        vertical-align: top;\n",
       "    }\n",
       "\n",
       "    .dataframe thead th {\n",
       "        text-align: right;\n",
       "    }\n",
       "</style>\n",
       "<table border=\"1\" class=\"dataframe\">\n",
       "  <thead>\n",
       "    <tr style=\"text-align: right;\">\n",
       "      <th></th>\n",
       "      <th>0</th>\n",
       "      <th>y</th>\n",
       "      <th>yp</th>\n",
       "      <th>decoded</th>\n",
       "    </tr>\n",
       "  </thead>\n",
       "  <tbody>\n",
       "    <tr>\n",
       "      <th>0</th>\n",
       "      <td>ty for the follow go to brutally abuseddesolateamplost her lovely mum diesis it murder</td>\n",
       "      <td>1</td>\n",
       "      <td>0</td>\n",
       "      <td>ty for the follow go to brutally [UNK] her lovely mum [UNK] it murder</td>\n",
       "    </tr>\n",
       "    <tr>\n",
       "      <th>1</th>\n",
       "      <td>any new games coming soon</td>\n",
       "      <td>0</td>\n",
       "      <td>0</td>\n",
       "      <td>any new games coming soon</td>\n",
       "    </tr>\n",
       "    <tr>\n",
       "      <th>2</th>\n",
       "      <td>let me report it to u people instead mrobama just declares cnmi federal disaster area post typhoon soudelor u guys 2slow2report</td>\n",
       "      <td>1</td>\n",
       "      <td>1</td>\n",
       "      <td>let me report it to u people instead [UNK] just declares [UNK] federal disaster area post typhoon soudelor u guys [UNK]</td>\n",
       "    </tr>\n",
       "    <tr>\n",
       "      <th>3</th>\n",
       "      <td>do anything to fix that of the few people he had every trusted in his life charles was one of the casualties</td>\n",
       "      <td>1</td>\n",
       "      <td>0</td>\n",
       "      <td>do anything to fix that of the few people he had every [UNK] in his life charles was one of the casualties</td>\n",
       "    </tr>\n",
       "    <tr>\n",
       "      <th>4</th>\n",
       "      <td>wftv eyewitness news tn school psychologist arrested in florida on child porn charges</td>\n",
       "      <td>0</td>\n",
       "      <td>1</td>\n",
       "      <td>wftv eyewitness news [UNK] school [UNK] arrested in florida on child porn charges</td>\n",
       "    </tr>\n",
       "    <tr>\n",
       "      <th>...</th>\n",
       "      <td>...</td>\n",
       "      <td>...</td>\n",
       "      <td>...</td>\n",
       "      <td>...</td>\n",
       "    </tr>\n",
       "    <tr>\n",
       "      <th>757</th>\n",
       "      <td>today will be another dualcom with if you enjoyed yesterdays check out todays at pm easter</td>\n",
       "      <td>0</td>\n",
       "      <td>0</td>\n",
       "      <td>today will be another [UNK] with if you enjoyed yesterdays check out todays at pm [UNK]</td>\n",
       "    </tr>\n",
       "    <tr>\n",
       "      <th>758</th>\n",
       "      <td>learning from the legacy of a catastrophic eruption the new yorker</td>\n",
       "      <td>1</td>\n",
       "      <td>1</td>\n",
       "      <td>learning from the legacy of a catastrophic eruption the new yorker</td>\n",
       "    </tr>\n",
       "    <tr>\n",
       "      <th>759</th>\n",
       "      <td>i remember the heat wave the year i went bruh and they dont have ac</td>\n",
       "      <td>0</td>\n",
       "      <td>0</td>\n",
       "      <td>i remember the heat wave the year i went bruh and they dont have ac</td>\n",
       "    </tr>\n",
       "    <tr>\n",
       "      <th>760</th>\n",
       "      <td>smh photographer wolter peeters was on the front line with nsw rural fire service crews la</td>\n",
       "      <td>1</td>\n",
       "      <td>1</td>\n",
       "      <td>smh photographer [UNK] [UNK] was on the front line with [UNK] [UNK] fire service crews la</td>\n",
       "    </tr>\n",
       "    <tr>\n",
       "      <th>761</th>\n",
       "      <td>damage to school bus on in multi car crash breaking</td>\n",
       "      <td>1</td>\n",
       "      <td>1</td>\n",
       "      <td>damage to school bus on in multi car crash breaking</td>\n",
       "    </tr>\n",
       "  </tbody>\n",
       "</table>\n",
       "<p>762 rows × 4 columns</p>\n",
       "</div>"
      ],
      "text/plain": [
       "                                                                                                                                   0  \\\n",
       "0                                             ty for the follow go to brutally abuseddesolateamplost her lovely mum diesis it murder   \n",
       "1                                                                                                          any new games coming soon   \n",
       "2    let me report it to u people instead mrobama just declares cnmi federal disaster area post typhoon soudelor u guys 2slow2report   \n",
       "3                       do anything to fix that of the few people he had every trusted in his life charles was one of the casualties   \n",
       "4                                              wftv eyewitness news tn school psychologist arrested in florida on child porn charges   \n",
       "..                                                                                                                               ...   \n",
       "757                                       today will be another dualcom with if you enjoyed yesterdays check out todays at pm easter   \n",
       "758                                                               learning from the legacy of a catastrophic eruption the new yorker   \n",
       "759                                                              i remember the heat wave the year i went bruh and they dont have ac   \n",
       "760                                       smh photographer wolter peeters was on the front line with nsw rural fire service crews la   \n",
       "761                                                                              damage to school bus on in multi car crash breaking   \n",
       "\n",
       "     y  yp  \\\n",
       "0    1   0   \n",
       "1    0   0   \n",
       "2    1   1   \n",
       "3    1   0   \n",
       "4    0   1   \n",
       "..  ..  ..   \n",
       "757  0   0   \n",
       "758  1   1   \n",
       "759  0   0   \n",
       "760  1   1   \n",
       "761  1   1   \n",
       "\n",
       "                                                                                                                                                         decoded  \n",
       "0    ty for the follow go to brutally [UNK] her lovely mum [UNK] it murder                                                                                        \n",
       "1                                       any new games coming soon                                                                                                 \n",
       "2    let me report it to u people instead [UNK] just declares [UNK] federal disaster area post typhoon soudelor u guys [UNK]                                      \n",
       "3    do anything to fix that of the few people he had every [UNK] in his life charles was one of the casualties                                                   \n",
       "4    wftv eyewitness news [UNK] school [UNK] arrested in florida on child porn charges                                                                            \n",
       "..                                                                                                                                                           ...  \n",
       "757  today will be another [UNK] with if you enjoyed yesterdays check out todays at pm [UNK]                                                                      \n",
       "758  learning from the legacy of a catastrophic eruption the new yorker                                                                                           \n",
       "759     i remember the heat wave the year i went bruh and they dont have ac                                                                                       \n",
       "760  smh photographer [UNK] [UNK] was on the front line with [UNK] [UNK] fire service crews la                                                                    \n",
       "761                damage to school bus on in multi car crash breaking                                                                                            \n",
       "\n",
       "[762 rows x 4 columns]"
      ]
     },
     "execution_count": 251,
     "metadata": {},
     "output_type": "execute_result"
    }
   ],
   "source": [
    "result = pd.DataFrame(X_dev)\n",
    "result['y'] = Y_dev\n",
    "result['yp'] = Y_dev_pred\n",
    "\n",
    "f_encode = lambda it: encoder(it)\n",
    "f_embedd = lambda it: ' '.join([vocabulary[e] for e in it])\n",
    "\n",
    "encoded = f_encode(X_dev)\n",
    "decoded = np.apply_along_axis(f_embedd, axis=1, arr=encoded)\n",
    "print(decoded[1])\n",
    "print(X_dev[1])\n",
    "\n",
    "result['decoded'] = decoded\n",
    "result"
   ]
  },
  {
   "cell_type": "code",
   "execution_count": 252,
   "metadata": {},
   "outputs": [
    {
     "data": {
      "text/html": [
       "<div>\n",
       "<style scoped>\n",
       "    .dataframe tbody tr th:only-of-type {\n",
       "        vertical-align: middle;\n",
       "    }\n",
       "\n",
       "    .dataframe tbody tr th {\n",
       "        vertical-align: top;\n",
       "    }\n",
       "\n",
       "    .dataframe thead th {\n",
       "        text-align: right;\n",
       "    }\n",
       "</style>\n",
       "<table border=\"1\" class=\"dataframe\">\n",
       "  <thead>\n",
       "    <tr style=\"text-align: right;\">\n",
       "      <th></th>\n",
       "      <th>0</th>\n",
       "      <th>y</th>\n",
       "      <th>yp</th>\n",
       "      <th>decoded</th>\n",
       "    </tr>\n",
       "  </thead>\n",
       "  <tbody>\n",
       "    <tr>\n",
       "      <th>666</th>\n",
       "      <td>my back is so sunburned</td>\n",
       "      <td>1</td>\n",
       "      <td>0</td>\n",
       "      <td>my back is so [UNK]</td>\n",
       "    </tr>\n",
       "    <tr>\n",
       "      <th>482</th>\n",
       "      <td>survived because of magic she is searching the wood for survivors outside of london</td>\n",
       "      <td>1</td>\n",
       "      <td>0</td>\n",
       "      <td>survived because of magic she is searching the wood for survivors outside of london</td>\n",
       "    </tr>\n",
       "    <tr>\n",
       "      <th>119</th>\n",
       "      <td>hes already done it by negotiating with the state of terrorism in the world what was his hurry in trying to get a deal</td>\n",
       "      <td>1</td>\n",
       "      <td>0</td>\n",
       "      <td>hes already done it by [UNK] with the state of terrorism in the world what was his hurry in trying to get a deal</td>\n",
       "    </tr>\n",
       "    <tr>\n",
       "      <th>296</th>\n",
       "      <td>radiation emergency preparedness starts with knowing to get inside stay inside and stay tuned via</td>\n",
       "      <td>1</td>\n",
       "      <td>0</td>\n",
       "      <td>radiation emergency preparedness starts with knowing to get inside stay inside and stay tuned via</td>\n",
       "    </tr>\n",
       "    <tr>\n",
       "      <th>379</th>\n",
       "      <td>mercury cyclone gt hood moulding very nice core cobra jet 429cj gt</td>\n",
       "      <td>0</td>\n",
       "      <td>1</td>\n",
       "      <td>mercury cyclone gt [UNK] moulding very nice [UNK] cobra jet [UNK] gt</td>\n",
       "    </tr>\n",
       "    <tr>\n",
       "      <th>165</th>\n",
       "      <td>i never knew about the relationship btwn kansas city hyatt bridge collapse amp aias cote via</td>\n",
       "      <td>1</td>\n",
       "      <td>0</td>\n",
       "      <td>i never knew about the relationship btwn [UNK] city [UNK] bridge collapse amp [UNK] [UNK] via</td>\n",
       "    </tr>\n",
       "    <tr>\n",
       "      <th>519</th>\n",
       "      <td>big top burning the true story of an arsonist a missing girl</td>\n",
       "      <td>1</td>\n",
       "      <td>0</td>\n",
       "      <td>big top burning the true story of an arsonist a missing girl</td>\n",
       "    </tr>\n",
       "    <tr>\n",
       "      <th>258</th>\n",
       "      <td>like a beautiful ass tragedy lol</td>\n",
       "      <td>1</td>\n",
       "      <td>0</td>\n",
       "      <td>like a beautiful ass tragedy lol</td>\n",
       "    </tr>\n",
       "    <tr>\n",
       "      <th>447</th>\n",
       "      <td>ted cruz bashes obama comparison gop to iranians shouting death to america tcot</td>\n",
       "      <td>1</td>\n",
       "      <td>0</td>\n",
       "      <td>ted cruz [UNK] obama comparison gop to [UNK] shouting death to america tcot</td>\n",
       "    </tr>\n",
       "    <tr>\n",
       "      <th>580</th>\n",
       "      <td>manuel hoping for an early buffalo snowstorm so his accuracy improves</td>\n",
       "      <td>1</td>\n",
       "      <td>0</td>\n",
       "      <td>[UNK] hoping for an early buffalo snowstorm so his [UNK] [UNK]</td>\n",
       "    </tr>\n",
       "  </tbody>\n",
       "</table>\n",
       "</div>"
      ],
      "text/plain": [
       "                                                                                                                          0  \\\n",
       "666                                                                                                 my back is so sunburned   \n",
       "482                                     survived because of magic she is searching the wood for survivors outside of london   \n",
       "119  hes already done it by negotiating with the state of terrorism in the world what was his hurry in trying to get a deal   \n",
       "296                       radiation emergency preparedness starts with knowing to get inside stay inside and stay tuned via   \n",
       "379                                                      mercury cyclone gt hood moulding very nice core cobra jet 429cj gt   \n",
       "165                            i never knew about the relationship btwn kansas city hyatt bridge collapse amp aias cote via   \n",
       "519                                                            big top burning the true story of an arsonist a missing girl   \n",
       "258                                                                                        like a beautiful ass tragedy lol   \n",
       "447                                         ted cruz bashes obama comparison gop to iranians shouting death to america tcot   \n",
       "580                                                   manuel hoping for an early buffalo snowstorm so his accuracy improves   \n",
       "\n",
       "     y  yp  \\\n",
       "666  1   0   \n",
       "482  1   0   \n",
       "119  1   0   \n",
       "296  1   0   \n",
       "379  0   1   \n",
       "165  1   0   \n",
       "519  1   0   \n",
       "258  1   0   \n",
       "447  1   0   \n",
       "580  1   0   \n",
       "\n",
       "                                                                                                                                                         decoded  \n",
       "666                                           my back is so [UNK]                                                                                                 \n",
       "482  survived because of magic she is searching the wood for survivors outside of london                                                                          \n",
       "119  hes already done it by [UNK] with the state of terrorism in the world what was his hurry in trying to get a deal                                             \n",
       "296  radiation emergency preparedness starts with knowing to get inside stay inside and stay tuned via                                                            \n",
       "379  mercury cyclone gt [UNK] moulding very nice [UNK] cobra jet [UNK] gt                                                                                         \n",
       "165  i never knew about the relationship btwn [UNK] city [UNK] bridge collapse amp [UNK] [UNK] via                                                                \n",
       "519         big top burning the true story of an arsonist a missing girl                                                                                          \n",
       "258                               like a beautiful ass tragedy lol                                                                                                \n",
       "447  ted cruz [UNK] obama comparison gop to [UNK] shouting death to america tcot                                                                                  \n",
       "580      [UNK] hoping for an early buffalo snowstorm so his [UNK] [UNK]                                                                                           "
      ]
     },
     "execution_count": 252,
     "metadata": {},
     "output_type": "execute_result"
    }
   ],
   "source": [
    "pd.set_option('display.max_colwidth', None)\n",
    "result.query('y != yp').sample(n=10)"
   ]
  },
  {
   "cell_type": "code",
   "execution_count": 253,
   "metadata": {},
   "outputs": [
    {
     "name": "stdout",
     "output_type": "stream",
     "text": [
      "Accuracy: 0.7860892388451444\n",
      "Precision: 0.8088001097251537\n",
      "Recall: 0.7797365950632282\n",
      "F1 Score: 0.7791575320179438\n"
     ]
    },
    {
     "data": {
      "image/png": "[encoded data removed]",
      "text/plain": [
       "<Figure size 600x400 with 2 Axes>"
      ]
     },
     "metadata": {},
     "output_type": "display_data"
    }
   ],
   "source": [
    "# Compute the confusion matrix\n",
    "cm = confusion_matrix(Y_dev, Y_dev_pred)\n",
    "\n",
    "# Compute other metrics\n",
    "accuracy = accuracy_score(Y_dev, Y_dev_pred)\n",
    "precision = precision_score(Y_dev, Y_dev_pred, average='macro')\n",
    "recall = recall_score(Y_dev, Y_dev_pred, average='macro')\n",
    "f1 = f1_score(Y_dev, Y_dev_pred, average='macro')\n",
    "\n",
    "# Print the metrics\n",
    "print(f\"Accuracy: {accuracy}\")\n",
    "print(f\"Precision: {precision}\")\n",
    "print(f\"Recall: {recall}\")\n",
    "print(f\"F1 Score: {f1}\")\n",
    "\n",
    "# Plot the confusion matrix\n",
    "plt.figure(figsize=(6, 4))\n",
    "sns.heatmap(cm, annot=True, fmt='d', cmap='Blues')\n",
    "plt.xlabel('Predicted')\n",
    "plt.ylabel('True')\n",
    "plt.title('Confusion Matrix')\n",
    "plt.show()"
   ]
  },
  {
   "cell_type": "code",
   "execution_count": 254,
   "metadata": {},
   "outputs": [],
   "source": [
    "def generate_submission(model):\n",
    "    df_test = pd.read_csv('./test_enriched.csv', index_col='id')\n",
    "    df_test.fillna({'clean_text': '', 'keyword': '', 'location': '', 'country': '', 'state': '', 'city': '', 'url_domains': ''}, inplace=True)\n",
    "    X_test = df_test['clean_text'].to_numpy()\n",
    "\n",
    "    Y_test_predict = model(X_test)\n",
    "    Y_test_predict = tf.cast(Y_test_predict > .5, tf.int32)\n",
    "\n",
    "    df_example = pd.read_csv('./sample_submission.csv')\n",
    "    df_example['target'] = Y_test_predict\n",
    "\n",
    "    df_example.to_csv(f'./{FILE_ID}-submission.csv', index=False)\n"
   ]
  },
  {
   "cell_type": "code",
   "execution_count": 255,
   "metadata": {},
   "outputs": [],
   "source": [
    "# generate_submission(model)"
   ]
  },
  {
   "cell_type": "code",
   "execution_count": null,
   "metadata": {},
   "outputs": [],
   "source": []
  }
 ],
 "metadata": {
  "kernelspec": {
   "display_name": "machine-learning-1",
   "language": "python",
   "name": "python3"
  },
  "language_info": {
   "codemirror_mode": {
    "name": "ipython",
    "version": 3
   },
   "file_extension": ".py",
   "mimetype": "text/x-python",
   "name": "python",
   "nbconvert_exporter": "python",
   "pygments_lexer": "ipython3",
   "version": "3.11.6"
  }
 },
 "nbformat": 4,
 "nbformat_minor": 2
}
