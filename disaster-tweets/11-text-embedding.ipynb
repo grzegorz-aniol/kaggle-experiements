{
 "cells": [
  {
   "cell_type": "markdown",
   "metadata": {},
   "source": [
    "# Generate tweets text embeddings"
   ]
  },
  {
   "cell_type": "code",
   "execution_count": 23,
   "metadata": {},
   "outputs": [],
   "source": [
    "import numpy as np\n",
    "import pandas as pd\n",
    "from sentence_transformers import SentenceTransformer\n"
   ]
  },
  {
   "cell_type": "code",
   "execution_count": 29,
   "metadata": {},
   "outputs": [
    {
     "data": {
      "text/plain": [
       "id\n",
       "0    Our Deeds are the Reason of this #earthquake M...\n",
       "1               Forest fire near La Ronge Sask. Canada\n",
       "2    All residents asked to 'shelter in place' are ...\n",
       "3    13,000 people receive #wildfires evacuation or...\n",
       "4    Just got sent this photo from Ruby #Alaska as ...\n",
       "Name: text_content, dtype: object"
      ]
     },
     "execution_count": 29,
     "metadata": {},
     "output_type": "execute_result"
    }
   ],
   "source": [
    "df_train = pd.read_csv('./train_enriched.csv', index_col='id')\n",
    "df_train['text_content'].head()"
   ]
  },
  {
   "cell_type": "code",
   "execution_count": 10,
   "metadata": {},
   "outputs": [
    {
     "name": "stderr",
     "output_type": "stream",
     "text": [
      "modules.json: 100%|██████████| 349/349 [00:00<00:00, 669kB/s]\n",
      "config_sentence_transformers.json: 100%|██████████| 124/124 [00:00<00:00, 630kB/s]\n",
      "README.md: 100%|██████████| 68.0k/68.0k [00:00<00:00, 603kB/s]\n",
      "sentence_bert_config.json: 100%|██████████| 52.0/52.0 [00:00<00:00, 208kB/s]\n",
      "config.json: 100%|██████████| 719/719 [00:00<00:00, 4.28MB/s]\n",
      "model.safetensors: 100%|██████████| 133M/133M [00:04<00:00, 30.8MB/s] \n",
      "tokenizer_config.json: 100%|██████████| 1.24k/1.24k [00:00<00:00, 4.09MB/s]\n",
      "vocab.txt: 100%|██████████| 232k/232k [00:00<00:00, 1.04MB/s]\n",
      "tokenizer.json: 100%|██████████| 711k/711k [00:00<00:00, 1.63MB/s]\n",
      "special_tokens_map.json: 100%|██████████| 695/695 [00:00<00:00, 2.30MB/s]\n",
      "1_Pooling/config.json: 100%|██████████| 190/190 [00:00<00:00, 1.23MB/s]\n"
     ]
    }
   ],
   "source": [
    "model = SentenceTransformer('avsolatorio/GIST-small-Embedding-v0')\n",
    "\n",
    "# Sentences we want to encode. Example:\n",
    "sentence = ['This framework generates embeddings for each input sentence']\n",
    "\n",
    "# Sentences are encoded by calling model.encode()\n",
    "embedding = model.encode(sentence)"
   ]
  },
  {
   "cell_type": "code",
   "execution_count": 11,
   "metadata": {},
   "outputs": [
    {
     "data": {
      "text/plain": [
       "array([[-2.99634710e-02,  3.97600746e-03, -1.36479279e-02,\n",
       "        -8.05453584e-03,  2.25224765e-03,  4.80554961e-02,\n",
       "        -4.25897278e-02, -2.83252122e-03,  3.77881415e-02,\n",
       "         1.11437235e-02, -5.73201925e-02, -2.43431330e-02,\n",
       "         9.18903723e-02, -4.43571992e-03,  4.93532382e-02,\n",
       "         3.56133133e-02, -2.09863000e-02,  3.98139283e-02,\n",
       "        -2.86895279e-02, -4.34059389e-02,  4.82565835e-02,\n",
       "        -2.37481967e-02,  2.03373376e-02, -6.73861876e-02,\n",
       "        -4.68946472e-02,  2.92156897e-02, -1.92536488e-02,\n",
       "        -2.02594865e-02, -3.21837254e-02, -2.06036225e-01,\n",
       "         1.74786970e-02, -4.50783558e-02,  8.02152678e-02,\n",
       "         2.81342752e-02, -3.43690999e-02,  1.16153164e-02,\n",
       "        -7.23941699e-02,  3.18346545e-02, -1.84725970e-02,\n",
       "         2.20387336e-02,  1.19550759e-02,  1.62042230e-02,\n",
       "        -2.09324923e-03, -6.45146668e-02,  3.86935682e-03,\n",
       "        -5.94287589e-02, -5.76579347e-02,  5.01928007e-05,\n",
       "        -1.96079332e-02,  2.57641580e-02, -1.69043243e-02,\n",
       "        -4.86963093e-02, -2.44255867e-02,  1.97323132e-02,\n",
       "         2.12011524e-02, -7.84051884e-03,  1.27688562e-02,\n",
       "         4.84897681e-02, -2.14740466e-02,  4.79980186e-02,\n",
       "         1.79489832e-02,  4.05757539e-02, -1.54807135e-01,\n",
       "         3.02038752e-02, -6.10945560e-03,  3.36817950e-02,\n",
       "        -3.65204662e-02,  3.04386895e-02,  5.68492943e-03,\n",
       "         4.65674959e-02, -1.17026316e-02, -1.91045757e-02,\n",
       "         1.58616081e-02,  4.13154252e-02,  3.44849080e-02,\n",
       "         4.55825329e-02,  3.15750018e-02,  1.61719508e-02,\n",
       "        -2.77896840e-02,  4.68049804e-03,  3.88763323e-02,\n",
       "        -1.32398494e-02,  1.51388198e-02,  8.48871563e-03,\n",
       "        -3.09824082e-03, -5.03040664e-02, -3.23961559e-03,\n",
       "        -9.37956199e-03, -1.43110137e-02,  3.35265175e-02,\n",
       "        -6.25803620e-02, -6.67622313e-02, -1.80407371e-02,\n",
       "         1.38386237e-02, -4.18727696e-02, -6.68644309e-02,\n",
       "         2.53109168e-02,  3.05802398e-03,  2.83157900e-02,\n",
       "         3.49881798e-01, -2.27332972e-02,  1.18045071e-02,\n",
       "         5.47515452e-02, -5.55366911e-02, -2.31847074e-02,\n",
       "        -1.93581991e-02,  1.35888113e-02, -1.17634004e-02,\n",
       "        -4.78828065e-02,  2.26541515e-03, -9.77471694e-02,\n",
       "        -2.53564660e-02, -4.82589379e-03, -2.98056360e-02,\n",
       "         1.05460510e-02,  3.04875051e-04,  5.39721549e-02,\n",
       "         3.53709385e-02, -3.60111333e-02,  1.27419820e-02,\n",
       "        -4.91374694e-02,  3.22259851e-02, -2.78945304e-02,\n",
       "         1.85028452e-03,  7.20318109e-02, -5.51324673e-02,\n",
       "         2.84758098e-02,  8.77867714e-02,  7.26927370e-02,\n",
       "         1.91312544e-02, -5.60954632e-03,  5.29351644e-02,\n",
       "        -4.32297438e-02,  2.11996511e-02,  1.31387478e-02,\n",
       "         1.30564347e-02, -4.20209989e-02, -3.46080749e-03,\n",
       "         4.81441058e-02, -3.15541215e-02, -2.42029820e-02,\n",
       "         2.83532459e-02, -3.35269491e-04, -1.90054066e-02,\n",
       "        -5.85709736e-02,  1.21897221e-01, -4.63869385e-02,\n",
       "        -3.36555578e-02, -5.74242361e-02,  2.94693578e-02,\n",
       "        -2.27029249e-02,  5.20576537e-02,  3.00183222e-02,\n",
       "        -3.08125354e-02,  2.75119673e-02,  8.20771009e-02,\n",
       "         3.66735198e-02, -6.21882603e-02, -6.02250360e-02,\n",
       "         1.92775354e-02,  7.96016026e-03, -1.26568954e-02,\n",
       "        -1.58042237e-02,  8.35687369e-02,  2.59159580e-02,\n",
       "        -1.26223072e-01, -4.21118103e-02,  1.22925295e-02,\n",
       "         2.94632427e-02, -6.65734261e-02,  5.38753569e-02,\n",
       "         2.49978434e-02, -4.42577526e-02,  4.80130613e-02,\n",
       "         8.79045762e-03,  4.54560248e-03, -5.19630164e-02,\n",
       "        -3.03497654e-03,  6.68487623e-02, -7.21506635e-03,\n",
       "         3.32663245e-02, -4.94093224e-02, -7.13368580e-02,\n",
       "         6.78937286e-02, -1.88993402e-02, -6.17452711e-02,\n",
       "        -2.23511010e-02, -5.17890900e-02,  2.74414346e-02,\n",
       "        -3.10673080e-02, -1.26527920e-02,  2.90664919e-02,\n",
       "        -2.44725998e-02,  5.89041598e-03, -4.28579673e-02,\n",
       "        -6.26913533e-02,  3.69842537e-02, -3.67673784e-02,\n",
       "        -1.91223808e-02, -3.64699028e-02,  2.70142891e-02,\n",
       "         6.01450875e-02,  3.88859701e-03,  1.76374540e-02,\n",
       "        -1.76112819e-02, -3.66963819e-02,  5.49269933e-03,\n",
       "         1.38696432e-02,  4.86145727e-02,  2.98713967e-02,\n",
       "        -1.31625859e-02, -7.54011469e-03,  4.80822735e-02,\n",
       "         1.41113605e-02, -3.60612124e-02, -3.75749078e-03,\n",
       "        -1.68460626e-02,  3.18878964e-02,  5.61608784e-02,\n",
       "         2.91407164e-02, -2.83867773e-02, -4.56650816e-02,\n",
       "        -2.89762244e-02, -2.74642557e-01,  3.55171459e-03,\n",
       "         6.03095144e-02, -1.42145930e-02, -1.99906016e-03,\n",
       "        -7.48523623e-02,  5.38664637e-03, -8.07299558e-03,\n",
       "         3.84443216e-02,  3.48940529e-02,  3.38684432e-02,\n",
       "        -3.40107903e-02,  3.83350104e-02, -4.86938225e-04,\n",
       "         1.93418015e-03,  5.26023246e-02,  1.43145341e-02,\n",
       "         7.54427677e-03, -5.55657037e-03,  2.01634727e-02,\n",
       "         1.03221145e-02, -2.34129317e-02,  1.37621332e-02,\n",
       "        -6.09075911e-02,  2.12203022e-02, -3.20463814e-02,\n",
       "         2.17637733e-01,  6.43230826e-02,  5.22802807e-02,\n",
       "        -5.46335019e-02,  6.00508675e-02,  1.06358295e-02,\n",
       "        -1.40306391e-02, -1.05240203e-01,  6.30483329e-02,\n",
       "        -2.41834205e-02,  1.02543030e-02,  5.28479479e-02,\n",
       "        -1.74757782e-02, -2.54499000e-02, -2.42792275e-02,\n",
       "         1.78285595e-02,  6.92483597e-03, -7.40212724e-02,\n",
       "        -3.67159322e-02, -6.44885674e-02, -4.32779118e-02,\n",
       "        -4.37011197e-02, -3.98885347e-02,  5.20393662e-02,\n",
       "        -9.48801229e-04, -2.44250465e-02,  5.94386905e-02,\n",
       "         1.22252041e-02, -4.70821187e-02, -2.82162353e-02,\n",
       "        -5.41751720e-02,  3.38185690e-02, -7.24490285e-02,\n",
       "        -1.34851327e-02,  2.03208029e-02, -1.44712189e-02,\n",
       "         2.37498153e-03, -6.96270838e-02,  2.45838054e-02,\n",
       "        -1.14054922e-02,  5.34224883e-02, -3.49942036e-02,\n",
       "         7.72391446e-03, -7.04758940e-03, -4.76667956e-02,\n",
       "         3.92348543e-02, -7.09269494e-02,  6.71528047e-03,\n",
       "         2.92494353e-02,  7.15659885e-03, -7.78996479e-03,\n",
       "         2.58874204e-02, -2.84553394e-02, -1.06652845e-02,\n",
       "         9.11073908e-02, -8.19225423e-03,  6.31903484e-02,\n",
       "         1.58254628e-03,  7.03978390e-02,  3.87618579e-02,\n",
       "         4.31574546e-02,  8.17048177e-03,  5.55916838e-02,\n",
       "         1.72320548e-02,  1.43350987e-02, -7.44017633e-03,\n",
       "        -3.60225514e-02,  2.30451878e-02,  1.93161145e-02,\n",
       "        -2.68942937e-02, -3.04572433e-01,  2.23357882e-02,\n",
       "        -3.72447143e-03,  4.73535201e-03,  3.09180934e-02,\n",
       "         1.29715465e-02,  1.72406547e-02, -2.63940617e-02,\n",
       "        -3.48078669e-03,  1.32115437e-02,  2.00008079e-02,\n",
       "         6.26076460e-02,  2.52677761e-02, -4.30270843e-02,\n",
       "        -1.65634565e-02,  3.45636234e-02,  1.14052966e-01,\n",
       "        -2.90605817e-02,  5.20802923e-02, -4.16623652e-02,\n",
       "         3.02870870e-02,  4.55925949e-02,  2.06331030e-01,\n",
       "        -1.31982155e-02,  2.60325074e-02, -5.69785163e-02,\n",
       "         4.10952140e-04, -4.50709946e-02,  6.16700351e-02,\n",
       "         1.83551647e-02, -1.20747071e-02,  1.45257572e-02,\n",
       "         5.92295788e-02,  8.18134751e-03, -1.46280816e-02,\n",
       "         2.76325308e-02,  1.54671669e-02,  3.69468741e-02,\n",
       "         5.41661941e-02, -2.40743812e-02, -3.57866776e-03,\n",
       "        -2.19143555e-02, -5.23092449e-02, -2.39433832e-02,\n",
       "        -1.69631075e-02,  2.66922042e-02,  7.08825812e-02,\n",
       "        -1.71856657e-02, -3.50737683e-02, -4.27188305e-03,\n",
       "         2.62216125e-02,  1.58845745e-02,  2.55695987e-03,\n",
       "         1.03913771e-03,  2.18098089e-02,  1.91611629e-02,\n",
       "         1.06217302e-02, -2.40974072e-02, -2.10632794e-02,\n",
       "         1.21549992e-02, -3.34846154e-02, -4.85236496e-02,\n",
       "         8.58520530e-03,  3.31456251e-02, -1.88893266e-02]], dtype=float32)"
      ]
     },
     "execution_count": 11,
     "metadata": {},
     "output_type": "execute_result"
    }
   ],
   "source": [
    "embedding"
   ]
  },
  {
   "cell_type": "code",
   "execution_count": 15,
   "metadata": {},
   "outputs": [
    {
     "data": {
      "text/plain": [
       "0.9999999"
      ]
     },
     "execution_count": 15,
     "metadata": {},
     "output_type": "execute_result"
    }
   ],
   "source": [
    "np.linalg.norm(embedding[0])"
   ]
  },
  {
   "cell_type": "code",
   "execution_count": 16,
   "metadata": {},
   "outputs": [
    {
     "data": {
      "text/plain": [
       "384"
      ]
     },
     "execution_count": 16,
     "metadata": {},
     "output_type": "execute_result"
    }
   ],
   "source": [
    "len(embedding[0])"
   ]
  },
  {
   "cell_type": "code",
   "execution_count": 38,
   "metadata": {},
   "outputs": [],
   "source": [
    "def to_batches(lst, batch_size):\n",
    "    for i in range(0, len(lst), batch_size):\n",
    "        yield lst[i:i + batch_size]"
   ]
  },
  {
   "cell_type": "code",
   "execution_count": 62,
   "metadata": {},
   "outputs": [],
   "source": [
    "def infer_embedding(data):\n",
    "    batches = to_batches(data, batch_size=64)\n",
    "    text_embedded = []\n",
    "    for batch in batches:    \n",
    "        text_embedded.extend(model.encode(batch))\n",
    "    return text_embedded"
   ]
  },
  {
   "cell_type": "code",
   "execution_count": 46,
   "metadata": {},
   "outputs": [
    {
     "data": {
      "text/plain": [
       "384"
      ]
     },
     "execution_count": 46,
     "metadata": {},
     "output_type": "execute_result"
    }
   ],
   "source": [
    "text_embedded = infer_embedding(df_train['text_content'].to_list(), batch_size=64)\n",
    "len(text_embedded), len(text_embedded[0])"
   ]
  },
  {
   "cell_type": "code",
   "execution_count": 60,
   "metadata": {},
   "outputs": [],
   "source": [
    "import pickle\n",
    "\n",
    "with open('./train-text-embeddings.pkl', 'wb') as fout:\n",
    "    pickle.dump(text_embedded, fout)"
   ]
  },
  {
   "cell_type": "code",
   "execution_count": 63,
   "metadata": {},
   "outputs": [
    {
     "data": {
      "text/plain": [
       "id\n",
       "0                   Just happened a terrible car crash\n",
       "1    Heard about #earthquake is different cities, s...\n",
       "2    there is a forest fire at spot pond, geese are...\n",
       "3             Apocalypse lighting. #Spokane #wildfires\n",
       "4        Typhoon Soudelor kills 28 in China and Taiwan\n",
       "Name: text_content, dtype: object"
      ]
     },
     "execution_count": 63,
     "metadata": {},
     "output_type": "execute_result"
    }
   ],
   "source": [
    "df_test = pd.read_csv('./test_enriched.csv', index_col='id')\n",
    "df_test['text_content'].head()"
   ]
  },
  {
   "cell_type": "code",
   "execution_count": 65,
   "metadata": {},
   "outputs": [
    {
     "data": {
      "text/plain": [
       "(3263, 384)"
      ]
     },
     "execution_count": 65,
     "metadata": {},
     "output_type": "execute_result"
    }
   ],
   "source": [
    "test_text_embedded = infer_embedding(df_test['text_content'].to_list())\n",
    "len(test_text_embedded), len(test_text_embedded[0])"
   ]
  },
  {
   "cell_type": "code",
   "execution_count": 66,
   "metadata": {},
   "outputs": [],
   "source": [
    "with open('./test-text-embeddings.pkl', 'wb') as fout:\n",
    "    pickle.dump(test_text_embedded, fout)"
   ]
  },
  {
   "cell_type": "code",
   "execution_count": null,
   "metadata": {},
   "outputs": [],
   "source": []
  }
 ],
 "metadata": {
  "kernelspec": {
   "display_name": "machine-learning-1",
   "language": "python",
   "name": "python3"
  },
  "language_info": {
   "codemirror_mode": {
    "name": "ipython",
    "version": 3
   },
   "file_extension": ".py",
   "mimetype": "text/x-python",
   "name": "python",
   "nbconvert_exporter": "python",
   "pygments_lexer": "ipython3",
   "version": "3.11.6"
  }
 },
 "nbformat": 4,
 "nbformat_minor": 2
}
